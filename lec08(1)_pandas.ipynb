{
 "cells": [
  {
   "cell_type": "markdown",
   "id": "26ccade0-37e9-41ef-9648-fb65b82aa435",
   "metadata": {},
   "source": [
    "# Series/DataFrame 만들기"
   ]
  },
  {
   "cell_type": "markdown",
   "id": "6cdec6c0-eda1-499c-9ee5-3c5343c93d46",
   "metadata": {},
   "source": [
    "<hr>"
   ]
  },
  {
   "cell_type": "code",
   "execution_count": 1,
   "id": "04af691f-5785-4a97-b603-5fd922e50547",
   "metadata": {
    "tags": []
   },
   "outputs": [],
   "source": [
    "import pandas as pd\n",
    "import numpy as np"
   ]
  },
  {
   "cell_type": "markdown",
   "id": "5f09feb8-6962-4eb2-aca5-9e8df572e18b",
   "metadata": {},
   "source": [
    "## Series \n",
    "<pre>\n",
    "        data=list or arraylist,\n",
    "        index=None,\n",
    "        dtype: Dtype | None = None,\n",
    "        name=None,"
   ]
  },
  {
   "cell_type": "markdown",
   "id": "84a2b2b4-acc3-409f-ab42-148ceb46ba3a",
   "metadata": {},
   "source": [
    "### list"
   ]
  },
  {
   "cell_type": "code",
   "execution_count": 2,
   "id": "411cf344-c9c8-461c-8b15-dcdf9c40d530",
   "metadata": {
    "tags": []
   },
   "outputs": [
    {
     "data": {
      "text/plain": [
       "0      1\n",
       "1      2\n",
       "2      3\n",
       "3      A\n",
       "4    NaN\n",
       "Name: seq, dtype: object"
      ]
     },
     "execution_count": 2,
     "metadata": {},
     "output_type": "execute_result"
    }
   ],
   "source": [
    "mylist=[1,2,3,'A',np.nan]\n",
    "s=pd.Series(data=mylist, index=range(5),name=\"seq\")\n",
    "s"
   ]
  },
  {
   "cell_type": "markdown",
   "id": "a7bc0107-1d45-4811-b224-f960f3c6b753",
   "metadata": {},
   "source": [
    "### array"
   ]
  },
  {
   "cell_type": "code",
   "execution_count": 3,
   "id": "1a1aab90-faac-450a-b89e-3d491ed018f6",
   "metadata": {
    "tags": []
   },
   "outputs": [
    {
     "name": "stdout",
     "output_type": "stream",
     "text": [
      "['1' '2' '3' 'A' 'nan']\n",
      "(5,)\n"
     ]
    }
   ],
   "source": [
    "#array는 리스트를 만들어 형변환을 시키는 것\n",
    "mylist=[1,2,3,'A',np.nan]\n",
    "myarr=np.array(mylist)\n",
    "myarr #array(['1', '2', '3', 'A', 'nan'], dtype='<U32')\n",
    "print(myarr) #['1' '2' '3' 'A' 'nan']\n",
    "print(myarr.shape) #(5,): 1행 5열 **, 5개의 데이터를 가지고있다 / .shape : 모양 확인 "
   ]
  },
  {
   "cell_type": "code",
   "execution_count": 4,
   "id": "6ee6267a-21a9-4a65-9a28-83d59489ad66",
   "metadata": {
    "tags": []
   },
   "outputs": [
    {
     "name": "stdout",
     "output_type": "stream",
     "text": [
      "(5,)\n",
      "5\n"
     ]
    }
   ],
   "source": [
    "mylist=[1,2,3,'A',np.nan]\n",
    "myarr=np.array(mylist)\n",
    "s=pd.Series(data=myarr, index=range(5),name=\"seq\")\n",
    "print(s.shape) #(5,) : array로 series 만들었기때문에 array 개수를 사용\n",
    "print(len(s)) #5 : row 개수"
   ]
  },
  {
   "cell_type": "markdown",
   "id": "656db76e-f681-4f19-85d4-816c6177a197",
   "metadata": {},
   "source": [
    "<span style = \"color : red\"><b> 1. shape() - 함수 X <br>\n",
    "<span style = \"color : red\"><b> 2. mylist.shape - 리스트는 shape 없음"
   ]
  },
  {
   "cell_type": "markdown",
   "id": "108aebf9-1713-4f9a-9d3b-343fd0e23e36",
   "metadata": {},
   "source": [
    "### list + list"
   ]
  },
  {
   "cell_type": "code",
   "execution_count": 5,
   "id": "424b462e-1998-40b8-b79d-df2c65a43645",
   "metadata": {
    "tags": []
   },
   "outputs": [
    {
     "name": "stdout",
     "output_type": "stream",
     "text": [
      "[[1, 2, 3], [10, 20, 30]]\n",
      "2 3\n",
      "[[ 1  2  3]\n",
      " [10 20 30]]\n",
      "(2, 3)\n"
     ]
    }
   ],
   "source": [
    "mylist=[[1,2,3],[10,20,30]]\n",
    "print(mylist) #[[1, 2, 3], [10, 20, 30]]\n",
    "#print(mylist.shape) : 리스트는 shape 없음\n",
    "print(len(mylist), len(mylist[0]))\n",
    "      \n",
    "myarr=np.array(mylist)\n",
    "print(myarr) #[[ 1  2  3]\n",
    "             #[10 20 30]]\n",
    "print(myarr.shape)    "
   ]
  },
  {
   "cell_type": "markdown",
   "id": "a2f3f0f5-4964-4cee-ac8c-7ecdd7599bb5",
   "metadata": {},
   "source": [
    "## DataFrame\n",
    "<pre>\n",
    "- head(), tail(), shape, describe()\n",
    "\n",
    "-       data=None,\n",
    "        index: Axes | None = None,\n",
    "        columns: Axes | None = None,\n",
    "        dtype: Dtype | None = None,"
   ]
  },
  {
   "cell_type": "markdown",
   "id": "bb182c26-4a19-4290-903e-018ea677aaf5",
   "metadata": {
    "tags": []
   },
   "source": [
    "### list or array"
   ]
  },
  {
   "cell_type": "code",
   "execution_count": 6,
   "id": "c1372a3a-6296-4e20-be48-a2df039f0e63",
   "metadata": {
    "tags": []
   },
   "outputs": [
    {
     "name": "stdout",
     "output_type": "stream",
     "text": [
      "(2, 3)\n",
      "2\n"
     ]
    },
    {
     "data": {
      "text/html": [
       "<div>\n",
       "<style scoped>\n",
       "    .dataframe tbody tr th:only-of-type {\n",
       "        vertical-align: middle;\n",
       "    }\n",
       "\n",
       "    .dataframe tbody tr th {\n",
       "        vertical-align: top;\n",
       "    }\n",
       "\n",
       "    .dataframe thead th {\n",
       "        text-align: right;\n",
       "    }\n",
       "</style>\n",
       "<table border=\"1\" class=\"dataframe\">\n",
       "  <thead>\n",
       "    <tr style=\"text-align: right;\">\n",
       "      <th></th>\n",
       "      <th>a</th>\n",
       "      <th>b</th>\n",
       "      <th>c</th>\n",
       "    </tr>\n",
       "  </thead>\n",
       "  <tbody>\n",
       "    <tr>\n",
       "      <th>10</th>\n",
       "      <td>1</td>\n",
       "      <td>2</td>\n",
       "      <td>3</td>\n",
       "    </tr>\n",
       "    <tr>\n",
       "      <th>20</th>\n",
       "      <td>10</td>\n",
       "      <td>20</td>\n",
       "      <td>30</td>\n",
       "    </tr>\n",
       "  </tbody>\n",
       "</table>\n",
       "</div>"
      ],
      "text/plain": [
       "     a   b   c\n",
       "10   1   2   3\n",
       "20  10  20  30"
      ]
     },
     "execution_count": 6,
     "metadata": {},
     "output_type": "execute_result"
    }
   ],
   "source": [
    "mylist=[[1,2,3],[10,20,30]]\n",
    "myarr=np.array(mylist) \n",
    "\n",
    "#df=pd.DataFrame(data=myarr)\n",
    "df=pd.DataFrame(data=mylist, columns=['a','b','c'], index = [10,20])\n",
    "print(df.shape) #(2, 3): 2행 3열\n",
    "print(len(df)) #row 개수\n",
    "df"
   ]
  },
  {
   "cell_type": "markdown",
   "id": "2754dc95-551f-40f2-82dc-6d776522eea2",
   "metadata": {},
   "source": [
    "### Series"
   ]
  },
  {
   "cell_type": "code",
   "execution_count": 7,
   "id": "8674c1cc-6e3e-4ca8-8935-daeff5a2e990",
   "metadata": {
    "tags": []
   },
   "outputs": [
    {
     "data": {
      "text/html": [
       "<div>\n",
       "<style scoped>\n",
       "    .dataframe tbody tr th:only-of-type {\n",
       "        vertical-align: middle;\n",
       "    }\n",
       "\n",
       "    .dataframe tbody tr th {\n",
       "        vertical-align: top;\n",
       "    }\n",
       "\n",
       "    .dataframe thead th {\n",
       "        text-align: right;\n",
       "    }\n",
       "</style>\n",
       "<table border=\"1\" class=\"dataframe\">\n",
       "  <thead>\n",
       "    <tr style=\"text-align: right;\">\n",
       "      <th></th>\n",
       "      <th>code</th>\n",
       "      <th>seq</th>\n",
       "      <th>sal</th>\n",
       "      <th>id</th>\n",
       "      <th>pw</th>\n",
       "      <th>tel</th>\n",
       "    </tr>\n",
       "  </thead>\n",
       "  <tbody>\n",
       "    <tr>\n",
       "      <th>0</th>\n",
       "      <td>a</td>\n",
       "      <td>1</td>\n",
       "      <td>100</td>\n",
       "      <td>kim</td>\n",
       "      <td>11</td>\n",
       "      <td>000</td>\n",
       "    </tr>\n",
       "    <tr>\n",
       "      <th>1</th>\n",
       "      <td>b</td>\n",
       "      <td>2</td>\n",
       "      <td>200</td>\n",
       "      <td>kim</td>\n",
       "      <td>11</td>\n",
       "      <td>000</td>\n",
       "    </tr>\n",
       "    <tr>\n",
       "      <th>2</th>\n",
       "      <td>c</td>\n",
       "      <td>3</td>\n",
       "      <td>300</td>\n",
       "      <td>kim</td>\n",
       "      <td>11</td>\n",
       "      <td>000</td>\n",
       "    </tr>\n",
       "    <tr>\n",
       "      <th>3</th>\n",
       "      <td>d</td>\n",
       "      <td>4</td>\n",
       "      <td>400</td>\n",
       "      <td>kim</td>\n",
       "      <td>11</td>\n",
       "      <td>000</td>\n",
       "    </tr>\n",
       "  </tbody>\n",
       "</table>\n",
       "</div>"
      ],
      "text/plain": [
       "  code  seq  sal   id  pw  tel\n",
       "0    a    1  100  kim  11  000\n",
       "1    b    2  200  kim  11  000\n",
       "2    c    3  300  kim  11  000\n",
       "3    d    4  400  kim  11  000"
      ]
     },
     "execution_count": 7,
     "metadata": {},
     "output_type": "execute_result"
    }
   ],
   "source": [
    "s = pd.Series([1,2,3,4])\n",
    "df =pd.DataFrame(['a','b','c','d'], columns=['code'])\n",
    "df['seq']=s\n",
    "df['sal']=[100,200,300,400]\n",
    "df[['id','pw']] = np.array([['kim',11]]*4)\n",
    "df['tel']='000' #모든 값이 000으로 삽입\n",
    "                #없는 컬럼이면 열 추가, 있는 컬럼이면 값 변경\n",
    "df"
   ]
  },
  {
   "cell_type": "markdown",
   "id": "12e0b436-7d65-4eae-ad87-53801120e374",
   "metadata": {},
   "source": [
    "### list + dic [{}]"
   ]
  },
  {
   "cell_type": "markdown",
   "id": "ff88cb96-56ad-4bca-84b7-853ff49f8492",
   "metadata": {},
   "source": [
    "- dict에 사용 된 키 값이 dataframe의 컬럼명이 된다"
   ]
  },
  {
   "cell_type": "code",
   "execution_count": 8,
   "id": "15d72fcc-0054-4eec-9173-7604c16d29b4",
   "metadata": {
    "tags": []
   },
   "outputs": [
    {
     "data": {
      "text/html": [
       "<div>\n",
       "<style scoped>\n",
       "    .dataframe tbody tr th:only-of-type {\n",
       "        vertical-align: middle;\n",
       "    }\n",
       "\n",
       "    .dataframe tbody tr th {\n",
       "        vertical-align: top;\n",
       "    }\n",
       "\n",
       "    .dataframe thead th {\n",
       "        text-align: right;\n",
       "    }\n",
       "</style>\n",
       "<table border=\"1\" class=\"dataframe\">\n",
       "  <thead>\n",
       "    <tr style=\"text-align: right;\">\n",
       "      <th></th>\n",
       "      <th>uid</th>\n",
       "      <th>upw</th>\n",
       "    </tr>\n",
       "  </thead>\n",
       "  <tbody>\n",
       "    <tr>\n",
       "      <th>0</th>\n",
       "      <td>kim</td>\n",
       "      <td>111</td>\n",
       "    </tr>\n",
       "    <tr>\n",
       "      <th>1</th>\n",
       "      <td>kim</td>\n",
       "      <td>111</td>\n",
       "    </tr>\n",
       "  </tbody>\n",
       "</table>\n",
       "</div>"
      ],
      "text/plain": [
       "   uid  upw\n",
       "0  kim  111\n",
       "1  kim  111"
      ]
     },
     "execution_count": 8,
     "metadata": {},
     "output_type": "execute_result"
    }
   ],
   "source": [
    "listdic = [{\"uid\":\"kim\",\"upw\":111},\n",
    "      {\"uid\":\"kim\",\"upw\":111}]\n",
    "df=pd.DataFrame(listdic) #딕셔너리에 사용된 키 값이 컬럼 이름이 됨\n",
    "df"
   ]
  },
  {
   "cell_type": "markdown",
   "id": "3d3b9fd9-2317-4e87-81cf-ac64fecb14af",
   "metadata": {},
   "source": [
    "### list + list"
   ]
  },
  {
   "cell_type": "code",
   "execution_count": 9,
   "id": "a941216a-a130-4b78-9802-63dac564810b",
   "metadata": {
    "tags": []
   },
   "outputs": [
    {
     "data": {
      "text/html": [
       "<div>\n",
       "<style scoped>\n",
       "    .dataframe tbody tr th:only-of-type {\n",
       "        vertical-align: middle;\n",
       "    }\n",
       "\n",
       "    .dataframe tbody tr th {\n",
       "        vertical-align: top;\n",
       "    }\n",
       "\n",
       "    .dataframe thead th {\n",
       "        text-align: right;\n",
       "    }\n",
       "</style>\n",
       "<table border=\"1\" class=\"dataframe\">\n",
       "  <thead>\n",
       "    <tr style=\"text-align: right;\">\n",
       "      <th></th>\n",
       "      <th>a</th>\n",
       "      <th>b</th>\n",
       "    </tr>\n",
       "  </thead>\n",
       "  <tbody>\n",
       "    <tr>\n",
       "      <th>0</th>\n",
       "      <td>kim</td>\n",
       "      <td>111</td>\n",
       "    </tr>\n",
       "    <tr>\n",
       "      <th>1</th>\n",
       "      <td>kim</td>\n",
       "      <td>111</td>\n",
       "    </tr>\n",
       "  </tbody>\n",
       "</table>\n",
       "</div>"
      ],
      "text/plain": [
       "     a    b\n",
       "0  kim  111\n",
       "1  kim  111"
      ]
     },
     "execution_count": 9,
     "metadata": {},
     "output_type": "execute_result"
    }
   ],
   "source": [
    "listlist = [[\"kim\",111],\n",
    "      [\"kim\",111]]\n",
    "df=pd.DataFrame(listlist, columns=['a','b']) \n",
    "df"
   ]
  },
  {
   "cell_type": "markdown",
   "id": "8b038980-4f7c-489a-8df6-417c06611490",
   "metadata": {},
   "source": [
    "## DataFrame 구조 보기\n"
   ]
  },
  {
   "cell_type": "markdown",
   "id": "13d64ef1-d038-4fcb-946a-50a00c9febb2",
   "metadata": {},
   "source": [
    "### index"
   ]
  },
  {
   "cell_type": "code",
   "execution_count": 10,
   "id": "741371e0-3231-4b2a-9508-16489e27cd9e",
   "metadata": {
    "tags": []
   },
   "outputs": [
    {
     "name": "stdout",
     "output_type": "stream",
     "text": [
      "Int64Index([10, 20, 30, 40], dtype='int64')\n",
      "[10 20 30 40]\n",
      "[10, 20, 30, 40]\n"
     ]
    }
   ],
   "source": [
    "df =pd.DataFrame(['a','b','c','d'], columns=['code'], index=[10,20,30,40])\n",
    "df.index #인덱스가 안보이게 하는 방법은 없음\n",
    "print(df.index) #Int64Index([10, 20, 30, 40], dtype='int64')\n",
    "print(df.index.values) # 인덱스의 값만 보이기 :[10 20 30 40]\n",
    "print(df.index.values.tolist()) #리스트 형태로 변환 : [10, 20, 30, 40]"
   ]
  },
  {
   "cell_type": "code",
   "execution_count": 11,
   "id": "16cdf930-7877-42b8-b7a1-70ad24696b31",
   "metadata": {
    "tags": []
   },
   "outputs": [
    {
     "data": {
      "text/html": [
       "<div>\n",
       "<style scoped>\n",
       "    .dataframe tbody tr th:only-of-type {\n",
       "        vertical-align: middle;\n",
       "    }\n",
       "\n",
       "    .dataframe tbody tr th {\n",
       "        vertical-align: top;\n",
       "    }\n",
       "\n",
       "    .dataframe thead th {\n",
       "        text-align: right;\n",
       "    }\n",
       "</style>\n",
       "<table border=\"1\" class=\"dataframe\">\n",
       "  <thead>\n",
       "    <tr style=\"text-align: right;\">\n",
       "      <th></th>\n",
       "      <th>code</th>\n",
       "    </tr>\n",
       "  </thead>\n",
       "  <tbody>\n",
       "    <tr>\n",
       "      <th>10</th>\n",
       "      <td>a</td>\n",
       "    </tr>\n",
       "    <tr>\n",
       "      <th>20</th>\n",
       "      <td>b</td>\n",
       "    </tr>\n",
       "    <tr>\n",
       "      <th>30</th>\n",
       "      <td>c</td>\n",
       "    </tr>\n",
       "    <tr>\n",
       "      <th>40</th>\n",
       "      <td>d</td>\n",
       "    </tr>\n",
       "  </tbody>\n",
       "</table>\n",
       "</div>"
      ],
      "text/plain": [
       "   code\n",
       "10    a\n",
       "20    b\n",
       "30    c\n",
       "40    d"
      ]
     },
     "execution_count": 11,
     "metadata": {},
     "output_type": "execute_result"
    }
   ],
   "source": [
    "df =pd.DataFrame(['a','b','c','d'], columns=['code'])\n",
    "df.index = [10,20,30,40] # 인덱스 별도 지정\n",
    "df"
   ]
  },
  {
   "cell_type": "markdown",
   "id": "99ef748d-cedf-4174-b087-bcabdc4ed424",
   "metadata": {},
   "source": [
    "### columns"
   ]
  },
  {
   "cell_type": "code",
   "execution_count": 12,
   "id": "e58ae9b2-e5f5-4bcd-a6f3-eb962feebabf",
   "metadata": {
    "tags": []
   },
   "outputs": [
    {
     "name": "stdout",
     "output_type": "stream",
     "text": [
      "Index(['code', 'seq', 'sal'], dtype='object')\n",
      "['code' 'seq' 'sal']\n",
      "['code', 'seq', 'sal']\n"
     ]
    }
   ],
   "source": [
    "s = pd.Series([1,2,3,4])\n",
    "df =pd.DataFrame(['a','b','c','d'], columns=['code'])\n",
    "df['seq']=s\n",
    "df['sal']=[100,200,300,400]\n",
    "print(df.columns)\n",
    "print(df.columns.values)\n",
    "print(df.columns.values.tolist())"
   ]
  },
  {
   "cell_type": "markdown",
   "id": "661f6981-4ccf-4d6f-bb86-6ade5237d544",
   "metadata": {
    "tags": []
   },
   "source": [
    "### values"
   ]
  },
  {
   "cell_type": "code",
   "execution_count": 13,
   "id": "59ba658a-51fb-4722-8e2b-757597600d47",
   "metadata": {
    "tags": []
   },
   "outputs": [
    {
     "name": "stdout",
     "output_type": "stream",
     "text": [
      "[['a' 1 100]\n",
      " ['b' 2 200]\n",
      " ['c' 3 300]\n",
      " ['d' 4 400]]\n",
      "[['a', 1, 100], ['b', 2, 200], ['c', 3, 300], ['d', 4, 400]]\n"
     ]
    }
   ],
   "source": [
    "s = pd.Series([1,2,3,4])\n",
    "df =pd.DataFrame(['a','b','c','d'], columns=['code'])\n",
    "df['seq']=s\n",
    "df['sal']=[100,200,300,400]\n",
    "\n",
    "\n",
    "print(df.values)  #df의 값만 빼오기 \n",
    "print(df.values.tolist()) #array --> list "
   ]
  },
  {
   "cell_type": "markdown",
   "id": "02b926b6-ba0a-46c5-9b45-5770ecdc916f",
   "metadata": {},
   "source": [
    "### info()"
   ]
  },
  {
   "cell_type": "code",
   "execution_count": 14,
   "id": "5ac8fa97-ba81-4343-802f-9eb83a786d00",
   "metadata": {
    "tags": []
   },
   "outputs": [
    {
     "name": "stdout",
     "output_type": "stream",
     "text": [
      "<class 'pandas.core.frame.DataFrame'>\n",
      "RangeIndex: 4 entries, 0 to 3\n",
      "Data columns (total 3 columns):\n",
      " #   Column  Non-Null Count  Dtype \n",
      "---  ------  --------------  ----- \n",
      " 0   code    4 non-null      object\n",
      " 1   seq     4 non-null      int64 \n",
      " 2   sal     4 non-null      int64 \n",
      "dtypes: int64(2), object(1)\n",
      "memory usage: 224.0+ bytes\n"
     ]
    }
   ],
   "source": [
    "df.info() #데이터프레임의 사이즈, 인덱스, 컬럼 등의 정보 출력"
   ]
  },
  {
   "cell_type": "markdown",
   "id": "80cf0fb6-6a31-4497-a528-d9022e415d9d",
   "metadata": {},
   "source": [
    "### head()"
   ]
  },
  {
   "cell_type": "code",
   "execution_count": 15,
   "id": "a9a9789c-a32e-434c-8e0f-b5b051771a84",
   "metadata": {
    "tags": []
   },
   "outputs": [
    {
     "data": {
      "text/html": [
       "<div>\n",
       "<style scoped>\n",
       "    .dataframe tbody tr th:only-of-type {\n",
       "        vertical-align: middle;\n",
       "    }\n",
       "\n",
       "    .dataframe tbody tr th {\n",
       "        vertical-align: top;\n",
       "    }\n",
       "\n",
       "    .dataframe thead th {\n",
       "        text-align: right;\n",
       "    }\n",
       "</style>\n",
       "<table border=\"1\" class=\"dataframe\">\n",
       "  <thead>\n",
       "    <tr style=\"text-align: right;\">\n",
       "      <th></th>\n",
       "      <th>code</th>\n",
       "      <th>seq</th>\n",
       "      <th>sal</th>\n",
       "    </tr>\n",
       "  </thead>\n",
       "  <tbody>\n",
       "    <tr>\n",
       "      <th>0</th>\n",
       "      <td>a</td>\n",
       "      <td>1</td>\n",
       "      <td>100</td>\n",
       "    </tr>\n",
       "  </tbody>\n",
       "</table>\n",
       "</div>"
      ],
      "text/plain": [
       "  code  seq  sal\n",
       "0    a    1  100"
      ]
     },
     "execution_count": 15,
     "metadata": {},
     "output_type": "execute_result"
    }
   ],
   "source": [
    "#df.head(5)\n",
    "df.head(1) # 앞에서부터 1행 출력"
   ]
  },
  {
   "cell_type": "markdown",
   "id": "764f3511-6da0-471d-8b8d-0caa4a9c074c",
   "metadata": {},
   "source": [
    "### tail()"
   ]
  },
  {
   "cell_type": "code",
   "execution_count": 16,
   "id": "23f7c150-882d-48ef-9dbc-6a642382b049",
   "metadata": {
    "tags": []
   },
   "outputs": [
    {
     "data": {
      "text/html": [
       "<div>\n",
       "<style scoped>\n",
       "    .dataframe tbody tr th:only-of-type {\n",
       "        vertical-align: middle;\n",
       "    }\n",
       "\n",
       "    .dataframe tbody tr th {\n",
       "        vertical-align: top;\n",
       "    }\n",
       "\n",
       "    .dataframe thead th {\n",
       "        text-align: right;\n",
       "    }\n",
       "</style>\n",
       "<table border=\"1\" class=\"dataframe\">\n",
       "  <thead>\n",
       "    <tr style=\"text-align: right;\">\n",
       "      <th></th>\n",
       "      <th>code</th>\n",
       "      <th>seq</th>\n",
       "      <th>sal</th>\n",
       "    </tr>\n",
       "  </thead>\n",
       "  <tbody>\n",
       "    <tr>\n",
       "      <th>3</th>\n",
       "      <td>d</td>\n",
       "      <td>4</td>\n",
       "      <td>400</td>\n",
       "    </tr>\n",
       "  </tbody>\n",
       "</table>\n",
       "</div>"
      ],
      "text/plain": [
       "  code  seq  sal\n",
       "3    d    4  400"
      ]
     },
     "execution_count": 16,
     "metadata": {},
     "output_type": "execute_result"
    }
   ],
   "source": [
    "df.tail(1) # 뒤에서부터 1행 출력"
   ]
  },
  {
   "cell_type": "markdown",
   "id": "46db2161-d916-46c6-9601-425272302f24",
   "metadata": {},
   "source": [
    "### describe"
   ]
  },
  {
   "cell_type": "code",
   "execution_count": 17,
   "id": "572625b5-0456-4a02-b05f-aa66f54c3bb9",
   "metadata": {
    "tags": []
   },
   "outputs": [
    {
     "data": {
      "text/html": [
       "<div>\n",
       "<style scoped>\n",
       "    .dataframe tbody tr th:only-of-type {\n",
       "        vertical-align: middle;\n",
       "    }\n",
       "\n",
       "    .dataframe tbody tr th {\n",
       "        vertical-align: top;\n",
       "    }\n",
       "\n",
       "    .dataframe thead th {\n",
       "        text-align: right;\n",
       "    }\n",
       "</style>\n",
       "<table border=\"1\" class=\"dataframe\">\n",
       "  <thead>\n",
       "    <tr style=\"text-align: right;\">\n",
       "      <th></th>\n",
       "      <th>seq</th>\n",
       "      <th>sal</th>\n",
       "    </tr>\n",
       "  </thead>\n",
       "  <tbody>\n",
       "    <tr>\n",
       "      <th>count</th>\n",
       "      <td>4.000000</td>\n",
       "      <td>4.000000</td>\n",
       "    </tr>\n",
       "    <tr>\n",
       "      <th>mean</th>\n",
       "      <td>2.500000</td>\n",
       "      <td>250.000000</td>\n",
       "    </tr>\n",
       "    <tr>\n",
       "      <th>std</th>\n",
       "      <td>1.290994</td>\n",
       "      <td>129.099445</td>\n",
       "    </tr>\n",
       "    <tr>\n",
       "      <th>min</th>\n",
       "      <td>1.000000</td>\n",
       "      <td>100.000000</td>\n",
       "    </tr>\n",
       "    <tr>\n",
       "      <th>25%</th>\n",
       "      <td>1.750000</td>\n",
       "      <td>175.000000</td>\n",
       "    </tr>\n",
       "    <tr>\n",
       "      <th>50%</th>\n",
       "      <td>2.500000</td>\n",
       "      <td>250.000000</td>\n",
       "    </tr>\n",
       "    <tr>\n",
       "      <th>75%</th>\n",
       "      <td>3.250000</td>\n",
       "      <td>325.000000</td>\n",
       "    </tr>\n",
       "    <tr>\n",
       "      <th>max</th>\n",
       "      <td>4.000000</td>\n",
       "      <td>400.000000</td>\n",
       "    </tr>\n",
       "  </tbody>\n",
       "</table>\n",
       "</div>"
      ],
      "text/plain": [
       "            seq         sal\n",
       "count  4.000000    4.000000\n",
       "mean   2.500000  250.000000\n",
       "std    1.290994  129.099445\n",
       "min    1.000000  100.000000\n",
       "25%    1.750000  175.000000\n",
       "50%    2.500000  250.000000\n",
       "75%    3.250000  325.000000\n",
       "max    4.000000  400.000000"
      ]
     },
     "execution_count": 17,
     "metadata": {},
     "output_type": "execute_result"
    }
   ],
   "source": [
    " df.describe() #통계치 요약 정보"
   ]
  },
  {
   "cell_type": "markdown",
   "id": "fa4a8036-b694-49a3-b755-78e2706fd3c5",
   "metadata": {},
   "source": [
    "# SELECT in DataFrame\n",
    "- loc[줄,칸] : 값으로 꺼내기\n",
    "- iloc[줄,칸] : 인덱스로 꺼내기\n",
    "- [줄,칸]\n",
    "     - 단일값\n",
    "     - 리스트: [단일값, 단일값, 단일값]\n",
    "     - 슬라이싱[ : ]"
   ]
  },
  {
   "cell_type": "markdown",
   "id": "13068a6b-d146-434f-819d-f095e75fd1c8",
   "metadata": {},
   "source": [
    "## 파일꺼내오기"
   ]
  },
  {
   "cell_type": "code",
   "execution_count": 18,
   "id": "7c6994ec-7966-4c2f-a2bb-19935505faf2",
   "metadata": {},
   "outputs": [
    {
     "data": {
      "text/html": [
       "<div>\n",
       "<style scoped>\n",
       "    .dataframe tbody tr th:only-of-type {\n",
       "        vertical-align: middle;\n",
       "    }\n",
       "\n",
       "    .dataframe tbody tr th {\n",
       "        vertical-align: top;\n",
       "    }\n",
       "\n",
       "    .dataframe thead th {\n",
       "        text-align: right;\n",
       "    }\n",
       "</style>\n",
       "<table border=\"1\" class=\"dataframe\">\n",
       "  <thead>\n",
       "    <tr style=\"text-align: right;\">\n",
       "      <th></th>\n",
       "      <th>EMPNO</th>\n",
       "      <th>ENAME</th>\n",
       "      <th>JOB</th>\n",
       "      <th>MGR</th>\n",
       "      <th>HIREDATE</th>\n",
       "      <th>SAL</th>\n",
       "      <th>COMM</th>\n",
       "      <th>DEPTNO</th>\n",
       "    </tr>\n",
       "  </thead>\n",
       "  <tbody>\n",
       "    <tr>\n",
       "      <th>0</th>\n",
       "      <td>7369</td>\n",
       "      <td>SMITH</td>\n",
       "      <td>CLERK</td>\n",
       "      <td>7902.0</td>\n",
       "      <td>1980-12-17</td>\n",
       "      <td>800</td>\n",
       "      <td>NaN</td>\n",
       "      <td>20</td>\n",
       "    </tr>\n",
       "    <tr>\n",
       "      <th>1</th>\n",
       "      <td>7499</td>\n",
       "      <td>ALLEN</td>\n",
       "      <td>SALESMAN</td>\n",
       "      <td>7698.0</td>\n",
       "      <td>1981-02-20</td>\n",
       "      <td>1600</td>\n",
       "      <td>300.0</td>\n",
       "      <td>30</td>\n",
       "    </tr>\n",
       "    <tr>\n",
       "      <th>2</th>\n",
       "      <td>7521</td>\n",
       "      <td>WARD</td>\n",
       "      <td>SALESMAN</td>\n",
       "      <td>7698.0</td>\n",
       "      <td>1981-02-22</td>\n",
       "      <td>1250</td>\n",
       "      <td>500.0</td>\n",
       "      <td>30</td>\n",
       "    </tr>\n",
       "    <tr>\n",
       "      <th>3</th>\n",
       "      <td>7566</td>\n",
       "      <td>JONES</td>\n",
       "      <td>MANAGER</td>\n",
       "      <td>7839.0</td>\n",
       "      <td>1981-04-02</td>\n",
       "      <td>2975</td>\n",
       "      <td>NaN</td>\n",
       "      <td>20</td>\n",
       "    </tr>\n",
       "    <tr>\n",
       "      <th>4</th>\n",
       "      <td>7654</td>\n",
       "      <td>MARTIN</td>\n",
       "      <td>SALESMAN</td>\n",
       "      <td>7698.0</td>\n",
       "      <td>1981-09-28</td>\n",
       "      <td>1250</td>\n",
       "      <td>1400.0</td>\n",
       "      <td>30</td>\n",
       "    </tr>\n",
       "    <tr>\n",
       "      <th>5</th>\n",
       "      <td>7698</td>\n",
       "      <td>BLAKE</td>\n",
       "      <td>MANAGER</td>\n",
       "      <td>7839.0</td>\n",
       "      <td>1981-05-01</td>\n",
       "      <td>2850</td>\n",
       "      <td>NaN</td>\n",
       "      <td>30</td>\n",
       "    </tr>\n",
       "    <tr>\n",
       "      <th>6</th>\n",
       "      <td>7782</td>\n",
       "      <td>CCC</td>\n",
       "      <td>MANAGER</td>\n",
       "      <td>7839.0</td>\n",
       "      <td>1981-06-09</td>\n",
       "      <td>2450</td>\n",
       "      <td>NaN</td>\n",
       "      <td>10</td>\n",
       "    </tr>\n",
       "    <tr>\n",
       "      <th>7</th>\n",
       "      <td>7788</td>\n",
       "      <td>SCOTT</td>\n",
       "      <td>ANALYST</td>\n",
       "      <td>7566.0</td>\n",
       "      <td>1987-07-13</td>\n",
       "      <td>3000</td>\n",
       "      <td>NaN</td>\n",
       "      <td>20</td>\n",
       "    </tr>\n",
       "    <tr>\n",
       "      <th>8</th>\n",
       "      <td>7839</td>\n",
       "      <td>KING</td>\n",
       "      <td>PRESIDENT</td>\n",
       "      <td>NaN</td>\n",
       "      <td>1981-11-17</td>\n",
       "      <td>5000</td>\n",
       "      <td>NaN</td>\n",
       "      <td>10</td>\n",
       "    </tr>\n",
       "    <tr>\n",
       "      <th>9</th>\n",
       "      <td>7844</td>\n",
       "      <td>TURNER</td>\n",
       "      <td>SALESMAN</td>\n",
       "      <td>7698.0</td>\n",
       "      <td>1981-09-08</td>\n",
       "      <td>1500</td>\n",
       "      <td>0.0</td>\n",
       "      <td>30</td>\n",
       "    </tr>\n",
       "    <tr>\n",
       "      <th>10</th>\n",
       "      <td>7876</td>\n",
       "      <td>ADAMS</td>\n",
       "      <td>CLERK</td>\n",
       "      <td>7788.0</td>\n",
       "      <td>1987-07-13</td>\n",
       "      <td>1100</td>\n",
       "      <td>NaN</td>\n",
       "      <td>20</td>\n",
       "    </tr>\n",
       "    <tr>\n",
       "      <th>11</th>\n",
       "      <td>7900</td>\n",
       "      <td>JAMES</td>\n",
       "      <td>CLERK</td>\n",
       "      <td>7698.0</td>\n",
       "      <td>1981-12-03</td>\n",
       "      <td>950</td>\n",
       "      <td>NaN</td>\n",
       "      <td>30</td>\n",
       "    </tr>\n",
       "    <tr>\n",
       "      <th>12</th>\n",
       "      <td>7902</td>\n",
       "      <td>FORD</td>\n",
       "      <td>ANALYST</td>\n",
       "      <td>7566.0</td>\n",
       "      <td>1981-12-03</td>\n",
       "      <td>3000</td>\n",
       "      <td>NaN</td>\n",
       "      <td>20</td>\n",
       "    </tr>\n",
       "    <tr>\n",
       "      <th>13</th>\n",
       "      <td>7934</td>\n",
       "      <td>MILLER</td>\n",
       "      <td>CLERK</td>\n",
       "      <td>7782.0</td>\n",
       "      <td>1982-01-23</td>\n",
       "      <td>1300</td>\n",
       "      <td>NaN</td>\n",
       "      <td>10</td>\n",
       "    </tr>\n",
       "  </tbody>\n",
       "</table>\n",
       "</div>"
      ],
      "text/plain": [
       "    EMPNO   ENAME        JOB     MGR   HIREDATE   SAL    COMM  DEPTNO\n",
       "0    7369   SMITH      CLERK  7902.0 1980-12-17   800     NaN      20\n",
       "1    7499   ALLEN   SALESMAN  7698.0 1981-02-20  1600   300.0      30\n",
       "2    7521    WARD   SALESMAN  7698.0 1981-02-22  1250   500.0      30\n",
       "3    7566   JONES    MANAGER  7839.0 1981-04-02  2975     NaN      20\n",
       "4    7654  MARTIN   SALESMAN  7698.0 1981-09-28  1250  1400.0      30\n",
       "5    7698   BLAKE    MANAGER  7839.0 1981-05-01  2850     NaN      30\n",
       "6    7782     CCC    MANAGER  7839.0 1981-06-09  2450     NaN      10\n",
       "7    7788   SCOTT    ANALYST  7566.0 1987-07-13  3000     NaN      20\n",
       "8    7839    KING  PRESIDENT     NaN 1981-11-17  5000     NaN      10\n",
       "9    7844  TURNER   SALESMAN  7698.0 1981-09-08  1500     0.0      30\n",
       "10   7876   ADAMS      CLERK  7788.0 1987-07-13  1100     NaN      20\n",
       "11   7900   JAMES      CLERK  7698.0 1981-12-03   950     NaN      30\n",
       "12   7902    FORD    ANALYST  7566.0 1981-12-03  3000     NaN      20\n",
       "13   7934  MILLER      CLERK  7782.0 1982-01-23  1300     NaN      10"
      ]
     },
     "execution_count": 18,
     "metadata": {},
     "output_type": "execute_result"
    }
   ],
   "source": [
    "df=pd.read_csv(\"./lec08_emp.csv\", sep=\",\", parse_dates=['HIREDATE']) #parse_dates : 날짜 타입으로 변환\n",
    "df.head(14)"
   ]
  },
  {
   "cell_type": "markdown",
   "id": "852dc823-7f5b-416e-811a-2e535ba0f715",
   "metadata": {},
   "source": [
    "<font color= 'red'><b> \n",
    "    * 숫자값에 nan이 있으면 타입은 float(소수점)"
   ]
  },
  {
   "cell_type": "code",
   "execution_count": 19,
   "id": "a1a506be-b384-41ad-bda9-6324b67b7e81",
   "metadata": {},
   "outputs": [
    {
     "name": "stdout",
     "output_type": "stream",
     "text": [
      "<class 'pandas.core.frame.DataFrame'>\n",
      "RangeIndex: 14 entries, 0 to 13\n",
      "Data columns (total 8 columns):\n",
      " #   Column    Non-Null Count  Dtype         \n",
      "---  ------    --------------  -----         \n",
      " 0   EMPNO     14 non-null     int64         \n",
      " 1   ENAME     14 non-null     object        \n",
      " 2   JOB       14 non-null     object        \n",
      " 3   MGR       13 non-null     float64       \n",
      " 4   HIREDATE  14 non-null     datetime64[ns]\n",
      " 5   SAL       14 non-null     int64         \n",
      " 6   COMM      4 non-null      float64       \n",
      " 7   DEPTNO    14 non-null     int64         \n",
      "dtypes: datetime64[ns](1), float64(2), int64(3), object(2)\n",
      "memory usage: 1.0+ KB\n"
     ]
    }
   ],
   "source": [
    "df.info()\n",
    "#RangeIndex: 14 entries : 총 레코드 개수\n",
    "#4 non-null : 4개 제외한 나머지 결측"
   ]
  },
  {
   "cell_type": "markdown",
   "id": "90be49ad-93f5-4433-8968-f1692f658911",
   "metadata": {},
   "source": [
    "## loc"
   ]
  },
  {
   "cell_type": "code",
   "execution_count": null,
   "id": "6aca26a4-4640-44d3-bb7d-670b1a42ac9e",
   "metadata": {},
   "outputs": [],
   "source": []
  },
  {
   "cell_type": "markdown",
   "id": "33cdf53c-a5b4-489e-b79e-7b02cbc39796",
   "metadata": {},
   "source": [
    "## iloc"
   ]
  },
  {
   "cell_type": "code",
   "execution_count": null,
   "id": "15d09bb5-0a48-4169-9b02-2e4b088b82db",
   "metadata": {},
   "outputs": [],
   "source": []
  },
  {
   "cell_type": "markdown",
   "id": "64ed4ed3-6a94-4a8f-adb2-0b3d96f218ac",
   "metadata": {},
   "source": [
    "# 결측(missing value)처리\n",
    "* np.nan\n",
    "* df.dropna(axis=1 또는 axis=0)\n",
    "* df.fillna(값)\n",
    "* pd.isna(df)\n",
    "* 데이터의 이상치와 결측을 잘 처리해야 학습이 잘 된다"
   ]
  },
  {
   "cell_type": "markdown",
   "id": "c9c1dac7-0619-469e-9a53-2488cb03c209",
   "metadata": {},
   "source": [
    "## df.dropna\n",
    "- axis=0 :행(레코드)\n",
    "- axis=1 :열(컬럼)"
   ]
  },
  {
   "cell_type": "code",
   "execution_count": 20,
   "id": "c003cf60-3f31-4519-b448-9209e36c0f2e",
   "metadata": {
    "tags": []
   },
   "outputs": [],
   "source": [
    "dfcp=df.copy()\n",
    "#dfcp= dfcp.dropna(axis=0)  # drop하고 난 후 dfcp에 적용시켜라\n",
    "                            # dfcp.dropna(axis=0) 만 하면 메모리에서만 지워지는 것\n",
    "dfcp.dropna(axis=0,inplace=True) #inplace=True : 덮어쓰기   "
   ]
  },
  {
   "cell_type": "code",
   "execution_count": 21,
   "id": "a8617fee-b638-4db9-b71a-d3f9b2ffddd7",
   "metadata": {
    "tags": []
   },
   "outputs": [
    {
     "data": {
      "text/html": [
       "<div>\n",
       "<style scoped>\n",
       "    .dataframe tbody tr th:only-of-type {\n",
       "        vertical-align: middle;\n",
       "    }\n",
       "\n",
       "    .dataframe tbody tr th {\n",
       "        vertical-align: top;\n",
       "    }\n",
       "\n",
       "    .dataframe thead th {\n",
       "        text-align: right;\n",
       "    }\n",
       "</style>\n",
       "<table border=\"1\" class=\"dataframe\">\n",
       "  <thead>\n",
       "    <tr style=\"text-align: right;\">\n",
       "      <th></th>\n",
       "      <th>EMPNO</th>\n",
       "      <th>ENAME</th>\n",
       "      <th>JOB</th>\n",
       "      <th>MGR</th>\n",
       "      <th>HIREDATE</th>\n",
       "      <th>SAL</th>\n",
       "      <th>COMM</th>\n",
       "      <th>DEPTNO</th>\n",
       "    </tr>\n",
       "  </thead>\n",
       "  <tbody>\n",
       "    <tr>\n",
       "      <th>1</th>\n",
       "      <td>7499</td>\n",
       "      <td>ALLEN</td>\n",
       "      <td>SALESMAN</td>\n",
       "      <td>7698.0</td>\n",
       "      <td>1981-02-20</td>\n",
       "      <td>1600</td>\n",
       "      <td>300.0</td>\n",
       "      <td>30</td>\n",
       "    </tr>\n",
       "    <tr>\n",
       "      <th>2</th>\n",
       "      <td>7521</td>\n",
       "      <td>WARD</td>\n",
       "      <td>SALESMAN</td>\n",
       "      <td>7698.0</td>\n",
       "      <td>1981-02-22</td>\n",
       "      <td>1250</td>\n",
       "      <td>500.0</td>\n",
       "      <td>30</td>\n",
       "    </tr>\n",
       "    <tr>\n",
       "      <th>4</th>\n",
       "      <td>7654</td>\n",
       "      <td>MARTIN</td>\n",
       "      <td>SALESMAN</td>\n",
       "      <td>7698.0</td>\n",
       "      <td>1981-09-28</td>\n",
       "      <td>1250</td>\n",
       "      <td>1400.0</td>\n",
       "      <td>30</td>\n",
       "    </tr>\n",
       "    <tr>\n",
       "      <th>9</th>\n",
       "      <td>7844</td>\n",
       "      <td>TURNER</td>\n",
       "      <td>SALESMAN</td>\n",
       "      <td>7698.0</td>\n",
       "      <td>1981-09-08</td>\n",
       "      <td>1500</td>\n",
       "      <td>0.0</td>\n",
       "      <td>30</td>\n",
       "    </tr>\n",
       "  </tbody>\n",
       "</table>\n",
       "</div>"
      ],
      "text/plain": [
       "   EMPNO   ENAME       JOB     MGR   HIREDATE   SAL    COMM  DEPTNO\n",
       "1   7499   ALLEN  SALESMAN  7698.0 1981-02-20  1600   300.0      30\n",
       "2   7521    WARD  SALESMAN  7698.0 1981-02-22  1250   500.0      30\n",
       "4   7654  MARTIN  SALESMAN  7698.0 1981-09-28  1250  1400.0      30\n",
       "9   7844  TURNER  SALESMAN  7698.0 1981-09-08  1500     0.0      30"
      ]
     },
     "execution_count": 21,
     "metadata": {},
     "output_type": "execute_result"
    }
   ],
   "source": [
    "dfcp"
   ]
  },
  {
   "cell_type": "code",
   "execution_count": 22,
   "id": "5b27332c-471d-40c0-a39e-d159c07a0384",
   "metadata": {},
   "outputs": [
    {
     "data": {
      "text/html": [
       "<div>\n",
       "<style scoped>\n",
       "    .dataframe tbody tr th:only-of-type {\n",
       "        vertical-align: middle;\n",
       "    }\n",
       "\n",
       "    .dataframe tbody tr th {\n",
       "        vertical-align: top;\n",
       "    }\n",
       "\n",
       "    .dataframe thead th {\n",
       "        text-align: right;\n",
       "    }\n",
       "</style>\n",
       "<table border=\"1\" class=\"dataframe\">\n",
       "  <thead>\n",
       "    <tr style=\"text-align: right;\">\n",
       "      <th></th>\n",
       "      <th>EMPNO</th>\n",
       "      <th>ENAME</th>\n",
       "      <th>JOB</th>\n",
       "      <th>HIREDATE</th>\n",
       "      <th>SAL</th>\n",
       "      <th>DEPTNO</th>\n",
       "    </tr>\n",
       "  </thead>\n",
       "  <tbody>\n",
       "    <tr>\n",
       "      <th>0</th>\n",
       "      <td>7369</td>\n",
       "      <td>SMITH</td>\n",
       "      <td>CLERK</td>\n",
       "      <td>1980-12-17</td>\n",
       "      <td>800</td>\n",
       "      <td>20</td>\n",
       "    </tr>\n",
       "    <tr>\n",
       "      <th>1</th>\n",
       "      <td>7499</td>\n",
       "      <td>ALLEN</td>\n",
       "      <td>SALESMAN</td>\n",
       "      <td>1981-02-20</td>\n",
       "      <td>1600</td>\n",
       "      <td>30</td>\n",
       "    </tr>\n",
       "    <tr>\n",
       "      <th>2</th>\n",
       "      <td>7521</td>\n",
       "      <td>WARD</td>\n",
       "      <td>SALESMAN</td>\n",
       "      <td>1981-02-22</td>\n",
       "      <td>1250</td>\n",
       "      <td>30</td>\n",
       "    </tr>\n",
       "    <tr>\n",
       "      <th>3</th>\n",
       "      <td>7566</td>\n",
       "      <td>JONES</td>\n",
       "      <td>MANAGER</td>\n",
       "      <td>1981-04-02</td>\n",
       "      <td>2975</td>\n",
       "      <td>20</td>\n",
       "    </tr>\n",
       "    <tr>\n",
       "      <th>4</th>\n",
       "      <td>7654</td>\n",
       "      <td>MARTIN</td>\n",
       "      <td>SALESMAN</td>\n",
       "      <td>1981-09-28</td>\n",
       "      <td>1250</td>\n",
       "      <td>30</td>\n",
       "    </tr>\n",
       "    <tr>\n",
       "      <th>5</th>\n",
       "      <td>7698</td>\n",
       "      <td>BLAKE</td>\n",
       "      <td>MANAGER</td>\n",
       "      <td>1981-05-01</td>\n",
       "      <td>2850</td>\n",
       "      <td>30</td>\n",
       "    </tr>\n",
       "    <tr>\n",
       "      <th>6</th>\n",
       "      <td>7782</td>\n",
       "      <td>CCC</td>\n",
       "      <td>MANAGER</td>\n",
       "      <td>1981-06-09</td>\n",
       "      <td>2450</td>\n",
       "      <td>10</td>\n",
       "    </tr>\n",
       "    <tr>\n",
       "      <th>7</th>\n",
       "      <td>7788</td>\n",
       "      <td>SCOTT</td>\n",
       "      <td>ANALYST</td>\n",
       "      <td>1987-07-13</td>\n",
       "      <td>3000</td>\n",
       "      <td>20</td>\n",
       "    </tr>\n",
       "    <tr>\n",
       "      <th>8</th>\n",
       "      <td>7839</td>\n",
       "      <td>KING</td>\n",
       "      <td>PRESIDENT</td>\n",
       "      <td>1981-11-17</td>\n",
       "      <td>5000</td>\n",
       "      <td>10</td>\n",
       "    </tr>\n",
       "    <tr>\n",
       "      <th>9</th>\n",
       "      <td>7844</td>\n",
       "      <td>TURNER</td>\n",
       "      <td>SALESMAN</td>\n",
       "      <td>1981-09-08</td>\n",
       "      <td>1500</td>\n",
       "      <td>30</td>\n",
       "    </tr>\n",
       "    <tr>\n",
       "      <th>10</th>\n",
       "      <td>7876</td>\n",
       "      <td>ADAMS</td>\n",
       "      <td>CLERK</td>\n",
       "      <td>1987-07-13</td>\n",
       "      <td>1100</td>\n",
       "      <td>20</td>\n",
       "    </tr>\n",
       "    <tr>\n",
       "      <th>11</th>\n",
       "      <td>7900</td>\n",
       "      <td>JAMES</td>\n",
       "      <td>CLERK</td>\n",
       "      <td>1981-12-03</td>\n",
       "      <td>950</td>\n",
       "      <td>30</td>\n",
       "    </tr>\n",
       "    <tr>\n",
       "      <th>12</th>\n",
       "      <td>7902</td>\n",
       "      <td>FORD</td>\n",
       "      <td>ANALYST</td>\n",
       "      <td>1981-12-03</td>\n",
       "      <td>3000</td>\n",
       "      <td>20</td>\n",
       "    </tr>\n",
       "    <tr>\n",
       "      <th>13</th>\n",
       "      <td>7934</td>\n",
       "      <td>MILLER</td>\n",
       "      <td>CLERK</td>\n",
       "      <td>1982-01-23</td>\n",
       "      <td>1300</td>\n",
       "      <td>10</td>\n",
       "    </tr>\n",
       "  </tbody>\n",
       "</table>\n",
       "</div>"
      ],
      "text/plain": [
       "    EMPNO   ENAME        JOB   HIREDATE   SAL  DEPTNO\n",
       "0    7369   SMITH      CLERK 1980-12-17   800      20\n",
       "1    7499   ALLEN   SALESMAN 1981-02-20  1600      30\n",
       "2    7521    WARD   SALESMAN 1981-02-22  1250      30\n",
       "3    7566   JONES    MANAGER 1981-04-02  2975      20\n",
       "4    7654  MARTIN   SALESMAN 1981-09-28  1250      30\n",
       "5    7698   BLAKE    MANAGER 1981-05-01  2850      30\n",
       "6    7782     CCC    MANAGER 1981-06-09  2450      10\n",
       "7    7788   SCOTT    ANALYST 1987-07-13  3000      20\n",
       "8    7839    KING  PRESIDENT 1981-11-17  5000      10\n",
       "9    7844  TURNER   SALESMAN 1981-09-08  1500      30\n",
       "10   7876   ADAMS      CLERK 1987-07-13  1100      20\n",
       "11   7900   JAMES      CLERK 1981-12-03   950      30\n",
       "12   7902    FORD    ANALYST 1981-12-03  3000      20\n",
       "13   7934  MILLER      CLERK 1982-01-23  1300      10"
      ]
     },
     "execution_count": 22,
     "metadata": {},
     "output_type": "execute_result"
    }
   ],
   "source": [
    "dfcp=df.copy()\n",
    "dfcp.dropna(axis=1,inplace=True)\n",
    "dfcp"
   ]
  },
  {
   "cell_type": "markdown",
   "id": "9dd45e90-1fb0-4cdf-866e-120c53931c38",
   "metadata": {},
   "source": [
    "## df.fillna(inplace=True)\n",
    "- 결측 채우기 후 일반적으로 형변환을 한다.<br>\n",
    "<font color= 'red'><b> \n",
    "    - df['컬럼명']=df['컬럼명'].astype('타입')"
   ]
  },
  {
   "cell_type": "code",
   "execution_count": 23,
   "id": "f04f61d7-1b45-46b6-abb4-8efeb5e17ebb",
   "metadata": {},
   "outputs": [
    {
     "data": {
      "text/html": [
       "<div>\n",
       "<style scoped>\n",
       "    .dataframe tbody tr th:only-of-type {\n",
       "        vertical-align: middle;\n",
       "    }\n",
       "\n",
       "    .dataframe tbody tr th {\n",
       "        vertical-align: top;\n",
       "    }\n",
       "\n",
       "    .dataframe thead th {\n",
       "        text-align: right;\n",
       "    }\n",
       "</style>\n",
       "<table border=\"1\" class=\"dataframe\">\n",
       "  <thead>\n",
       "    <tr style=\"text-align: right;\">\n",
       "      <th></th>\n",
       "      <th>EMPNO</th>\n",
       "      <th>ENAME</th>\n",
       "      <th>JOB</th>\n",
       "      <th>MGR</th>\n",
       "      <th>HIREDATE</th>\n",
       "      <th>SAL</th>\n",
       "      <th>COMM</th>\n",
       "      <th>DEPTNO</th>\n",
       "    </tr>\n",
       "  </thead>\n",
       "  <tbody>\n",
       "    <tr>\n",
       "      <th>0</th>\n",
       "      <td>7369</td>\n",
       "      <td>SMITH</td>\n",
       "      <td>CLERK</td>\n",
       "      <td>7902.0</td>\n",
       "      <td>1980-12-17</td>\n",
       "      <td>800</td>\n",
       "      <td>99999999.0</td>\n",
       "      <td>20</td>\n",
       "    </tr>\n",
       "    <tr>\n",
       "      <th>1</th>\n",
       "      <td>7499</td>\n",
       "      <td>ALLEN</td>\n",
       "      <td>SALESMAN</td>\n",
       "      <td>7698.0</td>\n",
       "      <td>1981-02-20</td>\n",
       "      <td>1600</td>\n",
       "      <td>300.0</td>\n",
       "      <td>30</td>\n",
       "    </tr>\n",
       "    <tr>\n",
       "      <th>2</th>\n",
       "      <td>7521</td>\n",
       "      <td>WARD</td>\n",
       "      <td>SALESMAN</td>\n",
       "      <td>7698.0</td>\n",
       "      <td>1981-02-22</td>\n",
       "      <td>1250</td>\n",
       "      <td>500.0</td>\n",
       "      <td>30</td>\n",
       "    </tr>\n",
       "    <tr>\n",
       "      <th>3</th>\n",
       "      <td>7566</td>\n",
       "      <td>JONES</td>\n",
       "      <td>MANAGER</td>\n",
       "      <td>7839.0</td>\n",
       "      <td>1981-04-02</td>\n",
       "      <td>2975</td>\n",
       "      <td>99999999.0</td>\n",
       "      <td>20</td>\n",
       "    </tr>\n",
       "    <tr>\n",
       "      <th>4</th>\n",
       "      <td>7654</td>\n",
       "      <td>MARTIN</td>\n",
       "      <td>SALESMAN</td>\n",
       "      <td>7698.0</td>\n",
       "      <td>1981-09-28</td>\n",
       "      <td>1250</td>\n",
       "      <td>1400.0</td>\n",
       "      <td>30</td>\n",
       "    </tr>\n",
       "    <tr>\n",
       "      <th>5</th>\n",
       "      <td>7698</td>\n",
       "      <td>BLAKE</td>\n",
       "      <td>MANAGER</td>\n",
       "      <td>7839.0</td>\n",
       "      <td>1981-05-01</td>\n",
       "      <td>2850</td>\n",
       "      <td>99999999.0</td>\n",
       "      <td>30</td>\n",
       "    </tr>\n",
       "    <tr>\n",
       "      <th>6</th>\n",
       "      <td>7782</td>\n",
       "      <td>CCC</td>\n",
       "      <td>MANAGER</td>\n",
       "      <td>7839.0</td>\n",
       "      <td>1981-06-09</td>\n",
       "      <td>2450</td>\n",
       "      <td>99999999.0</td>\n",
       "      <td>10</td>\n",
       "    </tr>\n",
       "    <tr>\n",
       "      <th>7</th>\n",
       "      <td>7788</td>\n",
       "      <td>SCOTT</td>\n",
       "      <td>ANALYST</td>\n",
       "      <td>7566.0</td>\n",
       "      <td>1987-07-13</td>\n",
       "      <td>3000</td>\n",
       "      <td>99999999.0</td>\n",
       "      <td>20</td>\n",
       "    </tr>\n",
       "    <tr>\n",
       "      <th>8</th>\n",
       "      <td>7839</td>\n",
       "      <td>KING</td>\n",
       "      <td>PRESIDENT</td>\n",
       "      <td>99999999.0</td>\n",
       "      <td>1981-11-17</td>\n",
       "      <td>5000</td>\n",
       "      <td>99999999.0</td>\n",
       "      <td>10</td>\n",
       "    </tr>\n",
       "    <tr>\n",
       "      <th>9</th>\n",
       "      <td>7844</td>\n",
       "      <td>TURNER</td>\n",
       "      <td>SALESMAN</td>\n",
       "      <td>7698.0</td>\n",
       "      <td>1981-09-08</td>\n",
       "      <td>1500</td>\n",
       "      <td>0.0</td>\n",
       "      <td>30</td>\n",
       "    </tr>\n",
       "    <tr>\n",
       "      <th>10</th>\n",
       "      <td>7876</td>\n",
       "      <td>ADAMS</td>\n",
       "      <td>CLERK</td>\n",
       "      <td>7788.0</td>\n",
       "      <td>1987-07-13</td>\n",
       "      <td>1100</td>\n",
       "      <td>99999999.0</td>\n",
       "      <td>20</td>\n",
       "    </tr>\n",
       "    <tr>\n",
       "      <th>11</th>\n",
       "      <td>7900</td>\n",
       "      <td>JAMES</td>\n",
       "      <td>CLERK</td>\n",
       "      <td>7698.0</td>\n",
       "      <td>1981-12-03</td>\n",
       "      <td>950</td>\n",
       "      <td>99999999.0</td>\n",
       "      <td>30</td>\n",
       "    </tr>\n",
       "    <tr>\n",
       "      <th>12</th>\n",
       "      <td>7902</td>\n",
       "      <td>FORD</td>\n",
       "      <td>ANALYST</td>\n",
       "      <td>7566.0</td>\n",
       "      <td>1981-12-03</td>\n",
       "      <td>3000</td>\n",
       "      <td>99999999.0</td>\n",
       "      <td>20</td>\n",
       "    </tr>\n",
       "    <tr>\n",
       "      <th>13</th>\n",
       "      <td>7934</td>\n",
       "      <td>MILLER</td>\n",
       "      <td>CLERK</td>\n",
       "      <td>7782.0</td>\n",
       "      <td>1982-01-23</td>\n",
       "      <td>1300</td>\n",
       "      <td>99999999.0</td>\n",
       "      <td>10</td>\n",
       "    </tr>\n",
       "  </tbody>\n",
       "</table>\n",
       "</div>"
      ],
      "text/plain": [
       "    EMPNO   ENAME        JOB         MGR   HIREDATE   SAL        COMM  DEPTNO\n",
       "0    7369   SMITH      CLERK      7902.0 1980-12-17   800  99999999.0      20\n",
       "1    7499   ALLEN   SALESMAN      7698.0 1981-02-20  1600       300.0      30\n",
       "2    7521    WARD   SALESMAN      7698.0 1981-02-22  1250       500.0      30\n",
       "3    7566   JONES    MANAGER      7839.0 1981-04-02  2975  99999999.0      20\n",
       "4    7654  MARTIN   SALESMAN      7698.0 1981-09-28  1250      1400.0      30\n",
       "5    7698   BLAKE    MANAGER      7839.0 1981-05-01  2850  99999999.0      30\n",
       "6    7782     CCC    MANAGER      7839.0 1981-06-09  2450  99999999.0      10\n",
       "7    7788   SCOTT    ANALYST      7566.0 1987-07-13  3000  99999999.0      20\n",
       "8    7839    KING  PRESIDENT  99999999.0 1981-11-17  5000  99999999.0      10\n",
       "9    7844  TURNER   SALESMAN      7698.0 1981-09-08  1500         0.0      30\n",
       "10   7876   ADAMS      CLERK      7788.0 1987-07-13  1100  99999999.0      20\n",
       "11   7900   JAMES      CLERK      7698.0 1981-12-03   950  99999999.0      30\n",
       "12   7902    FORD    ANALYST      7566.0 1981-12-03  3000  99999999.0      20\n",
       "13   7934  MILLER      CLERK      7782.0 1982-01-23  1300  99999999.0      10"
      ]
     },
     "execution_count": 23,
     "metadata": {},
     "output_type": "execute_result"
    }
   ],
   "source": [
    "dfcp=df.copy()\n",
    "dfcp=dfcp.fillna(99999999)\n",
    "#dfcp.fillna(99999999,inplace=True)\n",
    "dfcp"
   ]
  },
  {
   "cell_type": "code",
   "execution_count": 24,
   "id": "6d076e2f-edf1-40c9-92b6-d383625527b0",
   "metadata": {},
   "outputs": [
    {
     "data": {
      "text/html": [
       "<div>\n",
       "<style scoped>\n",
       "    .dataframe tbody tr th:only-of-type {\n",
       "        vertical-align: middle;\n",
       "    }\n",
       "\n",
       "    .dataframe tbody tr th {\n",
       "        vertical-align: top;\n",
       "    }\n",
       "\n",
       "    .dataframe thead th {\n",
       "        text-align: right;\n",
       "    }\n",
       "</style>\n",
       "<table border=\"1\" class=\"dataframe\">\n",
       "  <thead>\n",
       "    <tr style=\"text-align: right;\">\n",
       "      <th></th>\n",
       "      <th>EMPNO</th>\n",
       "      <th>ENAME</th>\n",
       "      <th>JOB</th>\n",
       "      <th>MGR</th>\n",
       "      <th>HIREDATE</th>\n",
       "      <th>SAL</th>\n",
       "      <th>COMM</th>\n",
       "      <th>DEPTNO</th>\n",
       "    </tr>\n",
       "  </thead>\n",
       "  <tbody>\n",
       "    <tr>\n",
       "      <th>0</th>\n",
       "      <td>7369</td>\n",
       "      <td>SMITH</td>\n",
       "      <td>CLERK</td>\n",
       "      <td>7902</td>\n",
       "      <td>1980-12-17</td>\n",
       "      <td>800</td>\n",
       "      <td>99999</td>\n",
       "      <td>20</td>\n",
       "    </tr>\n",
       "    <tr>\n",
       "      <th>1</th>\n",
       "      <td>7499</td>\n",
       "      <td>ALLEN</td>\n",
       "      <td>SALESMAN</td>\n",
       "      <td>7698</td>\n",
       "      <td>1981-02-20</td>\n",
       "      <td>1600</td>\n",
       "      <td>300</td>\n",
       "      <td>30</td>\n",
       "    </tr>\n",
       "    <tr>\n",
       "      <th>2</th>\n",
       "      <td>7521</td>\n",
       "      <td>WARD</td>\n",
       "      <td>SALESMAN</td>\n",
       "      <td>7698</td>\n",
       "      <td>1981-02-22</td>\n",
       "      <td>1250</td>\n",
       "      <td>500</td>\n",
       "      <td>30</td>\n",
       "    </tr>\n",
       "  </tbody>\n",
       "</table>\n",
       "</div>"
      ],
      "text/plain": [
       "   EMPNO  ENAME       JOB   MGR   HIREDATE   SAL   COMM  DEPTNO\n",
       "0   7369  SMITH     CLERK  7902 1980-12-17   800  99999      20\n",
       "1   7499  ALLEN  SALESMAN  7698 1981-02-20  1600    300      30\n",
       "2   7521   WARD  SALESMAN  7698 1981-02-22  1250    500      30"
      ]
     },
     "execution_count": 24,
     "metadata": {},
     "output_type": "execute_result"
    }
   ],
   "source": [
    "dfcp=df.copy()\n",
    "#dfcp=dfcp.fillna(99999999)\n",
    "# dfcp['COMM']=dfcp['COMM'].fillna(8888)\n",
    "# dfcp['MGR']=dfcp['MGR'].fillna(77)\n",
    "\n",
    "dfcp[['COMM','MGR']]=dfcp[['COMM','MGR']].fillna(99999)\n",
    "dfcp[['COMM','MGR']]=dfcp[['COMM','MGR']].fillna(99999).astype('int') #astype('int'): int 타입으로 변환\n",
    "dfcp.head(3)"
   ]
  },
  {
   "cell_type": "markdown",
   "id": "c38f24dd-6975-4ff4-9492-d88cf4b0eeaf",
   "metadata": {},
   "source": [
    "##  df.isna / pd.isna(df1)\n",
    "- df에 결측이 있으면 true"
   ]
  },
  {
   "cell_type": "code",
   "execution_count": 25,
   "id": "5b95d978-f694-446b-8ca4-596ddedfb838",
   "metadata": {
    "tags": []
   },
   "outputs": [],
   "source": [
    "dfcp=df.copy()\n",
    "#pandas 것\n",
    "#pd.isna(dfcp)\n",
    "#dfcp.isna() \n",
    "#dfcp.notna() : nan이 아닌 것 true\n",
    "\n",
    "#numpy 것\n",
    "#dfcp.isnull() \n",
    "#dfcp.notnull()"
   ]
  },
  {
   "cell_type": "code",
   "execution_count": 26,
   "id": "4b76d040-d77d-4176-b40e-b29fd876a5cd",
   "metadata": {
    "tags": []
   },
   "outputs": [
    {
     "data": {
      "text/plain": [
       "EMPNO        0\n",
       "ENAME        0\n",
       "JOB          0\n",
       "MGR          1\n",
       "HIREDATE     0\n",
       "SAL          0\n",
       "COMM        10\n",
       "DEPTNO       0\n",
       "dtype: int64"
      ]
     },
     "execution_count": 26,
     "metadata": {},
     "output_type": "execute_result"
    }
   ],
   "source": [
    "dfcp.isna().sum()"
   ]
  },
  {
   "cell_type": "code",
   "execution_count": null,
   "id": "a5ba364e-63de-40ad-96fc-c536dd62d35e",
   "metadata": {},
   "outputs": [],
   "source": []
  },
  {
   "cell_type": "code",
   "execution_count": null,
   "id": "5d71c3fd-2f34-4171-8e81-1a35c2535c75",
   "metadata": {},
   "outputs": [],
   "source": []
  }
 ],
 "metadata": {
  "kernelspec": {
   "display_name": "Python 3 (ipykernel)",
   "language": "python",
   "name": "python3"
  },
  "language_info": {
   "codemirror_mode": {
    "name": "ipython",
    "version": 3
   },
   "file_extension": ".py",
   "mimetype": "text/x-python",
   "name": "python",
   "nbconvert_exporter": "python",
   "pygments_lexer": "ipython3",
   "version": "3.8.8"
  },
  "toc-autonumbering": true
 },
 "nbformat": 4,
 "nbformat_minor": 5
}
