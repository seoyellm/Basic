{
 "cells": [
  {
   "cell_type": "markdown",
   "id": "328f158e-265b-45bf-ae7b-da5014717e1f",
   "metadata": {},
   "source": [
    "# lec11. 날짜"
   ]
  },
  {
   "cell_type": "markdown",
   "id": "3d83b720-fcbe-40f9-af45-ddc57dd24a6a",
   "metadata": {},
   "source": [
    "<font color=red><b>from datetime.py import 클래스</b></font>\n",
    "* datetime.py에는 총 6개의 클래스가 존재\n",
    "<pre>\n",
    "    * <b>class date: 년월일</b>\n",
    "    * <b>class datetime(date): 년월일 시분초</b>\n",
    "    * <b>class time: 시분초</b>\n",
    "    * <b>class timedelta: 날짜 사이의 간격</b>\n",
    "    \n",
    "    * class tzinfo:\n",
    "    * class timezone(tzinfo):\n",
    "    * class tzinfo:\n",
    "    * class timezone(tzinfo):"
   ]
  },
  {
   "cell_type": "markdown",
   "id": "9bd6466e-d118-42f3-afd6-cb49ee0ab2ab",
   "metadata": {},
   "source": [
    "## 1. (class) date"
   ]
  },
  {
   "cell_type": "code",
   "execution_count": 3,
   "id": "353acf62-1dfe-4c0b-9d0a-2198d9cbde49",
   "metadata": {
    "tags": []
   },
   "outputs": [],
   "source": [
    "from datetime import date # 클래스는 일반적으로 as 사용하지 않음, \n",
    "                                    # 클래스 2개"
   ]
  },
  {
   "cell_type": "markdown",
   "id": "de4b3a11-5670-4880-aa56-248b41785158",
   "metadata": {
    "tags": []
   },
   "source": [
    "<pre>\n",
    "-----------------------------------------------------------------------------------------\n",
    "    <b>DATE                              TIME                      DATETIME</b>\n",
    "-----------------------------------------------------------------------------------------\n",
    "date.today()                                                datetime.now()\n",
    "                                                            datetime.today()\n",
    "-----------------------------------------------------------------------------------------\n",
    "<font color='red'><b>\n",
    "date.strftime()                    time.strftime()          datetime.strftime()         날짜 --> 글자\n",
    "                                                            datetime.strptime()         글자 --> 날짜\n",
    "                                                            </font></b>\n",
    "-----------------------------------------------------------------------------------------\n",
    "<font color='blue'><b>\n",
    "date.fromisoformat()               time.fromisoformat()     datetime.fromisoformat()    글자 --> 날짜</font></b>\n",
    "                                                                                    \n",
    "-----------------------------------------------------------------------------------------\n",
    "<font color='blue'><b>\n",
    "date.isoformat()                   time.isoformat()         datetime.isoformat()        날짜 --> 글자\n",
    "                                                            datetime.date()  \n",
    "                                                            datetime.time() \n",
    "                                                            datetime.timestamp()    \n",
    "                                                                                        </font></b>\n",
    "-----------------------------------------------------------------------------------------       \n",
    "date.year,date.month, date.day      XXXXXXXXXXXXXXX         datetime.year \n",
    "                                                            datetime.month \n",
    "                                                            datetime.day \n",
    "-----------------------------------------------------------------------------------------\n",
    "                                    time.hour,              datetime.hour \n",
    "                                    time.minute,            datetime.minute \n",
    "                                    time.second,            datetime.second\n",
    "                                    time.microsecond  \n",
    "-----------------------------------------------------------------------------------------\n",
    "date.weekday()                                              datetime.weekday()\n",
    "-----------------------------------------------------------------------------------------\n",
    "date.fromtimestamp()                                        datetime.fromtimestamp()\n",
    "-----------------------------------------------------------------------------------------"
   ]
  },
  {
   "cell_type": "markdown",
   "id": "9cd55d51-1512-4962-abb9-73e4eee91a81",
   "metadata": {},
   "source": [
    "### 1.1 date.today()\n",
    "- 오늘 날짜 : 년 월 일"
   ]
  },
  {
   "cell_type": "code",
   "execution_count": 18,
   "id": "958d990f-061f-4ac6-a003-ba656aa21b62",
   "metadata": {
    "tags": []
   },
   "outputs": [
    {
     "data": {
      "text/plain": [
       "(datetime.date(2023, 2, 15),)"
      ]
     },
     "execution_count": 18,
     "metadata": {},
     "output_type": "execute_result"
    }
   ],
   "source": [
    "mytoday=date.today(), #type(date.today())  날짜 객체\n",
    "mytoday"
   ]
  },
  {
   "cell_type": "markdown",
   "id": "3a4f6c73-1e9e-43af-944f-6bf27ecf1dcb",
   "metadata": {},
   "source": [
    "- (1970, 1, 1) 을 기준으로 ()초가 지난 날짜를 반환"
   ]
  },
  {
   "cell_type": "code",
   "execution_count": 17,
   "id": "27a7d58e-8519-4b53-833e-62d6561082fd",
   "metadata": {
    "tags": []
   },
   "outputs": [
    {
     "data": {
      "text/plain": [
       "datetime.date(2021, 10, 3)"
      ]
     },
     "execution_count": 17,
     "metadata": {},
     "output_type": "execute_result"
    }
   ],
   "source": [
    "date.fromtimestamp(1633224333) "
   ]
  },
  {
   "cell_type": "markdown",
   "id": "dd190000-85c0-4d67-b549-9cee917c07fa",
   "metadata": {},
   "source": [
    "### 1.2 date. 형변환\n",
    "* date --> str  : <font color=red><b>.isoformat()</b></font>   기본:'%Y-%m-%d\n",
    "* date --> str  : <font color=red><b>.strftime('%Y-%m-%d %H:%M:%S')</b></font>  \n",
    "* str  --> date : <font color=red><b>.fromisoformat('2023-02-15')</b></font>    "
   ]
  },
  {
   "cell_type": "markdown",
   "id": "505b75c2-0329-4036-8970-69dfc8bf34f4",
   "metadata": {},
   "source": [
    "#### 1.2.1 .strftime()\n",
    "- <font color='red'><b>★날짜 --> 글자\n",
    "- select to_char(sysdate, 'YYYY-MM-DD HH24:MI:SS') from dual"
   ]
  },
  {
   "cell_type": "code",
   "execution_count": 22,
   "id": "797b39f4-6be0-44f4-863a-e9572cacfecc",
   "metadata": {
    "tags": []
   },
   "outputs": [
    {
     "data": {
      "text/plain": [
       "'2023-02-15 00:00:00'"
      ]
     },
     "execution_count": 22,
     "metadata": {},
     "output_type": "execute_result"
    }
   ],
   "source": [
    "date.today().strftime('%Y-%m-%d %H:%M:%S')"
   ]
  },
  {
   "cell_type": "markdown",
   "id": "2519f989-d492-427e-bda0-de6422d979e4",
   "metadata": {},
   "source": [
    "#### 1.2.2 .fromisoformat()\n",
    "- <font color='red'><b>★글자 --> 날짜 "
   ]
  },
  {
   "cell_type": "code",
   "execution_count": 26,
   "id": "2a00dffe-eb99-4da3-a0de-bc57b2f01776",
   "metadata": {
    "tags": []
   },
   "outputs": [
    {
     "data": {
      "text/plain": [
       "datetime.date(2023, 2, 15)"
      ]
     },
     "execution_count": 26,
     "metadata": {},
     "output_type": "execute_result"
    }
   ],
   "source": [
    "date.fromisoformat('2023-02-15')"
   ]
  },
  {
   "cell_type": "markdown",
   "id": "b4ef6523-69b1-4733-a8c8-ad73c8364183",
   "metadata": {},
   "source": [
    "#### 1.2.3 .isoformat() \n",
    "- <font color='red'><b>★날짜 --> 글자"
   ]
  },
  {
   "cell_type": "code",
   "execution_count": 28,
   "id": "7b6ffdfe-6fbb-42ec-b8a2-bacbbf7c5436",
   "metadata": {
    "tags": []
   },
   "outputs": [
    {
     "data": {
      "text/plain": [
       "'2023-02-15'"
      ]
     },
     "execution_count": 28,
     "metadata": {},
     "output_type": "execute_result"
    }
   ],
   "source": [
    "date.today().isoformat() "
   ]
  },
  {
   "cell_type": "markdown",
   "id": "200c01f1-9f61-4d44-96cb-d5012bcf45d2",
   "metadata": {},
   "source": [
    "### 1.3 .weekday()\n",
    "- def weekday(self)\n",
    "- 정수로 요일 반환 ( 월 : 0, 일 : 6 )\n",
    "- date(2022,12,4).weekday()"
   ]
  },
  {
   "cell_type": "code",
   "execution_count": 24,
   "id": "99f8142f-c210-4418-8d3e-97cec1d9ed1a",
   "metadata": {
    "tags": []
   },
   "outputs": [
    {
     "data": {
      "text/plain": [
       "6"
      ]
     },
     "execution_count": 24,
     "metadata": {},
     "output_type": "execute_result"
    }
   ],
   "source": [
    "date(2022,12,25).weekday() # 6:일요일"
   ]
  },
  {
   "cell_type": "code",
   "execution_count": 23,
   "id": "246317c9-2c20-4016-9687-2280d534c5e5",
   "metadata": {
    "tags": []
   },
   "outputs": [
    {
     "data": {
      "text/plain": [
       "2"
      ]
     },
     "execution_count": 23,
     "metadata": {},
     "output_type": "execute_result"
    }
   ],
   "source": [
    "date.today().weekday() #2:수요일"
   ]
  },
  {
   "cell_type": "markdown",
   "id": "6ee3b244-c8aa-4295-bb55-1a9f0879732f",
   "metadata": {},
   "source": [
    "### 1.4 변수 : year, month, day\n",
    "- 날짜에서 년,월,일 뽑아내기"
   ]
  },
  {
   "cell_type": "code",
   "execution_count": 30,
   "id": "533a6d21-6032-46e2-aa3e-7f9125d1b30b",
   "metadata": {
    "tags": []
   },
   "outputs": [
    {
     "data": {
      "text/plain": [
       "2023"
      ]
     },
     "execution_count": 30,
     "metadata": {},
     "output_type": "execute_result"
    }
   ],
   "source": [
    "date.today().year"
   ]
  },
  {
   "cell_type": "code",
   "execution_count": 31,
   "id": "5a0e8f8b-0029-47d9-ae74-45da869abf51",
   "metadata": {
    "tags": []
   },
   "outputs": [
    {
     "data": {
      "text/plain": [
       "2"
      ]
     },
     "execution_count": 31,
     "metadata": {},
     "output_type": "execute_result"
    }
   ],
   "source": [
    "date.today().month"
   ]
  },
  {
   "cell_type": "code",
   "execution_count": 32,
   "id": "dab9a0b5-028d-46e7-8b10-733d1758a92c",
   "metadata": {
    "tags": []
   },
   "outputs": [
    {
     "data": {
      "text/plain": [
       "15"
      ]
     },
     "execution_count": 32,
     "metadata": {},
     "output_type": "execute_result"
    }
   ],
   "source": [
    "date.today().day"
   ]
  },
  {
   "cell_type": "markdown",
   "id": "f8fbe726-6149-479b-9cbd-5cae38e7b4c5",
   "metadata": {},
   "source": [
    "## 2. (class) datetime"
   ]
  },
  {
   "cell_type": "code",
   "execution_count": 33,
   "id": "e9ea41fd-1b1b-4696-9837-a34fcfa3d4ea",
   "metadata": {
    "tags": []
   },
   "outputs": [],
   "source": [
    "from datetime import datetime"
   ]
  },
  {
   "cell_type": "markdown",
   "id": "c80f34bf-24f5-4f60-9e6c-8cf28973fade",
   "metadata": {},
   "source": [
    "### 2.1 datetime.today()\n",
    "* date.today()\n",
    "* <b>datetime.today()</b> , datetime.now()"
   ]
  },
  {
   "cell_type": "code",
   "execution_count": 34,
   "id": "00896de7-a1f8-41c4-a1be-57f4043c4442",
   "metadata": {
    "tags": []
   },
   "outputs": [
    {
     "data": {
      "text/plain": [
       "datetime.datetime(2023, 2, 15, 12, 50, 37, 318912)"
      ]
     },
     "execution_count": 34,
     "metadata": {},
     "output_type": "execute_result"
    }
   ],
   "source": [
    "datetime.now() "
   ]
  },
  {
   "cell_type": "code",
   "execution_count": 42,
   "id": "1d124f9c-0d1e-4a47-a5c3-dcefad071e75",
   "metadata": {
    "tags": []
   },
   "outputs": [
    {
     "data": {
      "text/plain": [
       "datetime.datetime(2023, 2, 15, 12, 56, 13, 441476)"
      ]
     },
     "execution_count": 42,
     "metadata": {},
     "output_type": "execute_result"
    }
   ],
   "source": [
    "datetime.today() "
   ]
  },
  {
   "cell_type": "markdown",
   "id": "bb6c9881-f44f-4ebd-8166-c9e38fbecb63",
   "metadata": {},
   "source": [
    "- (1970, 1, 1) 을 기준으로 ()초가 지난 날짜(년월일+시분초)를 반환"
   ]
  },
  {
   "cell_type": "code",
   "execution_count": 43,
   "id": "c463f97a-ce6c-4c93-8b52-44df03ba4a45",
   "metadata": {
    "tags": []
   },
   "outputs": [
    {
     "data": {
      "text/plain": [
       "datetime.datetime(1970, 1, 2, 19, 17, 36)"
      ]
     },
     "execution_count": 43,
     "metadata": {},
     "output_type": "execute_result"
    }
   ],
   "source": [
    "datetime.fromtimestamp(123456)"
   ]
  },
  {
   "cell_type": "markdown",
   "id": "245a0312-4d4b-45f5-89f9-7fb88ac71e4e",
   "metadata": {},
   "source": [
    "### 2.2 date. 형변환\n",
    "* date --> str  : <font color=red><b>.isoformat()</b></font>   기본:'%Y-%m-%d %H:%M:%S'\n",
    "* date --> str  : <font color=red><b>.strftime('%Y-%m-%d %H:%M:%S')</b></font>  <br><br>\n",
    "* str --> date  : <font color=red><b>.strptime('2022-01-01','%Y-%m-%d %H:%M:%S')</b></font>  \n",
    "* str  --> date : <font color=red><b>.fromisoformat('2023-02-15')</b></font>    "
   ]
  },
  {
   "cell_type": "markdown",
   "id": "5e0f29a2-e3e6-4dbc-8199-12e1f38a482f",
   "metadata": {},
   "source": [
    "#### 2.2.1 .strftime('%Y-%m-%d %H:%M:%S')\n",
    "- <font color='red'><b>★날짜 --> 글자\n",
    "- select to_char(sysdate, 'YYYY-MM-DD HH24:MI:SS') from dual"
   ]
  },
  {
   "cell_type": "code",
   "execution_count": 46,
   "id": "aeda0a81-7b44-4de9-936d-6c449b98d827",
   "metadata": {
    "tags": []
   },
   "outputs": [
    {
     "data": {
      "text/plain": [
       "'2023-02-15 00:00:00'"
      ]
     },
     "execution_count": 46,
     "metadata": {},
     "output_type": "execute_result"
    }
   ],
   "source": [
    "date.today().strftime('%Y-%m-%d %H:%M:%S')             "
   ]
  },
  {
   "cell_type": "code",
   "execution_count": 45,
   "id": "a779128f-2c1d-400f-99b6-499f8b62c7a2",
   "metadata": {
    "tags": []
   },
   "outputs": [
    {
     "data": {
      "text/plain": [
       "'2023-02-15 12:59:55'"
      ]
     },
     "execution_count": 45,
     "metadata": {},
     "output_type": "execute_result"
    }
   ],
   "source": [
    "datetime.today().strftime('%Y-%m-%d %H:%M:%S')                                                               "
   ]
  },
  {
   "cell_type": "markdown",
   "id": "4d3e7eb9-e47b-40c9-886c-cfe8fb068a3d",
   "metadata": {},
   "source": [
    "#### 2.2.2 .strptime('%Y-%m-%d %H:%M:%S')\n",
    "- <font color='red'><b>★글자 --> 날짜\n",
    "- select to_date('2012-01-24', 'YYYY-MM-DD HH24:MI:SS') from dual"
   ]
  },
  {
   "cell_type": "code",
   "execution_count": 48,
   "id": "00d49f65-12dd-439b-96e0-5d08727662cb",
   "metadata": {
    "tags": []
   },
   "outputs": [
    {
     "data": {
      "text/plain": [
       "datetime.datetime(2022, 12, 25, 0, 0)"
      ]
     },
     "execution_count": 48,
     "metadata": {},
     "output_type": "execute_result"
    }
   ],
   "source": [
    "datetime.strptime('2022-12-25','%Y-%m-%d')"
   ]
  },
  {
   "cell_type": "markdown",
   "id": "23976f2f-0851-4509-a848-e59824f055ac",
   "metadata": {},
   "source": [
    "- 요일 반환"
   ]
  },
  {
   "cell_type": "code",
   "execution_count": 49,
   "id": "eda64b86-6897-4754-abc6-8df2c3ddd7b1",
   "metadata": {
    "tags": []
   },
   "outputs": [
    {
     "data": {
      "text/plain": [
       "2"
      ]
     },
     "execution_count": 49,
     "metadata": {},
     "output_type": "execute_result"
    }
   ],
   "source": [
    "datetime.today().weekday()"
   ]
  },
  {
   "cell_type": "markdown",
   "id": "69eec78c-fdeb-4d4b-981c-37c10806d3b4",
   "metadata": {},
   "source": [
    "#### 2.2.3 .fromisoformat()\n",
    "- <font color='red'><b>★글자 --> 날짜 "
   ]
  },
  {
   "cell_type": "code",
   "execution_count": 52,
   "id": "004191bb-1b2f-4f04-bb15-1d217550929c",
   "metadata": {
    "tags": []
   },
   "outputs": [
    {
     "data": {
      "text/plain": [
       "datetime.date(2022, 12, 25)"
      ]
     },
     "execution_count": 52,
     "metadata": {},
     "output_type": "execute_result"
    }
   ],
   "source": [
    "date.fromisoformat('2022-12-25')"
   ]
  },
  {
   "cell_type": "code",
   "execution_count": 50,
   "id": "99b93e33-4702-4544-9644-22bb6570abb2",
   "metadata": {
    "tags": []
   },
   "outputs": [
    {
     "data": {
      "text/plain": [
       "datetime.datetime(2022, 12, 25, 22, 14, 30)"
      ]
     },
     "execution_count": 50,
     "metadata": {},
     "output_type": "execute_result"
    }
   ],
   "source": [
    "datetime.fromisoformat('2022-12-25 22:14:30')"
   ]
  },
  {
   "cell_type": "code",
   "execution_count": 51,
   "id": "330fee5a-bed9-4ec8-8cff-5f2d53f9cc5f",
   "metadata": {
    "tags": []
   },
   "outputs": [
    {
     "data": {
      "text/plain": [
       "datetime.datetime(2022, 12, 25, 0, 0)"
      ]
     },
     "execution_count": 51,
     "metadata": {},
     "output_type": "execute_result"
    }
   ],
   "source": [
    "datetime.fromisoformat('2022-12-25')"
   ]
  },
  {
   "cell_type": "markdown",
   "id": "de0a2df8-e832-4977-a7c3-0939607c7104",
   "metadata": {},
   "source": [
    "#### 2.2.4 .isoformat() \n",
    "- <font color='red'><b>★날짜 --> 글자"
   ]
  },
  {
   "cell_type": "code",
   "execution_count": 53,
   "id": "f819ee79-b0d4-4375-a1ac-a992e66c03bf",
   "metadata": {
    "tags": []
   },
   "outputs": [
    {
     "data": {
      "text/plain": [
       "'2023-02-15T13:08:43.348595'"
      ]
     },
     "execution_count": 53,
     "metadata": {},
     "output_type": "execute_result"
    }
   ],
   "source": [
    "datetime.today().isoformat()"
   ]
  },
  {
   "cell_type": "markdown",
   "id": "b32ad1d8-43fe-4ad9-8938-ce84700640ac",
   "metadata": {},
   "source": [
    "### 2.3 함수 : date(), time(), timestemp()"
   ]
  },
  {
   "cell_type": "code",
   "execution_count": 55,
   "id": "77f9871d-6f3c-4d48-aef8-daa73e9f7a6b",
   "metadata": {
    "tags": []
   },
   "outputs": [
    {
     "data": {
      "text/plain": [
       "datetime.date(2023, 2, 15)"
      ]
     },
     "execution_count": 55,
     "metadata": {},
     "output_type": "execute_result"
    }
   ],
   "source": [
    "datetime.today().date() "
   ]
  },
  {
   "cell_type": "code",
   "execution_count": 56,
   "id": "391e6669-0fdc-41e0-8f87-d0b87c23f56a",
   "metadata": {
    "tags": []
   },
   "outputs": [
    {
     "data": {
      "text/plain": [
       "datetime.time(13, 11, 33, 545373)"
      ]
     },
     "execution_count": 56,
     "metadata": {},
     "output_type": "execute_result"
    }
   ],
   "source": [
    "datetime.today().time()"
   ]
  },
  {
   "cell_type": "code",
   "execution_count": 57,
   "id": "30aa6782-fe95-41e1-9c6a-07a480e1324a",
   "metadata": {
    "tags": []
   },
   "outputs": [
    {
     "data": {
      "text/plain": [
       "1676434301.744182"
      ]
     },
     "execution_count": 57,
     "metadata": {},
     "output_type": "execute_result"
    }
   ],
   "source": [
    "datetime.today().timestamp() # 70-1-1 부터 몇초가 지났는지"
   ]
  },
  {
   "cell_type": "markdown",
   "id": "81d719df-a072-4b31-aaa7-4df3fa9671ab",
   "metadata": {},
   "source": [
    "### 2.4 변수 : 년월일 시분초(ms)\n",
    "- year, month, day + hour, minute, second, microsecond"
   ]
  },
  {
   "cell_type": "code",
   "execution_count": 35,
   "id": "c331c27f-a208-476f-b32c-86ebdd0585ec",
   "metadata": {
    "tags": []
   },
   "outputs": [
    {
     "data": {
      "text/plain": [
       "2023"
      ]
     },
     "execution_count": 35,
     "metadata": {},
     "output_type": "execute_result"
    }
   ],
   "source": [
    "datetime.today().year"
   ]
  },
  {
   "cell_type": "code",
   "execution_count": 36,
   "id": "2ed5fdf7-0259-48a0-a013-f4df9a6cb504",
   "metadata": {
    "tags": []
   },
   "outputs": [
    {
     "data": {
      "text/plain": [
       "2"
      ]
     },
     "execution_count": 36,
     "metadata": {},
     "output_type": "execute_result"
    }
   ],
   "source": [
    "datetime.today().month"
   ]
  },
  {
   "cell_type": "code",
   "execution_count": 37,
   "id": "391db5c4-4d96-468c-b681-f0511ca677df",
   "metadata": {
    "tags": []
   },
   "outputs": [
    {
     "data": {
      "text/plain": [
       "15"
      ]
     },
     "execution_count": 37,
     "metadata": {},
     "output_type": "execute_result"
    }
   ],
   "source": [
    "datetime.today().day"
   ]
  },
  {
   "cell_type": "code",
   "execution_count": 38,
   "id": "7a0f6340-88c5-4991-8017-7db691b09dd0",
   "metadata": {
    "tags": []
   },
   "outputs": [
    {
     "data": {
      "text/plain": [
       "12"
      ]
     },
     "execution_count": 38,
     "metadata": {},
     "output_type": "execute_result"
    }
   ],
   "source": [
    "datetime.today().hour  "
   ]
  },
  {
   "cell_type": "code",
   "execution_count": 39,
   "id": "42b457c6-35d4-402f-8ef3-c7aa90719b49",
   "metadata": {
    "tags": []
   },
   "outputs": [
    {
     "data": {
      "text/plain": [
       "52"
      ]
     },
     "execution_count": 39,
     "metadata": {},
     "output_type": "execute_result"
    }
   ],
   "source": [
    "datetime.today().minute  "
   ]
  },
  {
   "cell_type": "code",
   "execution_count": 40,
   "id": "287540c4-d7a4-46e0-96a6-85b1a99bec11",
   "metadata": {
    "tags": []
   },
   "outputs": [
    {
     "data": {
      "text/plain": [
       "37"
      ]
     },
     "execution_count": 40,
     "metadata": {},
     "output_type": "execute_result"
    }
   ],
   "source": [
    "datetime.today().second"
   ]
  },
  {
   "cell_type": "code",
   "execution_count": 58,
   "id": "f70337e8-44b1-499c-a697-d1140a136385",
   "metadata": {
    "tags": []
   },
   "outputs": [
    {
     "data": {
      "text/plain": [
       "315387"
      ]
     },
     "execution_count": 58,
     "metadata": {},
     "output_type": "execute_result"
    }
   ],
   "source": [
    "datetime.today().microsecond #1/1000 초"
   ]
  },
  {
   "cell_type": "markdown",
   "id": "f49058ab-fc8c-4c05-8dd5-402e76635926",
   "metadata": {
    "tags": []
   },
   "source": [
    "## 3. (class) time"
   ]
  },
  {
   "cell_type": "code",
   "execution_count": 59,
   "id": "ded3ca74-55eb-43ab-803b-4b5b0faaf46d",
   "metadata": {
    "tags": []
   },
   "outputs": [],
   "source": [
    "from datetime import time"
   ]
  },
  {
   "cell_type": "code",
   "execution_count": null,
   "id": "5c7e51e3-8500-4875-9ec3-398303448091",
   "metadata": {},
   "outputs": [],
   "source": [
    "time.strftime() "
   ]
  },
  {
   "cell_type": "code",
   "execution_count": null,
   "id": "2a78d5bf-0377-45bf-b43a-709d28943011",
   "metadata": {},
   "outputs": [],
   "source": [
    "time.fromisoformat()"
   ]
  },
  {
   "cell_type": "code",
   "execution_count": null,
   "id": "2706de82-a5e9-47ea-a485-e7cefcb97750",
   "metadata": {},
   "outputs": [],
   "source": [
    "time.isoformat()"
   ]
  },
  {
   "cell_type": "code",
   "execution_count": null,
   "id": "982b6329-a0d4-4d6c-a72c-b5c70a8e6b77",
   "metadata": {},
   "outputs": [],
   "source": [
    "time.hour"
   ]
  },
  {
   "cell_type": "code",
   "execution_count": null,
   "id": "e6d59558-f6e0-4ea3-9499-9c4acfe33745",
   "metadata": {},
   "outputs": [],
   "source": [
    "time.minute"
   ]
  },
  {
   "cell_type": "code",
   "execution_count": null,
   "id": "14f4a44e-bdc3-4f09-8385-d2cc26356491",
   "metadata": {},
   "outputs": [],
   "source": [
    "time.second"
   ]
  },
  {
   "cell_type": "code",
   "execution_count": null,
   "id": "be6768b6-fde2-4329-aca7-c76ddddbd78b",
   "metadata": {},
   "outputs": [],
   "source": [
    "time.microsecond"
   ]
  },
  {
   "cell_type": "code",
   "execution_count": null,
   "id": "2b635436-5964-42eb-b4e7-1da0f0d45981",
   "metadata": {},
   "outputs": [],
   "source": []
  },
  {
   "cell_type": "code",
   "execution_count": null,
   "id": "c0a1c55a-d04f-49d9-b80d-36256c792580",
   "metadata": {},
   "outputs": [],
   "source": []
  },
  {
   "cell_type": "code",
   "execution_count": null,
   "id": "12bce74a-0312-44f2-b226-59fd027a09eb",
   "metadata": {},
   "outputs": [],
   "source": []
  },
  {
   "cell_type": "code",
   "execution_count": null,
   "id": "e304a326-6717-4768-9252-7743b8230d19",
   "metadata": {},
   "outputs": [],
   "source": []
  },
  {
   "cell_type": "code",
   "execution_count": null,
   "id": "8783cfa7-afbc-4bf4-993d-dc5d68ad7074",
   "metadata": {},
   "outputs": [],
   "source": []
  },
  {
   "cell_type": "code",
   "execution_count": null,
   "id": "669397ba-b4ee-49ad-94ca-6e2b0ec9057c",
   "metadata": {},
   "outputs": [],
   "source": []
  },
  {
   "cell_type": "code",
   "execution_count": null,
   "id": "8d1817f9-924b-4a75-b060-8b5254fc8541",
   "metadata": {},
   "outputs": [],
   "source": []
  },
  {
   "cell_type": "code",
   "execution_count": null,
   "id": "52e03610-bec1-4c06-8817-77b09c8edfa1",
   "metadata": {},
   "outputs": [],
   "source": []
  },
  {
   "cell_type": "code",
   "execution_count": null,
   "id": "d2927492-d235-41c8-a5a1-ed5f62a02a45",
   "metadata": {},
   "outputs": [],
   "source": []
  },
  {
   "cell_type": "code",
   "execution_count": null,
   "id": "c78c935d-7469-4b8d-8b1c-737d0c208232",
   "metadata": {},
   "outputs": [],
   "source": []
  },
  {
   "cell_type": "markdown",
   "id": "fa4a148d-c1b3-4a40-8515-8df977ffc37b",
   "metadata": {},
   "source": [
    "## 4. (class) date, datetime"
   ]
  },
  {
   "cell_type": "code",
   "execution_count": null,
   "id": "9f060a63-7eee-4992-935f-be3fba9f6b84",
   "metadata": {},
   "outputs": [],
   "source": []
  },
  {
   "cell_type": "code",
   "execution_count": null,
   "id": "9d93b5ef-1a19-401e-9f2d-b3db9ba48823",
   "metadata": {},
   "outputs": [],
   "source": []
  },
  {
   "cell_type": "code",
   "execution_count": null,
   "id": "322c7709-cc1e-4ffb-81be-ff47136e13b3",
   "metadata": {},
   "outputs": [],
   "source": []
  },
  {
   "cell_type": "code",
   "execution_count": null,
   "id": "845ce4e2-93b3-43f1-871b-5433965d191b",
   "metadata": {},
   "outputs": [],
   "source": []
  },
  {
   "cell_type": "code",
   "execution_count": null,
   "id": "8c845110-8fdb-4790-a4ce-5ef288b6fa30",
   "metadata": {},
   "outputs": [],
   "source": []
  },
  {
   "cell_type": "code",
   "execution_count": null,
   "id": "7059fdb8-09cf-4cdb-8941-d9060f41ecb3",
   "metadata": {},
   "outputs": [],
   "source": []
  },
  {
   "cell_type": "code",
   "execution_count": null,
   "id": "24764dd0-a47d-41be-9511-00ac6a85d354",
   "metadata": {},
   "outputs": [],
   "source": []
  },
  {
   "cell_type": "code",
   "execution_count": null,
   "id": "f7367716-8bc0-4def-9bf5-1a552f1bd02f",
   "metadata": {},
   "outputs": [],
   "source": []
  },
  {
   "cell_type": "code",
   "execution_count": null,
   "id": "b0f4b50c-b76f-4cd4-a41d-0aef29711dd2",
   "metadata": {},
   "outputs": [],
   "source": []
  },
  {
   "cell_type": "code",
   "execution_count": null,
   "id": "38c70d7f-d23e-4082-b1fb-53223a70cae5",
   "metadata": {},
   "outputs": [],
   "source": []
  }
 ],
 "metadata": {
  "kernelspec": {
   "display_name": "Python 3 (ipykernel)",
   "language": "python",
   "name": "python3"
  },
  "language_info": {
   "codemirror_mode": {
    "name": "ipython",
    "version": 3
   },
   "file_extension": ".py",
   "mimetype": "text/x-python",
   "name": "python",
   "nbconvert_exporter": "python",
   "pygments_lexer": "ipython3",
   "version": "3.8.8"
  }
 },
 "nbformat": 4,
 "nbformat_minor": 5
}
