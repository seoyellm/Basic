{
 "cells": [
  {
   "cell_type": "code",
   "execution_count": 1,
   "id": "68067aea-dd08-4397-b0c6-b7924cf27893",
   "metadata": {
    "tags": []
   },
   "outputs": [],
   "source": [
    "import pandas as pd\n",
    "import numpy as np"
   ]
  },
  {
   "cell_type": "markdown",
   "id": "60f0c796-80a9-4716-90c7-2d1033158e41",
   "metadata": {},
   "source": [
    "# 한줄표현 --- optional"
   ]
  },
  {
   "cell_type": "markdown",
   "id": "b7505f85-ee5a-44fd-ae6e-2fa0a07f6e0a",
   "metadata": {},
   "source": [
    "## 1. for문 한줄 표현식\n",
    "<pre>\n",
    "<font color='red'><b>[  처리부  for n in [ 1,2,3 ]  ]</font></b> <br><br>\n",
    "for n in [1,2,3]:<br>\n",
    "    처리부"
   ]
  },
  {
   "cell_type": "code",
   "execution_count": 19,
   "id": "6663a4a5-d5e7-408e-ba38-fc12e44ac0fb",
   "metadata": {
    "tags": []
   },
   "outputs": [
    {
     "name": "stdout",
     "output_type": "stream",
     "text": [
      "10\n"
     ]
    }
   ],
   "source": [
    "sum = 0\n",
    "for n in [1,2,3,4]:\n",
    "    sum= sum + n\n",
    "print(sum)"
   ]
  },
  {
   "cell_type": "code",
   "execution_count": 22,
   "id": "70cb00e3-df02-497d-965a-ff90d249b7ab",
   "metadata": {
    "tags": []
   },
   "outputs": [
    {
     "name": "stdout",
     "output_type": "stream",
     "text": [
      "1\n",
      "2\n",
      "3\n",
      "4\n"
     ]
    },
    {
     "data": {
      "text/plain": [
       "[None, None, None, None]"
      ]
     },
     "execution_count": 22,
     "metadata": {},
     "output_type": "execute_result"
    }
   ],
   "source": [
    "#frames = [ process_your_file(f) for f in files ]\n",
    "[ print(n) for n in [1,2,3,4] ]"
   ]
  },
  {
   "cell_type": "code",
   "execution_count": 24,
   "id": "4adc3935-e08d-4234-8f5f-343f2f03bb70",
   "metadata": {
    "tags": []
   },
   "outputs": [
    {
     "name": "stdout",
     "output_type": "stream",
     "text": [
      "2 * 1\n",
      "2 * 2\n",
      "2 * 3\n",
      "2 * 4\n",
      "3 * 1\n",
      "3 * 2\n",
      "3 * 3\n",
      "3 * 4\n",
      "4 * 1\n",
      "4 * 2\n",
      "4 * 3\n",
      "4 * 4\n"
     ]
    }
   ],
   "source": [
    "for dan in [2,3,4]:\n",
    "    for gob in [1,2,3,4]:\n",
    "        print(dan,\"*\",gob)"
   ]
  },
  {
   "cell_type": "code",
   "execution_count": 27,
   "id": "27bd89ea-35df-462b-adf6-3e9691407b4b",
   "metadata": {},
   "outputs": [
    {
     "name": "stdout",
     "output_type": "stream",
     "text": [
      "2 * 1\n",
      "2 * 2\n",
      "2 * 3\n",
      "2 * 4\n",
      "3 * 1\n",
      "3 * 2\n",
      "3 * 3\n",
      "3 * 4\n",
      "4 * 1\n",
      "4 * 2\n",
      "4 * 3\n",
      "4 * 4\n"
     ]
    },
    {
     "data": {
      "text/plain": [
       "[None, None, None, None, None, None, None, None, None, None, None, None]"
      ]
     },
     "execution_count": 27,
     "metadata": {},
     "output_type": "execute_result"
    }
   ],
   "source": [
    "[ print(dan,\"*\",gob) for dan in [2,3,4] for gob in [1,2,3,4] ]\n",
    "#      3                  1                     2"
   ]
  },
  {
   "cell_type": "markdown",
   "id": "616453da-9b0e-42dc-a746-be60e65d53a3",
   "metadata": {},
   "source": [
    "## 2. if문 한줄 표현식\n",
    "<pre>\n",
    "<font color='red'><b>1. 처리부IF if score < 90 else 처리부ELSE </font></b>\n",
    "\n",
    "if score < 90 :\n",
    "    처리부IF\n",
    "else:\n",
    "    처리부ELSE\n",
    "    \n",
    "<font color='red'><b>2. 처리부if if score < 90 else (처리부elif if score <80  else 처리부else )   </font></b> \n",
    "\n",
    "if score < 90 :\n",
    "    처리부if\n",
    "elif score < 80 : \n",
    "    처리부elif\n",
    "else:\n",
    "    처리부else    "
   ]
  },
  {
   "cell_type": "code",
   "execution_count": 28,
   "id": "d5909736-d9f4-4009-baf7-ffc53007acd8",
   "metadata": {
    "tags": []
   },
   "outputs": [
    {
     "name": "stdout",
     "output_type": "stream",
     "text": [
      "작다\n"
     ]
    }
   ],
   "source": [
    "score = 80\n",
    "if score < 90 :\n",
    "    print(\"작다\")\n",
    "else:\n",
    "    print(\"크다\")"
   ]
  },
  {
   "cell_type": "code",
   "execution_count": 34,
   "id": "1a3da49f-5859-47ea-8b12-278d382b9f97",
   "metadata": {
    "tags": []
   },
   "outputs": [
    {
     "name": "stdout",
     "output_type": "stream",
     "text": [
      "작다\n"
     ]
    }
   ],
   "source": [
    "score = 80\n",
    "print( \"작다\" if score < 90 else '크다' )"
   ]
  },
  {
   "cell_type": "code",
   "execution_count": 35,
   "id": "7f1529ed-4f0a-4769-a1e2-0d021c458dd2",
   "metadata": {
    "tags": []
   },
   "outputs": [
    {
     "name": "stdout",
     "output_type": "stream",
     "text": [
      "B\n"
     ]
    }
   ],
   "source": [
    "score = 80\n",
    "if score < 90 :\n",
    "    print(\"B\")\n",
    "elif score < 80 : \n",
    "    print(\"C\")\n",
    "else:\n",
    "    print(\"D\")"
   ]
  },
  {
   "cell_type": "code",
   "execution_count": 6,
   "id": "1c0fab07-e70e-4210-974c-76f9c9eca079",
   "metadata": {
    "tags": []
   },
   "outputs": [
    {
     "name": "stdout",
     "output_type": "stream",
     "text": [
      "B\n"
     ]
    }
   ],
   "source": [
    "score = 80\n",
    "print( \"B\" if score < 90 else (\"C\" if score <80  else \"D\") )"
   ]
  },
  {
   "cell_type": "markdown",
   "id": "e19c7c07-4f51-4f9f-b42b-76142d0b3740",
   "metadata": {},
   "source": [
    "## 3. for + if\n",
    "<pre>\n",
    "<font color='red'><b>[ 처리부 for n in [1,2,3] if문 ]\n",
    "       "
   ]
  },
  {
   "cell_type": "code",
   "execution_count": 7,
   "id": "acbdd77a-9c11-4fca-ab61-786995226f3e",
   "metadata": {
    "tags": []
   },
   "outputs": [
    {
     "name": "stdout",
     "output_type": "stream",
     "text": [
      "이\n"
     ]
    }
   ],
   "source": [
    "for n in [1,2,3]:\n",
    "    if n==2 :\n",
    "        print(\"이\")"
   ]
  },
  {
   "cell_type": "code",
   "execution_count": 9,
   "id": "a90d7c5c-d233-4e28-98dd-37758b82e81e",
   "metadata": {
    "tags": []
   },
   "outputs": [
    {
     "name": "stdout",
     "output_type": "stream",
     "text": [
      "이\n"
     ]
    },
    {
     "data": {
      "text/plain": [
       "[None]"
      ]
     },
     "execution_count": 9,
     "metadata": {},
     "output_type": "execute_result"
    }
   ],
   "source": [
    "[print(\"이\") for n in [1,2,3]  if n==2]"
   ]
  },
  {
   "cell_type": "markdown",
   "id": "4e6dfeb8-55d7-48f1-9b3c-8cafad5d7b3a",
   "metadata": {},
   "source": [
    "## 4. for + if else\n",
    "<pre>\n",
    "<font color='red'><b>[덩어리 for n in [1,2,3]  ]</font></b>\n",
    "\n",
    "덩어리는 아래 문법\n",
    "    if n==2 :\n",
    "        print(\"이\")\n",
    "    else:\n",
    "        print(\"그외\")\n",
    "\n",
    "[덩어리                          for n in [1,2,3]  ]\n",
    "[print(\"이\" if n==2 else \"그외\") for n in [1,2,3]  ]"
   ]
  },
  {
   "cell_type": "code",
   "execution_count": 10,
   "id": "20a46aab-678c-4f62-a7a2-7bf778b1c72a",
   "metadata": {
    "tags": []
   },
   "outputs": [
    {
     "name": "stdout",
     "output_type": "stream",
     "text": [
      "그외\n",
      "이\n",
      "그외\n"
     ]
    }
   ],
   "source": [
    "for n in [1,2,3]:\n",
    "    if n==2 :\n",
    "        print(\"이\")\n",
    "    else:\n",
    "        print(\"그외\")"
   ]
  },
  {
   "cell_type": "code",
   "execution_count": 16,
   "id": "d1e800d2-43ea-4164-a051-4da0220ffa7a",
   "metadata": {
    "tags": []
   },
   "outputs": [
    {
     "name": "stdout",
     "output_type": "stream",
     "text": [
      "그외\n",
      "이\n",
      "그외\n"
     ]
    },
    {
     "data": {
      "text/plain": [
       "[None, None, None]"
      ]
     },
     "execution_count": 16,
     "metadata": {},
     "output_type": "execute_result"
    }
   ],
   "source": [
    "[print(\"이\" if n==2 else \"그외\") for n in [1,2,3]  ]"
   ]
  },
  {
   "cell_type": "markdown",
   "id": "0a8242ac-6067-4e99-9ba8-68c27e6381b5",
   "metadata": {},
   "source": [
    "# 람다(lamda)\n",
    "\n",
    "<font color='red'><b>( lamda 파라미터 : 표현식 )</font></b>\n",
    "\n",
    "- 일회용 함수\n",
    "- 한줄표현 함수\n",
    "- unknown named function (이름 없는 함수)"
   ]
  },
  {
   "cell_type": "code",
   "execution_count": 17,
   "id": "16b80283-87fb-4f1e-8444-905765355e07",
   "metadata": {
    "tags": []
   },
   "outputs": [
    {
     "data": {
      "text/plain": [
       "9"
      ]
     },
     "execution_count": 17,
     "metadata": {},
     "output_type": "execute_result"
    }
   ],
   "source": [
    "def add(a,b):\n",
    "    return a+b\n",
    "add(4,5)"
   ]
  },
  {
   "cell_type": "code",
   "execution_count": 19,
   "id": "c977ea50-78d1-492a-a0b9-044eea11c83d",
   "metadata": {
    "tags": []
   },
   "outputs": [
    {
     "data": {
      "text/plain": [
       "<function __main__.<lambda>(a, b)>"
      ]
     },
     "execution_count": 19,
     "metadata": {},
     "output_type": "execute_result"
    }
   ],
   "source": [
    "aaa= (lambda a,b : a+b )\n",
    "aaa"
   ]
  },
  {
   "cell_type": "code",
   "execution_count": 18,
   "id": "b381f47e-c69f-4d6b-89af-0ac6e4291158",
   "metadata": {
    "tags": []
   },
   "outputs": [
    {
     "data": {
      "text/plain": [
       "9"
      ]
     },
     "execution_count": 18,
     "metadata": {},
     "output_type": "execute_result"
    }
   ],
   "source": [
    "(lambda a,b : a+b )(4,5)"
   ]
  },
  {
   "cell_type": "markdown",
   "id": "36eebe4b-f3fa-4feb-add6-c4129a5164e1",
   "metadata": {},
   "source": [
    "- 람다 사용 예 -1"
   ]
  },
  {
   "cell_type": "code",
   "execution_count": 20,
   "id": "5f77db8c-b1c6-4cd9-8ca7-6f190c3595cf",
   "metadata": {
    "tags": []
   },
   "outputs": [
    {
     "data": {
      "text/plain": [
       "'1'"
      ]
     },
     "execution_count": 20,
     "metadata": {},
     "output_type": "execute_result"
    }
   ],
   "source": [
    "def score_check(score):\n",
    "    if score >90:\n",
    "        return '1'\n",
    "    else:\n",
    "        return '0'\n",
    "score_check(99)    "
   ]
  },
  {
   "cell_type": "code",
   "execution_count": 21,
   "id": "9eaf1a48-ca6d-43f6-bf57-fee624f3eab6",
   "metadata": {
    "tags": []
   },
   "outputs": [
    {
     "data": {
      "text/plain": [
       "'0'"
      ]
     },
     "execution_count": 21,
     "metadata": {},
     "output_type": "execute_result"
    }
   ],
   "source": [
    "# 람다는 일회용 함수이기 때문에 return 필요 없음\n",
    "(lambda score : '1' if score >90 else  '0')(80)"
   ]
  },
  {
   "cell_type": "code",
   "execution_count": 24,
   "id": "12c33ccd-172c-4b6b-93a2-a6b72067a564",
   "metadata": {
    "tags": []
   },
   "outputs": [
    {
     "data": {
      "text/plain": [
       "'1'"
      ]
     },
     "execution_count": 24,
     "metadata": {},
     "output_type": "execute_result"
    }
   ],
   "source": [
    "# 만든 람다를 여러 곳에서 사용하기 위해 변수에 넣음\n",
    "#score_check는 함수명 x, 변수명 o\n",
    "score_check = (lambda score : '1' if score >90 else  '0')\n",
    "score_check(100)"
   ]
  },
  {
   "cell_type": "markdown",
   "id": "68caa8a7-7222-4638-a074-2f7697c47c28",
   "metadata": {},
   "source": [
    "- 람다 사용 예-2"
   ]
  },
  {
   "cell_type": "code",
   "execution_count": 20,
   "id": "ebe881d2-02db-40ae-8982-62eccdd4705f",
   "metadata": {
    "tags": []
   },
   "outputs": [
    {
     "data": {
      "text/plain": [
       "'1'"
      ]
     },
     "execution_count": 20,
     "metadata": {},
     "output_type": "execute_result"
    }
   ],
   "source": [
    "def score_check(score):\n",
    "    if score >90:\n",
    "        return '1'\n",
    "    else:\n",
    "        return '0'\n",
    "score_check(99)    "
   ]
  },
  {
   "cell_type": "code",
   "execution_count": 25,
   "id": "4791d469-1028-4f02-9a70-8aec76754291",
   "metadata": {
    "tags": []
   },
   "outputs": [
    {
     "data": {
      "text/plain": [
       "'0'"
      ]
     },
     "execution_count": 25,
     "metadata": {},
     "output_type": "execute_result"
    }
   ],
   "source": [
    "# 람다 안에 만들어 놓은 함수 넣기 가능\n",
    "( lambda x : score_check(x) )(70)"
   ]
  },
  {
   "cell_type": "markdown",
   "id": "24d00e9d-27cf-4386-b9c8-fb63b5882024",
   "metadata": {},
   "source": [
    "# map(lambda함수,리스트)"
   ]
  },
  {
   "cell_type": "code",
   "execution_count": 26,
   "id": "16f07e7f-7f81-47ce-9860-34f2aeb5638b",
   "metadata": {
    "tags": []
   },
   "outputs": [
    {
     "data": {
      "text/plain": [
       "[11, 12, 13, 14]"
      ]
     },
     "execution_count": 26,
     "metadata": {},
     "output_type": "execute_result"
    }
   ],
   "source": [
    "# 인터프리터환경에서는 map의 값을 보려면 list로 감싸기  -->파이참에서는 x\n",
    "list( map( lambda x : x+10, [1,2,3,4] ) ) "
   ]
  },
  {
   "cell_type": "code",
   "execution_count": 27,
   "id": "17d9acfb-50ab-4c47-acf2-814a8caa6b10",
   "metadata": {
    "tags": []
   },
   "outputs": [
    {
     "data": {
      "text/plain": [
       "<map at 0x227e07afc40>"
      ]
     },
     "execution_count": 27,
     "metadata": {},
     "output_type": "execute_result"
    }
   ],
   "source": [
    "mymap= map( lambda x : x+10, [1,2,3,4] )\n",
    "mymap"
   ]
  },
  {
   "cell_type": "code",
   "execution_count": 28,
   "id": "d6aed137-a79e-46bf-9547-eb1beac9cbdc",
   "metadata": {
    "tags": []
   },
   "outputs": [
    {
     "data": {
      "text/plain": [
       "[11, 12, 13, 14]"
      ]
     },
     "execution_count": 28,
     "metadata": {},
     "output_type": "execute_result"
    }
   ],
   "source": [
    "list(mymap)"
   ]
  },
  {
   "cell_type": "markdown",
   "id": "6e767bcc-0a7e-4f4b-b1d0-a791c60d2897",
   "metadata": {},
   "source": [
    "# Quiz"
   ]
  },
  {
   "cell_type": "markdown",
   "id": "72d29342-feb5-43fd-906f-bb449600b6c7",
   "metadata": {},
   "source": [
    "<pre>\n",
    "1. 람다식을 사용해 다음 연락처 앞자리를 활용해 지역명을 출력하시오\n",
    "\n",
    "tel = [\"02-222-3333\", \"032-222-3333\",\"032-222-3333\",\"031-222-3333\"]\n",
    "02  :  서울\n",
    "032 : 인천\n",
    "031 : 경기"
   ]
  },
  {
   "cell_type": "code",
   "execution_count": 30,
   "id": "29c22da6-7624-40af-80ab-140de4d3dbb9",
   "metadata": {
    "tags": []
   },
   "outputs": [],
   "source": [
    "tel = [\"02-222-3333\", \"032-222-3333\",\"032-222-3333\",\"031-222-3333\"]"
   ]
  },
  {
   "cell_type": "markdown",
   "id": "0eff97a1-9348-421d-ba7d-58bc6b989437",
   "metadata": {},
   "source": [
    "- 해결 1) 단순 함수 정의 후 호출"
   ]
  },
  {
   "cell_type": "code",
   "execution_count": 1,
   "id": "71765311-11eb-400d-9a95-412a7f90396d",
   "metadata": {
    "tags": []
   },
   "outputs": [
    {
     "name": "stdout",
     "output_type": "stream",
     "text": [
      "02 서울\n",
      "032 인천\n",
      "032 인천\n",
      "031 경기\n"
     ]
    }
   ],
   "source": [
    "# (lambda x : x.split(\"-\") )\n",
    "def tel_check(tel_list) :\n",
    "    for tel in tel_list:\n",
    "        loc_tel = tel.split(\"-\")[0]\n",
    "        loc = \"그외\"\n",
    "        if loc_tel == '02' :\n",
    "            loc = \"서울\"\n",
    "        elif loc_tel == '032' :\n",
    "            loc = \"인천\"\n",
    "        elif loc_tel == '031' :\n",
    "            loc = \"경기\"\n",
    "        print(loc_tel, loc)\n",
    "tel_check([\"02-222-3333\", \"032-222-3333\",\"032-222-3333\",\"031-222-3333\"])   "
   ]
  },
  {
   "cell_type": "markdown",
   "id": "f14c9d0a-86c8-48d4-aec3-69cfbe98c369",
   "metadata": {},
   "source": [
    "- 해결 2) 람다 + 사용자 정의 함수\n",
    "- (lambda x: 사용자 정의 함수(x))"
   ]
  },
  {
   "cell_type": "code",
   "execution_count": 2,
   "id": "61a07259-bba3-4b6d-bf52-d55966a4ee70",
   "metadata": {
    "tags": []
   },
   "outputs": [
    {
     "name": "stdout",
     "output_type": "stream",
     "text": [
      "02 서울\n",
      "032 인천\n",
      "032 인천\n",
      "031 경기\n"
     ]
    }
   ],
   "source": [
    "# (lambda x : x + 10) (10)\n",
    "prm_list = [\"02-222-3333\", \"032-222-3333\",\"032-222-3333\",\"031-222-3333\"]\n",
    "(lambda x : tel_check(x)  ) (prm_list) "
   ]
  },
  {
   "cell_type": "markdown",
   "id": "3e39e240-6305-435c-af87-38b016173cc4",
   "metadata": {},
   "source": [
    "- 해결3) list ( map ( 람다, 리스트) )"
   ]
  },
  {
   "cell_type": "code",
   "execution_count": 3,
   "id": "9647dfc6-3367-4f22-b5db-6e2df311eafa",
   "metadata": {
    "tags": []
   },
   "outputs": [
    {
     "name": "stdout",
     "output_type": "stream",
     "text": [
      "[('서울', '02'), ('인천', '032'), ('인천', '032'), ('경기', '031')]\n"
     ]
    }
   ],
   "source": [
    "def tel_check(tel) :\n",
    "    loc_tel = tel.split(\"-\")[0]\n",
    "    loc = \"그외\"\n",
    "    if loc_tel == '02' :\n",
    "        loc = \"서울\"\n",
    "    elif loc_tel == '032' :\n",
    "        loc = \"인천\"\n",
    "    elif loc_tel == '031' :\n",
    "        loc = \"경기\"\n",
    "    return loc, loc_tel\n",
    "        \n",
    "prm_list = [\"02-222-3333\", \"032-222-3333\",\"032-222-3333\",\"031-222-3333\"]\n",
    "res = list (  map(  lambda prm : tel_check(prm) , prm_list )   )\n",
    "print(res)"
   ]
  },
  {
   "cell_type": "markdown",
   "id": "7850957f-3874-44dd-b720-bcadad1ba1c3",
   "metadata": {},
   "source": [
    "<pre>\n",
    "2. 1~100 합 출력\n",
    "결과 : 5050\n"
   ]
  },
  {
   "cell_type": "markdown",
   "id": "99ae3c4f-95eb-4112-9c20-f9240bb4349b",
   "metadata": {},
   "source": [
    "- 해결책 1)"
   ]
  },
  {
   "cell_type": "code",
   "execution_count": 4,
   "id": "9e88217e-292d-4979-8fc2-c4af92e92e2e",
   "metadata": {},
   "outputs": [
    {
     "name": "stdout",
     "output_type": "stream",
     "text": [
      "100\n"
     ]
    }
   ],
   "source": [
    "mysum = 0\n",
    "for n in range(1,101):\n",
    "    mysum  = mysum + 1\n",
    "print(mysum)"
   ]
  },
  {
   "cell_type": "code",
   "execution_count": 49,
   "id": "6e1613a6-c7ee-44fa-bb53-43a9b8162365",
   "metadata": {
    "tags": []
   },
   "outputs": [
    {
     "name": "stdout",
     "output_type": "stream",
     "text": [
      "5050\n"
     ]
    }
   ],
   "source": [
    "def cacl_sum():\n",
    "    number=0\n",
    "    for i in range(101):\n",
    "        number+=i\n",
    "    print(number)\n",
    "cacl_sum()    "
   ]
  },
  {
   "cell_type": "markdown",
   "id": "8b580686-6f24-4f96-9943-49d9e68cf2ef",
   "metadata": {},
   "source": [
    "- 해결책 2)"
   ]
  },
  {
   "cell_type": "code",
   "execution_count": 5,
   "id": "aea5b23c-40ef-4207-aad8-a0b32e437901",
   "metadata": {},
   "outputs": [
    {
     "data": {
      "text/plain": [
       "6"
      ]
     },
     "execution_count": 5,
     "metadata": {},
     "output_type": "execute_result"
    }
   ],
   "source": [
    "import numpy as np\n",
    "np.sum(  [1,2,3] )"
   ]
  },
  {
   "cell_type": "code",
   "execution_count": 6,
   "id": "f82f503f-94cc-4f11-bc7e-1e18604b7e53",
   "metadata": {},
   "outputs": [
    {
     "data": {
      "text/plain": [
       "6"
      ]
     },
     "execution_count": 6,
     "metadata": {},
     "output_type": "execute_result"
    }
   ],
   "source": [
    "sum([1,2,3])  #python 내장 함수"
   ]
  },
  {
   "cell_type": "code",
   "execution_count": 7,
   "id": "3955dd02-92b9-4483-ab35-1f3a9b2b4ba0",
   "metadata": {},
   "outputs": [
    {
     "data": {
      "text/plain": [
       "5050"
      ]
     },
     "execution_count": 7,
     "metadata": {},
     "output_type": "execute_result"
    }
   ],
   "source": [
    "AA = (  lambda s,e : sum( range(s,e) )   )\n",
    "AA(1,101)"
   ]
  },
  {
   "cell_type": "code",
   "execution_count": 8,
   "id": "540a4fee-66ca-4902-af11-c4889e0f93f6",
   "metadata": {},
   "outputs": [
    {
     "data": {
      "text/plain": [
       "5050"
      ]
     },
     "execution_count": 8,
     "metadata": {},
     "output_type": "execute_result"
    }
   ],
   "source": [
    "AA = (  lambda x : sum( range(1,101) )   )\n",
    "AA('아무값')"
   ]
  },
  {
   "cell_type": "code",
   "execution_count": 9,
   "id": "8160d774-84f9-43e5-99ce-6c6913b3f9cd",
   "metadata": {},
   "outputs": [
    {
     "data": {
      "text/plain": [
       "5050"
      ]
     },
     "execution_count": 9,
     "metadata": {},
     "output_type": "execute_result"
    }
   ],
   "source": [
    "np.sum( [x for x in range(1,101)]  )"
   ]
  },
  {
   "cell_type": "markdown",
   "id": "a00a00b8-729d-4c97-90c1-391915c31deb",
   "metadata": {},
   "source": [
    "- 해결책 3)"
   ]
  },
  {
   "cell_type": "code",
   "execution_count": 10,
   "id": "6d0ef60b-3018-45c5-ad42-dadded2922bd",
   "metadata": {
    "tags": []
   },
   "outputs": [
    {
     "name": "stdout",
     "output_type": "stream",
     "text": [
      "5050\n"
     ]
    }
   ],
   "source": [
    "def cacl_sum() :\n",
    "    mysum = 0\n",
    "    for n in range(1,101):\n",
    "        mysum  = mysum + n\n",
    "    print(mysum)\n",
    "\n",
    "(lambda x :  cacl_sum()) (\"아무값\")"
   ]
  },
  {
   "cell_type": "markdown",
   "id": "fd0ce977-2c8d-4791-9dd0-30f8d02bd672",
   "metadata": {},
   "source": [
    "- 해결책 4)"
   ]
  },
  {
   "cell_type": "code",
   "execution_count": 11,
   "id": "7b598ca6-9e91-42e6-b61f-198f75ff93bb",
   "metadata": {
    "tags": []
   },
   "outputs": [
    {
     "data": {
      "text/plain": [
       "5050"
      ]
     },
     "execution_count": 11,
     "metadata": {},
     "output_type": "execute_result"
    }
   ],
   "source": [
    "np.sum( range(1,101)  )"
   ]
  },
  {
   "cell_type": "markdown",
   "id": "8d68e554-2c34-47b5-92e2-0f65d2ec0e70",
   "metadata": {},
   "source": [
    "- 해결책 5)"
   ]
  },
  {
   "cell_type": "code",
   "execution_count": null,
   "id": "2b26e2c8-f24c-42dc-aa56-1208637bb4ce",
   "metadata": {},
   "outputs": [],
   "source": [
    "np.sum( range(1,101)  )"
   ]
  }
 ],
 "metadata": {
  "kernelspec": {
   "display_name": "Python 3 (ipykernel)",
   "language": "python",
   "name": "python3"
  },
  "language_info": {
   "codemirror_mode": {
    "name": "ipython",
    "version": 3
   },
   "file_extension": ".py",
   "mimetype": "text/x-python",
   "name": "python",
   "nbconvert_exporter": "python",
   "pygments_lexer": "ipython3",
   "version": "3.8.8"
  }
 },
 "nbformat": 4,
 "nbformat_minor": 5
}
