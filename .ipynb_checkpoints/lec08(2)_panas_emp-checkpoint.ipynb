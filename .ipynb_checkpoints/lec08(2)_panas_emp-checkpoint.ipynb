{
 "cells": [
  {
   "cell_type": "markdown",
   "id": "cac60855-dd8e-4eb6-941b-6cc77fe01f3a",
   "metadata": {
    "tags": []
   },
   "source": [
    "# [ DataFrame vs SQL ]"
   ]
  },
  {
   "cell_type": "markdown",
   "id": "6a9f1d84-e3cb-4113-ae6a-63b9b0464066",
   "metadata": {},
   "source": [
    "# SELECT"
   ]
  },
  {
   "cell_type": "code",
   "execution_count": 1,
   "id": "ae3e8a97-69f8-43d4-b940-666a7b37d0ed",
   "metadata": {
    "tags": []
   },
   "outputs": [],
   "source": [
    "import pandas as pd\n",
    "import numpy as np"
   ]
  },
  {
   "cell_type": "code",
   "execution_count": 2,
   "id": "47a623f1-761a-4347-84b5-268df37e15f5",
   "metadata": {
    "tags": []
   },
   "outputs": [
    {
     "data": {
      "text/html": [
       "<div>\n",
       "<style scoped>\n",
       "    .dataframe tbody tr th:only-of-type {\n",
       "        vertical-align: middle;\n",
       "    }\n",
       "\n",
       "    .dataframe tbody tr th {\n",
       "        vertical-align: top;\n",
       "    }\n",
       "\n",
       "    .dataframe thead th {\n",
       "        text-align: right;\n",
       "    }\n",
       "</style>\n",
       "<table border=\"1\" class=\"dataframe\">\n",
       "  <thead>\n",
       "    <tr style=\"text-align: right;\">\n",
       "      <th></th>\n",
       "      <th>EMPNO</th>\n",
       "      <th>ENAME</th>\n",
       "      <th>JOB</th>\n",
       "      <th>MGR</th>\n",
       "      <th>HIREDATE</th>\n",
       "      <th>SAL</th>\n",
       "      <th>COMM</th>\n",
       "      <th>DEPTNO</th>\n",
       "    </tr>\n",
       "  </thead>\n",
       "  <tbody>\n",
       "    <tr>\n",
       "      <th>0</th>\n",
       "      <td>7369</td>\n",
       "      <td>SMITH</td>\n",
       "      <td>CLERK</td>\n",
       "      <td>7902.0</td>\n",
       "      <td>1980-12-17</td>\n",
       "      <td>800</td>\n",
       "      <td>NaN</td>\n",
       "      <td>20</td>\n",
       "    </tr>\n",
       "    <tr>\n",
       "      <th>1</th>\n",
       "      <td>7499</td>\n",
       "      <td>ALLEN</td>\n",
       "      <td>SALESMAN</td>\n",
       "      <td>7698.0</td>\n",
       "      <td>1981-02-20</td>\n",
       "      <td>1600</td>\n",
       "      <td>300.0</td>\n",
       "      <td>30</td>\n",
       "    </tr>\n",
       "    <tr>\n",
       "      <th>2</th>\n",
       "      <td>7521</td>\n",
       "      <td>WARD</td>\n",
       "      <td>SALESMAN</td>\n",
       "      <td>7698.0</td>\n",
       "      <td>1981-02-22</td>\n",
       "      <td>1250</td>\n",
       "      <td>500.0</td>\n",
       "      <td>30</td>\n",
       "    </tr>\n",
       "  </tbody>\n",
       "</table>\n",
       "</div>"
      ],
      "text/plain": [
       "   EMPNO  ENAME       JOB     MGR   HIREDATE   SAL   COMM  DEPTNO\n",
       "0   7369  SMITH     CLERK  7902.0 1980-12-17   800    NaN      20\n",
       "1   7499  ALLEN  SALESMAN  7698.0 1981-02-20  1600  300.0      30\n",
       "2   7521   WARD  SALESMAN  7698.0 1981-02-22  1250  500.0      30"
      ]
     },
     "execution_count": 2,
     "metadata": {},
     "output_type": "execute_result"
    }
   ],
   "source": [
    "emp= pd.read_csv(\"./lec08_emp.csv\",parse_dates=['HIREDATE'])\n",
    "emp.head(3)"
   ]
  },
  {
   "cell_type": "code",
   "execution_count": 3,
   "id": "e17e34de-f0c2-434d-a32e-53b3c0e0f266",
   "metadata": {
    "tags": []
   },
   "outputs": [],
   "source": [
    "emp.columns=emp.columns.str.lower() \n",
    "#컬럼명 소문자로 바꾸기\n",
    "#반드시 다시 emp.columns에 다시 넣어주어야 함"
   ]
  },
  {
   "cell_type": "code",
   "execution_count": 4,
   "id": "aac344d8-c8b4-4bc5-b380-08ec4a958260",
   "metadata": {
    "tags": []
   },
   "outputs": [
    {
     "data": {
      "text/html": [
       "<div>\n",
       "<style scoped>\n",
       "    .dataframe tbody tr th:only-of-type {\n",
       "        vertical-align: middle;\n",
       "    }\n",
       "\n",
       "    .dataframe tbody tr th {\n",
       "        vertical-align: top;\n",
       "    }\n",
       "\n",
       "    .dataframe thead th {\n",
       "        text-align: right;\n",
       "    }\n",
       "</style>\n",
       "<table border=\"1\" class=\"dataframe\">\n",
       "  <thead>\n",
       "    <tr style=\"text-align: right;\">\n",
       "      <th></th>\n",
       "      <th>empno</th>\n",
       "      <th>ename</th>\n",
       "      <th>job</th>\n",
       "      <th>mgr</th>\n",
       "      <th>hiredate</th>\n",
       "      <th>sal</th>\n",
       "      <th>comm</th>\n",
       "      <th>deptno</th>\n",
       "    </tr>\n",
       "  </thead>\n",
       "  <tbody>\n",
       "    <tr>\n",
       "      <th>0</th>\n",
       "      <td>7369</td>\n",
       "      <td>SMITH</td>\n",
       "      <td>CLERK</td>\n",
       "      <td>7902.0</td>\n",
       "      <td>1980-12-17</td>\n",
       "      <td>800</td>\n",
       "      <td>NaN</td>\n",
       "      <td>20</td>\n",
       "    </tr>\n",
       "    <tr>\n",
       "      <th>1</th>\n",
       "      <td>7499</td>\n",
       "      <td>ALLEN</td>\n",
       "      <td>SALESMAN</td>\n",
       "      <td>7698.0</td>\n",
       "      <td>1981-02-20</td>\n",
       "      <td>1600</td>\n",
       "      <td>300.0</td>\n",
       "      <td>30</td>\n",
       "    </tr>\n",
       "    <tr>\n",
       "      <th>2</th>\n",
       "      <td>7521</td>\n",
       "      <td>WARD</td>\n",
       "      <td>SALESMAN</td>\n",
       "      <td>7698.0</td>\n",
       "      <td>1981-02-22</td>\n",
       "      <td>1250</td>\n",
       "      <td>500.0</td>\n",
       "      <td>30</td>\n",
       "    </tr>\n",
       "  </tbody>\n",
       "</table>\n",
       "</div>"
      ],
      "text/plain": [
       "   empno  ename       job     mgr   hiredate   sal   comm  deptno\n",
       "0   7369  SMITH     CLERK  7902.0 1980-12-17   800    NaN      20\n",
       "1   7499  ALLEN  SALESMAN  7698.0 1981-02-20  1600  300.0      30\n",
       "2   7521   WARD  SALESMAN  7698.0 1981-02-22  1250  500.0      30"
      ]
     },
     "execution_count": 4,
     "metadata": {},
     "output_type": "execute_result"
    }
   ],
   "source": [
    "emp.head(3)"
   ]
  },
  {
   "cell_type": "markdown",
   "id": "b2e68bea-693e-4a0c-b2bf-c3382e29e730",
   "metadata": {},
   "source": [
    "## 1. SELECT ... FROM"
   ]
  },
  {
   "cell_type": "markdown",
   "id": "0b397e40-beb9-423b-aafa-75c46b60609a",
   "metadata": {},
   "source": [
    "- <font size = 4, color=\"red\"><b> df[ </font></b> 컬럼 <font size = 4, color=\"red\"><b> ]</font></b>\n",
    "- <font size = 4, color=\"red\"><b> df[ [</font></b> 컬럼1 , 컬럼2 <font size = 4, color=\"red\"><b>] ]</font></b>"
   ]
  },
  {
   "cell_type": "markdown",
   "id": "ee1b801d-0386-4e3e-8a42-657e65cf66c7",
   "metadata": {},
   "source": [
    "- select * from emp;"
   ]
  },
  {
   "cell_type": "code",
   "execution_count": 5,
   "id": "dbcb6b3d-d7a7-457c-a8ee-f41dbcebda2c",
   "metadata": {
    "tags": []
   },
   "outputs": [
    {
     "data": {
      "text/html": [
       "<div>\n",
       "<style scoped>\n",
       "    .dataframe tbody tr th:only-of-type {\n",
       "        vertical-align: middle;\n",
       "    }\n",
       "\n",
       "    .dataframe tbody tr th {\n",
       "        vertical-align: top;\n",
       "    }\n",
       "\n",
       "    .dataframe thead th {\n",
       "        text-align: right;\n",
       "    }\n",
       "</style>\n",
       "<table border=\"1\" class=\"dataframe\">\n",
       "  <thead>\n",
       "    <tr style=\"text-align: right;\">\n",
       "      <th></th>\n",
       "      <th>empno</th>\n",
       "      <th>ename</th>\n",
       "      <th>job</th>\n",
       "      <th>mgr</th>\n",
       "      <th>hiredate</th>\n",
       "      <th>sal</th>\n",
       "      <th>comm</th>\n",
       "      <th>deptno</th>\n",
       "    </tr>\n",
       "  </thead>\n",
       "  <tbody>\n",
       "    <tr>\n",
       "      <th>0</th>\n",
       "      <td>7369</td>\n",
       "      <td>SMITH</td>\n",
       "      <td>CLERK</td>\n",
       "      <td>7902.0</td>\n",
       "      <td>1980-12-17</td>\n",
       "      <td>800</td>\n",
       "      <td>NaN</td>\n",
       "      <td>20</td>\n",
       "    </tr>\n",
       "    <tr>\n",
       "      <th>1</th>\n",
       "      <td>7499</td>\n",
       "      <td>ALLEN</td>\n",
       "      <td>SALESMAN</td>\n",
       "      <td>7698.0</td>\n",
       "      <td>1981-02-20</td>\n",
       "      <td>1600</td>\n",
       "      <td>300.0</td>\n",
       "      <td>30</td>\n",
       "    </tr>\n",
       "    <tr>\n",
       "      <th>2</th>\n",
       "      <td>7521</td>\n",
       "      <td>WARD</td>\n",
       "      <td>SALESMAN</td>\n",
       "      <td>7698.0</td>\n",
       "      <td>1981-02-22</td>\n",
       "      <td>1250</td>\n",
       "      <td>500.0</td>\n",
       "      <td>30</td>\n",
       "    </tr>\n",
       "  </tbody>\n",
       "</table>\n",
       "</div>"
      ],
      "text/plain": [
       "   empno  ename       job     mgr   hiredate   sal   comm  deptno\n",
       "0   7369  SMITH     CLERK  7902.0 1980-12-17   800    NaN      20\n",
       "1   7499  ALLEN  SALESMAN  7698.0 1981-02-20  1600  300.0      30\n",
       "2   7521   WARD  SALESMAN  7698.0 1981-02-22  1250  500.0      30"
      ]
     },
     "execution_count": 5,
     "metadata": {},
     "output_type": "execute_result"
    }
   ],
   "source": [
    "emp.head(3)"
   ]
  },
  {
   "cell_type": "markdown",
   "id": "25ca182c-de11-47f2-8ac2-c88414a2080a",
   "metadata": {},
   "source": [
    "- select ename from emp;"
   ]
  },
  {
   "cell_type": "code",
   "execution_count": 6,
   "id": "b767bc86-efbe-423b-aa6c-87ec9fd93455",
   "metadata": {
    "tags": []
   },
   "outputs": [
    {
     "data": {
      "text/plain": [
       "0     SMITH\n",
       "1     ALLEN\n",
       "2      WARD\n",
       "3     JONES\n",
       "4    MARTIN\n",
       "Name: ename, dtype: object"
      ]
     },
     "execution_count": 6,
     "metadata": {},
     "output_type": "execute_result"
    }
   ],
   "source": [
    "emp['ename'].head()"
   ]
  },
  {
   "cell_type": "markdown",
   "id": "95af48c2-390e-4e95-9519-a0dc3f73e859",
   "metadata": {},
   "source": [
    "- select ename, empno from emp;"
   ]
  },
  {
   "cell_type": "code",
   "execution_count": 7,
   "id": "44823fc3-5ff8-435e-a2e1-9649e31ee683",
   "metadata": {
    "tags": []
   },
   "outputs": [
    {
     "data": {
      "text/html": [
       "<div>\n",
       "<style scoped>\n",
       "    .dataframe tbody tr th:only-of-type {\n",
       "        vertical-align: middle;\n",
       "    }\n",
       "\n",
       "    .dataframe tbody tr th {\n",
       "        vertical-align: top;\n",
       "    }\n",
       "\n",
       "    .dataframe thead th {\n",
       "        text-align: right;\n",
       "    }\n",
       "</style>\n",
       "<table border=\"1\" class=\"dataframe\">\n",
       "  <thead>\n",
       "    <tr style=\"text-align: right;\">\n",
       "      <th></th>\n",
       "      <th>ename</th>\n",
       "      <th>empno</th>\n",
       "    </tr>\n",
       "  </thead>\n",
       "  <tbody>\n",
       "    <tr>\n",
       "      <th>0</th>\n",
       "      <td>SMITH</td>\n",
       "      <td>7369</td>\n",
       "    </tr>\n",
       "    <tr>\n",
       "      <th>1</th>\n",
       "      <td>ALLEN</td>\n",
       "      <td>7499</td>\n",
       "    </tr>\n",
       "    <tr>\n",
       "      <th>2</th>\n",
       "      <td>WARD</td>\n",
       "      <td>7521</td>\n",
       "    </tr>\n",
       "    <tr>\n",
       "      <th>3</th>\n",
       "      <td>JONES</td>\n",
       "      <td>7566</td>\n",
       "    </tr>\n",
       "    <tr>\n",
       "      <th>4</th>\n",
       "      <td>MARTIN</td>\n",
       "      <td>7654</td>\n",
       "    </tr>\n",
       "  </tbody>\n",
       "</table>\n",
       "</div>"
      ],
      "text/plain": [
       "    ename  empno\n",
       "0   SMITH   7369\n",
       "1   ALLEN   7499\n",
       "2    WARD   7521\n",
       "3   JONES   7566\n",
       "4  MARTIN   7654"
      ]
     },
     "execution_count": 7,
     "metadata": {},
     "output_type": "execute_result"
    }
   ],
   "source": [
    "emp[['ename','empno']].head()"
   ]
  },
  {
   "cell_type": "markdown",
   "id": "c00345d7-2816-4772-b5ba-5a7ab9966361",
   "metadata": {},
   "source": [
    "## 2. loc / iloc"
   ]
  },
  {
   "cell_type": "markdown",
   "id": "424015dc-b35e-4dd9-a02c-87d075a13030",
   "metadata": {},
   "source": [
    "- loc[줄,칸] : 값으로 꺼내기\n",
    "- iloc[줄,칸] : 인덱스로 꺼내기\n",
    "- [줄,칸]\n",
    "     - 단일값\n",
    "     - 리스트: [단일값, 단일값, 단일값]\n",
    "     - 슬라이싱[ : ]\n",
    "\n",
    "- 2개 혼용 불가"
   ]
  },
  {
   "cell_type": "markdown",
   "id": "2c839daa-54a6-48aa-8d67-fedb42577468",
   "metadata": {},
   "source": [
    "### 2.1 lioc [줄, 칸]"
   ]
  },
  {
   "cell_type": "markdown",
   "id": "795b0968-7d93-4b66-ab6e-3a46e2ed996a",
   "metadata": {},
   "source": [
    "#### 2.1.1 단일값 / [단일값, 단일값]"
   ]
  },
  {
   "cell_type": "code",
   "execution_count": 8,
   "id": "330aebc4-f63e-42cc-a506-40c014c13d13",
   "metadata": {
    "tags": []
   },
   "outputs": [
    {
     "data": {
      "text/plain": [
       "empno                      7369\n",
       "ename                     SMITH\n",
       "job                       CLERK\n",
       "mgr                      7902.0\n",
       "hiredate    1980-12-17 00:00:00\n",
       "sal                         800\n",
       "comm                        NaN\n",
       "deptno                       20\n",
       "Name: 0, dtype: object"
      ]
     },
     "execution_count": 8,
     "metadata": {},
     "output_type": "execute_result"
    }
   ],
   "source": [
    "emp.iloc[0] #한줄일때 retrn type은 Series"
   ]
  },
  {
   "cell_type": "code",
   "execution_count": 9,
   "id": "ab9dca5c-bd01-4617-acbb-f3dd41e6d842",
   "metadata": {
    "tags": []
   },
   "outputs": [
    {
     "data": {
      "text/html": [
       "<div>\n",
       "<style scoped>\n",
       "    .dataframe tbody tr th:only-of-type {\n",
       "        vertical-align: middle;\n",
       "    }\n",
       "\n",
       "    .dataframe tbody tr th {\n",
       "        vertical-align: top;\n",
       "    }\n",
       "\n",
       "    .dataframe thead th {\n",
       "        text-align: right;\n",
       "    }\n",
       "</style>\n",
       "<table border=\"1\" class=\"dataframe\">\n",
       "  <thead>\n",
       "    <tr style=\"text-align: right;\">\n",
       "      <th></th>\n",
       "      <th>empno</th>\n",
       "      <th>ename</th>\n",
       "      <th>job</th>\n",
       "      <th>mgr</th>\n",
       "      <th>hiredate</th>\n",
       "      <th>sal</th>\n",
       "      <th>comm</th>\n",
       "      <th>deptno</th>\n",
       "    </tr>\n",
       "  </thead>\n",
       "  <tbody>\n",
       "    <tr>\n",
       "      <th>0</th>\n",
       "      <td>7369</td>\n",
       "      <td>SMITH</td>\n",
       "      <td>CLERK</td>\n",
       "      <td>7902.0</td>\n",
       "      <td>1980-12-17</td>\n",
       "      <td>800</td>\n",
       "      <td>NaN</td>\n",
       "      <td>20</td>\n",
       "    </tr>\n",
       "    <tr>\n",
       "      <th>1</th>\n",
       "      <td>7499</td>\n",
       "      <td>ALLEN</td>\n",
       "      <td>SALESMAN</td>\n",
       "      <td>7698.0</td>\n",
       "      <td>1981-02-20</td>\n",
       "      <td>1600</td>\n",
       "      <td>300.0</td>\n",
       "      <td>30</td>\n",
       "    </tr>\n",
       "  </tbody>\n",
       "</table>\n",
       "</div>"
      ],
      "text/plain": [
       "   empno  ename       job     mgr   hiredate   sal   comm  deptno\n",
       "0   7369  SMITH     CLERK  7902.0 1980-12-17   800    NaN      20\n",
       "1   7499  ALLEN  SALESMAN  7698.0 1981-02-20  1600  300.0      30"
      ]
     },
     "execution_count": 9,
     "metadata": {},
     "output_type": "execute_result"
    }
   ],
   "source": [
    "emp.iloc[[0,1]] #여러 줄 일때 retrn type은 dataframe"
   ]
  },
  {
   "cell_type": "code",
   "execution_count": 10,
   "id": "4034eeaf-4f40-49fd-b700-44342361b0a6",
   "metadata": {
    "tags": []
   },
   "outputs": [
    {
     "data": {
      "text/html": [
       "<div>\n",
       "<style scoped>\n",
       "    .dataframe tbody tr th:only-of-type {\n",
       "        vertical-align: middle;\n",
       "    }\n",
       "\n",
       "    .dataframe tbody tr th {\n",
       "        vertical-align: top;\n",
       "    }\n",
       "\n",
       "    .dataframe thead th {\n",
       "        text-align: right;\n",
       "    }\n",
       "</style>\n",
       "<table border=\"1\" class=\"dataframe\">\n",
       "  <thead>\n",
       "    <tr style=\"text-align: right;\">\n",
       "      <th></th>\n",
       "      <th>empno</th>\n",
       "      <th>ename</th>\n",
       "      <th>job</th>\n",
       "      <th>mgr</th>\n",
       "      <th>hiredate</th>\n",
       "      <th>sal</th>\n",
       "      <th>comm</th>\n",
       "      <th>deptno</th>\n",
       "    </tr>\n",
       "  </thead>\n",
       "  <tbody>\n",
       "    <tr>\n",
       "      <th>0</th>\n",
       "      <td>7369</td>\n",
       "      <td>SMITH</td>\n",
       "      <td>CLERK</td>\n",
       "      <td>7902.0</td>\n",
       "      <td>1980-12-17</td>\n",
       "      <td>800</td>\n",
       "      <td>NaN</td>\n",
       "      <td>20</td>\n",
       "    </tr>\n",
       "    <tr>\n",
       "      <th>3</th>\n",
       "      <td>7566</td>\n",
       "      <td>JONES</td>\n",
       "      <td>MANAGER</td>\n",
       "      <td>7839.0</td>\n",
       "      <td>1981-04-02</td>\n",
       "      <td>2975</td>\n",
       "      <td>NaN</td>\n",
       "      <td>20</td>\n",
       "    </tr>\n",
       "    <tr>\n",
       "      <th>5</th>\n",
       "      <td>7698</td>\n",
       "      <td>BLAKE</td>\n",
       "      <td>MANAGER</td>\n",
       "      <td>7839.0</td>\n",
       "      <td>1981-05-01</td>\n",
       "      <td>2850</td>\n",
       "      <td>NaN</td>\n",
       "      <td>30</td>\n",
       "    </tr>\n",
       "  </tbody>\n",
       "</table>\n",
       "</div>"
      ],
      "text/plain": [
       "   empno  ename      job     mgr   hiredate   sal  comm  deptno\n",
       "0   7369  SMITH    CLERK  7902.0 1980-12-17   800   NaN      20\n",
       "3   7566  JONES  MANAGER  7839.0 1981-04-02  2975   NaN      20\n",
       "5   7698  BLAKE  MANAGER  7839.0 1981-05-01  2850   NaN      30"
      ]
     },
     "execution_count": 10,
     "metadata": {},
     "output_type": "execute_result"
    }
   ],
   "source": [
    "emp.iloc[[0,3,5]] # 줄 : [단일값, 단일값, 단일값]"
   ]
  },
  {
   "cell_type": "code",
   "execution_count": 11,
   "id": "6385e6db-7544-4311-b1d6-b6c3252d0248",
   "metadata": {
    "tags": []
   },
   "outputs": [
    {
     "data": {
      "text/plain": [
       "7369"
      ]
     },
     "execution_count": 11,
     "metadata": {},
     "output_type": "execute_result"
    }
   ],
   "source": [
    "emp.iloc[0 , 0] # 줄 : 단일값, 칸 : 단일값"
   ]
  },
  {
   "cell_type": "code",
   "execution_count": 12,
   "id": "ae0e43c9-6897-4ade-9de8-c97b41fa1027",
   "metadata": {
    "tags": []
   },
   "outputs": [
    {
     "data": {
      "text/plain": [
       "empno     7369\n",
       "ename    SMITH\n",
       "Name: 0, dtype: object"
      ]
     },
     "execution_count": 12,
     "metadata": {},
     "output_type": "execute_result"
    }
   ],
   "source": [
    "emp.iloc[0 , [0,1]] # 줄 : 단일값, 칸 :[단일값, 단일값]"
   ]
  },
  {
   "cell_type": "code",
   "execution_count": 13,
   "id": "374713f0-2643-4002-81c6-6b1b88c25e8e",
   "metadata": {
    "tags": []
   },
   "outputs": [
    {
     "data": {
      "text/html": [
       "<div>\n",
       "<style scoped>\n",
       "    .dataframe tbody tr th:only-of-type {\n",
       "        vertical-align: middle;\n",
       "    }\n",
       "\n",
       "    .dataframe tbody tr th {\n",
       "        vertical-align: top;\n",
       "    }\n",
       "\n",
       "    .dataframe thead th {\n",
       "        text-align: right;\n",
       "    }\n",
       "</style>\n",
       "<table border=\"1\" class=\"dataframe\">\n",
       "  <thead>\n",
       "    <tr style=\"text-align: right;\">\n",
       "      <th></th>\n",
       "      <th>empno</th>\n",
       "      <th>ename</th>\n",
       "    </tr>\n",
       "  </thead>\n",
       "  <tbody>\n",
       "    <tr>\n",
       "      <th>0</th>\n",
       "      <td>7369</td>\n",
       "      <td>SMITH</td>\n",
       "    </tr>\n",
       "    <tr>\n",
       "      <th>1</th>\n",
       "      <td>7499</td>\n",
       "      <td>ALLEN</td>\n",
       "    </tr>\n",
       "    <tr>\n",
       "      <th>2</th>\n",
       "      <td>7521</td>\n",
       "      <td>WARD</td>\n",
       "    </tr>\n",
       "  </tbody>\n",
       "</table>\n",
       "</div>"
      ],
      "text/plain": [
       "   empno  ename\n",
       "0   7369  SMITH\n",
       "1   7499  ALLEN\n",
       "2   7521   WARD"
      ]
     },
     "execution_count": 13,
     "metadata": {},
     "output_type": "execute_result"
    }
   ],
   "source": [
    "emp.iloc[[0,1,2] , [0,1]] # 줄 :[단일값, 단일값, 단일값] 단일값, 칸 :[단일값, 단일값]"
   ]
  },
  {
   "cell_type": "markdown",
   "id": "feb07279-af5e-4350-9ef1-2ae02be94b21",
   "metadata": {},
   "source": [
    "#### 2.1.2 슬라이싱"
   ]
  },
  {
   "cell_type": "code",
   "execution_count": 14,
   "id": "6c7dafc9-e912-4016-a345-c85758910a73",
   "metadata": {
    "tags": []
   },
   "outputs": [
    {
     "data": {
      "text/html": [
       "<div>\n",
       "<style scoped>\n",
       "    .dataframe tbody tr th:only-of-type {\n",
       "        vertical-align: middle;\n",
       "    }\n",
       "\n",
       "    .dataframe tbody tr th {\n",
       "        vertical-align: top;\n",
       "    }\n",
       "\n",
       "    .dataframe thead th {\n",
       "        text-align: right;\n",
       "    }\n",
       "</style>\n",
       "<table border=\"1\" class=\"dataframe\">\n",
       "  <thead>\n",
       "    <tr style=\"text-align: right;\">\n",
       "      <th></th>\n",
       "      <th>empno</th>\n",
       "      <th>ename</th>\n",
       "      <th>job</th>\n",
       "      <th>mgr</th>\n",
       "      <th>hiredate</th>\n",
       "      <th>sal</th>\n",
       "      <th>comm</th>\n",
       "      <th>deptno</th>\n",
       "    </tr>\n",
       "  </thead>\n",
       "  <tbody>\n",
       "    <tr>\n",
       "      <th>0</th>\n",
       "      <td>7369</td>\n",
       "      <td>SMITH</td>\n",
       "      <td>CLERK</td>\n",
       "      <td>7902.0</td>\n",
       "      <td>1980-12-17</td>\n",
       "      <td>800</td>\n",
       "      <td>NaN</td>\n",
       "      <td>20</td>\n",
       "    </tr>\n",
       "    <tr>\n",
       "      <th>1</th>\n",
       "      <td>7499</td>\n",
       "      <td>ALLEN</td>\n",
       "      <td>SALESMAN</td>\n",
       "      <td>7698.0</td>\n",
       "      <td>1981-02-20</td>\n",
       "      <td>1600</td>\n",
       "      <td>300.0</td>\n",
       "      <td>30</td>\n",
       "    </tr>\n",
       "    <tr>\n",
       "      <th>2</th>\n",
       "      <td>7521</td>\n",
       "      <td>WARD</td>\n",
       "      <td>SALESMAN</td>\n",
       "      <td>7698.0</td>\n",
       "      <td>1981-02-22</td>\n",
       "      <td>1250</td>\n",
       "      <td>500.0</td>\n",
       "      <td>30</td>\n",
       "    </tr>\n",
       "  </tbody>\n",
       "</table>\n",
       "</div>"
      ],
      "text/plain": [
       "   empno  ename       job     mgr   hiredate   sal   comm  deptno\n",
       "0   7369  SMITH     CLERK  7902.0 1980-12-17   800    NaN      20\n",
       "1   7499  ALLEN  SALESMAN  7698.0 1981-02-20  1600  300.0      30\n",
       "2   7521   WARD  SALESMAN  7698.0 1981-02-22  1250  500.0      30"
      ]
     },
     "execution_count": 14,
     "metadata": {},
     "output_type": "execute_result"
    }
   ],
   "source": [
    "emp.iloc[0:3] # 줄 : 슬라이싱"
   ]
  },
  {
   "cell_type": "code",
   "execution_count": 15,
   "id": "4197bc0c-52f1-452d-a8df-b3d7fd4bd304",
   "metadata": {
    "tags": []
   },
   "outputs": [
    {
     "data": {
      "text/html": [
       "<div>\n",
       "<style scoped>\n",
       "    .dataframe tbody tr th:only-of-type {\n",
       "        vertical-align: middle;\n",
       "    }\n",
       "\n",
       "    .dataframe tbody tr th {\n",
       "        vertical-align: top;\n",
       "    }\n",
       "\n",
       "    .dataframe thead th {\n",
       "        text-align: right;\n",
       "    }\n",
       "</style>\n",
       "<table border=\"1\" class=\"dataframe\">\n",
       "  <thead>\n",
       "    <tr style=\"text-align: right;\">\n",
       "      <th></th>\n",
       "      <th>ename</th>\n",
       "      <th>job</th>\n",
       "      <th>mgr</th>\n",
       "    </tr>\n",
       "  </thead>\n",
       "  <tbody>\n",
       "    <tr>\n",
       "      <th>0</th>\n",
       "      <td>SMITH</td>\n",
       "      <td>CLERK</td>\n",
       "      <td>7902.0</td>\n",
       "    </tr>\n",
       "    <tr>\n",
       "      <th>1</th>\n",
       "      <td>ALLEN</td>\n",
       "      <td>SALESMAN</td>\n",
       "      <td>7698.0</td>\n",
       "    </tr>\n",
       "    <tr>\n",
       "      <th>2</th>\n",
       "      <td>WARD</td>\n",
       "      <td>SALESMAN</td>\n",
       "      <td>7698.0</td>\n",
       "    </tr>\n",
       "  </tbody>\n",
       "</table>\n",
       "</div>"
      ],
      "text/plain": [
       "   ename       job     mgr\n",
       "0  SMITH     CLERK  7902.0\n",
       "1  ALLEN  SALESMAN  7698.0\n",
       "2   WARD  SALESMAN  7698.0"
      ]
     },
     "execution_count": 15,
     "metadata": {},
     "output_type": "execute_result"
    }
   ],
   "source": [
    "emp.iloc[0:3,1:4] #줄 :슬라이싱, 칸 : 슬라이싱"
   ]
  },
  {
   "cell_type": "code",
   "execution_count": 16,
   "id": "3ea026df-40be-48a2-be9d-282a54a364a2",
   "metadata": {
    "tags": []
   },
   "outputs": [
    {
     "data": {
      "text/html": [
       "<div>\n",
       "<style scoped>\n",
       "    .dataframe tbody tr th:only-of-type {\n",
       "        vertical-align: middle;\n",
       "    }\n",
       "\n",
       "    .dataframe tbody tr th {\n",
       "        vertical-align: top;\n",
       "    }\n",
       "\n",
       "    .dataframe thead th {\n",
       "        text-align: right;\n",
       "    }\n",
       "</style>\n",
       "<table border=\"1\" class=\"dataframe\">\n",
       "  <thead>\n",
       "    <tr style=\"text-align: right;\">\n",
       "      <th></th>\n",
       "      <th>ename</th>\n",
       "      <th>job</th>\n",
       "      <th>mgr</th>\n",
       "    </tr>\n",
       "  </thead>\n",
       "  <tbody>\n",
       "    <tr>\n",
       "      <th>0</th>\n",
       "      <td>SMITH</td>\n",
       "      <td>CLERK</td>\n",
       "      <td>7902.0</td>\n",
       "    </tr>\n",
       "    <tr>\n",
       "      <th>2</th>\n",
       "      <td>WARD</td>\n",
       "      <td>SALESMAN</td>\n",
       "      <td>7698.0</td>\n",
       "    </tr>\n",
       "    <tr>\n",
       "      <th>5</th>\n",
       "      <td>BLAKE</td>\n",
       "      <td>MANAGER</td>\n",
       "      <td>7839.0</td>\n",
       "    </tr>\n",
       "  </tbody>\n",
       "</table>\n",
       "</div>"
      ],
      "text/plain": [
       "   ename       job     mgr\n",
       "0  SMITH     CLERK  7902.0\n",
       "2   WARD  SALESMAN  7698.0\n",
       "5  BLAKE   MANAGER  7839.0"
      ]
     },
     "execution_count": 16,
     "metadata": {},
     "output_type": "execute_result"
    }
   ],
   "source": [
    "emp.iloc[[0,2,5],1:4] # 줄 : [단일값, 단일값, 단일값], 칸 : 슬라이싱"
   ]
  },
  {
   "cell_type": "markdown",
   "id": "901d6a82-1184-4e46-86e6-ddb5bcf10518",
   "metadata": {},
   "source": [
    "### 2.2 loc [줄값, 칸값]\n",
    "- 줄값 : index 값"
   ]
  },
  {
   "cell_type": "markdown",
   "id": "b6e2077d-1379-49e7-b78f-5c55aad82f41",
   "metadata": {
    "tags": []
   },
   "source": [
    "#### 2.2.1 단일값 / [단일값, 단일값]"
   ]
  },
  {
   "cell_type": "code",
   "execution_count": 17,
   "id": "780fa13d-79e3-40c7-b571-f2291ef1c6ec",
   "metadata": {
    "tags": []
   },
   "outputs": [
    {
     "data": {
      "text/plain": [
       "1    7499\n",
       "2    7521\n",
       "3    7566\n",
       "Name: empno, dtype: int64"
      ]
     },
     "execution_count": 17,
     "metadata": {},
     "output_type": "execute_result"
    }
   ],
   "source": [
    "emp.loc[[1,2,3], 'empno']"
   ]
  },
  {
   "cell_type": "code",
   "execution_count": 18,
   "id": "c6aa8e6a-1832-4b6c-9412-1181add753b1",
   "metadata": {
    "tags": []
   },
   "outputs": [
    {
     "data": {
      "text/html": [
       "<div>\n",
       "<style scoped>\n",
       "    .dataframe tbody tr th:only-of-type {\n",
       "        vertical-align: middle;\n",
       "    }\n",
       "\n",
       "    .dataframe tbody tr th {\n",
       "        vertical-align: top;\n",
       "    }\n",
       "\n",
       "    .dataframe thead th {\n",
       "        text-align: right;\n",
       "    }\n",
       "</style>\n",
       "<table border=\"1\" class=\"dataframe\">\n",
       "  <thead>\n",
       "    <tr style=\"text-align: right;\">\n",
       "      <th></th>\n",
       "      <th>empno</th>\n",
       "      <th>ename</th>\n",
       "    </tr>\n",
       "  </thead>\n",
       "  <tbody>\n",
       "    <tr>\n",
       "      <th>1</th>\n",
       "      <td>7499</td>\n",
       "      <td>ALLEN</td>\n",
       "    </tr>\n",
       "    <tr>\n",
       "      <th>2</th>\n",
       "      <td>7521</td>\n",
       "      <td>WARD</td>\n",
       "    </tr>\n",
       "    <tr>\n",
       "      <th>3</th>\n",
       "      <td>7566</td>\n",
       "      <td>JONES</td>\n",
       "    </tr>\n",
       "  </tbody>\n",
       "</table>\n",
       "</div>"
      ],
      "text/plain": [
       "   empno  ename\n",
       "1   7499  ALLEN\n",
       "2   7521   WARD\n",
       "3   7566  JONES"
      ]
     },
     "execution_count": 18,
     "metadata": {},
     "output_type": "execute_result"
    }
   ],
   "source": [
    "emp.loc[[1,2,3], ['empno','ename']]"
   ]
  },
  {
   "cell_type": "markdown",
   "id": "7e16d1a5-7624-497d-b484-1d6d8f603243",
   "metadata": {
    "tags": []
   },
   "source": [
    "#### 2.2.2 슬라이싱"
   ]
  },
  {
   "cell_type": "markdown",
   "id": "ecb6bfca-d48c-465f-a087-fc8a88e793e7",
   "metadata": {},
   "source": [
    "<font color = \"red\"><b> loc으로 슬라이싱 시 미만이 아니다 ******* <br>\n",
    "    'empno' : 'mgr' 이라고 하면 mgr도 포함된다"
   ]
  },
  {
   "cell_type": "code",
   "execution_count": 19,
   "id": "7388c5a9-cf8c-467a-a009-56fce89de610",
   "metadata": {
    "tags": []
   },
   "outputs": [
    {
     "data": {
      "text/html": [
       "<div>\n",
       "<style scoped>\n",
       "    .dataframe tbody tr th:only-of-type {\n",
       "        vertical-align: middle;\n",
       "    }\n",
       "\n",
       "    .dataframe tbody tr th {\n",
       "        vertical-align: top;\n",
       "    }\n",
       "\n",
       "    .dataframe thead th {\n",
       "        text-align: right;\n",
       "    }\n",
       "</style>\n",
       "<table border=\"1\" class=\"dataframe\">\n",
       "  <thead>\n",
       "    <tr style=\"text-align: right;\">\n",
       "      <th></th>\n",
       "      <th>empno</th>\n",
       "      <th>ename</th>\n",
       "      <th>job</th>\n",
       "    </tr>\n",
       "  </thead>\n",
       "  <tbody>\n",
       "    <tr>\n",
       "      <th>0</th>\n",
       "      <td>7369</td>\n",
       "      <td>SMITH</td>\n",
       "      <td>CLERK</td>\n",
       "    </tr>\n",
       "    <tr>\n",
       "      <th>1</th>\n",
       "      <td>7499</td>\n",
       "      <td>ALLEN</td>\n",
       "      <td>SALESMAN</td>\n",
       "    </tr>\n",
       "    <tr>\n",
       "      <th>2</th>\n",
       "      <td>7521</td>\n",
       "      <td>WARD</td>\n",
       "      <td>SALESMAN</td>\n",
       "    </tr>\n",
       "    <tr>\n",
       "      <th>3</th>\n",
       "      <td>7566</td>\n",
       "      <td>JONES</td>\n",
       "      <td>MANAGER</td>\n",
       "    </tr>\n",
       "  </tbody>\n",
       "</table>\n",
       "</div>"
      ],
      "text/plain": [
       "   empno  ename       job\n",
       "0   7369  SMITH     CLERK\n",
       "1   7499  ALLEN  SALESMAN\n",
       "2   7521   WARD  SALESMAN\n",
       "3   7566  JONES   MANAGER"
      ]
     },
     "execution_count": 19,
     "metadata": {},
     "output_type": "execute_result"
    }
   ],
   "source": [
    "emp.loc[0:3, 'empno' : 'job']  #줄 값: 0,1,2,3(index 주소 아님) "
   ]
  },
  {
   "cell_type": "markdown",
   "id": "1283bcc8-1b7a-4b0c-8658-cf26159799bc",
   "metadata": {},
   "source": [
    "- 문제"
   ]
  },
  {
   "cell_type": "code",
   "execution_count": 20,
   "id": "2dae3f15-e75b-48c6-9d20-c97a86602df5",
   "metadata": {
    "tags": []
   },
   "outputs": [
    {
     "data": {
      "text/html": [
       "<div>\n",
       "<style scoped>\n",
       "    .dataframe tbody tr th:only-of-type {\n",
       "        vertical-align: middle;\n",
       "    }\n",
       "\n",
       "    .dataframe tbody tr th {\n",
       "        vertical-align: top;\n",
       "    }\n",
       "\n",
       "    .dataframe thead th {\n",
       "        text-align: right;\n",
       "    }\n",
       "</style>\n",
       "<table border=\"1\" class=\"dataframe\">\n",
       "  <thead>\n",
       "    <tr style=\"text-align: right;\">\n",
       "      <th></th>\n",
       "      <th>job</th>\n",
       "      <th>mgr</th>\n",
       "      <th>hiredate</th>\n",
       "    </tr>\n",
       "  </thead>\n",
       "  <tbody>\n",
       "    <tr>\n",
       "      <th>1</th>\n",
       "      <td>SALESMAN</td>\n",
       "      <td>7698.0</td>\n",
       "      <td>1981-02-20</td>\n",
       "    </tr>\n",
       "    <tr>\n",
       "      <th>2</th>\n",
       "      <td>SALESMAN</td>\n",
       "      <td>7698.0</td>\n",
       "      <td>1981-02-22</td>\n",
       "    </tr>\n",
       "    <tr>\n",
       "      <th>3</th>\n",
       "      <td>MANAGER</td>\n",
       "      <td>7839.0</td>\n",
       "      <td>1981-04-02</td>\n",
       "    </tr>\n",
       "    <tr>\n",
       "      <th>4</th>\n",
       "      <td>SALESMAN</td>\n",
       "      <td>7698.0</td>\n",
       "      <td>1981-09-28</td>\n",
       "    </tr>\n",
       "  </tbody>\n",
       "</table>\n",
       "</div>"
      ],
      "text/plain": [
       "        job     mgr   hiredate\n",
       "1  SALESMAN  7698.0 1981-02-20\n",
       "2  SALESMAN  7698.0 1981-02-22\n",
       "3   MANAGER  7839.0 1981-04-02\n",
       "4  SALESMAN  7698.0 1981-09-28"
      ]
     },
     "execution_count": 20,
     "metadata": {},
     "output_type": "execute_result"
    }
   ],
   "source": [
    "emp.iloc[1:5,2:5]"
   ]
  },
  {
   "cell_type": "markdown",
   "id": "d145bf84-4fa1-4a9f-b6f1-f53fb9c1d145",
   "metadata": {},
   "source": [
    "## 3.WHERE 조건\n",
    "- <font size = 4, color=\"red\"><b> df[ </font></b> 컬럼 <font size = 4, color=\"red\"><b> ]</font></b>\n",
    "- <font size = 4, color=\"red\"><b> df[ </font></b> 조건 <font size = 4, color=\"red\"><b> ]</font></b>\n",
    "- <font size = 4, color=\"red\"><b> df[ </font></b> 조건 <font size = 4, color=\"red\"><b>][ </font></b> 컬럼 <font size = 4, color=\"red\"><b>]</font></b>\n",
    "- <font size = 4, color=\"red\"><b> df[ </font></b> 컬럼 <font size = 4, color=\"red\"><b>][ </font></b> 조건 <font size = 4, color=\"red\"><b>]</font></b>"
   ]
  },
  {
   "cell_type": "markdown",
   "id": "fbf7908e-015b-41d5-9da8-ab88cad84b50",
   "metadata": {},
   "source": [
    "### 3.1 단일 조건"
   ]
  },
  {
   "cell_type": "markdown",
   "id": "c91c58f4-7a51-4930-9a03-5bf84142cde0",
   "metadata": {},
   "source": [
    "- select * from emp where deptno=10;"
   ]
  },
  {
   "cell_type": "code",
   "execution_count": 21,
   "id": "d7801051-e7d6-4410-bd16-6d6a1a0dca84",
   "metadata": {
    "tags": []
   },
   "outputs": [
    {
     "data": {
      "text/html": [
       "<div>\n",
       "<style scoped>\n",
       "    .dataframe tbody tr th:only-of-type {\n",
       "        vertical-align: middle;\n",
       "    }\n",
       "\n",
       "    .dataframe tbody tr th {\n",
       "        vertical-align: top;\n",
       "    }\n",
       "\n",
       "    .dataframe thead th {\n",
       "        text-align: right;\n",
       "    }\n",
       "</style>\n",
       "<table border=\"1\" class=\"dataframe\">\n",
       "  <thead>\n",
       "    <tr style=\"text-align: right;\">\n",
       "      <th></th>\n",
       "      <th>empno</th>\n",
       "      <th>ename</th>\n",
       "      <th>job</th>\n",
       "      <th>mgr</th>\n",
       "      <th>hiredate</th>\n",
       "      <th>sal</th>\n",
       "      <th>comm</th>\n",
       "      <th>deptno</th>\n",
       "    </tr>\n",
       "  </thead>\n",
       "  <tbody>\n",
       "    <tr>\n",
       "      <th>6</th>\n",
       "      <td>7782</td>\n",
       "      <td>CCC</td>\n",
       "      <td>MANAGER</td>\n",
       "      <td>7839.0</td>\n",
       "      <td>1981-06-09</td>\n",
       "      <td>2450</td>\n",
       "      <td>NaN</td>\n",
       "      <td>10</td>\n",
       "    </tr>\n",
       "    <tr>\n",
       "      <th>8</th>\n",
       "      <td>7839</td>\n",
       "      <td>KING</td>\n",
       "      <td>PRESIDENT</td>\n",
       "      <td>NaN</td>\n",
       "      <td>1981-11-17</td>\n",
       "      <td>5000</td>\n",
       "      <td>NaN</td>\n",
       "      <td>10</td>\n",
       "    </tr>\n",
       "    <tr>\n",
       "      <th>13</th>\n",
       "      <td>7934</td>\n",
       "      <td>MILLER</td>\n",
       "      <td>CLERK</td>\n",
       "      <td>7782.0</td>\n",
       "      <td>1982-01-23</td>\n",
       "      <td>1300</td>\n",
       "      <td>NaN</td>\n",
       "      <td>10</td>\n",
       "    </tr>\n",
       "  </tbody>\n",
       "</table>\n",
       "</div>"
      ],
      "text/plain": [
       "    empno   ename        job     mgr   hiredate   sal  comm  deptno\n",
       "6    7782     CCC    MANAGER  7839.0 1981-06-09  2450   NaN      10\n",
       "8    7839    KING  PRESIDENT     NaN 1981-11-17  5000   NaN      10\n",
       "13   7934  MILLER      CLERK  7782.0 1982-01-23  1300   NaN      10"
      ]
     },
     "execution_count": 21,
     "metadata": {},
     "output_type": "execute_result"
    }
   ],
   "source": [
    "emp[emp['deptno']==10]"
   ]
  },
  {
   "cell_type": "markdown",
   "id": "c56d9be3-348f-4b1d-a8c0-4760ee9d961b",
   "metadata": {},
   "source": [
    "- select empno, ename from emp where deptno=10;"
   ]
  },
  {
   "cell_type": "code",
   "execution_count": 22,
   "id": "7bb8ec19-6574-458b-a14f-4dc7312237d7",
   "metadata": {
    "tags": []
   },
   "outputs": [
    {
     "data": {
      "text/html": [
       "<div>\n",
       "<style scoped>\n",
       "    .dataframe tbody tr th:only-of-type {\n",
       "        vertical-align: middle;\n",
       "    }\n",
       "\n",
       "    .dataframe tbody tr th {\n",
       "        vertical-align: top;\n",
       "    }\n",
       "\n",
       "    .dataframe thead th {\n",
       "        text-align: right;\n",
       "    }\n",
       "</style>\n",
       "<table border=\"1\" class=\"dataframe\">\n",
       "  <thead>\n",
       "    <tr style=\"text-align: right;\">\n",
       "      <th></th>\n",
       "      <th>empno</th>\n",
       "      <th>ename</th>\n",
       "    </tr>\n",
       "  </thead>\n",
       "  <tbody>\n",
       "    <tr>\n",
       "      <th>6</th>\n",
       "      <td>7782</td>\n",
       "      <td>CCC</td>\n",
       "    </tr>\n",
       "    <tr>\n",
       "      <th>8</th>\n",
       "      <td>7839</td>\n",
       "      <td>KING</td>\n",
       "    </tr>\n",
       "    <tr>\n",
       "      <th>13</th>\n",
       "      <td>7934</td>\n",
       "      <td>MILLER</td>\n",
       "    </tr>\n",
       "  </tbody>\n",
       "</table>\n",
       "</div>"
      ],
      "text/plain": [
       "    empno   ename\n",
       "6    7782     CCC\n",
       "8    7839    KING\n",
       "13   7934  MILLER"
      ]
     },
     "execution_count": 22,
     "metadata": {},
     "output_type": "execute_result"
    }
   ],
   "source": [
    "emp[['empno','ename']][emp['deptno']==10] #조건과 컬럼 순서바뀌어도 무관"
   ]
  },
  {
   "cell_type": "markdown",
   "id": "20f487fc-0a5f-48b5-a5fb-2fce77a144da",
   "metadata": {},
   "source": [
    "### 3.2 멀티 조건\n",
    "- <font size = 4, color=\"red\"><b>df [ 컬럼 ][ (조건) & (조건) | (조건) ]\n",
    "- and : &\n",
    "- or  : |\n",
    "- 조건은 반드시 괄호로 묶어라"
   ]
  },
  {
   "cell_type": "markdown",
   "id": "b67ecd72-121c-40af-859e-991a799bbe48",
   "metadata": {},
   "source": [
    "- select empno, ename from emp where deptno=10 and sal>2000;"
   ]
  },
  {
   "cell_type": "code",
   "execution_count": 23,
   "id": "3f91b281-b9c6-4da8-8fb8-843ffca37a84",
   "metadata": {
    "tags": []
   },
   "outputs": [
    {
     "data": {
      "text/html": [
       "<div>\n",
       "<style scoped>\n",
       "    .dataframe tbody tr th:only-of-type {\n",
       "        vertical-align: middle;\n",
       "    }\n",
       "\n",
       "    .dataframe tbody tr th {\n",
       "        vertical-align: top;\n",
       "    }\n",
       "\n",
       "    .dataframe thead th {\n",
       "        text-align: right;\n",
       "    }\n",
       "</style>\n",
       "<table border=\"1\" class=\"dataframe\">\n",
       "  <thead>\n",
       "    <tr style=\"text-align: right;\">\n",
       "      <th></th>\n",
       "      <th>empno</th>\n",
       "      <th>ename</th>\n",
       "      <th>sal</th>\n",
       "    </tr>\n",
       "  </thead>\n",
       "  <tbody>\n",
       "    <tr>\n",
       "      <th>6</th>\n",
       "      <td>7782</td>\n",
       "      <td>CCC</td>\n",
       "      <td>2450</td>\n",
       "    </tr>\n",
       "    <tr>\n",
       "      <th>8</th>\n",
       "      <td>7839</td>\n",
       "      <td>KING</td>\n",
       "      <td>5000</td>\n",
       "    </tr>\n",
       "  </tbody>\n",
       "</table>\n",
       "</div>"
      ],
      "text/plain": [
       "   empno ename   sal\n",
       "6   7782   CCC  2450\n",
       "8   7839  KING  5000"
      ]
     },
     "execution_count": 23,
     "metadata": {},
     "output_type": "execute_result"
    }
   ],
   "source": [
    "emp[['empno','ename','sal']][(emp['deptno']==10)&(emp['sal']>2000)] "
   ]
  },
  {
   "cell_type": "markdown",
   "id": "fb0bcb0d-e736-4af9-a2fd-ca5fca06a562",
   "metadata": {},
   "source": [
    "### 3.3 서브쿼리 ----------> 비추"
   ]
  },
  {
   "cell_type": "markdown",
   "id": "129dac88-947d-4007-b966-5530b5b1d4ae",
   "metadata": {},
   "source": [
    "<pre>\n",
    "<문제1> 사번이 7369인 사원의 직업과 같은 사원들의 이름, 직업 출력\n",
    "select ename, job \n",
    "from emp \n",
    "where job=(select job from emp where empno=7369);"
   ]
  },
  {
   "cell_type": "code",
   "execution_count": 24,
   "id": "149ba95d-fe1a-4700-b766-fd4e3a33b16e",
   "metadata": {
    "tags": []
   },
   "outputs": [
    {
     "data": {
      "text/plain": [
       "'CLERK'"
      ]
     },
     "execution_count": 24,
     "metadata": {},
     "output_type": "execute_result"
    }
   ],
   "source": [
    "#select job from emp where empno=7369\n",
    "job7369= emp['job'] [emp['empno']==7369].values[0]\n",
    "job7369"
   ]
  },
  {
   "cell_type": "code",
   "execution_count": 25,
   "id": "e9af464d-2b80-4d03-9910-05a33ebe77bf",
   "metadata": {
    "tags": []
   },
   "outputs": [
    {
     "data": {
      "text/html": [
       "<div>\n",
       "<style scoped>\n",
       "    .dataframe tbody tr th:only-of-type {\n",
       "        vertical-align: middle;\n",
       "    }\n",
       "\n",
       "    .dataframe tbody tr th {\n",
       "        vertical-align: top;\n",
       "    }\n",
       "\n",
       "    .dataframe thead th {\n",
       "        text-align: right;\n",
       "    }\n",
       "</style>\n",
       "<table border=\"1\" class=\"dataframe\">\n",
       "  <thead>\n",
       "    <tr style=\"text-align: right;\">\n",
       "      <th></th>\n",
       "      <th>ename</th>\n",
       "      <th>job</th>\n",
       "    </tr>\n",
       "  </thead>\n",
       "  <tbody>\n",
       "    <tr>\n",
       "      <th>0</th>\n",
       "      <td>SMITH</td>\n",
       "      <td>CLERK</td>\n",
       "    </tr>\n",
       "    <tr>\n",
       "      <th>10</th>\n",
       "      <td>ADAMS</td>\n",
       "      <td>CLERK</td>\n",
       "    </tr>\n",
       "    <tr>\n",
       "      <th>11</th>\n",
       "      <td>JAMES</td>\n",
       "      <td>CLERK</td>\n",
       "    </tr>\n",
       "    <tr>\n",
       "      <th>13</th>\n",
       "      <td>MILLER</td>\n",
       "      <td>CLERK</td>\n",
       "    </tr>\n",
       "  </tbody>\n",
       "</table>\n",
       "</div>"
      ],
      "text/plain": [
       "     ename    job\n",
       "0    SMITH  CLERK\n",
       "10   ADAMS  CLERK\n",
       "11   JAMES  CLERK\n",
       "13  MILLER  CLERK"
      ]
     },
     "execution_count": 25,
     "metadata": {},
     "output_type": "execute_result"
    }
   ],
   "source": [
    "#select ename, job from emp where job='CLERK'\n",
    "emp[['ename','job']][emp['job']=='CLERK']"
   ]
  },
  {
   "cell_type": "code",
   "execution_count": 26,
   "id": "9663a627-b60e-410c-8ead-236568ffd3fb",
   "metadata": {
    "tags": []
   },
   "outputs": [
    {
     "data": {
      "text/html": [
       "<div>\n",
       "<style scoped>\n",
       "    .dataframe tbody tr th:only-of-type {\n",
       "        vertical-align: middle;\n",
       "    }\n",
       "\n",
       "    .dataframe tbody tr th {\n",
       "        vertical-align: top;\n",
       "    }\n",
       "\n",
       "    .dataframe thead th {\n",
       "        text-align: right;\n",
       "    }\n",
       "</style>\n",
       "<table border=\"1\" class=\"dataframe\">\n",
       "  <thead>\n",
       "    <tr style=\"text-align: right;\">\n",
       "      <th></th>\n",
       "      <th>ename</th>\n",
       "      <th>job</th>\n",
       "    </tr>\n",
       "  </thead>\n",
       "  <tbody>\n",
       "    <tr>\n",
       "      <th>0</th>\n",
       "      <td>SMITH</td>\n",
       "      <td>CLERK</td>\n",
       "    </tr>\n",
       "    <tr>\n",
       "      <th>10</th>\n",
       "      <td>ADAMS</td>\n",
       "      <td>CLERK</td>\n",
       "    </tr>\n",
       "    <tr>\n",
       "      <th>11</th>\n",
       "      <td>JAMES</td>\n",
       "      <td>CLERK</td>\n",
       "    </tr>\n",
       "    <tr>\n",
       "      <th>13</th>\n",
       "      <td>MILLER</td>\n",
       "      <td>CLERK</td>\n",
       "    </tr>\n",
       "  </tbody>\n",
       "</table>\n",
       "</div>"
      ],
      "text/plain": [
       "     ename    job\n",
       "0    SMITH  CLERK\n",
       "10   ADAMS  CLERK\n",
       "11   JAMES  CLERK\n",
       "13  MILLER  CLERK"
      ]
     },
     "execution_count": 26,
     "metadata": {},
     "output_type": "execute_result"
    }
   ],
   "source": [
    "emp[['ename','job']][emp['job']==job7369]"
   ]
  },
  {
   "cell_type": "markdown",
   "id": "c02fd9bf-ef96-46a2-aa32-50524feb204e",
   "metadata": {},
   "source": [
    "<pre>\n",
    "<문제2> 10번부서 사람들의 직업과 같은 사원의 사원들의 이름, 직업 출력\n",
    "select ename, job \n",
    "from emp \n",
    "where job in (select job from emp where deptno=10);"
   ]
  },
  {
   "cell_type": "code",
   "execution_count": 27,
   "id": "6766cb4e-cb00-46e3-a42e-348c0f144859",
   "metadata": {
    "tags": []
   },
   "outputs": [
    {
     "data": {
      "text/plain": [
       "array(['MANAGER', 'PRESIDENT', 'CLERK'], dtype=object)"
      ]
     },
     "execution_count": 27,
     "metadata": {},
     "output_type": "execute_result"
    }
   ],
   "source": [
    "#select job from emp where deptno=10\n",
    "job10_arr=emp['job'][emp['deptno']==10].values\n",
    "job10_arr"
   ]
  },
  {
   "cell_type": "code",
   "execution_count": 28,
   "id": "93ee0bce-3d34-48a2-988f-d541e15d0182",
   "metadata": {
    "tags": []
   },
   "outputs": [
    {
     "data": {
      "text/html": [
       "<div>\n",
       "<style scoped>\n",
       "    .dataframe tbody tr th:only-of-type {\n",
       "        vertical-align: middle;\n",
       "    }\n",
       "\n",
       "    .dataframe tbody tr th {\n",
       "        vertical-align: top;\n",
       "    }\n",
       "\n",
       "    .dataframe thead th {\n",
       "        text-align: right;\n",
       "    }\n",
       "</style>\n",
       "<table border=\"1\" class=\"dataframe\">\n",
       "  <thead>\n",
       "    <tr style=\"text-align: right;\">\n",
       "      <th></th>\n",
       "      <th>ename</th>\n",
       "      <th>job</th>\n",
       "    </tr>\n",
       "  </thead>\n",
       "  <tbody>\n",
       "    <tr>\n",
       "      <th>0</th>\n",
       "      <td>SMITH</td>\n",
       "      <td>CLERK</td>\n",
       "    </tr>\n",
       "    <tr>\n",
       "      <th>3</th>\n",
       "      <td>JONES</td>\n",
       "      <td>MANAGER</td>\n",
       "    </tr>\n",
       "    <tr>\n",
       "      <th>5</th>\n",
       "      <td>BLAKE</td>\n",
       "      <td>MANAGER</td>\n",
       "    </tr>\n",
       "    <tr>\n",
       "      <th>6</th>\n",
       "      <td>CCC</td>\n",
       "      <td>MANAGER</td>\n",
       "    </tr>\n",
       "    <tr>\n",
       "      <th>8</th>\n",
       "      <td>KING</td>\n",
       "      <td>PRESIDENT</td>\n",
       "    </tr>\n",
       "  </tbody>\n",
       "</table>\n",
       "</div>"
      ],
      "text/plain": [
       "   ename        job\n",
       "0  SMITH      CLERK\n",
       "3  JONES    MANAGER\n",
       "5  BLAKE    MANAGER\n",
       "6    CCC    MANAGER\n",
       "8   KING  PRESIDENT"
      ]
     },
     "execution_count": 28,
     "metadata": {},
     "output_type": "execute_result"
    }
   ],
   "source": [
    "#select ename, job from emp where job in ('MANAGER','PRESIDENT','CLERK')\n",
    "emp[['ename','job']][emp['job'].isin (['MANAGER','PRESIDENT','CLERK'])].head()"
   ]
  },
  {
   "cell_type": "code",
   "execution_count": 29,
   "id": "943912b6-71a7-48c4-af09-fe2f4cd38b12",
   "metadata": {
    "tags": []
   },
   "outputs": [
    {
     "data": {
      "text/html": [
       "<div>\n",
       "<style scoped>\n",
       "    .dataframe tbody tr th:only-of-type {\n",
       "        vertical-align: middle;\n",
       "    }\n",
       "\n",
       "    .dataframe tbody tr th {\n",
       "        vertical-align: top;\n",
       "    }\n",
       "\n",
       "    .dataframe thead th {\n",
       "        text-align: right;\n",
       "    }\n",
       "</style>\n",
       "<table border=\"1\" class=\"dataframe\">\n",
       "  <thead>\n",
       "    <tr style=\"text-align: right;\">\n",
       "      <th></th>\n",
       "      <th>ename</th>\n",
       "      <th>job</th>\n",
       "    </tr>\n",
       "  </thead>\n",
       "  <tbody>\n",
       "    <tr>\n",
       "      <th>0</th>\n",
       "      <td>SMITH</td>\n",
       "      <td>CLERK</td>\n",
       "    </tr>\n",
       "    <tr>\n",
       "      <th>3</th>\n",
       "      <td>JONES</td>\n",
       "      <td>MANAGER</td>\n",
       "    </tr>\n",
       "    <tr>\n",
       "      <th>5</th>\n",
       "      <td>BLAKE</td>\n",
       "      <td>MANAGER</td>\n",
       "    </tr>\n",
       "    <tr>\n",
       "      <th>6</th>\n",
       "      <td>CCC</td>\n",
       "      <td>MANAGER</td>\n",
       "    </tr>\n",
       "    <tr>\n",
       "      <th>8</th>\n",
       "      <td>KING</td>\n",
       "      <td>PRESIDENT</td>\n",
       "    </tr>\n",
       "  </tbody>\n",
       "</table>\n",
       "</div>"
      ],
      "text/plain": [
       "   ename        job\n",
       "0  SMITH      CLERK\n",
       "3  JONES    MANAGER\n",
       "5  BLAKE    MANAGER\n",
       "6    CCC    MANAGER\n",
       "8   KING  PRESIDENT"
      ]
     },
     "execution_count": 29,
     "metadata": {},
     "output_type": "execute_result"
    }
   ],
   "source": [
    "emp[['ename','job']][emp['job'].isin(job10_arr)].head()"
   ]
  },
  {
   "cell_type": "markdown",
   "id": "d30fb9be-7b84-49d1-b24d-b74f607de21c",
   "metadata": {},
   "source": [
    "## 4. 컬럼 연산\n",
    "- select job || ename from emp;\n",
    "- select concat(job ,ename) from emp;"
   ]
  },
  {
   "cell_type": "code",
   "execution_count": 30,
   "id": "327fab8d-296f-47d3-a7bb-4ea7fcbf70e9",
   "metadata": {
    "tags": []
   },
   "outputs": [
    {
     "data": {
      "text/plain": [
       "0         CLERKSMITH\n",
       "1      SALESMANALLEN\n",
       "2       SALESMANWARD\n",
       "3       MANAGERJONES\n",
       "4     SALESMANMARTIN\n",
       "5       MANAGERBLAKE\n",
       "6         MANAGERCCC\n",
       "7       ANALYSTSCOTT\n",
       "8      PRESIDENTKING\n",
       "9     SALESMANTURNER\n",
       "10        CLERKADAMS\n",
       "11        CLERKJAMES\n",
       "12       ANALYSTFORD\n",
       "13       CLERKMILLER\n",
       "dtype: object"
      ]
     },
     "execution_count": 30,
     "metadata": {},
     "output_type": "execute_result"
    }
   ],
   "source": [
    "emp['job']+emp['ename']\n",
    "#타입이 다르면 안된다."
   ]
  },
  {
   "cell_type": "markdown",
   "id": "4a181817-ebad-4ad5-ae34-4ffb2d389a81",
   "metadata": {},
   "source": [
    "- select sal,sal*12 as asal from emp;"
   ]
  },
  {
   "cell_type": "code",
   "execution_count": 31,
   "id": "df87aec8-756a-4617-a683-d4d1eb076b6c",
   "metadata": {
    "tags": []
   },
   "outputs": [],
   "source": [
    "emp['asal']=emp['sal']*12\n",
    "#컬럼 추가하며 해당 값을 넣음\n",
    "#기존 컬럼에 해당 값을 넣으면 원본 값을 덮음"
   ]
  },
  {
   "cell_type": "code",
   "execution_count": 32,
   "id": "78a82f2f-baee-420f-bf8a-20094cf8a460",
   "metadata": {
    "tags": []
   },
   "outputs": [
    {
     "data": {
      "text/html": [
       "<div>\n",
       "<style scoped>\n",
       "    .dataframe tbody tr th:only-of-type {\n",
       "        vertical-align: middle;\n",
       "    }\n",
       "\n",
       "    .dataframe tbody tr th {\n",
       "        vertical-align: top;\n",
       "    }\n",
       "\n",
       "    .dataframe thead th {\n",
       "        text-align: right;\n",
       "    }\n",
       "</style>\n",
       "<table border=\"1\" class=\"dataframe\">\n",
       "  <thead>\n",
       "    <tr style=\"text-align: right;\">\n",
       "      <th></th>\n",
       "      <th>empno</th>\n",
       "      <th>ename</th>\n",
       "      <th>job</th>\n",
       "      <th>mgr</th>\n",
       "      <th>hiredate</th>\n",
       "      <th>sal</th>\n",
       "      <th>comm</th>\n",
       "      <th>deptno</th>\n",
       "      <th>asal</th>\n",
       "    </tr>\n",
       "  </thead>\n",
       "  <tbody>\n",
       "    <tr>\n",
       "      <th>0</th>\n",
       "      <td>7369</td>\n",
       "      <td>SMITH</td>\n",
       "      <td>CLERK</td>\n",
       "      <td>7902.0</td>\n",
       "      <td>1980-12-17</td>\n",
       "      <td>800</td>\n",
       "      <td>NaN</td>\n",
       "      <td>20</td>\n",
       "      <td>9600</td>\n",
       "    </tr>\n",
       "    <tr>\n",
       "      <th>1</th>\n",
       "      <td>7499</td>\n",
       "      <td>ALLEN</td>\n",
       "      <td>SALESMAN</td>\n",
       "      <td>7698.0</td>\n",
       "      <td>1981-02-20</td>\n",
       "      <td>1600</td>\n",
       "      <td>300.0</td>\n",
       "      <td>30</td>\n",
       "      <td>19200</td>\n",
       "    </tr>\n",
       "    <tr>\n",
       "      <th>2</th>\n",
       "      <td>7521</td>\n",
       "      <td>WARD</td>\n",
       "      <td>SALESMAN</td>\n",
       "      <td>7698.0</td>\n",
       "      <td>1981-02-22</td>\n",
       "      <td>1250</td>\n",
       "      <td>500.0</td>\n",
       "      <td>30</td>\n",
       "      <td>15000</td>\n",
       "    </tr>\n",
       "    <tr>\n",
       "      <th>3</th>\n",
       "      <td>7566</td>\n",
       "      <td>JONES</td>\n",
       "      <td>MANAGER</td>\n",
       "      <td>7839.0</td>\n",
       "      <td>1981-04-02</td>\n",
       "      <td>2975</td>\n",
       "      <td>NaN</td>\n",
       "      <td>20</td>\n",
       "      <td>35700</td>\n",
       "    </tr>\n",
       "    <tr>\n",
       "      <th>4</th>\n",
       "      <td>7654</td>\n",
       "      <td>MARTIN</td>\n",
       "      <td>SALESMAN</td>\n",
       "      <td>7698.0</td>\n",
       "      <td>1981-09-28</td>\n",
       "      <td>1250</td>\n",
       "      <td>1400.0</td>\n",
       "      <td>30</td>\n",
       "      <td>15000</td>\n",
       "    </tr>\n",
       "  </tbody>\n",
       "</table>\n",
       "</div>"
      ],
      "text/plain": [
       "   empno   ename       job     mgr   hiredate   sal    comm  deptno   asal\n",
       "0   7369   SMITH     CLERK  7902.0 1980-12-17   800     NaN      20   9600\n",
       "1   7499   ALLEN  SALESMAN  7698.0 1981-02-20  1600   300.0      30  19200\n",
       "2   7521    WARD  SALESMAN  7698.0 1981-02-22  1250   500.0      30  15000\n",
       "3   7566   JONES   MANAGER  7839.0 1981-04-02  2975     NaN      20  35700\n",
       "4   7654  MARTIN  SALESMAN  7698.0 1981-09-28  1250  1400.0      30  15000"
      ]
     },
     "execution_count": 32,
     "metadata": {},
     "output_type": "execute_result"
    }
   ],
   "source": [
    "emp.head()"
   ]
  },
  {
   "cell_type": "markdown",
   "id": "30f3139f-4e6e-48df-9c61-84c0e88b4cf8",
   "metadata": {},
   "source": [
    "## 5. 결측 처리\n",
    "- df.dropna()\n",
    "- df.fillna() ---------- nvl(comm,0)\n",
    "- df.isna()   ---------- where comm is null"
   ]
  },
  {
   "cell_type": "markdown",
   "id": "b35c6edd-0808-4096-a262-31e100f3ac07",
   "metadata": {},
   "source": [
    "- select comm, nvl(comm,0) as comm2 from emp;"
   ]
  },
  {
   "cell_type": "code",
   "execution_count": 33,
   "id": "fab66071-d938-4f89-bd07-2988e8596227",
   "metadata": {
    "tags": []
   },
   "outputs": [
    {
     "data": {
      "text/html": [
       "<div>\n",
       "<style scoped>\n",
       "    .dataframe tbody tr th:only-of-type {\n",
       "        vertical-align: middle;\n",
       "    }\n",
       "\n",
       "    .dataframe tbody tr th {\n",
       "        vertical-align: top;\n",
       "    }\n",
       "\n",
       "    .dataframe thead th {\n",
       "        text-align: right;\n",
       "    }\n",
       "</style>\n",
       "<table border=\"1\" class=\"dataframe\">\n",
       "  <thead>\n",
       "    <tr style=\"text-align: right;\">\n",
       "      <th></th>\n",
       "      <th>empno</th>\n",
       "      <th>ename</th>\n",
       "      <th>job</th>\n",
       "      <th>mgr</th>\n",
       "      <th>hiredate</th>\n",
       "      <th>sal</th>\n",
       "      <th>comm</th>\n",
       "      <th>deptno</th>\n",
       "      <th>asal</th>\n",
       "      <th>comm2</th>\n",
       "    </tr>\n",
       "  </thead>\n",
       "  <tbody>\n",
       "    <tr>\n",
       "      <th>0</th>\n",
       "      <td>7369</td>\n",
       "      <td>SMITH</td>\n",
       "      <td>CLERK</td>\n",
       "      <td>7902.0</td>\n",
       "      <td>1980-12-17</td>\n",
       "      <td>800</td>\n",
       "      <td>NaN</td>\n",
       "      <td>20</td>\n",
       "      <td>9600</td>\n",
       "      <td>0.0</td>\n",
       "    </tr>\n",
       "    <tr>\n",
       "      <th>1</th>\n",
       "      <td>7499</td>\n",
       "      <td>ALLEN</td>\n",
       "      <td>SALESMAN</td>\n",
       "      <td>7698.0</td>\n",
       "      <td>1981-02-20</td>\n",
       "      <td>1600</td>\n",
       "      <td>300.0</td>\n",
       "      <td>30</td>\n",
       "      <td>19200</td>\n",
       "      <td>300.0</td>\n",
       "    </tr>\n",
       "    <tr>\n",
       "      <th>2</th>\n",
       "      <td>7521</td>\n",
       "      <td>WARD</td>\n",
       "      <td>SALESMAN</td>\n",
       "      <td>7698.0</td>\n",
       "      <td>1981-02-22</td>\n",
       "      <td>1250</td>\n",
       "      <td>500.0</td>\n",
       "      <td>30</td>\n",
       "      <td>15000</td>\n",
       "      <td>500.0</td>\n",
       "    </tr>\n",
       "    <tr>\n",
       "      <th>3</th>\n",
       "      <td>7566</td>\n",
       "      <td>JONES</td>\n",
       "      <td>MANAGER</td>\n",
       "      <td>7839.0</td>\n",
       "      <td>1981-04-02</td>\n",
       "      <td>2975</td>\n",
       "      <td>NaN</td>\n",
       "      <td>20</td>\n",
       "      <td>35700</td>\n",
       "      <td>0.0</td>\n",
       "    </tr>\n",
       "    <tr>\n",
       "      <th>4</th>\n",
       "      <td>7654</td>\n",
       "      <td>MARTIN</td>\n",
       "      <td>SALESMAN</td>\n",
       "      <td>7698.0</td>\n",
       "      <td>1981-09-28</td>\n",
       "      <td>1250</td>\n",
       "      <td>1400.0</td>\n",
       "      <td>30</td>\n",
       "      <td>15000</td>\n",
       "      <td>1400.0</td>\n",
       "    </tr>\n",
       "  </tbody>\n",
       "</table>\n",
       "</div>"
      ],
      "text/plain": [
       "   empno   ename       job     mgr   hiredate   sal    comm  deptno   asal  \\\n",
       "0   7369   SMITH     CLERK  7902.0 1980-12-17   800     NaN      20   9600   \n",
       "1   7499   ALLEN  SALESMAN  7698.0 1981-02-20  1600   300.0      30  19200   \n",
       "2   7521    WARD  SALESMAN  7698.0 1981-02-22  1250   500.0      30  15000   \n",
       "3   7566   JONES   MANAGER  7839.0 1981-04-02  2975     NaN      20  35700   \n",
       "4   7654  MARTIN  SALESMAN  7698.0 1981-09-28  1250  1400.0      30  15000   \n",
       "\n",
       "    comm2  \n",
       "0     0.0  \n",
       "1   300.0  \n",
       "2   500.0  \n",
       "3     0.0  \n",
       "4  1400.0  "
      ]
     },
     "execution_count": 33,
     "metadata": {},
     "output_type": "execute_result"
    }
   ],
   "source": [
    "emp['comm2']=emp['comm'].fillna(0)\n",
    "emp.head()"
   ]
  },
  {
   "cell_type": "markdown",
   "id": "29db07b6-aea6-4622-bcc7-0e095d3a432b",
   "metadata": {},
   "source": [
    "## 6. 그룹(GROUP BY)\n",
    "- 그룹 함수 : mean(), max(), min(), count(), sum(), std(), var()...."
   ]
  },
  {
   "cell_type": "markdown",
   "id": "9a9d4ffc-f226-48a0-9bda-79beab499947",
   "metadata": {},
   "source": [
    "### 6.1 1개의 컬럼에 1개의 그룹 함수 사용\n",
    "- <font size = 4, color=\"red\"><b>df . groupby (</font></b>\"그룹할 컬럼명\"<font size = 4, color=\"red\"><b>)</font></b> [결과 보고싶은 컬럼명]<font size = 4, color=\"red\"><b> . 그룹함수()</font></b>\n",
    "- <font size = 4, color=\"red\"><b>df . groupby (</font></b>\"그룹할 컬럼명\"<font size = 4, color=\"red\"><b>) . agg({\"컬럼명\":\"그룹함수\",\"key\":\"컬럼명\"})</font></b>"
   ]
  },
  {
   "cell_type": "markdown",
   "id": "e9f171db-ce81-4bff-a686-c776956ef662",
   "metadata": {},
   "source": [
    "<pre>\n",
    "<문제1> 각 부서별 사원 수 출력\n",
    "select deptno,count(empno) from emp group by deptno;"
   ]
  },
  {
   "cell_type": "code",
   "execution_count": 34,
   "id": "5b2e0569-5212-4171-adb5-a25bf5c74ee5",
   "metadata": {
    "tags": []
   },
   "outputs": [
    {
     "data": {
      "text/html": [
       "<div>\n",
       "<style scoped>\n",
       "    .dataframe tbody tr th:only-of-type {\n",
       "        vertical-align: middle;\n",
       "    }\n",
       "\n",
       "    .dataframe tbody tr th {\n",
       "        vertical-align: top;\n",
       "    }\n",
       "\n",
       "    .dataframe thead th {\n",
       "        text-align: right;\n",
       "    }\n",
       "</style>\n",
       "<table border=\"1\" class=\"dataframe\">\n",
       "  <thead>\n",
       "    <tr style=\"text-align: right;\">\n",
       "      <th></th>\n",
       "      <th>empno</th>\n",
       "      <th>ename</th>\n",
       "      <th>job</th>\n",
       "      <th>mgr</th>\n",
       "      <th>hiredate</th>\n",
       "      <th>sal</th>\n",
       "      <th>comm</th>\n",
       "      <th>asal</th>\n",
       "      <th>comm2</th>\n",
       "    </tr>\n",
       "    <tr>\n",
       "      <th>deptno</th>\n",
       "      <th></th>\n",
       "      <th></th>\n",
       "      <th></th>\n",
       "      <th></th>\n",
       "      <th></th>\n",
       "      <th></th>\n",
       "      <th></th>\n",
       "      <th></th>\n",
       "      <th></th>\n",
       "    </tr>\n",
       "  </thead>\n",
       "  <tbody>\n",
       "    <tr>\n",
       "      <th>10</th>\n",
       "      <td>7782</td>\n",
       "      <td>CCC</td>\n",
       "      <td>MANAGER</td>\n",
       "      <td>7839.0</td>\n",
       "      <td>1981-06-09</td>\n",
       "      <td>2450</td>\n",
       "      <td>NaN</td>\n",
       "      <td>29400</td>\n",
       "      <td>0.0</td>\n",
       "    </tr>\n",
       "    <tr>\n",
       "      <th>20</th>\n",
       "      <td>7369</td>\n",
       "      <td>SMITH</td>\n",
       "      <td>CLERK</td>\n",
       "      <td>7902.0</td>\n",
       "      <td>1980-12-17</td>\n",
       "      <td>800</td>\n",
       "      <td>NaN</td>\n",
       "      <td>9600</td>\n",
       "      <td>0.0</td>\n",
       "    </tr>\n",
       "    <tr>\n",
       "      <th>30</th>\n",
       "      <td>7499</td>\n",
       "      <td>ALLEN</td>\n",
       "      <td>SALESMAN</td>\n",
       "      <td>7698.0</td>\n",
       "      <td>1981-02-20</td>\n",
       "      <td>1600</td>\n",
       "      <td>300.0</td>\n",
       "      <td>19200</td>\n",
       "      <td>300.0</td>\n",
       "    </tr>\n",
       "  </tbody>\n",
       "</table>\n",
       "</div>"
      ],
      "text/plain": [
       "        empno  ename       job     mgr   hiredate   sal   comm   asal  comm2\n",
       "deptno                                                                      \n",
       "10       7782    CCC   MANAGER  7839.0 1981-06-09  2450    NaN  29400    0.0\n",
       "20       7369  SMITH     CLERK  7902.0 1980-12-17   800    NaN   9600    0.0\n",
       "30       7499  ALLEN  SALESMAN  7698.0 1981-02-20  1600  300.0  19200  300.0"
      ]
     },
     "execution_count": 34,
     "metadata": {},
     "output_type": "execute_result"
    }
   ],
   "source": [
    "emp.groupby(\"deptno\").first() #첫번째 그룹 확인"
   ]
  },
  {
   "cell_type": "code",
   "execution_count": 35,
   "id": "b6ba30e2-0bfd-442e-878a-0711bcd68567",
   "metadata": {
    "tags": []
   },
   "outputs": [
    {
     "data": {
      "text/plain": [
       "deptno\n",
       "10    3\n",
       "20    5\n",
       "30    6\n",
       "Name: deptno, dtype: int64"
      ]
     },
     "execution_count": 35,
     "metadata": {},
     "output_type": "execute_result"
    }
   ],
   "source": [
    "emp.groupby(\"deptno\")['deptno'].count()"
   ]
  },
  {
   "cell_type": "markdown",
   "id": "2d226b18-d9fc-4914-8521-2eee56687a01",
   "metadata": {},
   "source": [
    "<pre>\n",
    "<문제2> 각 부서별 급여 합\n",
    "select deptno,sum(sal) from emp group by deptno;"
   ]
  },
  {
   "cell_type": "code",
   "execution_count": 36,
   "id": "53cae625-7ae4-4dbe-ae77-6e312aceac8d",
   "metadata": {
    "tags": []
   },
   "outputs": [
    {
     "data": {
      "text/plain": [
       "deptno\n",
       "10     8750\n",
       "20    10875\n",
       "30     9400\n",
       "Name: sal, dtype: int64"
      ]
     },
     "execution_count": 36,
     "metadata": {},
     "output_type": "execute_result"
    }
   ],
   "source": [
    "emp.groupby(\"deptno\")['sal'].sum()"
   ]
  },
  {
   "cell_type": "code",
   "execution_count": 38,
   "id": "d23564ef-9351-4436-98db-96d566f480da",
   "metadata": {
    "tags": []
   },
   "outputs": [
    {
     "data": {
      "text/html": [
       "<div>\n",
       "<style scoped>\n",
       "    .dataframe tbody tr th:only-of-type {\n",
       "        vertical-align: middle;\n",
       "    }\n",
       "\n",
       "    .dataframe tbody tr th {\n",
       "        vertical-align: top;\n",
       "    }\n",
       "\n",
       "    .dataframe thead th {\n",
       "        text-align: right;\n",
       "    }\n",
       "</style>\n",
       "<table border=\"1\" class=\"dataframe\">\n",
       "  <thead>\n",
       "    <tr style=\"text-align: right;\">\n",
       "      <th></th>\n",
       "      <th>sal</th>\n",
       "      <th>comm</th>\n",
       "    </tr>\n",
       "    <tr>\n",
       "      <th>deptno</th>\n",
       "      <th></th>\n",
       "      <th></th>\n",
       "    </tr>\n",
       "  </thead>\n",
       "  <tbody>\n",
       "    <tr>\n",
       "      <th>10</th>\n",
       "      <td>5000</td>\n",
       "      <td>NaN</td>\n",
       "    </tr>\n",
       "    <tr>\n",
       "      <th>20</th>\n",
       "      <td>3000</td>\n",
       "      <td>NaN</td>\n",
       "    </tr>\n",
       "    <tr>\n",
       "      <th>30</th>\n",
       "      <td>2850</td>\n",
       "      <td>0.0</td>\n",
       "    </tr>\n",
       "  </tbody>\n",
       "</table>\n",
       "</div>"
      ],
      "text/plain": [
       "         sal  comm\n",
       "deptno            \n",
       "10      5000   NaN\n",
       "20      3000   NaN\n",
       "30      2850   0.0"
      ]
     },
     "execution_count": 38,
     "metadata": {},
     "output_type": "execute_result"
    }
   ],
   "source": [
    "emp.groupby(\"deptno\").agg( {\"sal\":\"max\",\"comm\":\"min\"}) #agg({}):합쳐라"
   ]
  },
  {
   "cell_type": "markdown",
   "id": "7b7d8dc3-e989-42dd-9488-95281f6d4759",
   "metadata": {},
   "source": [
    "### 6.2 동일 컬럼에 두개 이상의 그룹함수 사용\n",
    "- <font size = 4, color=\"red\"><b>df . groupby (</font></b>\"그룹할 컬럼명\"<font size = 4, color=\"red\"><b>) [</font></b>결과 보고싶은 컬럼명<font size = 4, color=\"red\"><b>] . agg([그룹함수1, 그룹함수2])</font></b>"
   ]
  },
  {
   "cell_type": "markdown",
   "id": "637fa2be-819e-4300-b24d-39e5b5bcf76b",
   "metadata": {},
   "source": [
    "<pre>\n",
    "<문제1> 부서별 최대 최소 급여\n",
    "select deptno,max(sal),min(sal) from emp group by deptno;"
   ]
  },
  {
   "cell_type": "code",
   "execution_count": 37,
   "id": "196f576e-2432-48e2-a6b3-293b23b5c6ad",
   "metadata": {
    "tags": []
   },
   "outputs": [
    {
     "data": {
      "text/plain": [
       "deptno\n",
       "10    1300\n",
       "20     800\n",
       "30     950\n",
       "Name: sal, dtype: int64"
      ]
     },
     "execution_count": 37,
     "metadata": {},
     "output_type": "execute_result"
    }
   ],
   "source": [
    "emp.groupby(\"deptno\")['sal'].max()\n",
    "emp.groupby(\"deptno\")['sal'].min()"
   ]
  },
  {
   "cell_type": "code",
   "execution_count": 39,
   "id": "88928a6b-3894-4c17-bafb-13194b23c503",
   "metadata": {
    "tags": []
   },
   "outputs": [
    {
     "data": {
      "text/html": [
       "<div>\n",
       "<style scoped>\n",
       "    .dataframe tbody tr th:only-of-type {\n",
       "        vertical-align: middle;\n",
       "    }\n",
       "\n",
       "    .dataframe tbody tr th {\n",
       "        vertical-align: top;\n",
       "    }\n",
       "\n",
       "    .dataframe thead th {\n",
       "        text-align: right;\n",
       "    }\n",
       "</style>\n",
       "<table border=\"1\" class=\"dataframe\">\n",
       "  <thead>\n",
       "    <tr style=\"text-align: right;\">\n",
       "      <th></th>\n",
       "      <th>max</th>\n",
       "      <th>min</th>\n",
       "    </tr>\n",
       "    <tr>\n",
       "      <th>deptno</th>\n",
       "      <th></th>\n",
       "      <th></th>\n",
       "    </tr>\n",
       "  </thead>\n",
       "  <tbody>\n",
       "    <tr>\n",
       "      <th>10</th>\n",
       "      <td>5000</td>\n",
       "      <td>1300</td>\n",
       "    </tr>\n",
       "    <tr>\n",
       "      <th>20</th>\n",
       "      <td>3000</td>\n",
       "      <td>800</td>\n",
       "    </tr>\n",
       "    <tr>\n",
       "      <th>30</th>\n",
       "      <td>2850</td>\n",
       "      <td>950</td>\n",
       "    </tr>\n",
       "  </tbody>\n",
       "</table>\n",
       "</div>"
      ],
      "text/plain": [
       "         max   min\n",
       "deptno            \n",
       "10      5000  1300\n",
       "20      3000   800\n",
       "30      2850   950"
      ]
     },
     "execution_count": 39,
     "metadata": {},
     "output_type": "execute_result"
    }
   ],
   "source": [
    "#emp.groupby(\"deptno\").agg( {\"sal\":\"max\",\"sal\":\"min\"}) --> dict 안의 sal 키가 중복되어 error\n",
    "\n",
    "# 컬럼을 밖으로 빼고 .agg( [ 그룹함수, 그룹함수] )\n",
    "emp.groupby(\"deptno\")['sal'].agg( ['max','min'])"
   ]
  },
  {
   "cell_type": "markdown",
   "id": "036b2ea3-4843-4a8b-b69d-d05f05e8e518",
   "metadata": {},
   "source": [
    "<pre>\n",
    "<문제2> 각 부서별 급여의 합, 최대 , 최소, 평균\n",
    "select deptno,max(sal),min(sal),avg(sal) from emp group by deptno;"
   ]
  },
  {
   "cell_type": "code",
   "execution_count": 40,
   "id": "d9e46d63-200e-4c1b-bdda-81c9329cc9a1",
   "metadata": {
    "tags": []
   },
   "outputs": [
    {
     "data": {
      "text/html": [
       "<div>\n",
       "<style scoped>\n",
       "    .dataframe tbody tr th:only-of-type {\n",
       "        vertical-align: middle;\n",
       "    }\n",
       "\n",
       "    .dataframe tbody tr th {\n",
       "        vertical-align: top;\n",
       "    }\n",
       "\n",
       "    .dataframe thead th {\n",
       "        text-align: right;\n",
       "    }\n",
       "</style>\n",
       "<table border=\"1\" class=\"dataframe\">\n",
       "  <thead>\n",
       "    <tr style=\"text-align: right;\">\n",
       "      <th></th>\n",
       "      <th>sum</th>\n",
       "      <th>max</th>\n",
       "      <th>min</th>\n",
       "      <th>mean</th>\n",
       "      <th>count</th>\n",
       "      <th>std</th>\n",
       "      <th>var</th>\n",
       "    </tr>\n",
       "    <tr>\n",
       "      <th>deptno</th>\n",
       "      <th></th>\n",
       "      <th></th>\n",
       "      <th></th>\n",
       "      <th></th>\n",
       "      <th></th>\n",
       "      <th></th>\n",
       "      <th></th>\n",
       "    </tr>\n",
       "  </thead>\n",
       "  <tbody>\n",
       "    <tr>\n",
       "      <th>10</th>\n",
       "      <td>8750</td>\n",
       "      <td>5000</td>\n",
       "      <td>1300</td>\n",
       "      <td>2916.666667</td>\n",
       "      <td>3</td>\n",
       "      <td>1893.629672</td>\n",
       "      <td>3.585833e+06</td>\n",
       "    </tr>\n",
       "    <tr>\n",
       "      <th>20</th>\n",
       "      <td>10875</td>\n",
       "      <td>3000</td>\n",
       "      <td>800</td>\n",
       "      <td>2175.000000</td>\n",
       "      <td>5</td>\n",
       "      <td>1123.332097</td>\n",
       "      <td>1.261875e+06</td>\n",
       "    </tr>\n",
       "    <tr>\n",
       "      <th>30</th>\n",
       "      <td>9400</td>\n",
       "      <td>2850</td>\n",
       "      <td>950</td>\n",
       "      <td>1566.666667</td>\n",
       "      <td>6</td>\n",
       "      <td>668.331255</td>\n",
       "      <td>4.466667e+05</td>\n",
       "    </tr>\n",
       "  </tbody>\n",
       "</table>\n",
       "</div>"
      ],
      "text/plain": [
       "          sum   max   min         mean  count          std           var\n",
       "deptno                                                                  \n",
       "10       8750  5000  1300  2916.666667      3  1893.629672  3.585833e+06\n",
       "20      10875  3000   800  2175.000000      5  1123.332097  1.261875e+06\n",
       "30       9400  2850   950  1566.666667      6   668.331255  4.466667e+05"
      ]
     },
     "execution_count": 40,
     "metadata": {},
     "output_type": "execute_result"
    }
   ],
   "source": [
    "emp.groupby(\"deptno\")[\"sal\"].agg([\"sum\",\"max\",\"min\",\"mean\",\"count\",\"std\",\"var\"])\n",
    "#python 버전에 따라 agg() 함수에 count 사용 가능 여부 다름"
   ]
  },
  {
   "cell_type": "markdown",
   "id": "75f3d6b3-ecd1-4223-98b4-893491dfc968",
   "metadata": {},
   "source": [
    "## 7. 정렬(sort)\n",
    "1. sort_index()\n",
    "2. sort_values()\n",
    "- <font color='red'><b>df에서 꺼내진 컬럼에 대해서만 정렬이 가능</font></b>\n",
    "    - emp[['empno', 'ename', 'sal']].sort_values(by=\"ename\",ascending=True)  -->가능\n",
    "    - emp[['empno', 'ename', 'sal']].sort_values(by=\"job\",ascending=True)    -->불가능"
   ]
  },
  {
   "cell_type": "markdown",
   "id": "f65e218b-019c-4d78-a535-698037956c44",
   "metadata": {},
   "source": [
    "### 7.1 sort_values()"
   ]
  },
  {
   "cell_type": "markdown",
   "id": "a38f3a00-d741-4874-922a-3c662e5e8447",
   "metadata": {},
   "source": [
    "- select sal from emp order by sal asc;"
   ]
  },
  {
   "cell_type": "code",
   "execution_count": 41,
   "id": "09586010-e2f0-4aab-9c08-b2f0faed5ffc",
   "metadata": {
    "tags": []
   },
   "outputs": [
    {
     "data": {
      "text/plain": [
       "0      800\n",
       "11     950\n",
       "10    1100\n",
       "2     1250\n",
       "4     1250\n",
       "Name: sal, dtype: int64"
      ]
     },
     "execution_count": 41,
     "metadata": {},
     "output_type": "execute_result"
    }
   ],
   "source": [
    "emp['sal'].sort_values(ascending=True).head()"
   ]
  },
  {
   "cell_type": "markdown",
   "id": "9e438f79-7800-4e61-b5c4-f966606cbc9a",
   "metadata": {},
   "source": [
    "- select sal from emp order by sal desc;"
   ]
  },
  {
   "cell_type": "code",
   "execution_count": 42,
   "id": "f93cd7f8-2f33-467d-adc7-0b52cacb0613",
   "metadata": {
    "tags": []
   },
   "outputs": [
    {
     "data": {
      "text/plain": [
       "8     5000\n",
       "7     3000\n",
       "12    3000\n",
       "3     2975\n",
       "5     2850\n",
       "Name: sal, dtype: int64"
      ]
     },
     "execution_count": 42,
     "metadata": {},
     "output_type": "execute_result"
    }
   ],
   "source": [
    "emp['sal'].sort_values(ascending=False).head()"
   ]
  },
  {
   "cell_type": "markdown",
   "id": "9999b6bb-ada7-41e3-b5f1-b38635d26790",
   "metadata": {},
   "source": [
    "- select empno, ename, sal from emp where deptno=20 order by ename asc;"
   ]
  },
  {
   "cell_type": "code",
   "execution_count": 43,
   "id": "cf0e3124-41e7-4a6b-9c22-466cb214a93d",
   "metadata": {
    "tags": []
   },
   "outputs": [
    {
     "data": {
      "text/html": [
       "<div>\n",
       "<style scoped>\n",
       "    .dataframe tbody tr th:only-of-type {\n",
       "        vertical-align: middle;\n",
       "    }\n",
       "\n",
       "    .dataframe tbody tr th {\n",
       "        vertical-align: top;\n",
       "    }\n",
       "\n",
       "    .dataframe thead th {\n",
       "        text-align: right;\n",
       "    }\n",
       "</style>\n",
       "<table border=\"1\" class=\"dataframe\">\n",
       "  <thead>\n",
       "    <tr style=\"text-align: right;\">\n",
       "      <th></th>\n",
       "      <th>empno</th>\n",
       "      <th>ename</th>\n",
       "      <th>sal</th>\n",
       "    </tr>\n",
       "  </thead>\n",
       "  <tbody>\n",
       "    <tr>\n",
       "      <th>10</th>\n",
       "      <td>7876</td>\n",
       "      <td>ADAMS</td>\n",
       "      <td>1100</td>\n",
       "    </tr>\n",
       "    <tr>\n",
       "      <th>12</th>\n",
       "      <td>7902</td>\n",
       "      <td>FORD</td>\n",
       "      <td>3000</td>\n",
       "    </tr>\n",
       "    <tr>\n",
       "      <th>3</th>\n",
       "      <td>7566</td>\n",
       "      <td>JONES</td>\n",
       "      <td>2975</td>\n",
       "    </tr>\n",
       "    <tr>\n",
       "      <th>7</th>\n",
       "      <td>7788</td>\n",
       "      <td>SCOTT</td>\n",
       "      <td>3000</td>\n",
       "    </tr>\n",
       "    <tr>\n",
       "      <th>0</th>\n",
       "      <td>7369</td>\n",
       "      <td>SMITH</td>\n",
       "      <td>800</td>\n",
       "    </tr>\n",
       "  </tbody>\n",
       "</table>\n",
       "</div>"
      ],
      "text/plain": [
       "    empno  ename   sal\n",
       "10   7876  ADAMS  1100\n",
       "12   7902   FORD  3000\n",
       "3    7566  JONES  2975\n",
       "7    7788  SCOTT  3000\n",
       "0    7369  SMITH   800"
      ]
     },
     "execution_count": 43,
     "metadata": {},
     "output_type": "execute_result"
    }
   ],
   "source": [
    "emp[['empno', 'ename', 'sal']][emp['deptno']==20].sort_values(by=\"ename\",ascending=True) #default asc, 'by=' 안써도 됨"
   ]
  },
  {
   "cell_type": "markdown",
   "id": "87cd7147-0df8-461e-831c-db9c848470bd",
   "metadata": {},
   "source": [
    "- select empno, ename, sal from emp order by deptno asc, sal asc;"
   ]
  },
  {
   "cell_type": "code",
   "execution_count": 44,
   "id": "a00162cd-6f0c-453b-9736-6a115cbb20e6",
   "metadata": {
    "tags": []
   },
   "outputs": [
    {
     "data": {
      "text/html": [
       "<div>\n",
       "<style scoped>\n",
       "    .dataframe tbody tr th:only-of-type {\n",
       "        vertical-align: middle;\n",
       "    }\n",
       "\n",
       "    .dataframe tbody tr th {\n",
       "        vertical-align: top;\n",
       "    }\n",
       "\n",
       "    .dataframe thead th {\n",
       "        text-align: right;\n",
       "    }\n",
       "</style>\n",
       "<table border=\"1\" class=\"dataframe\">\n",
       "  <thead>\n",
       "    <tr style=\"text-align: right;\">\n",
       "      <th></th>\n",
       "      <th>empno</th>\n",
       "      <th>deptno</th>\n",
       "      <th>sal</th>\n",
       "    </tr>\n",
       "  </thead>\n",
       "  <tbody>\n",
       "    <tr>\n",
       "      <th>13</th>\n",
       "      <td>7934</td>\n",
       "      <td>10</td>\n",
       "      <td>1300</td>\n",
       "    </tr>\n",
       "    <tr>\n",
       "      <th>6</th>\n",
       "      <td>7782</td>\n",
       "      <td>10</td>\n",
       "      <td>2450</td>\n",
       "    </tr>\n",
       "    <tr>\n",
       "      <th>8</th>\n",
       "      <td>7839</td>\n",
       "      <td>10</td>\n",
       "      <td>5000</td>\n",
       "    </tr>\n",
       "    <tr>\n",
       "      <th>0</th>\n",
       "      <td>7369</td>\n",
       "      <td>20</td>\n",
       "      <td>800</td>\n",
       "    </tr>\n",
       "    <tr>\n",
       "      <th>10</th>\n",
       "      <td>7876</td>\n",
       "      <td>20</td>\n",
       "      <td>1100</td>\n",
       "    </tr>\n",
       "  </tbody>\n",
       "</table>\n",
       "</div>"
      ],
      "text/plain": [
       "    empno  deptno   sal\n",
       "13   7934      10  1300\n",
       "6    7782      10  2450\n",
       "8    7839      10  5000\n",
       "0    7369      20   800\n",
       "10   7876      20  1100"
      ]
     },
     "execution_count": 44,
     "metadata": {},
     "output_type": "execute_result"
    }
   ],
   "source": [
    "#둘다 asc 인 경우\n",
    "emp[['empno', 'deptno', 'sal']].sort_values(by=[\"deptno\",\"sal\"],ascending=True).head()"
   ]
  },
  {
   "cell_type": "markdown",
   "id": "065ba552-64d5-4801-a58f-cee92f022e3a",
   "metadata": {},
   "source": [
    "- select empno, ename, sal from emp order by deptno asc, sal desc;"
   ]
  },
  {
   "cell_type": "code",
   "execution_count": 45,
   "id": "cd7ce7b5-4da7-402b-868e-9649049c0215",
   "metadata": {
    "tags": []
   },
   "outputs": [
    {
     "data": {
      "text/html": [
       "<div>\n",
       "<style scoped>\n",
       "    .dataframe tbody tr th:only-of-type {\n",
       "        vertical-align: middle;\n",
       "    }\n",
       "\n",
       "    .dataframe tbody tr th {\n",
       "        vertical-align: top;\n",
       "    }\n",
       "\n",
       "    .dataframe thead th {\n",
       "        text-align: right;\n",
       "    }\n",
       "</style>\n",
       "<table border=\"1\" class=\"dataframe\">\n",
       "  <thead>\n",
       "    <tr style=\"text-align: right;\">\n",
       "      <th></th>\n",
       "      <th>empno</th>\n",
       "      <th>deptno</th>\n",
       "      <th>sal</th>\n",
       "    </tr>\n",
       "  </thead>\n",
       "  <tbody>\n",
       "    <tr>\n",
       "      <th>8</th>\n",
       "      <td>7839</td>\n",
       "      <td>10</td>\n",
       "      <td>5000</td>\n",
       "    </tr>\n",
       "    <tr>\n",
       "      <th>6</th>\n",
       "      <td>7782</td>\n",
       "      <td>10</td>\n",
       "      <td>2450</td>\n",
       "    </tr>\n",
       "    <tr>\n",
       "      <th>13</th>\n",
       "      <td>7934</td>\n",
       "      <td>10</td>\n",
       "      <td>1300</td>\n",
       "    </tr>\n",
       "    <tr>\n",
       "      <th>7</th>\n",
       "      <td>7788</td>\n",
       "      <td>20</td>\n",
       "      <td>3000</td>\n",
       "    </tr>\n",
       "    <tr>\n",
       "      <th>12</th>\n",
       "      <td>7902</td>\n",
       "      <td>20</td>\n",
       "      <td>3000</td>\n",
       "    </tr>\n",
       "  </tbody>\n",
       "</table>\n",
       "</div>"
      ],
      "text/plain": [
       "    empno  deptno   sal\n",
       "8    7839      10  5000\n",
       "6    7782      10  2450\n",
       "13   7934      10  1300\n",
       "7    7788      20  3000\n",
       "12   7902      20  3000"
      ]
     },
     "execution_count": 45,
     "metadata": {},
     "output_type": "execute_result"
    }
   ],
   "source": [
    "#하나는 asc, 다른 하나는 desc인 경우\n",
    "emp[['empno', 'deptno', 'sal']].sort_values(by=[\"deptno\",\"sal\"],ascending=[True,False]).head()"
   ]
  },
  {
   "cell_type": "markdown",
   "id": "a6a2dc51-5e81-4d96-99b3-b9fc1efdf732",
   "metadata": {},
   "source": [
    "### 7.2 sort_index()"
   ]
  },
  {
   "cell_type": "code",
   "execution_count": 78,
   "id": "fa80c85e-08b2-457a-a1b9-fdd9e5373ac2",
   "metadata": {
    "tags": []
   },
   "outputs": [
    {
     "data": {
      "text/html": [
       "<div>\n",
       "<style scoped>\n",
       "    .dataframe tbody tr th:only-of-type {\n",
       "        vertical-align: middle;\n",
       "    }\n",
       "\n",
       "    .dataframe tbody tr th {\n",
       "        vertical-align: top;\n",
       "    }\n",
       "\n",
       "    .dataframe thead th {\n",
       "        text-align: right;\n",
       "    }\n",
       "</style>\n",
       "<table border=\"1\" class=\"dataframe\">\n",
       "  <thead>\n",
       "    <tr style=\"text-align: right;\">\n",
       "      <th></th>\n",
       "      <th>empno</th>\n",
       "      <th>job</th>\n",
       "      <th>mgr</th>\n",
       "      <th>hiredate</th>\n",
       "      <th>sal</th>\n",
       "      <th>comm</th>\n",
       "      <th>deptno</th>\n",
       "      <th>asal</th>\n",
       "      <th>comm2</th>\n",
       "      <th>deptno_str</th>\n",
       "      <th>job2</th>\n",
       "      <th>job3</th>\n",
       "    </tr>\n",
       "  </thead>\n",
       "  <tbody>\n",
       "    <tr>\n",
       "      <th>13</th>\n",
       "      <td>7934</td>\n",
       "      <td>CLERK</td>\n",
       "      <td>7782.0</td>\n",
       "      <td>1982-01-23</td>\n",
       "      <td>1300</td>\n",
       "      <td>9999</td>\n",
       "      <td>10</td>\n",
       "      <td>15600</td>\n",
       "      <td>0.0</td>\n",
       "      <td>십</td>\n",
       "      <td>SALES10</td>\n",
       "      <td>SALES101010</td>\n",
       "    </tr>\n",
       "    <tr>\n",
       "      <th>12</th>\n",
       "      <td>7902</td>\n",
       "      <td>ANALYST</td>\n",
       "      <td>7566.0</td>\n",
       "      <td>1981-12-03</td>\n",
       "      <td>3000</td>\n",
       "      <td>9999</td>\n",
       "      <td>20</td>\n",
       "      <td>36000</td>\n",
       "      <td>0.0</td>\n",
       "      <td>그외</td>\n",
       "      <td>ANALYST</td>\n",
       "      <td>ANALYST</td>\n",
       "    </tr>\n",
       "    <tr>\n",
       "      <th>11</th>\n",
       "      <td>7900</td>\n",
       "      <td>CLERK</td>\n",
       "      <td>7698.0</td>\n",
       "      <td>1981-12-03</td>\n",
       "      <td>950</td>\n",
       "      <td>9999</td>\n",
       "      <td>30</td>\n",
       "      <td>11400</td>\n",
       "      <td>0.0</td>\n",
       "      <td>그외</td>\n",
       "      <td>CLERK</td>\n",
       "      <td>CLERK</td>\n",
       "    </tr>\n",
       "    <tr>\n",
       "      <th>10</th>\n",
       "      <td>7876</td>\n",
       "      <td>CLERK</td>\n",
       "      <td>7788.0</td>\n",
       "      <td>1987-07-13</td>\n",
       "      <td>1100</td>\n",
       "      <td>9999</td>\n",
       "      <td>20</td>\n",
       "      <td>13200</td>\n",
       "      <td>0.0</td>\n",
       "      <td>그외</td>\n",
       "      <td>CLERK</td>\n",
       "      <td>CLERK</td>\n",
       "    </tr>\n",
       "    <tr>\n",
       "      <th>9</th>\n",
       "      <td>7844</td>\n",
       "      <td>SALESMAN</td>\n",
       "      <td>7698.0</td>\n",
       "      <td>1981-09-08</td>\n",
       "      <td>1500</td>\n",
       "      <td>9999</td>\n",
       "      <td>30</td>\n",
       "      <td>18000</td>\n",
       "      <td>0.0</td>\n",
       "      <td>그외</td>\n",
       "      <td>SALESMAN</td>\n",
       "      <td>SALESMAN</td>\n",
       "    </tr>\n",
       "  </tbody>\n",
       "</table>\n",
       "</div>"
      ],
      "text/plain": [
       "    empno       job     mgr   hiredate   sal  comm  deptno   asal  comm2  \\\n",
       "13   7934     CLERK  7782.0 1982-01-23  1300  9999      10  15600    0.0   \n",
       "12   7902   ANALYST  7566.0 1981-12-03  3000  9999      20  36000    0.0   \n",
       "11   7900     CLERK  7698.0 1981-12-03   950  9999      30  11400    0.0   \n",
       "10   7876     CLERK  7788.0 1987-07-13  1100  9999      20  13200    0.0   \n",
       "9    7844  SALESMAN  7698.0 1981-09-08  1500  9999      30  18000    0.0   \n",
       "\n",
       "   deptno_str      job2         job3  \n",
       "13          십   SALES10  SALES101010  \n",
       "12         그외   ANALYST      ANALYST  \n",
       "11         그외     CLERK        CLERK  \n",
       "10         그외     CLERK        CLERK  \n",
       "9          그외  SALESMAN     SALESMAN  "
      ]
     },
     "execution_count": 78,
     "metadata": {},
     "output_type": "execute_result"
    }
   ],
   "source": [
    "emp.sort_index(ascending=False).head()"
   ]
  },
  {
   "cell_type": "markdown",
   "id": "5c27731b-18e3-4a34-ad0e-c8f9ea2c7614",
   "metadata": {
    "tags": []
   },
   "source": [
    "# UPDATE\n",
    "- df[기존컬럼] = 값  -->수정\n",
    "- df[신규컬럼] = 값  -->신규 컬럼 생성"
   ]
  },
  {
   "cell_type": "markdown",
   "id": "8f9a18bb-d2e8-46f2-b67d-46e1f0d76429",
   "metadata": {},
   "source": [
    "## 1. 기존 컬럼 수정"
   ]
  },
  {
   "cell_type": "code",
   "execution_count": 46,
   "id": "12be0782-fc35-4f01-9d14-544a81120167",
   "metadata": {
    "tags": []
   },
   "outputs": [
    {
     "data": {
      "text/html": [
       "<div>\n",
       "<style scoped>\n",
       "    .dataframe tbody tr th:only-of-type {\n",
       "        vertical-align: middle;\n",
       "    }\n",
       "\n",
       "    .dataframe tbody tr th {\n",
       "        vertical-align: top;\n",
       "    }\n",
       "\n",
       "    .dataframe thead th {\n",
       "        text-align: right;\n",
       "    }\n",
       "</style>\n",
       "<table border=\"1\" class=\"dataframe\">\n",
       "  <thead>\n",
       "    <tr style=\"text-align: right;\">\n",
       "      <th></th>\n",
       "      <th>empno</th>\n",
       "      <th>ename</th>\n",
       "      <th>job</th>\n",
       "      <th>mgr</th>\n",
       "      <th>hiredate</th>\n",
       "      <th>sal</th>\n",
       "      <th>comm</th>\n",
       "      <th>deptno</th>\n",
       "      <th>asal</th>\n",
       "      <th>comm2</th>\n",
       "    </tr>\n",
       "  </thead>\n",
       "  <tbody>\n",
       "    <tr>\n",
       "      <th>0</th>\n",
       "      <td>7369</td>\n",
       "      <td>SMITH</td>\n",
       "      <td>CLERK</td>\n",
       "      <td>7902.0</td>\n",
       "      <td>1980-12-17</td>\n",
       "      <td>800</td>\n",
       "      <td>9999</td>\n",
       "      <td>20</td>\n",
       "      <td>9600</td>\n",
       "      <td>0.0</td>\n",
       "    </tr>\n",
       "    <tr>\n",
       "      <th>1</th>\n",
       "      <td>7499</td>\n",
       "      <td>ALLEN</td>\n",
       "      <td>SALESMAN</td>\n",
       "      <td>7698.0</td>\n",
       "      <td>1981-02-20</td>\n",
       "      <td>1600</td>\n",
       "      <td>9999</td>\n",
       "      <td>30</td>\n",
       "      <td>19200</td>\n",
       "      <td>300.0</td>\n",
       "    </tr>\n",
       "    <tr>\n",
       "      <th>2</th>\n",
       "      <td>7521</td>\n",
       "      <td>WARD</td>\n",
       "      <td>SALESMAN</td>\n",
       "      <td>7698.0</td>\n",
       "      <td>1981-02-22</td>\n",
       "      <td>1250</td>\n",
       "      <td>9999</td>\n",
       "      <td>30</td>\n",
       "      <td>15000</td>\n",
       "      <td>500.0</td>\n",
       "    </tr>\n",
       "  </tbody>\n",
       "</table>\n",
       "</div>"
      ],
      "text/plain": [
       "   empno  ename       job     mgr   hiredate   sal  comm  deptno   asal  comm2\n",
       "0   7369  SMITH     CLERK  7902.0 1980-12-17   800  9999      20   9600    0.0\n",
       "1   7499  ALLEN  SALESMAN  7698.0 1981-02-20  1600  9999      30  19200  300.0\n",
       "2   7521   WARD  SALESMAN  7698.0 1981-02-22  1250  9999      30  15000  500.0"
      ]
     },
     "execution_count": 46,
     "metadata": {},
     "output_type": "execute_result"
    }
   ],
   "source": [
    "emp['comm']=9999\n",
    "emp.head(3)\n",
    "#rollback 없음"
   ]
  },
  {
   "cell_type": "markdown",
   "id": "dac13a8a-ebf1-4715-b0a7-ba6861bce25e",
   "metadata": {},
   "source": [
    "## 2. at / iat\n",
    "1) 단일 값 변경만 가능\n",
    "- <font color=\"red\"><b>df . at [ 줄값, 칸값 ] = 변경값\n",
    "- <font color=\"red\"><b>df . iat [ 줄idx, 칸idx ] = 변경값\n",
    "    \n",
    "2) 여러개 값 변경    \n",
    "- <font color=\"red\"><b>df . loc [ 줄값, 칸값 ] = 변경값\n",
    "- <font color=\"red\"><b>df . iloc [ 줄idx, 칸idx ] = 변경값    "
   ]
  },
  {
   "cell_type": "code",
   "execution_count": 47,
   "id": "887b9003-f71e-4c41-b6fa-7a0d35eb9ebc",
   "metadata": {
    "tags": []
   },
   "outputs": [
    {
     "data": {
      "text/html": [
       "<div>\n",
       "<style scoped>\n",
       "    .dataframe tbody tr th:only-of-type {\n",
       "        vertical-align: middle;\n",
       "    }\n",
       "\n",
       "    .dataframe tbody tr th {\n",
       "        vertical-align: top;\n",
       "    }\n",
       "\n",
       "    .dataframe thead th {\n",
       "        text-align: right;\n",
       "    }\n",
       "</style>\n",
       "<table border=\"1\" class=\"dataframe\">\n",
       "  <thead>\n",
       "    <tr style=\"text-align: right;\">\n",
       "      <th></th>\n",
       "      <th>empno</th>\n",
       "      <th>ename</th>\n",
       "      <th>job</th>\n",
       "      <th>mgr</th>\n",
       "      <th>hiredate</th>\n",
       "      <th>sal</th>\n",
       "      <th>comm</th>\n",
       "      <th>deptno</th>\n",
       "      <th>asal</th>\n",
       "      <th>comm2</th>\n",
       "    </tr>\n",
       "  </thead>\n",
       "  <tbody>\n",
       "    <tr>\n",
       "      <th>0</th>\n",
       "      <td>7369</td>\n",
       "      <td>SSSMITHSS</td>\n",
       "      <td>CLERK</td>\n",
       "      <td>7902.0</td>\n",
       "      <td>1980-12-17</td>\n",
       "      <td>800</td>\n",
       "      <td>9999</td>\n",
       "      <td>20</td>\n",
       "      <td>9600</td>\n",
       "      <td>0.0</td>\n",
       "    </tr>\n",
       "    <tr>\n",
       "      <th>1</th>\n",
       "      <td>7499</td>\n",
       "      <td>ALLEN</td>\n",
       "      <td>SALESMAN</td>\n",
       "      <td>7698.0</td>\n",
       "      <td>1981-02-20</td>\n",
       "      <td>1600</td>\n",
       "      <td>9999</td>\n",
       "      <td>30</td>\n",
       "      <td>19200</td>\n",
       "      <td>300.0</td>\n",
       "    </tr>\n",
       "    <tr>\n",
       "      <th>2</th>\n",
       "      <td>7521</td>\n",
       "      <td>WARD</td>\n",
       "      <td>SALESMAN</td>\n",
       "      <td>7698.0</td>\n",
       "      <td>1981-02-22</td>\n",
       "      <td>1250</td>\n",
       "      <td>9999</td>\n",
       "      <td>30</td>\n",
       "      <td>15000</td>\n",
       "      <td>500.0</td>\n",
       "    </tr>\n",
       "  </tbody>\n",
       "</table>\n",
       "</div>"
      ],
      "text/plain": [
       "   empno      ename       job     mgr   hiredate   sal  comm  deptno   asal  \\\n",
       "0   7369  SSSMITHSS     CLERK  7902.0 1980-12-17   800  9999      20   9600   \n",
       "1   7499      ALLEN  SALESMAN  7698.0 1981-02-20  1600  9999      30  19200   \n",
       "2   7521       WARD  SALESMAN  7698.0 1981-02-22  1250  9999      30  15000   \n",
       "\n",
       "   comm2  \n",
       "0    0.0  \n",
       "1  300.0  \n",
       "2  500.0  "
      ]
     },
     "execution_count": 47,
     "metadata": {},
     "output_type": "execute_result"
    }
   ],
   "source": [
    "#update emp set ename='SSSMITHSS' where _____\n",
    "emp.at[0,\"ename\"]=\"SSSMITHSS\"\n",
    "emp.head(3)"
   ]
  },
  {
   "cell_type": "code",
   "execution_count": 52,
   "id": "a15f7605-d615-42a5-b244-0778212c79b1",
   "metadata": {
    "tags": []
   },
   "outputs": [
    {
     "data": {
      "text/html": [
       "<div>\n",
       "<style scoped>\n",
       "    .dataframe tbody tr th:only-of-type {\n",
       "        vertical-align: middle;\n",
       "    }\n",
       "\n",
       "    .dataframe tbody tr th {\n",
       "        vertical-align: top;\n",
       "    }\n",
       "\n",
       "    .dataframe thead th {\n",
       "        text-align: right;\n",
       "    }\n",
       "</style>\n",
       "<table border=\"1\" class=\"dataframe\">\n",
       "  <thead>\n",
       "    <tr style=\"text-align: right;\">\n",
       "      <th></th>\n",
       "      <th>empno</th>\n",
       "      <th>ename</th>\n",
       "      <th>job</th>\n",
       "      <th>mgr</th>\n",
       "      <th>hiredate</th>\n",
       "      <th>sal</th>\n",
       "      <th>comm</th>\n",
       "      <th>deptno</th>\n",
       "      <th>asal</th>\n",
       "      <th>comm2</th>\n",
       "      <th>deptno_str</th>\n",
       "      <th>job2</th>\n",
       "    </tr>\n",
       "  </thead>\n",
       "  <tbody>\n",
       "    <tr>\n",
       "      <th>0</th>\n",
       "      <td>7369</td>\n",
       "      <td>kkk</td>\n",
       "      <td>CLERK</td>\n",
       "      <td>7902.0</td>\n",
       "      <td>1980-12-17</td>\n",
       "      <td>800</td>\n",
       "      <td>9999</td>\n",
       "      <td>20</td>\n",
       "      <td>9600</td>\n",
       "      <td>0.0</td>\n",
       "      <td>그외</td>\n",
       "      <td>CLERK</td>\n",
       "    </tr>\n",
       "    <tr>\n",
       "      <th>1</th>\n",
       "      <td>7499</td>\n",
       "      <td>ALLEN</td>\n",
       "      <td>SALESMAN</td>\n",
       "      <td>7698.0</td>\n",
       "      <td>1981-02-20</td>\n",
       "      <td>1600</td>\n",
       "      <td>9999</td>\n",
       "      <td>30</td>\n",
       "      <td>19200</td>\n",
       "      <td>300.0</td>\n",
       "      <td>그외</td>\n",
       "      <td>SALESMAN</td>\n",
       "    </tr>\n",
       "    <tr>\n",
       "      <th>2</th>\n",
       "      <td>7521</td>\n",
       "      <td>WARD</td>\n",
       "      <td>SALESMAN</td>\n",
       "      <td>7698.0</td>\n",
       "      <td>1981-02-22</td>\n",
       "      <td>1250</td>\n",
       "      <td>9999</td>\n",
       "      <td>30</td>\n",
       "      <td>15000</td>\n",
       "      <td>500.0</td>\n",
       "      <td>그외</td>\n",
       "      <td>SALESMAN</td>\n",
       "    </tr>\n",
       "  </tbody>\n",
       "</table>\n",
       "</div>"
      ],
      "text/plain": [
       "   empno  ename       job     mgr   hiredate   sal  comm  deptno   asal  \\\n",
       "0   7369    kkk     CLERK  7902.0 1980-12-17   800  9999      20   9600   \n",
       "1   7499  ALLEN  SALESMAN  7698.0 1981-02-20  1600  9999      30  19200   \n",
       "2   7521   WARD  SALESMAN  7698.0 1981-02-22  1250  9999      30  15000   \n",
       "\n",
       "   comm2 deptno_str      job2  \n",
       "0    0.0         그외     CLERK  \n",
       "1  300.0         그외  SALESMAN  \n",
       "2  500.0         그외  SALESMAN  "
      ]
     },
     "execution_count": 52,
     "metadata": {},
     "output_type": "execute_result"
    }
   ],
   "source": [
    "emp.iat[0,1]='kkk'\n",
    "#emp.iat[0:2,1]='ooo' #여러개의 값 변경 불가\n",
    "emp.head(3)"
   ]
  },
  {
   "cell_type": "code",
   "execution_count": 53,
   "id": "777723aa-6287-423f-abc0-89c920b82e95",
   "metadata": {
    "tags": []
   },
   "outputs": [
    {
     "data": {
      "text/html": [
       "<div>\n",
       "<style scoped>\n",
       "    .dataframe tbody tr th:only-of-type {\n",
       "        vertical-align: middle;\n",
       "    }\n",
       "\n",
       "    .dataframe tbody tr th {\n",
       "        vertical-align: top;\n",
       "    }\n",
       "\n",
       "    .dataframe thead th {\n",
       "        text-align: right;\n",
       "    }\n",
       "</style>\n",
       "<table border=\"1\" class=\"dataframe\">\n",
       "  <thead>\n",
       "    <tr style=\"text-align: right;\">\n",
       "      <th></th>\n",
       "      <th>empno</th>\n",
       "      <th>ename</th>\n",
       "      <th>job</th>\n",
       "      <th>mgr</th>\n",
       "      <th>hiredate</th>\n",
       "      <th>sal</th>\n",
       "      <th>comm</th>\n",
       "      <th>deptno</th>\n",
       "      <th>asal</th>\n",
       "      <th>comm2</th>\n",
       "      <th>deptno_str</th>\n",
       "      <th>job2</th>\n",
       "    </tr>\n",
       "  </thead>\n",
       "  <tbody>\n",
       "    <tr>\n",
       "      <th>0</th>\n",
       "      <td>7369</td>\n",
       "      <td>ooo</td>\n",
       "      <td>CLERK</td>\n",
       "      <td>7902.0</td>\n",
       "      <td>1980-12-17</td>\n",
       "      <td>800</td>\n",
       "      <td>9999</td>\n",
       "      <td>20</td>\n",
       "      <td>9600</td>\n",
       "      <td>0.0</td>\n",
       "      <td>그외</td>\n",
       "      <td>CLERK</td>\n",
       "    </tr>\n",
       "    <tr>\n",
       "      <th>1</th>\n",
       "      <td>7499</td>\n",
       "      <td>ooo</td>\n",
       "      <td>SALESMAN</td>\n",
       "      <td>7698.0</td>\n",
       "      <td>1981-02-20</td>\n",
       "      <td>1600</td>\n",
       "      <td>9999</td>\n",
       "      <td>30</td>\n",
       "      <td>19200</td>\n",
       "      <td>300.0</td>\n",
       "      <td>그외</td>\n",
       "      <td>SALESMAN</td>\n",
       "    </tr>\n",
       "    <tr>\n",
       "      <th>2</th>\n",
       "      <td>7521</td>\n",
       "      <td>WARD</td>\n",
       "      <td>SALESMAN</td>\n",
       "      <td>7698.0</td>\n",
       "      <td>1981-02-22</td>\n",
       "      <td>1250</td>\n",
       "      <td>9999</td>\n",
       "      <td>30</td>\n",
       "      <td>15000</td>\n",
       "      <td>500.0</td>\n",
       "      <td>그외</td>\n",
       "      <td>SALESMAN</td>\n",
       "    </tr>\n",
       "  </tbody>\n",
       "</table>\n",
       "</div>"
      ],
      "text/plain": [
       "   empno ename       job     mgr   hiredate   sal  comm  deptno   asal  comm2  \\\n",
       "0   7369   ooo     CLERK  7902.0 1980-12-17   800  9999      20   9600    0.0   \n",
       "1   7499   ooo  SALESMAN  7698.0 1981-02-20  1600  9999      30  19200  300.0   \n",
       "2   7521  WARD  SALESMAN  7698.0 1981-02-22  1250  9999      30  15000  500.0   \n",
       "\n",
       "  deptno_str      job2  \n",
       "0         그외     CLERK  \n",
       "1         그외  SALESMAN  \n",
       "2         그외  SALESMAN  "
      ]
     },
     "execution_count": 53,
     "metadata": {},
     "output_type": "execute_result"
    }
   ],
   "source": [
    "emp.iloc[0:2,1] = 'ooo' \n",
    "emp.head(3)"
   ]
  },
  {
   "cell_type": "markdown",
   "id": "c13b974d-8922-4124-9aca-71d78663fc85",
   "metadata": {},
   "source": [
    "## 3. np.where() vs pd.where()\n",
    "1. np.where(조건절, 참값, 거짓값)  \n",
    "    - np.where(df['deptno']==10, '십', '그외') --> decode(deptno,10,'십','그외')\n",
    "     <br>\n",
    "      <br>\n",
    "2. df[컬럼A].where(조건문, 거짓값)  --조건 만족하면 컬럼A, 그렇지 않으면 거짓값"
   ]
  },
  {
   "cell_type": "code",
   "execution_count": 48,
   "id": "bc35f00f-3a17-42fe-97c7-4bcf85bb78c9",
   "metadata": {
    "tags": []
   },
   "outputs": [
    {
     "data": {
      "text/html": [
       "<div>\n",
       "<style scoped>\n",
       "    .dataframe tbody tr th:only-of-type {\n",
       "        vertical-align: middle;\n",
       "    }\n",
       "\n",
       "    .dataframe tbody tr th {\n",
       "        vertical-align: top;\n",
       "    }\n",
       "\n",
       "    .dataframe thead th {\n",
       "        text-align: right;\n",
       "    }\n",
       "</style>\n",
       "<table border=\"1\" class=\"dataframe\">\n",
       "  <thead>\n",
       "    <tr style=\"text-align: right;\">\n",
       "      <th></th>\n",
       "      <th>empno</th>\n",
       "      <th>ename</th>\n",
       "      <th>job</th>\n",
       "      <th>mgr</th>\n",
       "      <th>hiredate</th>\n",
       "      <th>sal</th>\n",
       "      <th>comm</th>\n",
       "      <th>deptno</th>\n",
       "      <th>asal</th>\n",
       "      <th>comm2</th>\n",
       "      <th>deptno_str</th>\n",
       "    </tr>\n",
       "  </thead>\n",
       "  <tbody>\n",
       "    <tr>\n",
       "      <th>0</th>\n",
       "      <td>7369</td>\n",
       "      <td>SSSMITHSS</td>\n",
       "      <td>CLERK</td>\n",
       "      <td>7902.0</td>\n",
       "      <td>1980-12-17</td>\n",
       "      <td>800</td>\n",
       "      <td>9999</td>\n",
       "      <td>20</td>\n",
       "      <td>9600</td>\n",
       "      <td>0.0</td>\n",
       "      <td>그외</td>\n",
       "    </tr>\n",
       "    <tr>\n",
       "      <th>1</th>\n",
       "      <td>7499</td>\n",
       "      <td>ALLEN</td>\n",
       "      <td>SALESMAN</td>\n",
       "      <td>7698.0</td>\n",
       "      <td>1981-02-20</td>\n",
       "      <td>1600</td>\n",
       "      <td>9999</td>\n",
       "      <td>30</td>\n",
       "      <td>19200</td>\n",
       "      <td>300.0</td>\n",
       "      <td>그외</td>\n",
       "    </tr>\n",
       "    <tr>\n",
       "      <th>2</th>\n",
       "      <td>7521</td>\n",
       "      <td>WARD</td>\n",
       "      <td>SALESMAN</td>\n",
       "      <td>7698.0</td>\n",
       "      <td>1981-02-22</td>\n",
       "      <td>1250</td>\n",
       "      <td>9999</td>\n",
       "      <td>30</td>\n",
       "      <td>15000</td>\n",
       "      <td>500.0</td>\n",
       "      <td>그외</td>\n",
       "    </tr>\n",
       "    <tr>\n",
       "      <th>3</th>\n",
       "      <td>7566</td>\n",
       "      <td>JONES</td>\n",
       "      <td>MANAGER</td>\n",
       "      <td>7839.0</td>\n",
       "      <td>1981-04-02</td>\n",
       "      <td>2975</td>\n",
       "      <td>9999</td>\n",
       "      <td>20</td>\n",
       "      <td>35700</td>\n",
       "      <td>0.0</td>\n",
       "      <td>그외</td>\n",
       "    </tr>\n",
       "    <tr>\n",
       "      <th>4</th>\n",
       "      <td>7654</td>\n",
       "      <td>MARTIN</td>\n",
       "      <td>SALESMAN</td>\n",
       "      <td>7698.0</td>\n",
       "      <td>1981-09-28</td>\n",
       "      <td>1250</td>\n",
       "      <td>9999</td>\n",
       "      <td>30</td>\n",
       "      <td>15000</td>\n",
       "      <td>1400.0</td>\n",
       "      <td>그외</td>\n",
       "    </tr>\n",
       "    <tr>\n",
       "      <th>5</th>\n",
       "      <td>7698</td>\n",
       "      <td>BLAKE</td>\n",
       "      <td>MANAGER</td>\n",
       "      <td>7839.0</td>\n",
       "      <td>1981-05-01</td>\n",
       "      <td>2850</td>\n",
       "      <td>9999</td>\n",
       "      <td>30</td>\n",
       "      <td>34200</td>\n",
       "      <td>0.0</td>\n",
       "      <td>그외</td>\n",
       "    </tr>\n",
       "    <tr>\n",
       "      <th>6</th>\n",
       "      <td>7782</td>\n",
       "      <td>CCC</td>\n",
       "      <td>MANAGER</td>\n",
       "      <td>7839.0</td>\n",
       "      <td>1981-06-09</td>\n",
       "      <td>2450</td>\n",
       "      <td>9999</td>\n",
       "      <td>10</td>\n",
       "      <td>29400</td>\n",
       "      <td>0.0</td>\n",
       "      <td>십</td>\n",
       "    </tr>\n",
       "  </tbody>\n",
       "</table>\n",
       "</div>"
      ],
      "text/plain": [
       "   empno      ename       job     mgr   hiredate   sal  comm  deptno   asal  \\\n",
       "0   7369  SSSMITHSS     CLERK  7902.0 1980-12-17   800  9999      20   9600   \n",
       "1   7499      ALLEN  SALESMAN  7698.0 1981-02-20  1600  9999      30  19200   \n",
       "2   7521       WARD  SALESMAN  7698.0 1981-02-22  1250  9999      30  15000   \n",
       "3   7566      JONES   MANAGER  7839.0 1981-04-02  2975  9999      20  35700   \n",
       "4   7654     MARTIN  SALESMAN  7698.0 1981-09-28  1250  9999      30  15000   \n",
       "5   7698      BLAKE   MANAGER  7839.0 1981-05-01  2850  9999      30  34200   \n",
       "6   7782        CCC   MANAGER  7839.0 1981-06-09  2450  9999      10  29400   \n",
       "\n",
       "    comm2 deptno_str  \n",
       "0     0.0         그외  \n",
       "1   300.0         그외  \n",
       "2   500.0         그외  \n",
       "3     0.0         그외  \n",
       "4  1400.0         그외  \n",
       "5     0.0         그외  \n",
       "6     0.0          십  "
      ]
     },
     "execution_count": 48,
     "metadata": {},
     "output_type": "execute_result"
    }
   ],
   "source": [
    "emp['deptno_str']=np.where(emp['deptno']==10, '십', '그외')\n",
    "emp.head(7)"
   ]
  },
  {
   "cell_type": "markdown",
   "id": "daced490-16e3-4551-90e2-ab02a04a7d8c",
   "metadata": {},
   "source": [
    "- update emp set job='SALES10' where deptno=10;"
   ]
  },
  {
   "cell_type": "code",
   "execution_count": 51,
   "id": "f239a11f-7821-48cc-9311-fac5f4adbd70",
   "metadata": {},
   "outputs": [
    {
     "data": {
      "text/html": [
       "<div>\n",
       "<style scoped>\n",
       "    .dataframe tbody tr th:only-of-type {\n",
       "        vertical-align: middle;\n",
       "    }\n",
       "\n",
       "    .dataframe tbody tr th {\n",
       "        vertical-align: top;\n",
       "    }\n",
       "\n",
       "    .dataframe thead th {\n",
       "        text-align: right;\n",
       "    }\n",
       "</style>\n",
       "<table border=\"1\" class=\"dataframe\">\n",
       "  <thead>\n",
       "    <tr style=\"text-align: right;\">\n",
       "      <th></th>\n",
       "      <th>job</th>\n",
       "      <th>job2</th>\n",
       "    </tr>\n",
       "  </thead>\n",
       "  <tbody>\n",
       "    <tr>\n",
       "      <th>0</th>\n",
       "      <td>CLERK</td>\n",
       "      <td>CLERK</td>\n",
       "    </tr>\n",
       "    <tr>\n",
       "      <th>1</th>\n",
       "      <td>SALESMAN</td>\n",
       "      <td>SALESMAN</td>\n",
       "    </tr>\n",
       "    <tr>\n",
       "      <th>2</th>\n",
       "      <td>SALESMAN</td>\n",
       "      <td>SALESMAN</td>\n",
       "    </tr>\n",
       "    <tr>\n",
       "      <th>3</th>\n",
       "      <td>MANAGER</td>\n",
       "      <td>MANAGER</td>\n",
       "    </tr>\n",
       "    <tr>\n",
       "      <th>4</th>\n",
       "      <td>SALESMAN</td>\n",
       "      <td>SALESMAN</td>\n",
       "    </tr>\n",
       "    <tr>\n",
       "      <th>5</th>\n",
       "      <td>MANAGER</td>\n",
       "      <td>MANAGER</td>\n",
       "    </tr>\n",
       "    <tr>\n",
       "      <th>6</th>\n",
       "      <td>MANAGER</td>\n",
       "      <td>SALES10</td>\n",
       "    </tr>\n",
       "    <tr>\n",
       "      <th>7</th>\n",
       "      <td>ANALYST</td>\n",
       "      <td>ANALYST</td>\n",
       "    </tr>\n",
       "  </tbody>\n",
       "</table>\n",
       "</div>"
      ],
      "text/plain": [
       "        job      job2\n",
       "0     CLERK     CLERK\n",
       "1  SALESMAN  SALESMAN\n",
       "2  SALESMAN  SALESMAN\n",
       "3   MANAGER   MANAGER\n",
       "4  SALESMAN  SALESMAN\n",
       "5   MANAGER   MANAGER\n",
       "6   MANAGER   SALES10\n",
       "7   ANALYST   ANALYST"
      ]
     },
     "execution_count": 51,
     "metadata": {},
     "output_type": "execute_result"
    }
   ],
   "source": [
    "#-------------------------------------------\n",
    "#emp[emp['deptno']==10]['job'] =\"SALES10\" \n",
    "#emp['job'][emp['deptno']==10] =\"SALES10\" XXXXXXXXXXXXX -->불안정한 문법\n",
    "#-------------------------------------------\n",
    "emp['job2']=np.where(emp['deptno']==10, \"SALES10\", emp['job'])\n",
    "emp[['job','job2']].head(8)"
   ]
  },
  {
   "cell_type": "markdown",
   "id": "fe879e84-d082-4b18-82f6-2b3bb3a1f27f",
   "metadata": {},
   "source": [
    "아래 두 코드는 동일 결과"
   ]
  },
  {
   "cell_type": "code",
   "execution_count": 59,
   "id": "24184af8-b8e0-431a-975f-b6521f23fca7",
   "metadata": {
    "tags": []
   },
   "outputs": [
    {
     "data": {
      "text/html": [
       "<div>\n",
       "<style scoped>\n",
       "    .dataframe tbody tr th:only-of-type {\n",
       "        vertical-align: middle;\n",
       "    }\n",
       "\n",
       "    .dataframe tbody tr th {\n",
       "        vertical-align: top;\n",
       "    }\n",
       "\n",
       "    .dataframe thead th {\n",
       "        text-align: right;\n",
       "    }\n",
       "</style>\n",
       "<table border=\"1\" class=\"dataframe\">\n",
       "  <thead>\n",
       "    <tr style=\"text-align: right;\">\n",
       "      <th></th>\n",
       "      <th>job</th>\n",
       "      <th>job2</th>\n",
       "      <th>job3</th>\n",
       "    </tr>\n",
       "  </thead>\n",
       "  <tbody>\n",
       "    <tr>\n",
       "      <th>0</th>\n",
       "      <td>CLERK</td>\n",
       "      <td>CLERK</td>\n",
       "      <td>CLERK</td>\n",
       "    </tr>\n",
       "    <tr>\n",
       "      <th>1</th>\n",
       "      <td>SALESMAN</td>\n",
       "      <td>SALESMAN</td>\n",
       "      <td>SALESMAN</td>\n",
       "    </tr>\n",
       "    <tr>\n",
       "      <th>2</th>\n",
       "      <td>SALESMAN</td>\n",
       "      <td>SALESMAN</td>\n",
       "      <td>SALESMAN</td>\n",
       "    </tr>\n",
       "    <tr>\n",
       "      <th>3</th>\n",
       "      <td>MANAGER</td>\n",
       "      <td>MANAGER</td>\n",
       "      <td>MANAGER</td>\n",
       "    </tr>\n",
       "    <tr>\n",
       "      <th>4</th>\n",
       "      <td>SALESMAN</td>\n",
       "      <td>SALESMAN</td>\n",
       "      <td>SALESMAN</td>\n",
       "    </tr>\n",
       "    <tr>\n",
       "      <th>5</th>\n",
       "      <td>MANAGER</td>\n",
       "      <td>MANAGER</td>\n",
       "      <td>MANAGER</td>\n",
       "    </tr>\n",
       "    <tr>\n",
       "      <th>6</th>\n",
       "      <td>MANAGER</td>\n",
       "      <td>SALES10</td>\n",
       "      <td>SALES101010</td>\n",
       "    </tr>\n",
       "    <tr>\n",
       "      <th>7</th>\n",
       "      <td>ANALYST</td>\n",
       "      <td>ANALYST</td>\n",
       "      <td>ANALYST</td>\n",
       "    </tr>\n",
       "  </tbody>\n",
       "</table>\n",
       "</div>"
      ],
      "text/plain": [
       "        job      job2         job3\n",
       "0     CLERK     CLERK        CLERK\n",
       "1  SALESMAN  SALESMAN     SALESMAN\n",
       "2  SALESMAN  SALESMAN     SALESMAN\n",
       "3   MANAGER   MANAGER      MANAGER\n",
       "4  SALESMAN  SALESMAN     SALESMAN\n",
       "5   MANAGER   MANAGER      MANAGER\n",
       "6   MANAGER   SALES10  SALES101010\n",
       "7   ANALYST   ANALYST      ANALYST"
      ]
     },
     "execution_count": 59,
     "metadata": {},
     "output_type": "execute_result"
    }
   ],
   "source": [
    "#df[컬럼A].where(조건문, 거짓값) \n",
    "emp['job2']=np.where(emp['deptno']==10, \"SALES10\", emp['job'])\n",
    "\n",
    "#조건을 만족하면(이거출력).where(조건, 조건을 만족하지못하면(이거출력) )\n",
    "emp['job3']=emp['job'].where(emp['deptno']!=10, \"SALES101010\")\n",
    "emp[['job','job2','job3']].head(8)"
   ]
  },
  {
   "cell_type": "markdown",
   "id": "39178f27-ab23-416f-ae2b-11fb544398a3",
   "metadata": {},
   "source": [
    "# DELETE\n",
    "- DML : Delete from emp;      --데이터 삭제\n",
    "- DDL : Drop table from emp;  --테이블객체 삭제\n",
    "<br>\n",
    "<br>\n",
    "- drop(<font color='red'><b>인덱스값, axis=0</font></b>)  --데이터 행(가로) 삭제\n",
    "- drop(<font color='red'><b>컬럼명, axis=1</font></b>)  --데이터 컬럼(세로) 삭제\n",
    "- del emp                     --데이터프레임 객체 삭제"
   ]
  },
  {
   "cell_type": "code",
   "execution_count": 61,
   "id": "eb74192e-3d5d-4ae3-a399-ab9d882b1897",
   "metadata": {
    "tags": []
   },
   "outputs": [],
   "source": [
    "emp=emp.drop(0)  #여러번 실행할 경우 인덱스 0 이없기때문에 error"
   ]
  },
  {
   "cell_type": "code",
   "execution_count": 69,
   "id": "776dc5e2-4f68-4bbf-8bbe-faffa27ecb40",
   "metadata": {
    "tags": []
   },
   "outputs": [
    {
     "data": {
      "text/html": [
       "<div>\n",
       "<style scoped>\n",
       "    .dataframe tbody tr th:only-of-type {\n",
       "        vertical-align: middle;\n",
       "    }\n",
       "\n",
       "    .dataframe tbody tr th {\n",
       "        vertical-align: top;\n",
       "    }\n",
       "\n",
       "    .dataframe thead th {\n",
       "        text-align: right;\n",
       "    }\n",
       "</style>\n",
       "<table border=\"1\" class=\"dataframe\">\n",
       "  <thead>\n",
       "    <tr style=\"text-align: right;\">\n",
       "      <th></th>\n",
       "      <th>empno</th>\n",
       "      <th>job</th>\n",
       "      <th>mgr</th>\n",
       "      <th>hiredate</th>\n",
       "      <th>sal</th>\n",
       "      <th>comm</th>\n",
       "      <th>deptno</th>\n",
       "      <th>asal</th>\n",
       "      <th>comm2</th>\n",
       "      <th>deptno_str</th>\n",
       "      <th>job2</th>\n",
       "      <th>job3</th>\n",
       "    </tr>\n",
       "  </thead>\n",
       "  <tbody>\n",
       "    <tr>\n",
       "      <th>2</th>\n",
       "      <td>7521</td>\n",
       "      <td>SALESMAN</td>\n",
       "      <td>7698.0</td>\n",
       "      <td>1981-02-22</td>\n",
       "      <td>1250</td>\n",
       "      <td>9999</td>\n",
       "      <td>30</td>\n",
       "      <td>15000</td>\n",
       "      <td>500.0</td>\n",
       "      <td>그외</td>\n",
       "      <td>SALESMAN</td>\n",
       "      <td>SALESMAN</td>\n",
       "    </tr>\n",
       "    <tr>\n",
       "      <th>3</th>\n",
       "      <td>7566</td>\n",
       "      <td>MANAGER</td>\n",
       "      <td>7839.0</td>\n",
       "      <td>1981-04-02</td>\n",
       "      <td>2975</td>\n",
       "      <td>9999</td>\n",
       "      <td>20</td>\n",
       "      <td>35700</td>\n",
       "      <td>0.0</td>\n",
       "      <td>그외</td>\n",
       "      <td>MANAGER</td>\n",
       "      <td>MANAGER</td>\n",
       "    </tr>\n",
       "    <tr>\n",
       "      <th>4</th>\n",
       "      <td>7654</td>\n",
       "      <td>SALESMAN</td>\n",
       "      <td>7698.0</td>\n",
       "      <td>1981-09-28</td>\n",
       "      <td>1250</td>\n",
       "      <td>9999</td>\n",
       "      <td>30</td>\n",
       "      <td>15000</td>\n",
       "      <td>1400.0</td>\n",
       "      <td>그외</td>\n",
       "      <td>SALESMAN</td>\n",
       "      <td>SALESMAN</td>\n",
       "    </tr>\n",
       "    <tr>\n",
       "      <th>5</th>\n",
       "      <td>7698</td>\n",
       "      <td>MANAGER</td>\n",
       "      <td>7839.0</td>\n",
       "      <td>1981-05-01</td>\n",
       "      <td>2850</td>\n",
       "      <td>9999</td>\n",
       "      <td>30</td>\n",
       "      <td>34200</td>\n",
       "      <td>0.0</td>\n",
       "      <td>그외</td>\n",
       "      <td>MANAGER</td>\n",
       "      <td>MANAGER</td>\n",
       "    </tr>\n",
       "    <tr>\n",
       "      <th>6</th>\n",
       "      <td>7782</td>\n",
       "      <td>MANAGER</td>\n",
       "      <td>7839.0</td>\n",
       "      <td>1981-06-09</td>\n",
       "      <td>2450</td>\n",
       "      <td>9999</td>\n",
       "      <td>10</td>\n",
       "      <td>29400</td>\n",
       "      <td>0.0</td>\n",
       "      <td>십</td>\n",
       "      <td>SALES10</td>\n",
       "      <td>SALES101010</td>\n",
       "    </tr>\n",
       "  </tbody>\n",
       "</table>\n",
       "</div>"
      ],
      "text/plain": [
       "   empno       job     mgr   hiredate   sal  comm  deptno   asal   comm2  \\\n",
       "2   7521  SALESMAN  7698.0 1981-02-22  1250  9999      30  15000   500.0   \n",
       "3   7566   MANAGER  7839.0 1981-04-02  2975  9999      20  35700     0.0   \n",
       "4   7654  SALESMAN  7698.0 1981-09-28  1250  9999      30  15000  1400.0   \n",
       "5   7698   MANAGER  7839.0 1981-05-01  2850  9999      30  34200     0.0   \n",
       "6   7782   MANAGER  7839.0 1981-06-09  2450  9999      10  29400     0.0   \n",
       "\n",
       "  deptno_str      job2         job3  \n",
       "2         그외  SALESMAN     SALESMAN  \n",
       "3         그외   MANAGER      MANAGER  \n",
       "4         그외  SALESMAN     SALESMAN  \n",
       "5         그외   MANAGER      MANAGER  \n",
       "6          십   SALES10  SALES101010  "
      ]
     },
     "execution_count": 69,
     "metadata": {},
     "output_type": "execute_result"
    }
   ],
   "source": [
    "emp.head()"
   ]
  },
  {
   "cell_type": "code",
   "execution_count": 70,
   "id": "83cd29ab-6eb9-4796-af83-c65c4400809c",
   "metadata": {
    "tags": []
   },
   "outputs": [
    {
     "data": {
      "text/html": [
       "<div>\n",
       "<style scoped>\n",
       "    .dataframe tbody tr th:only-of-type {\n",
       "        vertical-align: middle;\n",
       "    }\n",
       "\n",
       "    .dataframe tbody tr th {\n",
       "        vertical-align: top;\n",
       "    }\n",
       "\n",
       "    .dataframe thead th {\n",
       "        text-align: right;\n",
       "    }\n",
       "</style>\n",
       "<table border=\"1\" class=\"dataframe\">\n",
       "  <thead>\n",
       "    <tr style=\"text-align: right;\">\n",
       "      <th></th>\n",
       "      <th>empno</th>\n",
       "      <th>job</th>\n",
       "      <th>mgr</th>\n",
       "      <th>hiredate</th>\n",
       "      <th>sal</th>\n",
       "      <th>comm</th>\n",
       "      <th>deptno</th>\n",
       "      <th>asal</th>\n",
       "      <th>comm2</th>\n",
       "      <th>deptno_str</th>\n",
       "      <th>job2</th>\n",
       "      <th>job3</th>\n",
       "    </tr>\n",
       "  </thead>\n",
       "  <tbody>\n",
       "    <tr>\n",
       "      <th>3</th>\n",
       "      <td>7566</td>\n",
       "      <td>MANAGER</td>\n",
       "      <td>7839.0</td>\n",
       "      <td>1981-04-02</td>\n",
       "      <td>2975</td>\n",
       "      <td>9999</td>\n",
       "      <td>20</td>\n",
       "      <td>35700</td>\n",
       "      <td>0.0</td>\n",
       "      <td>그외</td>\n",
       "      <td>MANAGER</td>\n",
       "      <td>MANAGER</td>\n",
       "    </tr>\n",
       "    <tr>\n",
       "      <th>4</th>\n",
       "      <td>7654</td>\n",
       "      <td>SALESMAN</td>\n",
       "      <td>7698.0</td>\n",
       "      <td>1981-09-28</td>\n",
       "      <td>1250</td>\n",
       "      <td>9999</td>\n",
       "      <td>30</td>\n",
       "      <td>15000</td>\n",
       "      <td>1400.0</td>\n",
       "      <td>그외</td>\n",
       "      <td>SALESMAN</td>\n",
       "      <td>SALESMAN</td>\n",
       "    </tr>\n",
       "    <tr>\n",
       "      <th>5</th>\n",
       "      <td>7698</td>\n",
       "      <td>MANAGER</td>\n",
       "      <td>7839.0</td>\n",
       "      <td>1981-05-01</td>\n",
       "      <td>2850</td>\n",
       "      <td>9999</td>\n",
       "      <td>30</td>\n",
       "      <td>34200</td>\n",
       "      <td>0.0</td>\n",
       "      <td>그외</td>\n",
       "      <td>MANAGER</td>\n",
       "      <td>MANAGER</td>\n",
       "    </tr>\n",
       "  </tbody>\n",
       "</table>\n",
       "</div>"
      ],
      "text/plain": [
       "   empno       job     mgr   hiredate   sal  comm  deptno   asal   comm2  \\\n",
       "3   7566   MANAGER  7839.0 1981-04-02  2975  9999      20  35700     0.0   \n",
       "4   7654  SALESMAN  7698.0 1981-09-28  1250  9999      30  15000  1400.0   \n",
       "5   7698   MANAGER  7839.0 1981-05-01  2850  9999      30  34200     0.0   \n",
       "\n",
       "  deptno_str      job2      job3  \n",
       "3         그외   MANAGER   MANAGER  \n",
       "4         그외  SALESMAN  SALESMAN  \n",
       "5         그외   MANAGER   MANAGER  "
      ]
     },
     "execution_count": 70,
     "metadata": {},
     "output_type": "execute_result"
    }
   ],
   "source": [
    "emp= emp.drop(2,axis=0) #인덱스값이 2인 행 삭제\n",
    "emp.head(3)"
   ]
  },
  {
   "cell_type": "code",
   "execution_count": 67,
   "id": "a386d399-7666-46db-b533-4220a0cb58d5",
   "metadata": {
    "tags": []
   },
   "outputs": [
    {
     "data": {
      "text/html": [
       "<div>\n",
       "<style scoped>\n",
       "    .dataframe tbody tr th:only-of-type {\n",
       "        vertical-align: middle;\n",
       "    }\n",
       "\n",
       "    .dataframe tbody tr th {\n",
       "        vertical-align: top;\n",
       "    }\n",
       "\n",
       "    .dataframe thead th {\n",
       "        text-align: right;\n",
       "    }\n",
       "</style>\n",
       "<table border=\"1\" class=\"dataframe\">\n",
       "  <thead>\n",
       "    <tr style=\"text-align: right;\">\n",
       "      <th></th>\n",
       "      <th>empno</th>\n",
       "      <th>job</th>\n",
       "      <th>mgr</th>\n",
       "      <th>hiredate</th>\n",
       "      <th>sal</th>\n",
       "      <th>comm</th>\n",
       "      <th>deptno</th>\n",
       "      <th>asal</th>\n",
       "      <th>comm2</th>\n",
       "      <th>deptno_str</th>\n",
       "      <th>job2</th>\n",
       "      <th>job3</th>\n",
       "    </tr>\n",
       "  </thead>\n",
       "  <tbody>\n",
       "    <tr>\n",
       "      <th>2</th>\n",
       "      <td>7521</td>\n",
       "      <td>SALESMAN</td>\n",
       "      <td>7698.0</td>\n",
       "      <td>1981-02-22</td>\n",
       "      <td>1250</td>\n",
       "      <td>9999</td>\n",
       "      <td>30</td>\n",
       "      <td>15000</td>\n",
       "      <td>500.0</td>\n",
       "      <td>그외</td>\n",
       "      <td>SALESMAN</td>\n",
       "      <td>SALESMAN</td>\n",
       "    </tr>\n",
       "    <tr>\n",
       "      <th>3</th>\n",
       "      <td>7566</td>\n",
       "      <td>MANAGER</td>\n",
       "      <td>7839.0</td>\n",
       "      <td>1981-04-02</td>\n",
       "      <td>2975</td>\n",
       "      <td>9999</td>\n",
       "      <td>20</td>\n",
       "      <td>35700</td>\n",
       "      <td>0.0</td>\n",
       "      <td>그외</td>\n",
       "      <td>MANAGER</td>\n",
       "      <td>MANAGER</td>\n",
       "    </tr>\n",
       "    <tr>\n",
       "      <th>4</th>\n",
       "      <td>7654</td>\n",
       "      <td>SALESMAN</td>\n",
       "      <td>7698.0</td>\n",
       "      <td>1981-09-28</td>\n",
       "      <td>1250</td>\n",
       "      <td>9999</td>\n",
       "      <td>30</td>\n",
       "      <td>15000</td>\n",
       "      <td>1400.0</td>\n",
       "      <td>그외</td>\n",
       "      <td>SALESMAN</td>\n",
       "      <td>SALESMAN</td>\n",
       "    </tr>\n",
       "  </tbody>\n",
       "</table>\n",
       "</div>"
      ],
      "text/plain": [
       "   empno       job     mgr   hiredate   sal  comm  deptno   asal   comm2  \\\n",
       "2   7521  SALESMAN  7698.0 1981-02-22  1250  9999      30  15000   500.0   \n",
       "3   7566   MANAGER  7839.0 1981-04-02  2975  9999      20  35700     0.0   \n",
       "4   7654  SALESMAN  7698.0 1981-09-28  1250  9999      30  15000  1400.0   \n",
       "\n",
       "  deptno_str      job2      job3  \n",
       "2         그외  SALESMAN  SALESMAN  \n",
       "3         그외   MANAGER   MANAGER  \n",
       "4         그외  SALESMAN  SALESMAN  "
      ]
     },
     "execution_count": 67,
     "metadata": {},
     "output_type": "execute_result"
    }
   ],
   "source": [
    "emp=emp.drop(\"ename\",axis=1) #ename인 컬럼 삭제\n",
    "emp.head(3)"
   ]
  },
  {
   "cell_type": "code",
   "execution_count": 76,
   "id": "6bde3785-29e4-4335-bf08-424c6d68c60e",
   "metadata": {
    "tags": []
   },
   "outputs": [
    {
     "name": "stdout",
     "output_type": "stream",
     "text": [
      "['empno', 'job', 'mgr', 'hiredate', 'sal', 'comm', 'deptno', 'asal', 'comm2', 'deptno_str', 'job2', 'job3']\n"
     ]
    },
    {
     "data": {
      "text/html": [
       "<div>\n",
       "<style scoped>\n",
       "    .dataframe tbody tr th:only-of-type {\n",
       "        vertical-align: middle;\n",
       "    }\n",
       "\n",
       "    .dataframe tbody tr th {\n",
       "        vertical-align: top;\n",
       "    }\n",
       "\n",
       "    .dataframe thead th {\n",
       "        text-align: right;\n",
       "    }\n",
       "</style>\n",
       "<table border=\"1\" class=\"dataframe\">\n",
       "  <thead>\n",
       "    <tr style=\"text-align: right;\">\n",
       "      <th></th>\n",
       "      <th>empno</th>\n",
       "      <th>job</th>\n",
       "      <th>mgr</th>\n",
       "      <th>hiredate</th>\n",
       "      <th>sal</th>\n",
       "      <th>comm</th>\n",
       "      <th>deptno</th>\n",
       "      <th>asal</th>\n",
       "      <th>comm2</th>\n",
       "      <th>deptno_str</th>\n",
       "      <th>job2</th>\n",
       "      <th>job3</th>\n",
       "    </tr>\n",
       "  </thead>\n",
       "  <tbody>\n",
       "    <tr>\n",
       "      <th>3</th>\n",
       "      <td>7566</td>\n",
       "      <td>MANAGER</td>\n",
       "      <td>7839.0</td>\n",
       "      <td>1981-04-02</td>\n",
       "      <td>2975</td>\n",
       "      <td>9999</td>\n",
       "      <td>20</td>\n",
       "      <td>35700</td>\n",
       "      <td>0.0</td>\n",
       "      <td>그외</td>\n",
       "      <td>MANAGER</td>\n",
       "      <td>MANAGER</td>\n",
       "    </tr>\n",
       "    <tr>\n",
       "      <th>4</th>\n",
       "      <td>7654</td>\n",
       "      <td>SALESMAN</td>\n",
       "      <td>7698.0</td>\n",
       "      <td>1981-09-28</td>\n",
       "      <td>1250</td>\n",
       "      <td>9999</td>\n",
       "      <td>30</td>\n",
       "      <td>15000</td>\n",
       "      <td>1400.0</td>\n",
       "      <td>그외</td>\n",
       "      <td>SALESMAN</td>\n",
       "      <td>SALESMAN</td>\n",
       "    </tr>\n",
       "    <tr>\n",
       "      <th>5</th>\n",
       "      <td>7698</td>\n",
       "      <td>MANAGER</td>\n",
       "      <td>7839.0</td>\n",
       "      <td>1981-05-01</td>\n",
       "      <td>2850</td>\n",
       "      <td>9999</td>\n",
       "      <td>30</td>\n",
       "      <td>34200</td>\n",
       "      <td>0.0</td>\n",
       "      <td>그외</td>\n",
       "      <td>MANAGER</td>\n",
       "      <td>MANAGER</td>\n",
       "    </tr>\n",
       "  </tbody>\n",
       "</table>\n",
       "</div>"
      ],
      "text/plain": [
       "   empno       job     mgr   hiredate   sal  comm  deptno   asal   comm2  \\\n",
       "3   7566   MANAGER  7839.0 1981-04-02  2975  9999      20  35700     0.0   \n",
       "4   7654  SALESMAN  7698.0 1981-09-28  1250  9999      30  15000  1400.0   \n",
       "5   7698   MANAGER  7839.0 1981-05-01  2850  9999      30  34200     0.0   \n",
       "\n",
       "  deptno_str      job2      job3  \n",
       "3         그외   MANAGER   MANAGER  \n",
       "4         그외  SALESMAN  SALESMAN  \n",
       "5         그외   MANAGER   MANAGER  "
      ]
     },
     "execution_count": 76,
     "metadata": {},
     "output_type": "execute_result"
    }
   ],
   "source": [
    "#보통 삭제가 아닌 필요한 컬럼만을 복사하여 다른 테이블로 만듬\n",
    "print(emp.columns.values.tolist())\n",
    "empcp=emp[['empno', 'job', 'mgr', 'hiredate', 'deptno_str' ]]\n",
    "emp.head(3)"
   ]
  },
  {
   "cell_type": "code",
   "execution_count": 74,
   "id": "033a49c3-4866-4690-aac9-e7bcbcd8ab89",
   "metadata": {
    "tags": []
   },
   "outputs": [],
   "source": [
    "del empcp  #drop table과 유사 --> 메모리에서 삭제 pd.read_csv() 다시 읽어들여야 함"
   ]
  },
  {
   "cell_type": "code",
   "execution_count": 75,
   "id": "71d28577-85de-4eee-832b-24d03ba24786",
   "metadata": {
    "tags": []
   },
   "outputs": [
    {
     "ename": "NameError",
     "evalue": "name 'empcp' is not defined",
     "output_type": "error",
     "traceback": [
      "\u001b[1;31m---------------------------------------------------------------------------\u001b[0m",
      "\u001b[1;31mNameError\u001b[0m                                 Traceback (most recent call last)",
      "Cell \u001b[1;32mIn[75], line 1\u001b[0m\n\u001b[1;32m----> 1\u001b[0m \u001b[43mempcp\u001b[49m\n",
      "\u001b[1;31mNameError\u001b[0m: name 'empcp' is not defined"
     ]
    }
   ],
   "source": [
    "#NameError: name 'empcp' is not defined \n",
    "#empcp  -->메모리에서 삭제되어 사용 불가"
   ]
  },
  {
   "cell_type": "code",
   "execution_count": null,
   "id": "c32dbdb5-1088-4276-9ecf-b8dedd047b20",
   "metadata": {},
   "outputs": [],
   "source": []
  },
  {
   "cell_type": "code",
   "execution_count": null,
   "id": "7620d3e4-52d8-42e8-b317-04963e99c7f9",
   "metadata": {},
   "outputs": [],
   "source": []
  }
 ],
 "metadata": {
  "kernelspec": {
   "display_name": "Python 3 (ipykernel)",
   "language": "python",
   "name": "python3"
  },
  "language_info": {
   "codemirror_mode": {
    "name": "ipython",
    "version": 3
   },
   "file_extension": ".py",
   "mimetype": "text/x-python",
   "name": "python",
   "nbconvert_exporter": "python",
   "pygments_lexer": "ipython3",
   "version": "3.8.8"
  },
  "toc-autonumbering": false
 },
 "nbformat": 4,
 "nbformat_minor": 5
}
