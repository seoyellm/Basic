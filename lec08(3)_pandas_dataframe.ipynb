{
 "cells": [
  {
   "cell_type": "markdown",
   "id": "6e01f70d-c43f-4480-903a-3914b55eb960",
   "metadata": {},
   "source": [
    "# 멀티 DataFrame"
   ]
  },
  {
   "cell_type": "markdown",
   "id": "34a62ced-47e8-4c91-820f-7bfa1aca010d",
   "metadata": {},
   "source": [
    "- ref: https://pandas.pydata.org/docs/user_guide/merging.html"
   ]
  },
  {
   "cell_type": "markdown",
   "id": "14381ad2-1936-4e0b-96f8-e369cb2e0fbc",
   "metadata": {},
   "source": [
    "## 1. pd.concat\n",
    "- 합치기(join x)\n",
    "- axis=0 : 데이터프레임을 밑으로 합침"
   ]
  },
  {
   "cell_type": "code",
   "execution_count": 1,
   "id": "d7c825d5-50c0-4cd5-b218-00e194d402ad",
   "metadata": {
    "tags": []
   },
   "outputs": [],
   "source": [
    "import pandas as pd\n",
    "import numpy as np"
   ]
  },
  {
   "cell_type": "code",
   "execution_count": 2,
   "id": "75ff8f33-c40d-4961-ac8b-3ed0da10ce14",
   "metadata": {},
   "outputs": [],
   "source": [
    "df1 = pd.DataFrame(\n",
    "    {\n",
    "        \"A\": [\"A0\", \"A1\", \"A2\", \"A3\"],\n",
    "        \"B\": [\"B0\", \"B1\", \"B2\", \"B3\"],\n",
    "        \"C\": [\"C0\", \"C1\", \"C2\", \"C3\"],\n",
    "        \"D\": [\"D0\", \"D1\", \"D2\", \"D3\"],\n",
    "    },\n",
    "    index=[0, 1, 2, 3],\n",
    ")\n",
    "\n",
    "\n",
    "df2 = pd.DataFrame(\n",
    "    {\n",
    "        \"A\": [\"A4\", \"A5\", \"A6\", \"A7\"],\n",
    "        \"B\": [\"B4\", \"B5\", \"B6\", \"B7\"],\n",
    "        \"C\": [\"C4\", \"C5\", \"C6\", \"C7\"],\n",
    "        \"D\": [\"D4\", \"D5\", \"D6\", \"D7\"],\n",
    "    },\n",
    "    index=[4, 5, 6, 7],\n",
    ")\n",
    "\n",
    "df3 = pd.DataFrame(\n",
    "    {\n",
    "        \"A\": [\"A8\", \"A9\", \"A10\", \"A11\"],\n",
    "        \"B\": [\"B8\", \"B9\", \"B10\", \"B11\"],\n",
    "        \"C\": [\"C8\", \"C9\", \"C10\", \"C11\"],\n",
    "        \"D\": [\"D8\", \"D9\", \"D10\", \"D11\"],\n",
    "    },\n",
    "    index=[8, 9, 10, 11],\n",
    ")\n"
   ]
  },
  {
   "cell_type": "code",
   "execution_count": 3,
   "id": "edeef7bf-7ac8-4067-81e4-5788e8924c0d",
   "metadata": {},
   "outputs": [
    {
     "data": {
      "text/html": [
       "<div>\n",
       "<style scoped>\n",
       "    .dataframe tbody tr th:only-of-type {\n",
       "        vertical-align: middle;\n",
       "    }\n",
       "\n",
       "    .dataframe tbody tr th {\n",
       "        vertical-align: top;\n",
       "    }\n",
       "\n",
       "    .dataframe thead th {\n",
       "        text-align: right;\n",
       "    }\n",
       "</style>\n",
       "<table border=\"1\" class=\"dataframe\">\n",
       "  <thead>\n",
       "    <tr style=\"text-align: right;\">\n",
       "      <th></th>\n",
       "      <th>A</th>\n",
       "      <th>B</th>\n",
       "      <th>C</th>\n",
       "      <th>D</th>\n",
       "    </tr>\n",
       "  </thead>\n",
       "  <tbody>\n",
       "    <tr>\n",
       "      <th>0</th>\n",
       "      <td>A0</td>\n",
       "      <td>B0</td>\n",
       "      <td>C0</td>\n",
       "      <td>D0</td>\n",
       "    </tr>\n",
       "    <tr>\n",
       "      <th>1</th>\n",
       "      <td>A1</td>\n",
       "      <td>B1</td>\n",
       "      <td>C1</td>\n",
       "      <td>D1</td>\n",
       "    </tr>\n",
       "    <tr>\n",
       "      <th>2</th>\n",
       "      <td>A2</td>\n",
       "      <td>B2</td>\n",
       "      <td>C2</td>\n",
       "      <td>D2</td>\n",
       "    </tr>\n",
       "    <tr>\n",
       "      <th>3</th>\n",
       "      <td>A3</td>\n",
       "      <td>B3</td>\n",
       "      <td>C3</td>\n",
       "      <td>D3</td>\n",
       "    </tr>\n",
       "  </tbody>\n",
       "</table>\n",
       "</div>"
      ],
      "text/plain": [
       "    A   B   C   D\n",
       "0  A0  B0  C0  D0\n",
       "1  A1  B1  C1  D1\n",
       "2  A2  B2  C2  D2\n",
       "3  A3  B3  C3  D3"
      ]
     },
     "execution_count": 3,
     "metadata": {},
     "output_type": "execute_result"
    }
   ],
   "source": [
    "df1"
   ]
  },
  {
   "cell_type": "code",
   "execution_count": 4,
   "id": "ecbb831c-ee84-4a18-9b19-4a60a408cc4e",
   "metadata": {
    "tags": []
   },
   "outputs": [
    {
     "data": {
      "text/html": [
       "<div>\n",
       "<style scoped>\n",
       "    .dataframe tbody tr th:only-of-type {\n",
       "        vertical-align: middle;\n",
       "    }\n",
       "\n",
       "    .dataframe tbody tr th {\n",
       "        vertical-align: top;\n",
       "    }\n",
       "\n",
       "    .dataframe thead th {\n",
       "        text-align: right;\n",
       "    }\n",
       "</style>\n",
       "<table border=\"1\" class=\"dataframe\">\n",
       "  <thead>\n",
       "    <tr style=\"text-align: right;\">\n",
       "      <th></th>\n",
       "      <th>A</th>\n",
       "      <th>B</th>\n",
       "      <th>C</th>\n",
       "      <th>D</th>\n",
       "    </tr>\n",
       "  </thead>\n",
       "  <tbody>\n",
       "    <tr>\n",
       "      <th>4</th>\n",
       "      <td>A4</td>\n",
       "      <td>B4</td>\n",
       "      <td>C4</td>\n",
       "      <td>D4</td>\n",
       "    </tr>\n",
       "    <tr>\n",
       "      <th>5</th>\n",
       "      <td>A5</td>\n",
       "      <td>B5</td>\n",
       "      <td>C5</td>\n",
       "      <td>D5</td>\n",
       "    </tr>\n",
       "    <tr>\n",
       "      <th>6</th>\n",
       "      <td>A6</td>\n",
       "      <td>B6</td>\n",
       "      <td>C6</td>\n",
       "      <td>D6</td>\n",
       "    </tr>\n",
       "    <tr>\n",
       "      <th>7</th>\n",
       "      <td>A7</td>\n",
       "      <td>B7</td>\n",
       "      <td>C7</td>\n",
       "      <td>D7</td>\n",
       "    </tr>\n",
       "  </tbody>\n",
       "</table>\n",
       "</div>"
      ],
      "text/plain": [
       "    A   B   C   D\n",
       "4  A4  B4  C4  D4\n",
       "5  A5  B5  C5  D5\n",
       "6  A6  B6  C6  D6\n",
       "7  A7  B7  C7  D7"
      ]
     },
     "execution_count": 4,
     "metadata": {},
     "output_type": "execute_result"
    }
   ],
   "source": [
    "df2"
   ]
  },
  {
   "cell_type": "code",
   "execution_count": 5,
   "id": "54a186b5-202f-41d9-84a8-694762017e4b",
   "metadata": {
    "tags": []
   },
   "outputs": [
    {
     "data": {
      "text/html": [
       "<div>\n",
       "<style scoped>\n",
       "    .dataframe tbody tr th:only-of-type {\n",
       "        vertical-align: middle;\n",
       "    }\n",
       "\n",
       "    .dataframe tbody tr th {\n",
       "        vertical-align: top;\n",
       "    }\n",
       "\n",
       "    .dataframe thead th {\n",
       "        text-align: right;\n",
       "    }\n",
       "</style>\n",
       "<table border=\"1\" class=\"dataframe\">\n",
       "  <thead>\n",
       "    <tr style=\"text-align: right;\">\n",
       "      <th></th>\n",
       "      <th>A</th>\n",
       "      <th>B</th>\n",
       "      <th>C</th>\n",
       "      <th>D</th>\n",
       "    </tr>\n",
       "  </thead>\n",
       "  <tbody>\n",
       "    <tr>\n",
       "      <th>8</th>\n",
       "      <td>A8</td>\n",
       "      <td>B8</td>\n",
       "      <td>C8</td>\n",
       "      <td>D8</td>\n",
       "    </tr>\n",
       "    <tr>\n",
       "      <th>9</th>\n",
       "      <td>A9</td>\n",
       "      <td>B9</td>\n",
       "      <td>C9</td>\n",
       "      <td>D9</td>\n",
       "    </tr>\n",
       "    <tr>\n",
       "      <th>10</th>\n",
       "      <td>A10</td>\n",
       "      <td>B10</td>\n",
       "      <td>C10</td>\n",
       "      <td>D10</td>\n",
       "    </tr>\n",
       "    <tr>\n",
       "      <th>11</th>\n",
       "      <td>A11</td>\n",
       "      <td>B11</td>\n",
       "      <td>C11</td>\n",
       "      <td>D11</td>\n",
       "    </tr>\n",
       "  </tbody>\n",
       "</table>\n",
       "</div>"
      ],
      "text/plain": [
       "      A    B    C    D\n",
       "8    A8   B8   C8   D8\n",
       "9    A9   B9   C9   D9\n",
       "10  A10  B10  C10  D10\n",
       "11  A11  B11  C11  D11"
      ]
     },
     "execution_count": 5,
     "metadata": {},
     "output_type": "execute_result"
    }
   ],
   "source": [
    "df3"
   ]
  },
  {
   "cell_type": "code",
   "execution_count": 6,
   "id": "93b9d475-de08-426e-836a-92fa763c2cb2",
   "metadata": {},
   "outputs": [],
   "source": [
    "# df_list = []\n",
    "# df_list.append(df1)\n",
    "# df_list.append(df2)\n",
    "# df_list.append(df3)\n",
    "# df_list"
   ]
  },
  {
   "cell_type": "code",
   "execution_count": 7,
   "id": "5b76f6aa-061d-41ed-8a65-4bd381848e41",
   "metadata": {},
   "outputs": [
    {
     "data": {
      "text/plain": [
       "[    A   B   C   D\n",
       " 0  A0  B0  C0  D0\n",
       " 1  A1  B1  C1  D1\n",
       " 2  A2  B2  C2  D2\n",
       " 3  A3  B3  C3  D3,\n",
       "     A   B   C   D\n",
       " 4  A4  B4  C4  D4\n",
       " 5  A5  B5  C5  D5\n",
       " 6  A6  B6  C6  D6\n",
       " 7  A7  B7  C7  D7,\n",
       "       A    B    C    D\n",
       " 8    A8   B8   C8   D8\n",
       " 9    A9   B9   C9   D9\n",
       " 10  A10  B10  C10  D10\n",
       " 11  A11  B11  C11  D11]"
      ]
     },
     "execution_count": 7,
     "metadata": {},
     "output_type": "execute_result"
    }
   ],
   "source": [
    "df_list=[df1,df2,df3] #리스트에 프레임 넣기\n",
    "df_list"
   ]
  },
  {
   "cell_type": "markdown",
   "id": "fb77556b-40e6-46d2-92ce-38228b3cb4f5",
   "metadata": {},
   "source": [
    "### 1.1 <font size=6 color='red'><b> 상당히 중요하고 좋은 문법</font></b><br>\n",
    "- <font color='red'><b>df = pd.concat([df1,df2,df3])</font><b>\n",
    "- 대용량일 경우 수초면 끝나는 효율적인 속도"
   ]
  },
  {
   "cell_type": "code",
   "execution_count": 8,
   "id": "7f92e428-e92f-4d9d-b66b-9d540c4e0c2f",
   "metadata": {},
   "outputs": [
    {
     "data": {
      "text/html": [
       "<div>\n",
       "<style scoped>\n",
       "    .dataframe tbody tr th:only-of-type {\n",
       "        vertical-align: middle;\n",
       "    }\n",
       "\n",
       "    .dataframe tbody tr th {\n",
       "        vertical-align: top;\n",
       "    }\n",
       "\n",
       "    .dataframe thead th {\n",
       "        text-align: right;\n",
       "    }\n",
       "</style>\n",
       "<table border=\"1\" class=\"dataframe\">\n",
       "  <thead>\n",
       "    <tr style=\"text-align: right;\">\n",
       "      <th></th>\n",
       "      <th>A</th>\n",
       "      <th>B</th>\n",
       "      <th>C</th>\n",
       "      <th>D</th>\n",
       "    </tr>\n",
       "  </thead>\n",
       "  <tbody>\n",
       "    <tr>\n",
       "      <th>0</th>\n",
       "      <td>A0</td>\n",
       "      <td>B0</td>\n",
       "      <td>C0</td>\n",
       "      <td>D0</td>\n",
       "    </tr>\n",
       "    <tr>\n",
       "      <th>1</th>\n",
       "      <td>A1</td>\n",
       "      <td>B1</td>\n",
       "      <td>C1</td>\n",
       "      <td>D1</td>\n",
       "    </tr>\n",
       "    <tr>\n",
       "      <th>2</th>\n",
       "      <td>A2</td>\n",
       "      <td>B2</td>\n",
       "      <td>C2</td>\n",
       "      <td>D2</td>\n",
       "    </tr>\n",
       "    <tr>\n",
       "      <th>3</th>\n",
       "      <td>A3</td>\n",
       "      <td>B3</td>\n",
       "      <td>C3</td>\n",
       "      <td>D3</td>\n",
       "    </tr>\n",
       "    <tr>\n",
       "      <th>4</th>\n",
       "      <td>A4</td>\n",
       "      <td>B4</td>\n",
       "      <td>C4</td>\n",
       "      <td>D4</td>\n",
       "    </tr>\n",
       "    <tr>\n",
       "      <th>5</th>\n",
       "      <td>A5</td>\n",
       "      <td>B5</td>\n",
       "      <td>C5</td>\n",
       "      <td>D5</td>\n",
       "    </tr>\n",
       "    <tr>\n",
       "      <th>6</th>\n",
       "      <td>A6</td>\n",
       "      <td>B6</td>\n",
       "      <td>C6</td>\n",
       "      <td>D6</td>\n",
       "    </tr>\n",
       "    <tr>\n",
       "      <th>7</th>\n",
       "      <td>A7</td>\n",
       "      <td>B7</td>\n",
       "      <td>C7</td>\n",
       "      <td>D7</td>\n",
       "    </tr>\n",
       "    <tr>\n",
       "      <th>8</th>\n",
       "      <td>A8</td>\n",
       "      <td>B8</td>\n",
       "      <td>C8</td>\n",
       "      <td>D8</td>\n",
       "    </tr>\n",
       "    <tr>\n",
       "      <th>9</th>\n",
       "      <td>A9</td>\n",
       "      <td>B9</td>\n",
       "      <td>C9</td>\n",
       "      <td>D9</td>\n",
       "    </tr>\n",
       "    <tr>\n",
       "      <th>10</th>\n",
       "      <td>A10</td>\n",
       "      <td>B10</td>\n",
       "      <td>C10</td>\n",
       "      <td>D10</td>\n",
       "    </tr>\n",
       "    <tr>\n",
       "      <th>11</th>\n",
       "      <td>A11</td>\n",
       "      <td>B11</td>\n",
       "      <td>C11</td>\n",
       "      <td>D11</td>\n",
       "    </tr>\n",
       "  </tbody>\n",
       "</table>\n",
       "</div>"
      ],
      "text/plain": [
       "      A    B    C    D\n",
       "0    A0   B0   C0   D0\n",
       "1    A1   B1   C1   D1\n",
       "2    A2   B2   C2   D2\n",
       "3    A3   B3   C3   D3\n",
       "4    A4   B4   C4   D4\n",
       "5    A5   B5   C5   D5\n",
       "6    A6   B6   C6   D6\n",
       "7    A7   B7   C7   D7\n",
       "8    A8   B8   C8   D8\n",
       "9    A9   B9   C9   D9\n",
       "10  A10  B10  C10  D10\n",
       "11  A11  B11  C11  D11"
      ]
     },
     "execution_count": 8,
     "metadata": {},
     "output_type": "execute_result"
    }
   ],
   "source": [
    "df = pd.concat(df_list)\n",
    "df"
   ]
  },
  {
   "cell_type": "markdown",
   "id": "768aae46-77ab-4728-a499-f90cdc2c32f3",
   "metadata": {},
   "source": [
    "### 1.2 <font color='red'><b> 주의 사항 </font><b>\n",
    "    \n",
    "- 프레임과 프레임을 더하면 값을 합친다\n",
    "- 인덱스 값이 다른 경우는 합쳐지지 않음"
   ]
  },
  {
   "cell_type": "code",
   "execution_count": 9,
   "id": "c674e6a2-a758-4493-a9a7-d6b09b7b8d76",
   "metadata": {},
   "outputs": [
    {
     "data": {
      "text/html": [
       "<div>\n",
       "<style scoped>\n",
       "    .dataframe tbody tr th:only-of-type {\n",
       "        vertical-align: middle;\n",
       "    }\n",
       "\n",
       "    .dataframe tbody tr th {\n",
       "        vertical-align: top;\n",
       "    }\n",
       "\n",
       "    .dataframe thead th {\n",
       "        text-align: right;\n",
       "    }\n",
       "</style>\n",
       "<table border=\"1\" class=\"dataframe\">\n",
       "  <thead>\n",
       "    <tr style=\"text-align: right;\">\n",
       "      <th></th>\n",
       "      <th>A</th>\n",
       "      <th>B</th>\n",
       "      <th>C</th>\n",
       "      <th>D</th>\n",
       "    </tr>\n",
       "  </thead>\n",
       "  <tbody>\n",
       "    <tr>\n",
       "      <th>0</th>\n",
       "      <td>A0A4</td>\n",
       "      <td>B0B4</td>\n",
       "      <td>C0C4</td>\n",
       "      <td>D0D4</td>\n",
       "    </tr>\n",
       "    <tr>\n",
       "      <th>1</th>\n",
       "      <td>A1A5</td>\n",
       "      <td>B1B5</td>\n",
       "      <td>C1C5</td>\n",
       "      <td>D1D5</td>\n",
       "    </tr>\n",
       "    <tr>\n",
       "      <th>2</th>\n",
       "      <td>A2A6</td>\n",
       "      <td>B2B6</td>\n",
       "      <td>C2C6</td>\n",
       "      <td>D2D6</td>\n",
       "    </tr>\n",
       "    <tr>\n",
       "      <th>3</th>\n",
       "      <td>A3A7</td>\n",
       "      <td>B3B7</td>\n",
       "      <td>C3C7</td>\n",
       "      <td>D3D7</td>\n",
       "    </tr>\n",
       "  </tbody>\n",
       "</table>\n",
       "</div>"
      ],
      "text/plain": [
       "      A     B     C     D\n",
       "0  A0A4  B0B4  C0C4  D0D4\n",
       "1  A1A5  B1B5  C1C5  D1D5\n",
       "2  A2A6  B2B6  C2C6  D2D6\n",
       "3  A3A7  B3B7  C3C7  D3D7"
      ]
     },
     "execution_count": 9,
     "metadata": {},
     "output_type": "execute_result"
    }
   ],
   "source": [
    "df111 = pd.DataFrame(\n",
    "    {\n",
    "        \"A\": [\"A0\", \"A1\", \"A2\", \"A3\"],\n",
    "        \"B\": [\"B0\", \"B1\", \"B2\", \"B3\"],\n",
    "        \"C\": [\"C0\", \"C1\", \"C2\", \"C3\"],\n",
    "        \"D\": [\"D0\", \"D1\", \"D2\", \"D3\"],\n",
    "    },\n",
    "    index=[0, 1, 2, 3],\n",
    ")\n",
    "df222 = pd.DataFrame(\n",
    "    {\n",
    "        \"A\": [\"A4\", \"A5\", \"A6\", \"A7\"],\n",
    "        \"B\": [\"B4\", \"B5\", \"B6\", \"B7\"],\n",
    "        \"C\": [\"C4\", \"C5\", \"C6\", \"C7\"],\n",
    "        \"D\": [\"D4\", \"D5\", \"D6\", \"D7\"],\n",
    "    },\n",
    "    index=[0, 1, 2, 3],\n",
    ")\n",
    "res = df111 + df222  \n",
    "res"
   ]
  },
  {
   "cell_type": "markdown",
   "id": "d4030a29-e857-44c7-9042-660b26f85cc6",
   "metadata": {},
   "source": [
    "### 1.3 요소"
   ]
  },
  {
   "cell_type": "markdown",
   "id": "b0db0f2d-0a3d-42dd-9728-c9a5c0e26569",
   "metadata": {},
   "source": [
    "<pre>\n",
    "pd.concat(\n",
    "    objs,\n",
    "    axis=0,  -> 0 : 밑으로 합치기, 1: 옆으로 합치기\n",
    "    join=\"outer\",  -->기본 'outer join' : 키의 여부와 상관없이 합침, 없는 값은 null -->full outer join\n",
    "                   -->'inner join' : 인덱스키가 동일한 것만 합침\n",
    "    ignore_index=False,  -->인덱스값이 다른 경우 앞의 인덱스에 맞춤 : 옆으로 합침\n",
    "    keys=None,\n",
    "    levels=None,\n",
    "    names=None,\n",
    "    verify_integrity=False,\n",
    "    copy=True,\n",
    ")"
   ]
  },
  {
   "cell_type": "markdown",
   "id": "1ce30e1b-fecf-499b-9da2-0ed275d339f0",
   "metadata": {},
   "source": [
    "## 2 DB 연결해서 DataFrame 만들기"
   ]
  },
  {
   "cell_type": "markdown",
   "id": "e04f84b5-5da9-445e-8be8-fd9bbedbb884",
   "metadata": {},
   "source": [
    "### 2.1 csv파일이 있는 경우"
   ]
  },
  {
   "cell_type": "code",
   "execution_count": 10,
   "id": "4c16b730-c63c-4c7a-ac20-118fb9667093",
   "metadata": {},
   "outputs": [
    {
     "data": {
      "text/html": [
       "<div>\n",
       "<style scoped>\n",
       "    .dataframe tbody tr th:only-of-type {\n",
       "        vertical-align: middle;\n",
       "    }\n",
       "\n",
       "    .dataframe tbody tr th {\n",
       "        vertical-align: top;\n",
       "    }\n",
       "\n",
       "    .dataframe thead th {\n",
       "        text-align: right;\n",
       "    }\n",
       "</style>\n",
       "<table border=\"1\" class=\"dataframe\">\n",
       "  <thead>\n",
       "    <tr style=\"text-align: right;\">\n",
       "      <th></th>\n",
       "      <th>EMPNO</th>\n",
       "      <th>ENAME</th>\n",
       "      <th>JOB</th>\n",
       "      <th>MGR</th>\n",
       "      <th>HIREDATE</th>\n",
       "      <th>SAL</th>\n",
       "      <th>COMM</th>\n",
       "      <th>DEPTNO</th>\n",
       "    </tr>\n",
       "  </thead>\n",
       "  <tbody>\n",
       "    <tr>\n",
       "      <th>0</th>\n",
       "      <td>7369</td>\n",
       "      <td>SMITH</td>\n",
       "      <td>CLERK</td>\n",
       "      <td>7902.0</td>\n",
       "      <td>1980-12-17</td>\n",
       "      <td>800</td>\n",
       "      <td>NaN</td>\n",
       "      <td>20</td>\n",
       "    </tr>\n",
       "    <tr>\n",
       "      <th>1</th>\n",
       "      <td>7499</td>\n",
       "      <td>ALLEN</td>\n",
       "      <td>SALESMAN</td>\n",
       "      <td>7698.0</td>\n",
       "      <td>1981-02-20</td>\n",
       "      <td>1600</td>\n",
       "      <td>300.0</td>\n",
       "      <td>30</td>\n",
       "    </tr>\n",
       "    <tr>\n",
       "      <th>2</th>\n",
       "      <td>7521</td>\n",
       "      <td>WARD</td>\n",
       "      <td>SALESMAN</td>\n",
       "      <td>7698.0</td>\n",
       "      <td>1981-02-22</td>\n",
       "      <td>1250</td>\n",
       "      <td>500.0</td>\n",
       "      <td>30</td>\n",
       "    </tr>\n",
       "  </tbody>\n",
       "</table>\n",
       "</div>"
      ],
      "text/plain": [
       "   EMPNO  ENAME       JOB     MGR   HIREDATE   SAL   COMM  DEPTNO\n",
       "0   7369  SMITH     CLERK  7902.0 1980-12-17   800    NaN      20\n",
       "1   7499  ALLEN  SALESMAN  7698.0 1981-02-20  1600  300.0      30\n",
       "2   7521   WARD  SALESMAN  7698.0 1981-02-22  1250  500.0      30"
      ]
     },
     "execution_count": 10,
     "metadata": {},
     "output_type": "execute_result"
    }
   ],
   "source": [
    "emp = pd.read_csv(\"./lec08_emp.csv\", parse_dates=['HIREDATE'])\n",
    "emp.head(3)"
   ]
  },
  {
   "cell_type": "markdown",
   "id": "e6f4c91f-e8cc-4937-bf9d-f39704062179",
   "metadata": {
    "tags": []
   },
   "source": [
    "### 2.2 DB 연결해서 읽는 경우 (pd.read_sql)\n",
    "<pre>\n",
    "<b>pandas.read_sql(sql, con, index_col=None, parse_dates=None, columns=None,</b>\n",
    "        , coerce_float=True, params=None, chunksize=None)\n"
   ]
  },
  {
   "cell_type": "markdown",
   "id": "bb057e18-c327-46a5-a47d-2645ce09ea98",
   "metadata": {},
   "source": [
    "- Warning(경고) 핑크박스 안나오게 할 경우 사용"
   ]
  },
  {
   "cell_type": "code",
   "execution_count": 11,
   "id": "490f5982-4ce8-4d0c-bb93-d722b7ecdbcd",
   "metadata": {
    "tags": []
   },
   "outputs": [],
   "source": [
    "import warnings\n",
    "warnings.filterwarnings(action='ignore')"
   ]
  },
  {
   "cell_type": "markdown",
   "id": "3ffe74fa-9b0b-4746-8a7c-9ae2463b5a7d",
   "metadata": {},
   "source": [
    "- 오라클 연결"
   ]
  },
  {
   "cell_type": "code",
   "execution_count": 12,
   "id": "bb11e5ed-5956-49ef-93d5-4118a03613d1",
   "metadata": {
    "tags": []
   },
   "outputs": [
    {
     "name": "stdout",
     "output_type": "stream",
     "text": [
      "<cx_Oracle.Connection to ai@localhost:1521/XE> ok\n"
     ]
    }
   ],
   "source": [
    "import cx_Oracle\n",
    "conn = cx_Oracle.connect(\"ai\", \"0000\", \"localhost:1521/XE\")\n",
    "if bool(conn) :\n",
    "    print(conn, \"ok\")\n",
    "else:\n",
    "    print(\"Fail\")"
   ]
  },
  {
   "cell_type": "markdown",
   "id": "54b14492-3c9e-4fe0-abc7-3f23ee42ce8a",
   "metadata": {},
   "source": [
    "#### 2.2.1 emp"
   ]
  },
  {
   "cell_type": "code",
   "execution_count": 13,
   "id": "44879d09-d9d1-416f-bba1-8b07d75df7ab",
   "metadata": {
    "tags": []
   },
   "outputs": [
    {
     "data": {
      "text/html": [
       "<div>\n",
       "<style scoped>\n",
       "    .dataframe tbody tr th:only-of-type {\n",
       "        vertical-align: middle;\n",
       "    }\n",
       "\n",
       "    .dataframe tbody tr th {\n",
       "        vertical-align: top;\n",
       "    }\n",
       "\n",
       "    .dataframe thead th {\n",
       "        text-align: right;\n",
       "    }\n",
       "</style>\n",
       "<table border=\"1\" class=\"dataframe\">\n",
       "  <thead>\n",
       "    <tr style=\"text-align: right;\">\n",
       "      <th></th>\n",
       "      <th>empno</th>\n",
       "      <th>ename</th>\n",
       "      <th>job</th>\n",
       "      <th>mgr</th>\n",
       "      <th>hiredate</th>\n",
       "      <th>sal</th>\n",
       "      <th>comm</th>\n",
       "      <th>deptno</th>\n",
       "    </tr>\n",
       "  </thead>\n",
       "  <tbody>\n",
       "    <tr>\n",
       "      <th>0</th>\n",
       "      <td>7369</td>\n",
       "      <td>SMITH</td>\n",
       "      <td>CLERK</td>\n",
       "      <td>7902.0</td>\n",
       "      <td>1980-12-17</td>\n",
       "      <td>800.0</td>\n",
       "      <td>NaN</td>\n",
       "      <td>20</td>\n",
       "    </tr>\n",
       "    <tr>\n",
       "      <th>1</th>\n",
       "      <td>7499</td>\n",
       "      <td>ALLEN</td>\n",
       "      <td>SALESMAN</td>\n",
       "      <td>7698.0</td>\n",
       "      <td>1981-02-20</td>\n",
       "      <td>1600.0</td>\n",
       "      <td>300.0</td>\n",
       "      <td>30</td>\n",
       "    </tr>\n",
       "    <tr>\n",
       "      <th>2</th>\n",
       "      <td>7521</td>\n",
       "      <td>WARD</td>\n",
       "      <td>SALESMAN</td>\n",
       "      <td>7698.0</td>\n",
       "      <td>1981-02-22</td>\n",
       "      <td>1250.0</td>\n",
       "      <td>500.0</td>\n",
       "      <td>30</td>\n",
       "    </tr>\n",
       "  </tbody>\n",
       "</table>\n",
       "</div>"
      ],
      "text/plain": [
       "   empno  ename       job     mgr   hiredate     sal   comm  deptno\n",
       "0   7369  SMITH     CLERK  7902.0 1980-12-17   800.0    NaN      20\n",
       "1   7499  ALLEN  SALESMAN  7698.0 1981-02-20  1600.0  300.0      30\n",
       "2   7521   WARD  SALESMAN  7698.0 1981-02-22  1250.0  500.0      30"
      ]
     },
     "execution_count": 13,
     "metadata": {},
     "output_type": "execute_result"
    }
   ],
   "source": [
    "sql=\"select * from emp\"\n",
    "empdf=pd.read_sql(sql,conn\n",
    "                  ,parse_dates=['HIREDATE']\n",
    "                  )\n",
    "empdf.columns=empdf.columns.str.lower()\n",
    "empdf.head(3)"
   ]
  },
  {
   "cell_type": "code",
   "execution_count": 14,
   "id": "9cd64ea4-64c5-4801-a3ec-fc76bd4e7442",
   "metadata": {
    "tags": []
   },
   "outputs": [
    {
     "name": "stdout",
     "output_type": "stream",
     "text": [
      "<class 'pandas.core.frame.DataFrame'>\n",
      "RangeIndex: 14 entries, 0 to 13\n",
      "Data columns (total 8 columns):\n",
      " #   Column    Non-Null Count  Dtype         \n",
      "---  ------    --------------  -----         \n",
      " 0   empno     14 non-null     int64         \n",
      " 1   ename     14 non-null     object        \n",
      " 2   job       14 non-null     object        \n",
      " 3   mgr       13 non-null     float64       \n",
      " 4   hiredate  14 non-null     datetime64[ns]\n",
      " 5   sal       14 non-null     float64       \n",
      " 6   comm      4 non-null      float64       \n",
      " 7   deptno    14 non-null     int64         \n",
      "dtypes: datetime64[ns](1), float64(3), int64(2), object(2)\n",
      "memory usage: 1.0+ KB\n"
     ]
    }
   ],
   "source": [
    "empdf.info()"
   ]
  },
  {
   "cell_type": "markdown",
   "id": "4449435a-6be4-4b10-85d0-546e78d23bcd",
   "metadata": {},
   "source": [
    "- 데이터프레임 타입 변환"
   ]
  },
  {
   "cell_type": "code",
   "execution_count": 15,
   "id": "a7c5d0b5-33b1-4c05-8411-922ea93bf00a",
   "metadata": {
    "tags": []
   },
   "outputs": [
    {
     "name": "stdout",
     "output_type": "stream",
     "text": [
      "<class 'pandas.core.frame.DataFrame'>\n",
      "RangeIndex: 14 entries, 0 to 13\n",
      "Data columns (total 8 columns):\n",
      " #   Column    Non-Null Count  Dtype         \n",
      "---  ------    --------------  -----         \n",
      " 0   empno     14 non-null     int64         \n",
      " 1   ename     14 non-null     object        \n",
      " 2   job       14 non-null     object        \n",
      " 3   mgr       13 non-null     float64       \n",
      " 4   hiredate  14 non-null     datetime64[ns]\n",
      " 5   sal       14 non-null     int32         \n",
      " 6   comm      4 non-null      float64       \n",
      " 7   deptno    14 non-null     int64         \n",
      "dtypes: datetime64[ns](1), float64(2), int32(1), int64(2), object(2)\n",
      "memory usage: 968.0+ bytes\n"
     ]
    }
   ],
   "source": [
    "empdf['sal'] = empdf['sal'].astype('int')\n",
    "empdf.info()"
   ]
  },
  {
   "cell_type": "code",
   "execution_count": 16,
   "id": "b47cf2ed-edfd-442e-a851-453c8889586a",
   "metadata": {
    "tags": []
   },
   "outputs": [
    {
     "data": {
      "text/html": [
       "<div>\n",
       "<style scoped>\n",
       "    .dataframe tbody tr th:only-of-type {\n",
       "        vertical-align: middle;\n",
       "    }\n",
       "\n",
       "    .dataframe tbody tr th {\n",
       "        vertical-align: top;\n",
       "    }\n",
       "\n",
       "    .dataframe thead th {\n",
       "        text-align: right;\n",
       "    }\n",
       "</style>\n",
       "<table border=\"1\" class=\"dataframe\">\n",
       "  <thead>\n",
       "    <tr style=\"text-align: right;\">\n",
       "      <th></th>\n",
       "      <th>empno</th>\n",
       "      <th>ename</th>\n",
       "      <th>job</th>\n",
       "      <th>mgr</th>\n",
       "      <th>hiredate</th>\n",
       "      <th>sal</th>\n",
       "      <th>comm</th>\n",
       "      <th>deptno</th>\n",
       "    </tr>\n",
       "  </thead>\n",
       "  <tbody>\n",
       "    <tr>\n",
       "      <th>0</th>\n",
       "      <td>7369</td>\n",
       "      <td>SMITH</td>\n",
       "      <td>CLERK</td>\n",
       "      <td>7902.0</td>\n",
       "      <td>1980-12-17</td>\n",
       "      <td>800</td>\n",
       "      <td>NaN</td>\n",
       "      <td>20</td>\n",
       "    </tr>\n",
       "    <tr>\n",
       "      <th>1</th>\n",
       "      <td>7499</td>\n",
       "      <td>ALLEN</td>\n",
       "      <td>SALESMAN</td>\n",
       "      <td>7698.0</td>\n",
       "      <td>1981-02-20</td>\n",
       "      <td>1600</td>\n",
       "      <td>300.0</td>\n",
       "      <td>30</td>\n",
       "    </tr>\n",
       "    <tr>\n",
       "      <th>2</th>\n",
       "      <td>7521</td>\n",
       "      <td>WARD</td>\n",
       "      <td>SALESMAN</td>\n",
       "      <td>7698.0</td>\n",
       "      <td>1981-02-22</td>\n",
       "      <td>1250</td>\n",
       "      <td>500.0</td>\n",
       "      <td>30</td>\n",
       "    </tr>\n",
       "  </tbody>\n",
       "</table>\n",
       "</div>"
      ],
      "text/plain": [
       "   empno  ename       job     mgr   hiredate   sal   comm  deptno\n",
       "0   7369  SMITH     CLERK  7902.0 1980-12-17   800    NaN      20\n",
       "1   7499  ALLEN  SALESMAN  7698.0 1981-02-20  1600  300.0      30\n",
       "2   7521   WARD  SALESMAN  7698.0 1981-02-22  1250  500.0      30"
      ]
     },
     "execution_count": 16,
     "metadata": {},
     "output_type": "execute_result"
    }
   ],
   "source": [
    "empdf.head(3)"
   ]
  },
  {
   "cell_type": "markdown",
   "id": "6b73ab59-99f1-4c35-8ad8-9e3d0fbb0dc9",
   "metadata": {},
   "source": [
    "- 데이터프레임 결측 처리"
   ]
  },
  {
   "cell_type": "code",
   "execution_count": 17,
   "id": "21632a43-ccf4-4671-a24f-6b2044fedc70",
   "metadata": {
    "tags": []
   },
   "outputs": [
    {
     "data": {
      "text/plain": [
       "comm        10\n",
       "mgr          1\n",
       "empno        0\n",
       "ename        0\n",
       "job          0\n",
       "hiredate     0\n",
       "sal          0\n",
       "deptno       0\n",
       "dtype: int64"
      ]
     },
     "execution_count": 17,
     "metadata": {},
     "output_type": "execute_result"
    }
   ],
   "source": [
    "empdf.isna().sum().sort_values(ascending=False)"
   ]
  },
  {
   "cell_type": "code",
   "execution_count": 18,
   "id": "cbc84fc3-8618-4607-a073-49a36ea639f8",
   "metadata": {
    "tags": []
   },
   "outputs": [
    {
     "data": {
      "text/plain": [
       "comm    10\n",
       "mgr      1\n",
       "dtype: int64"
      ]
     },
     "execution_count": 18,
     "metadata": {},
     "output_type": "execute_result"
    }
   ],
   "source": [
    "empdf.isna().sum() [ empdf.isna().sum() > 0 ].sort_values(ascending=False)"
   ]
  },
  {
   "cell_type": "code",
   "execution_count": 19,
   "id": "e61e4536-07d5-41fb-9094-78a1eaa9fefd",
   "metadata": {
    "tags": []
   },
   "outputs": [],
   "source": [
    "empdf[['comm','mgr']]=empdf[['comm','mgr']].fillna(0)"
   ]
  },
  {
   "cell_type": "code",
   "execution_count": 20,
   "id": "464f83e2-a417-4c5c-9fc9-c292b3fd791e",
   "metadata": {
    "tags": []
   },
   "outputs": [
    {
     "data": {
      "text/plain": [
       "Series([], dtype: int64)"
      ]
     },
     "execution_count": 20,
     "metadata": {},
     "output_type": "execute_result"
    }
   ],
   "source": [
    "empdf.isna().sum() [ empdf.isna().sum() > 0 ].sort_values(ascending=False)"
   ]
  },
  {
   "cell_type": "markdown",
   "id": "a3838970-9d6e-4751-b7e7-7e08a3403c5b",
   "metadata": {},
   "source": [
    "#### 2.2.2 dept"
   ]
  },
  {
   "cell_type": "code",
   "execution_count": 21,
   "id": "00135b91-372c-4f07-b625-79977bff3e55",
   "metadata": {
    "tags": []
   },
   "outputs": [
    {
     "data": {
      "text/html": [
       "<div>\n",
       "<style scoped>\n",
       "    .dataframe tbody tr th:only-of-type {\n",
       "        vertical-align: middle;\n",
       "    }\n",
       "\n",
       "    .dataframe tbody tr th {\n",
       "        vertical-align: top;\n",
       "    }\n",
       "\n",
       "    .dataframe thead th {\n",
       "        text-align: right;\n",
       "    }\n",
       "</style>\n",
       "<table border=\"1\" class=\"dataframe\">\n",
       "  <thead>\n",
       "    <tr style=\"text-align: right;\">\n",
       "      <th></th>\n",
       "      <th>deptno</th>\n",
       "      <th>dname</th>\n",
       "      <th>loc</th>\n",
       "    </tr>\n",
       "  </thead>\n",
       "  <tbody>\n",
       "    <tr>\n",
       "      <th>0</th>\n",
       "      <td>10</td>\n",
       "      <td>ACCOUNTING</td>\n",
       "      <td>NEW YORK</td>\n",
       "    </tr>\n",
       "    <tr>\n",
       "      <th>1</th>\n",
       "      <td>20</td>\n",
       "      <td>RESEARCH</td>\n",
       "      <td>DALLAS</td>\n",
       "    </tr>\n",
       "    <tr>\n",
       "      <th>2</th>\n",
       "      <td>30</td>\n",
       "      <td>SALES</td>\n",
       "      <td>CHICAGO</td>\n",
       "    </tr>\n",
       "    <tr>\n",
       "      <th>3</th>\n",
       "      <td>40</td>\n",
       "      <td>OPERATIONS</td>\n",
       "      <td>BOSTON</td>\n",
       "    </tr>\n",
       "  </tbody>\n",
       "</table>\n",
       "</div>"
      ],
      "text/plain": [
       "   deptno       dname       loc\n",
       "0      10  ACCOUNTING  NEW YORK\n",
       "1      20    RESEARCH    DALLAS\n",
       "2      30       SALES   CHICAGO\n",
       "3      40  OPERATIONS    BOSTON"
      ]
     },
     "execution_count": 21,
     "metadata": {},
     "output_type": "execute_result"
    }
   ],
   "source": [
    "sql= \"select * from dept\"\n",
    "deptdf=pd.read_sql(sql,conn)\n",
    "deptdf.columns=deptdf.columns.str.lower()\n",
    "deptdf.head()"
   ]
  },
  {
   "cell_type": "code",
   "execution_count": 22,
   "id": "4507a2d8-6b72-4bc0-93f1-a516b0f45d77",
   "metadata": {
    "tags": []
   },
   "outputs": [
    {
     "name": "stdout",
     "output_type": "stream",
     "text": [
      "<class 'pandas.core.frame.DataFrame'>\n",
      "RangeIndex: 4 entries, 0 to 3\n",
      "Data columns (total 3 columns):\n",
      " #   Column  Non-Null Count  Dtype \n",
      "---  ------  --------------  ----- \n",
      " 0   deptno  4 non-null      int64 \n",
      " 1   dname   4 non-null      object\n",
      " 2   loc     4 non-null      object\n",
      "dtypes: int64(1), object(2)\n",
      "memory usage: 224.0+ bytes\n"
     ]
    }
   ],
   "source": [
    "deptdf.info()"
   ]
  },
  {
   "cell_type": "code",
   "execution_count": null,
   "id": "03dd9140-ce2c-4696-b2be-ae570dc94560",
   "metadata": {},
   "outputs": [],
   "source": []
  },
  {
   "cell_type": "markdown",
   "id": "9c6d7432-e2f9-4ff4-a1a9-0d2c2113914d",
   "metadata": {},
   "source": [
    "## 3. pd.Merge\n",
    "- concat + join"
   ]
  },
  {
   "cell_type": "markdown",
   "id": "0ffa5055-6b74-4b78-9221-01513d0ab684",
   "metadata": {},
   "source": [
    "<pre>\n",
    "------how---------\n",
    "left : LEFT OUTER JOIN\n",
    "right : RIGHT OUTER JOIN\n",
    "outer : FULL OUTER JOIN\n",
    "\n",
    "inner : INNER JOIN\n",
    "\n",
    "\n",
    "<b>pd.merge(\n",
    "    left,   --> how='outer' 일 경우 필요\n",
    "    right,\n",
    "    how=\"inner\",\n",
    "    \n",
    "    on=None,      -->연결할 키\n",
    "    left_on=None, -->두 프레임 간 연결할 키의 이름이 다른경우 설정\n",
    "    right_on=None,\n",
    "                \n",
    "                -->left_on/right_on 혹은 left_index/right_index 중 선택하여 사용해야함\n",
    "    \n",
    "    \n",
    "    left_index=False, -->키로 연결할 수 없을 때 사용 , True 인덱스끼리 연결, right_index 와 함께 사용\n",
    "    right_index=False,</b>\n",
    "    ----------------------------------------------------------------------\n",
    "    sort=True,\n",
    "    suffixes=(\"_x\", \"_y\"), --> 두 프레임 간 동일한 컬럼명이 있을 때 이름 설정\n",
    "    copy=True,\n",
    "    indicator=False,\n",
    "    validate=None,\n",
    ")\n"
   ]
  },
  {
   "cell_type": "markdown",
   "id": "c72efaee-b6e8-4712-9518-cd8ab5288c42",
   "metadata": {},
   "source": [
    "### 3.1 inner join"
   ]
  },
  {
   "cell_type": "markdown",
   "id": "b53fccad-e50d-42c3-952f-1950d5733f74",
   "metadata": {},
   "source": [
    "<pre>\n",
    "1.오라클\n",
    "select e.empno, e.ename, d.deptno, d.dname from emp e, dept d\n",
    "where e.deptno=d.detpno;\n",
    "\n",
    "2.ANSI\n",
    "select e.empno, e.ename, d.deptno, d.dname, from emp e JOIN dept d ON where e.deptno=d.detpno;"
   ]
  },
  {
   "cell_type": "code",
   "execution_count": 23,
   "id": "f9041542-8f1e-42e7-b07a-33f881980f2f",
   "metadata": {},
   "outputs": [
    {
     "data": {
      "text/html": [
       "<div>\n",
       "<style scoped>\n",
       "    .dataframe tbody tr th:only-of-type {\n",
       "        vertical-align: middle;\n",
       "    }\n",
       "\n",
       "    .dataframe tbody tr th {\n",
       "        vertical-align: top;\n",
       "    }\n",
       "\n",
       "    .dataframe thead th {\n",
       "        text-align: right;\n",
       "    }\n",
       "</style>\n",
       "<table border=\"1\" class=\"dataframe\">\n",
       "  <thead>\n",
       "    <tr style=\"text-align: right;\">\n",
       "      <th></th>\n",
       "      <th>empno</th>\n",
       "      <th>ename</th>\n",
       "      <th>deptno</th>\n",
       "      <th>dname</th>\n",
       "    </tr>\n",
       "  </thead>\n",
       "  <tbody>\n",
       "    <tr>\n",
       "      <th>0</th>\n",
       "      <td>7369</td>\n",
       "      <td>SMITH</td>\n",
       "      <td>20</td>\n",
       "      <td>RESEARCH</td>\n",
       "    </tr>\n",
       "    <tr>\n",
       "      <th>1</th>\n",
       "      <td>7566</td>\n",
       "      <td>JONES</td>\n",
       "      <td>20</td>\n",
       "      <td>RESEARCH</td>\n",
       "    </tr>\n",
       "    <tr>\n",
       "      <th>2</th>\n",
       "      <td>7788</td>\n",
       "      <td>SCOTT</td>\n",
       "      <td>20</td>\n",
       "      <td>RESEARCH</td>\n",
       "    </tr>\n",
       "    <tr>\n",
       "      <th>3</th>\n",
       "      <td>7876</td>\n",
       "      <td>ADAMS</td>\n",
       "      <td>20</td>\n",
       "      <td>RESEARCH</td>\n",
       "    </tr>\n",
       "    <tr>\n",
       "      <th>4</th>\n",
       "      <td>7902</td>\n",
       "      <td>FORD</td>\n",
       "      <td>20</td>\n",
       "      <td>RESEARCH</td>\n",
       "    </tr>\n",
       "    <tr>\n",
       "      <th>5</th>\n",
       "      <td>7499</td>\n",
       "      <td>ALLEN</td>\n",
       "      <td>30</td>\n",
       "      <td>SALES</td>\n",
       "    </tr>\n",
       "    <tr>\n",
       "      <th>6</th>\n",
       "      <td>7521</td>\n",
       "      <td>WARD</td>\n",
       "      <td>30</td>\n",
       "      <td>SALES</td>\n",
       "    </tr>\n",
       "    <tr>\n",
       "      <th>7</th>\n",
       "      <td>7654</td>\n",
       "      <td>MARTIN</td>\n",
       "      <td>30</td>\n",
       "      <td>SALES</td>\n",
       "    </tr>\n",
       "    <tr>\n",
       "      <th>8</th>\n",
       "      <td>7698</td>\n",
       "      <td>BLAKE</td>\n",
       "      <td>30</td>\n",
       "      <td>SALES</td>\n",
       "    </tr>\n",
       "    <tr>\n",
       "      <th>9</th>\n",
       "      <td>7844</td>\n",
       "      <td>TURNER</td>\n",
       "      <td>30</td>\n",
       "      <td>SALES</td>\n",
       "    </tr>\n",
       "    <tr>\n",
       "      <th>10</th>\n",
       "      <td>7900</td>\n",
       "      <td>JAMES</td>\n",
       "      <td>30</td>\n",
       "      <td>SALES</td>\n",
       "    </tr>\n",
       "    <tr>\n",
       "      <th>11</th>\n",
       "      <td>7782</td>\n",
       "      <td>CLARK</td>\n",
       "      <td>10</td>\n",
       "      <td>ACCOUNTING</td>\n",
       "    </tr>\n",
       "    <tr>\n",
       "      <th>12</th>\n",
       "      <td>7839</td>\n",
       "      <td>KING</td>\n",
       "      <td>10</td>\n",
       "      <td>ACCOUNTING</td>\n",
       "    </tr>\n",
       "    <tr>\n",
       "      <th>13</th>\n",
       "      <td>7934</td>\n",
       "      <td>MILLER</td>\n",
       "      <td>10</td>\n",
       "      <td>ACCOUNTING</td>\n",
       "    </tr>\n",
       "  </tbody>\n",
       "</table>\n",
       "</div>"
      ],
      "text/plain": [
       "    empno   ename  deptno       dname\n",
       "0    7369   SMITH      20    RESEARCH\n",
       "1    7566   JONES      20    RESEARCH\n",
       "2    7788   SCOTT      20    RESEARCH\n",
       "3    7876   ADAMS      20    RESEARCH\n",
       "4    7902    FORD      20    RESEARCH\n",
       "5    7499   ALLEN      30       SALES\n",
       "6    7521    WARD      30       SALES\n",
       "7    7654  MARTIN      30       SALES\n",
       "8    7698   BLAKE      30       SALES\n",
       "9    7844  TURNER      30       SALES\n",
       "10   7900   JAMES      30       SALES\n",
       "11   7782   CLARK      10  ACCOUNTING\n",
       "12   7839    KING      10  ACCOUNTING\n",
       "13   7934  MILLER      10  ACCOUNTING"
      ]
     },
     "execution_count": 23,
     "metadata": {},
     "output_type": "execute_result"
    }
   ],
   "source": [
    "# 동일한 컬럼명이 있는경우 오라클은 어느 테이블에 있는지 명시해주어야하지만 데이터프레임에서는 필요없음\n",
    "df=pd.merge(empdf,deptdf, on=\"deptno\", how=\"inner\") #default 'inner'\n",
    "df[['empno','ename','deptno','dname']]"
   ]
  },
  {
   "cell_type": "markdown",
   "id": "a6ebd2c7-d562-4c88-bb2f-284d1bef3de6",
   "metadata": {},
   "source": [
    "### 3.2 outer join - dept 기준"
   ]
  },
  {
   "cell_type": "markdown",
   "id": "d1a3bb5b-3f2a-4b55-b218-86f67115bc37",
   "metadata": {},
   "source": [
    "<pre>\n",
    "\n",
    "1.오라클\n",
    "-dept 기준 : 부족한 쪽 컬럼에 (+)\n",
    "\n",
    "select e.empno, e.ename, d.deptno, d.dname from emp e, dept d\n",
    "where e.deptno(+)=d.detpno;\n",
    "\n",
    "2.ANSI\n",
    "-dept 기준 : 왼쪽/ 오른쪽 누가 기준인지\n",
    "\n",
    "select e.empno, e.ename, d.deptno, d.dname, from emp e OUTER RIGHT JOIN dept d ON where e.deptno=d.detpno;"
   ]
  },
  {
   "cell_type": "code",
   "execution_count": 24,
   "id": "85189d19-24e9-47f5-bf93-7420de8db218",
   "metadata": {},
   "outputs": [
    {
     "data": {
      "text/html": [
       "<div>\n",
       "<style scoped>\n",
       "    .dataframe tbody tr th:only-of-type {\n",
       "        vertical-align: middle;\n",
       "    }\n",
       "\n",
       "    .dataframe tbody tr th {\n",
       "        vertical-align: top;\n",
       "    }\n",
       "\n",
       "    .dataframe thead th {\n",
       "        text-align: right;\n",
       "    }\n",
       "</style>\n",
       "<table border=\"1\" class=\"dataframe\">\n",
       "  <thead>\n",
       "    <tr style=\"text-align: right;\">\n",
       "      <th></th>\n",
       "      <th>empno</th>\n",
       "      <th>ename</th>\n",
       "      <th>deptno</th>\n",
       "      <th>dname</th>\n",
       "    </tr>\n",
       "  </thead>\n",
       "  <tbody>\n",
       "    <tr>\n",
       "      <th>10</th>\n",
       "      <td>7654.0</td>\n",
       "      <td>MARTIN</td>\n",
       "      <td>30</td>\n",
       "      <td>SALES</td>\n",
       "    </tr>\n",
       "    <tr>\n",
       "      <th>11</th>\n",
       "      <td>7698.0</td>\n",
       "      <td>BLAKE</td>\n",
       "      <td>30</td>\n",
       "      <td>SALES</td>\n",
       "    </tr>\n",
       "    <tr>\n",
       "      <th>12</th>\n",
       "      <td>7844.0</td>\n",
       "      <td>TURNER</td>\n",
       "      <td>30</td>\n",
       "      <td>SALES</td>\n",
       "    </tr>\n",
       "    <tr>\n",
       "      <th>13</th>\n",
       "      <td>7900.0</td>\n",
       "      <td>JAMES</td>\n",
       "      <td>30</td>\n",
       "      <td>SALES</td>\n",
       "    </tr>\n",
       "    <tr>\n",
       "      <th>14</th>\n",
       "      <td>NaN</td>\n",
       "      <td>NaN</td>\n",
       "      <td>40</td>\n",
       "      <td>OPERATIONS</td>\n",
       "    </tr>\n",
       "  </tbody>\n",
       "</table>\n",
       "</div>"
      ],
      "text/plain": [
       "     empno   ename  deptno       dname\n",
       "10  7654.0  MARTIN      30       SALES\n",
       "11  7698.0   BLAKE      30       SALES\n",
       "12  7844.0  TURNER      30       SALES\n",
       "13  7900.0   JAMES      30       SALES\n",
       "14     NaN     NaN      40  OPERATIONS"
      ]
     },
     "execution_count": 24,
     "metadata": {},
     "output_type": "execute_result"
    }
   ],
   "source": [
    "#dept 테이블에는 40번부서는 있지만 emp 테이블에는 40번 부서에 해당하는 사람(데이터) 없음\n",
    "df=pd.merge(empdf,deptdf, on=\"deptno\", how=\"right\")\n",
    "df[['empno','ename','deptno','dname']].tail()"
   ]
  },
  {
   "cell_type": "markdown",
   "id": "90f0bd97-b527-422c-a30c-8927c0fda295",
   "metadata": {},
   "source": [
    "### 3.3 full outer join"
   ]
  },
  {
   "cell_type": "markdown",
   "id": "094f0f20-4b01-4092-a75f-0e3d40fb08ff",
   "metadata": {},
   "source": [
    "<pre>\n",
    "1.오라클\n",
    "-오라클에서는 full outer join 없음 --> 양쪽 (+) 없다\n",
    "\n",
    "2.ANSI\n",
    "-dept 기준 : 왼쪽/ 오른쪽 한번씩 기준\n",
    "\n",
    "select e.empno, e.ename, d.deptno, d.dname, from emp e FULL OUTER JOIN dept d ON where e.deptno=d.detpno;"
   ]
  },
  {
   "cell_type": "markdown",
   "id": "c758e661-7946-4fc3-98b5-0f706a0c93db",
   "metadata": {},
   "source": [
    "#### 3.3.1 DataFrame에 데이터 추가"
   ]
  },
  {
   "cell_type": "markdown",
   "id": "c3129f11-fb2f-4c68-98c7-82f4a0fbdc76",
   "metadata": {},
   "source": [
    "1. 단일리스트\n",
    "- 50번 부서를 갖는 사원정보 추가"
   ]
  },
  {
   "cell_type": "code",
   "execution_count": 25,
   "id": "621110da-7391-4805-bd99-ff06457cdd95",
   "metadata": {
    "tags": []
   },
   "outputs": [
    {
     "data": {
      "text/html": [
       "<div>\n",
       "<style scoped>\n",
       "    .dataframe tbody tr th:only-of-type {\n",
       "        vertical-align: middle;\n",
       "    }\n",
       "\n",
       "    .dataframe tbody tr th {\n",
       "        vertical-align: top;\n",
       "    }\n",
       "\n",
       "    .dataframe thead th {\n",
       "        text-align: right;\n",
       "    }\n",
       "</style>\n",
       "<table border=\"1\" class=\"dataframe\">\n",
       "  <thead>\n",
       "    <tr style=\"text-align: right;\">\n",
       "      <th></th>\n",
       "      <th>empno</th>\n",
       "      <th>ename</th>\n",
       "      <th>job</th>\n",
       "      <th>mgr</th>\n",
       "      <th>hiredate</th>\n",
       "      <th>sal</th>\n",
       "      <th>comm</th>\n",
       "      <th>deptno</th>\n",
       "    </tr>\n",
       "  </thead>\n",
       "  <tbody>\n",
       "    <tr>\n",
       "      <th>12</th>\n",
       "      <td>7902</td>\n",
       "      <td>FORD</td>\n",
       "      <td>ANALYST</td>\n",
       "      <td>7566.0</td>\n",
       "      <td>1981-12-03 00:00:00</td>\n",
       "      <td>3000</td>\n",
       "      <td>0.0</td>\n",
       "      <td>20</td>\n",
       "    </tr>\n",
       "    <tr>\n",
       "      <th>13</th>\n",
       "      <td>7934</td>\n",
       "      <td>MILLER</td>\n",
       "      <td>CLERK</td>\n",
       "      <td>7782.0</td>\n",
       "      <td>1982-01-23 00:00:00</td>\n",
       "      <td>1300</td>\n",
       "      <td>0.0</td>\n",
       "      <td>10</td>\n",
       "    </tr>\n",
       "    <tr>\n",
       "      <th>14</th>\n",
       "      <td>9999</td>\n",
       "      <td>TEMPUSER</td>\n",
       "      <td>CLERK</td>\n",
       "      <td>7902.0</td>\n",
       "      <td>1980-12-17 00:00:00</td>\n",
       "      <td>2000</td>\n",
       "      <td>100.0</td>\n",
       "      <td>66</td>\n",
       "    </tr>\n",
       "  </tbody>\n",
       "</table>\n",
       "</div>"
      ],
      "text/plain": [
       "    empno     ename      job     mgr             hiredate   sal   comm  deptno\n",
       "12   7902      FORD  ANALYST  7566.0  1981-12-03 00:00:00  3000    0.0      20\n",
       "13   7934    MILLER    CLERK  7782.0  1982-01-23 00:00:00  1300    0.0      10\n",
       "14   9999  TEMPUSER    CLERK  7902.0  1980-12-17 00:00:00  2000  100.0      66"
      ]
     },
     "execution_count": 25,
     "metadata": {},
     "output_type": "execute_result"
    }
   ],
   "source": [
    "empdf.loc[14] = [9999,'TEMPUSER','CLERK',7902,'1980-12-17 00:00:00',2000,100,66]\n",
    "empdf.tail(3)"
   ]
  },
  {
   "cell_type": "markdown",
   "id": "8674668c-13ba-41de-9de5-27cd431b1de0",
   "metadata": {},
   "source": [
    "2. 단일리스트\n",
    "- 66번 부서를 갖는 사원정보 추가\n",
    "- dataframe화 시킨 후 concat(..,axis=0)"
   ]
  },
  {
   "cell_type": "code",
   "execution_count": 26,
   "id": "d362de6b-c7dc-4c5b-ba41-92163462b942",
   "metadata": {
    "tags": []
   },
   "outputs": [
    {
     "data": {
      "text/html": [
       "<div>\n",
       "<style scoped>\n",
       "    .dataframe tbody tr th:only-of-type {\n",
       "        vertical-align: middle;\n",
       "    }\n",
       "\n",
       "    .dataframe tbody tr th {\n",
       "        vertical-align: top;\n",
       "    }\n",
       "\n",
       "    .dataframe thead th {\n",
       "        text-align: right;\n",
       "    }\n",
       "</style>\n",
       "<table border=\"1\" class=\"dataframe\">\n",
       "  <thead>\n",
       "    <tr style=\"text-align: right;\">\n",
       "      <th></th>\n",
       "      <th>empno</th>\n",
       "      <th>ename</th>\n",
       "      <th>job</th>\n",
       "      <th>mgr</th>\n",
       "      <th>hiredate</th>\n",
       "      <th>sal</th>\n",
       "      <th>comm</th>\n",
       "      <th>deptno</th>\n",
       "    </tr>\n",
       "  </thead>\n",
       "  <tbody>\n",
       "    <tr>\n",
       "      <th>0</th>\n",
       "      <td>9900</td>\n",
       "      <td>AA</td>\n",
       "      <td>CLERK</td>\n",
       "      <td>7902</td>\n",
       "      <td>1980-12-17 00:00:00</td>\n",
       "      <td>2000</td>\n",
       "      <td>100</td>\n",
       "      <td>66</td>\n",
       "    </tr>\n",
       "  </tbody>\n",
       "</table>\n",
       "</div>"
      ],
      "text/plain": [
       "   empno ename    job   mgr             hiredate   sal  comm  deptno\n",
       "0   9900    AA  CLERK  7902  1980-12-17 00:00:00  2000   100      66"
      ]
     },
     "execution_count": 26,
     "metadata": {},
     "output_type": "execute_result"
    }
   ],
   "source": [
    "emp_list = [[9900,'AA','CLERK',7902,'1980-12-17 00:00:00',2000,100,66]] #1차 리스트를 2차로 만들기[[]]\n",
    "one_row_df = pd.DataFrame(emp_list, columns= empdf.columns)\n",
    "one_row_df"
   ]
  },
  {
   "cell_type": "code",
   "execution_count": 27,
   "id": "68428084-e071-4d05-bacc-eb627d8d126a",
   "metadata": {
    "tags": []
   },
   "outputs": [],
   "source": [
    "empdf= pd.concat([empdf,one_row_df],axis=0, ignore_index=True)"
   ]
  },
  {
   "cell_type": "code",
   "execution_count": 28,
   "id": "024b5f94-5769-4e37-89d6-7b354bdae5a7",
   "metadata": {
    "tags": []
   },
   "outputs": [
    {
     "data": {
      "text/html": [
       "<div>\n",
       "<style scoped>\n",
       "    .dataframe tbody tr th:only-of-type {\n",
       "        vertical-align: middle;\n",
       "    }\n",
       "\n",
       "    .dataframe tbody tr th {\n",
       "        vertical-align: top;\n",
       "    }\n",
       "\n",
       "    .dataframe thead th {\n",
       "        text-align: right;\n",
       "    }\n",
       "</style>\n",
       "<table border=\"1\" class=\"dataframe\">\n",
       "  <thead>\n",
       "    <tr style=\"text-align: right;\">\n",
       "      <th></th>\n",
       "      <th>empno</th>\n",
       "      <th>ename</th>\n",
       "      <th>job</th>\n",
       "      <th>mgr</th>\n",
       "      <th>hiredate</th>\n",
       "      <th>sal</th>\n",
       "      <th>comm</th>\n",
       "      <th>deptno</th>\n",
       "    </tr>\n",
       "  </thead>\n",
       "  <tbody>\n",
       "    <tr>\n",
       "      <th>11</th>\n",
       "      <td>7900</td>\n",
       "      <td>JAMES</td>\n",
       "      <td>CLERK</td>\n",
       "      <td>7698.0</td>\n",
       "      <td>1981-12-03 00:00:00</td>\n",
       "      <td>950</td>\n",
       "      <td>0.0</td>\n",
       "      <td>30</td>\n",
       "    </tr>\n",
       "    <tr>\n",
       "      <th>12</th>\n",
       "      <td>7902</td>\n",
       "      <td>FORD</td>\n",
       "      <td>ANALYST</td>\n",
       "      <td>7566.0</td>\n",
       "      <td>1981-12-03 00:00:00</td>\n",
       "      <td>3000</td>\n",
       "      <td>0.0</td>\n",
       "      <td>20</td>\n",
       "    </tr>\n",
       "    <tr>\n",
       "      <th>13</th>\n",
       "      <td>7934</td>\n",
       "      <td>MILLER</td>\n",
       "      <td>CLERK</td>\n",
       "      <td>7782.0</td>\n",
       "      <td>1982-01-23 00:00:00</td>\n",
       "      <td>1300</td>\n",
       "      <td>0.0</td>\n",
       "      <td>10</td>\n",
       "    </tr>\n",
       "    <tr>\n",
       "      <th>14</th>\n",
       "      <td>9999</td>\n",
       "      <td>TEMPUSER</td>\n",
       "      <td>CLERK</td>\n",
       "      <td>7902.0</td>\n",
       "      <td>1980-12-17 00:00:00</td>\n",
       "      <td>2000</td>\n",
       "      <td>100.0</td>\n",
       "      <td>66</td>\n",
       "    </tr>\n",
       "    <tr>\n",
       "      <th>15</th>\n",
       "      <td>9900</td>\n",
       "      <td>AA</td>\n",
       "      <td>CLERK</td>\n",
       "      <td>7902.0</td>\n",
       "      <td>1980-12-17 00:00:00</td>\n",
       "      <td>2000</td>\n",
       "      <td>100.0</td>\n",
       "      <td>66</td>\n",
       "    </tr>\n",
       "  </tbody>\n",
       "</table>\n",
       "</div>"
      ],
      "text/plain": [
       "    empno     ename      job     mgr             hiredate   sal   comm  deptno\n",
       "11   7900     JAMES    CLERK  7698.0  1981-12-03 00:00:00   950    0.0      30\n",
       "12   7902      FORD  ANALYST  7566.0  1981-12-03 00:00:00  3000    0.0      20\n",
       "13   7934    MILLER    CLERK  7782.0  1982-01-23 00:00:00  1300    0.0      10\n",
       "14   9999  TEMPUSER    CLERK  7902.0  1980-12-17 00:00:00  2000  100.0      66\n",
       "15   9900        AA    CLERK  7902.0  1980-12-17 00:00:00  2000  100.0      66"
      ]
     },
     "execution_count": 28,
     "metadata": {},
     "output_type": "execute_result"
    }
   ],
   "source": [
    "empdf.tail()"
   ]
  },
  {
   "cell_type": "markdown",
   "id": "9726142e-34a5-48c7-895c-710e3a583e0c",
   "metadata": {},
   "source": [
    "3. Series로 가지고 있는 경우"
   ]
  },
  {
   "cell_type": "code",
   "execution_count": 29,
   "id": "c7602a07-99cb-4679-ab9b-7634fbc1b3b3",
   "metadata": {
    "tags": []
   },
   "outputs": [
    {
     "data": {
      "text/html": [
       "<div>\n",
       "<style scoped>\n",
       "    .dataframe tbody tr th:only-of-type {\n",
       "        vertical-align: middle;\n",
       "    }\n",
       "\n",
       "    .dataframe tbody tr th {\n",
       "        vertical-align: top;\n",
       "    }\n",
       "\n",
       "    .dataframe thead th {\n",
       "        text-align: right;\n",
       "    }\n",
       "</style>\n",
       "<table border=\"1\" class=\"dataframe\">\n",
       "  <thead>\n",
       "    <tr style=\"text-align: right;\">\n",
       "      <th></th>\n",
       "      <th>empno</th>\n",
       "      <th>ename</th>\n",
       "      <th>job</th>\n",
       "      <th>mgr</th>\n",
       "      <th>hiredate</th>\n",
       "      <th>sal</th>\n",
       "      <th>comm</th>\n",
       "      <th>deptno</th>\n",
       "    </tr>\n",
       "  </thead>\n",
       "  <tbody>\n",
       "    <tr>\n",
       "      <th>12</th>\n",
       "      <td>7902</td>\n",
       "      <td>FORD</td>\n",
       "      <td>ANALYST</td>\n",
       "      <td>7566.0</td>\n",
       "      <td>1981-12-03 00:00:00</td>\n",
       "      <td>3000</td>\n",
       "      <td>0.0</td>\n",
       "      <td>20</td>\n",
       "    </tr>\n",
       "    <tr>\n",
       "      <th>13</th>\n",
       "      <td>7934</td>\n",
       "      <td>MILLER</td>\n",
       "      <td>CLERK</td>\n",
       "      <td>7782.0</td>\n",
       "      <td>1982-01-23 00:00:00</td>\n",
       "      <td>1300</td>\n",
       "      <td>0.0</td>\n",
       "      <td>10</td>\n",
       "    </tr>\n",
       "    <tr>\n",
       "      <th>14</th>\n",
       "      <td>9999</td>\n",
       "      <td>TEMPUSER</td>\n",
       "      <td>CLERK</td>\n",
       "      <td>7902.0</td>\n",
       "      <td>1980-12-17 00:00:00</td>\n",
       "      <td>2000</td>\n",
       "      <td>100.0</td>\n",
       "      <td>66</td>\n",
       "    </tr>\n",
       "    <tr>\n",
       "      <th>15</th>\n",
       "      <td>9900</td>\n",
       "      <td>AA</td>\n",
       "      <td>CLERK</td>\n",
       "      <td>7902.0</td>\n",
       "      <td>1980-12-17 00:00:00</td>\n",
       "      <td>2000</td>\n",
       "      <td>100.0</td>\n",
       "      <td>66</td>\n",
       "    </tr>\n",
       "    <tr>\n",
       "      <th>16</th>\n",
       "      <td>7700</td>\n",
       "      <td>SSS</td>\n",
       "      <td>CLERK</td>\n",
       "      <td>7902.0</td>\n",
       "      <td>1980-12-17</td>\n",
       "      <td>2000</td>\n",
       "      <td>100.0</td>\n",
       "      <td>66</td>\n",
       "    </tr>\n",
       "  </tbody>\n",
       "</table>\n",
       "</div>"
      ],
      "text/plain": [
       "    empno     ename      job     mgr             hiredate   sal   comm  deptno\n",
       "12   7902      FORD  ANALYST  7566.0  1981-12-03 00:00:00  3000    0.0      20\n",
       "13   7934    MILLER    CLERK  7782.0  1982-01-23 00:00:00  1300    0.0      10\n",
       "14   9999  TEMPUSER    CLERK  7902.0  1980-12-17 00:00:00  2000  100.0      66\n",
       "15   9900        AA    CLERK  7902.0  1980-12-17 00:00:00  2000  100.0      66\n",
       "16   7700       SSS    CLERK  7902.0           1980-12-17  2000  100.0      66"
      ]
     },
     "execution_count": 29,
     "metadata": {},
     "output_type": "execute_result"
    }
   ],
   "source": [
    "s = pd.Series([7700, 'SSS', 'CLERK', 7902,'1980-12-17', 2000, 100, 66],\n",
    "             index = empdf.columns)\n",
    "\n",
    "dd = empdf.append(s.T, ignore_index=True)\n",
    "dd.tail()"
   ]
  },
  {
   "cell_type": "markdown",
   "id": "df8550e4-cfa1-41f2-a4c1-4eedc7d02e0c",
   "metadata": {},
   "source": [
    "4. 멀티 리스트 : 여러 건을 추가\n",
    "- dataframe화 시킨 후 concat(..,axis=0)"
   ]
  },
  {
   "cell_type": "code",
   "execution_count": 30,
   "id": "7f3dd735-d887-4ee9-a556-a131a3f51d86",
   "metadata": {
    "tags": []
   },
   "outputs": [
    {
     "data": {
      "text/plain": [
       "Index(['empno', 'ename', 'job', 'mgr', 'hiredate', 'sal', 'comm', 'deptno'], dtype='object')"
      ]
     },
     "execution_count": 30,
     "metadata": {},
     "output_type": "execute_result"
    }
   ],
   "source": [
    "empdf.columns"
   ]
  },
  {
   "cell_type": "code",
   "execution_count": 31,
   "id": "85cb60bf-876d-4ee0-84f9-9ea0e0739588",
   "metadata": {
    "tags": []
   },
   "outputs": [
    {
     "data": {
      "text/html": [
       "<div>\n",
       "<style scoped>\n",
       "    .dataframe tbody tr th:only-of-type {\n",
       "        vertical-align: middle;\n",
       "    }\n",
       "\n",
       "    .dataframe tbody tr th {\n",
       "        vertical-align: top;\n",
       "    }\n",
       "\n",
       "    .dataframe thead th {\n",
       "        text-align: right;\n",
       "    }\n",
       "</style>\n",
       "<table border=\"1\" class=\"dataframe\">\n",
       "  <thead>\n",
       "    <tr style=\"text-align: right;\">\n",
       "      <th></th>\n",
       "      <th>empno</th>\n",
       "      <th>ename</th>\n",
       "      <th>job</th>\n",
       "      <th>mgr</th>\n",
       "      <th>hiredate</th>\n",
       "      <th>sal</th>\n",
       "      <th>comm</th>\n",
       "      <th>deptno</th>\n",
       "    </tr>\n",
       "  </thead>\n",
       "  <tbody>\n",
       "    <tr>\n",
       "      <th>0</th>\n",
       "      <td>8800</td>\n",
       "      <td>TEMPUSER1</td>\n",
       "      <td>CLERK</td>\n",
       "      <td>7902</td>\n",
       "      <td>1980-12-17</td>\n",
       "      <td>2000</td>\n",
       "      <td>100</td>\n",
       "      <td>66</td>\n",
       "    </tr>\n",
       "    <tr>\n",
       "      <th>1</th>\n",
       "      <td>8801</td>\n",
       "      <td>TEMPUSER2</td>\n",
       "      <td>CLERK</td>\n",
       "      <td>7902</td>\n",
       "      <td>1980-12-17</td>\n",
       "      <td>2000</td>\n",
       "      <td>100</td>\n",
       "      <td>66</td>\n",
       "    </tr>\n",
       "  </tbody>\n",
       "</table>\n",
       "</div>"
      ],
      "text/plain": [
       "   empno      ename    job   mgr    hiredate   sal  comm  deptno\n",
       "0   8800  TEMPUSER1  CLERK  7902  1980-12-17  2000   100      66\n",
       "1   8801  TEMPUSER2  CLERK  7902  1980-12-17  2000   100      66"
      ]
     },
     "execution_count": 31,
     "metadata": {},
     "output_type": "execute_result"
    }
   ],
   "source": [
    "add_emp = [[8800, 'TEMPUSER1', 'CLERK', 7902,'1980-12-17', 2000, 100, 66],\n",
    "           [8801, 'TEMPUSER2', 'CLERK', 7902,'1980-12-17', 2000, 100, 66]]\n",
    "add_df =pd.DataFrame(add_emp, columns=empdf.columns)# 컬럼이름 가져와서 지정\n",
    "add_df"
   ]
  },
  {
   "cell_type": "code",
   "execution_count": 32,
   "id": "a35c4d11-0308-485b-a65e-ec9b39c99af9",
   "metadata": {
    "tags": []
   },
   "outputs": [],
   "source": [
    "empdf= pd.concat([empdf,add_df],axis=0, ignore_index=True)"
   ]
  },
  {
   "cell_type": "code",
   "execution_count": 33,
   "id": "2b466fca-88e4-4573-a885-4bf9fcce07f8",
   "metadata": {
    "tags": []
   },
   "outputs": [
    {
     "data": {
      "text/html": [
       "<div>\n",
       "<style scoped>\n",
       "    .dataframe tbody tr th:only-of-type {\n",
       "        vertical-align: middle;\n",
       "    }\n",
       "\n",
       "    .dataframe tbody tr th {\n",
       "        vertical-align: top;\n",
       "    }\n",
       "\n",
       "    .dataframe thead th {\n",
       "        text-align: right;\n",
       "    }\n",
       "</style>\n",
       "<table border=\"1\" class=\"dataframe\">\n",
       "  <thead>\n",
       "    <tr style=\"text-align: right;\">\n",
       "      <th></th>\n",
       "      <th>empno</th>\n",
       "      <th>ename</th>\n",
       "      <th>job</th>\n",
       "      <th>mgr</th>\n",
       "      <th>hiredate</th>\n",
       "      <th>sal</th>\n",
       "      <th>comm</th>\n",
       "      <th>deptno</th>\n",
       "    </tr>\n",
       "  </thead>\n",
       "  <tbody>\n",
       "    <tr>\n",
       "      <th>13</th>\n",
       "      <td>7934</td>\n",
       "      <td>MILLER</td>\n",
       "      <td>CLERK</td>\n",
       "      <td>7782.0</td>\n",
       "      <td>1982-01-23 00:00:00</td>\n",
       "      <td>1300</td>\n",
       "      <td>0.0</td>\n",
       "      <td>10</td>\n",
       "    </tr>\n",
       "    <tr>\n",
       "      <th>14</th>\n",
       "      <td>9999</td>\n",
       "      <td>TEMPUSER</td>\n",
       "      <td>CLERK</td>\n",
       "      <td>7902.0</td>\n",
       "      <td>1980-12-17 00:00:00</td>\n",
       "      <td>2000</td>\n",
       "      <td>100.0</td>\n",
       "      <td>66</td>\n",
       "    </tr>\n",
       "    <tr>\n",
       "      <th>15</th>\n",
       "      <td>9900</td>\n",
       "      <td>AA</td>\n",
       "      <td>CLERK</td>\n",
       "      <td>7902.0</td>\n",
       "      <td>1980-12-17 00:00:00</td>\n",
       "      <td>2000</td>\n",
       "      <td>100.0</td>\n",
       "      <td>66</td>\n",
       "    </tr>\n",
       "    <tr>\n",
       "      <th>16</th>\n",
       "      <td>8800</td>\n",
       "      <td>TEMPUSER1</td>\n",
       "      <td>CLERK</td>\n",
       "      <td>7902.0</td>\n",
       "      <td>1980-12-17</td>\n",
       "      <td>2000</td>\n",
       "      <td>100.0</td>\n",
       "      <td>66</td>\n",
       "    </tr>\n",
       "    <tr>\n",
       "      <th>17</th>\n",
       "      <td>8801</td>\n",
       "      <td>TEMPUSER2</td>\n",
       "      <td>CLERK</td>\n",
       "      <td>7902.0</td>\n",
       "      <td>1980-12-17</td>\n",
       "      <td>2000</td>\n",
       "      <td>100.0</td>\n",
       "      <td>66</td>\n",
       "    </tr>\n",
       "  </tbody>\n",
       "</table>\n",
       "</div>"
      ],
      "text/plain": [
       "    empno      ename    job     mgr             hiredate   sal   comm  deptno\n",
       "13   7934     MILLER  CLERK  7782.0  1982-01-23 00:00:00  1300    0.0      10\n",
       "14   9999   TEMPUSER  CLERK  7902.0  1980-12-17 00:00:00  2000  100.0      66\n",
       "15   9900         AA  CLERK  7902.0  1980-12-17 00:00:00  2000  100.0      66\n",
       "16   8800  TEMPUSER1  CLERK  7902.0           1980-12-17  2000  100.0      66\n",
       "17   8801  TEMPUSER2  CLERK  7902.0           1980-12-17  2000  100.0      66"
      ]
     },
     "execution_count": 33,
     "metadata": {},
     "output_type": "execute_result"
    }
   ],
   "source": [
    "empdf.tail()"
   ]
  },
  {
   "cell_type": "markdown",
   "id": "703348d8-8781-4a25-8c6f-d2a6c43867ac",
   "metadata": {},
   "source": [
    "#### 3.3.2 데이터 추가 후 full outer join"
   ]
  },
  {
   "cell_type": "markdown",
   "id": "c19e8061-9faa-402c-8ea2-5b0609e43815",
   "metadata": {
    "tags": []
   },
   "source": [
    "- 66번 부서 사원 정보를 몇건 추가 후 full outer join"
   ]
  },
  {
   "cell_type": "code",
   "execution_count": 34,
   "id": "28dba5ab-8b4a-459b-8ac6-02db0fbdbec6",
   "metadata": {
    "tags": []
   },
   "outputs": [
    {
     "data": {
      "text/html": [
       "<div>\n",
       "<style scoped>\n",
       "    .dataframe tbody tr th:only-of-type {\n",
       "        vertical-align: middle;\n",
       "    }\n",
       "\n",
       "    .dataframe tbody tr th {\n",
       "        vertical-align: top;\n",
       "    }\n",
       "\n",
       "    .dataframe thead th {\n",
       "        text-align: right;\n",
       "    }\n",
       "</style>\n",
       "<table border=\"1\" class=\"dataframe\">\n",
       "  <thead>\n",
       "    <tr style=\"text-align: right;\">\n",
       "      <th></th>\n",
       "      <th>empno</th>\n",
       "      <th>ename</th>\n",
       "      <th>deptno</th>\n",
       "      <th>dname</th>\n",
       "    </tr>\n",
       "  </thead>\n",
       "  <tbody>\n",
       "    <tr>\n",
       "      <th>5</th>\n",
       "      <td>7499.0</td>\n",
       "      <td>ALLEN</td>\n",
       "      <td>30</td>\n",
       "      <td>SALES</td>\n",
       "    </tr>\n",
       "    <tr>\n",
       "      <th>18</th>\n",
       "      <td>NaN</td>\n",
       "      <td>NaN</td>\n",
       "      <td>40</td>\n",
       "      <td>OPERATIONS</td>\n",
       "    </tr>\n",
       "    <tr>\n",
       "      <th>14</th>\n",
       "      <td>9999.0</td>\n",
       "      <td>TEMPUSER</td>\n",
       "      <td>66</td>\n",
       "      <td>NaN</td>\n",
       "    </tr>\n",
       "    <tr>\n",
       "      <th>15</th>\n",
       "      <td>9900.0</td>\n",
       "      <td>AA</td>\n",
       "      <td>66</td>\n",
       "      <td>NaN</td>\n",
       "    </tr>\n",
       "    <tr>\n",
       "      <th>16</th>\n",
       "      <td>8800.0</td>\n",
       "      <td>TEMPUSER1</td>\n",
       "      <td>66</td>\n",
       "      <td>NaN</td>\n",
       "    </tr>\n",
       "    <tr>\n",
       "      <th>17</th>\n",
       "      <td>8801.0</td>\n",
       "      <td>TEMPUSER2</td>\n",
       "      <td>66</td>\n",
       "      <td>NaN</td>\n",
       "    </tr>\n",
       "  </tbody>\n",
       "</table>\n",
       "</div>"
      ],
      "text/plain": [
       "     empno      ename  deptno       dname\n",
       "5   7499.0      ALLEN      30       SALES\n",
       "18     NaN        NaN      40  OPERATIONS\n",
       "14  9999.0   TEMPUSER      66         NaN\n",
       "15  9900.0         AA      66         NaN\n",
       "16  8800.0  TEMPUSER1      66         NaN\n",
       "17  8801.0  TEMPUSER2      66         NaN"
      ]
     },
     "execution_count": 34,
     "metadata": {},
     "output_type": "execute_result"
    }
   ],
   "source": [
    "fdf=pd.merge(empdf, deptdf, on='deptno', how='outer')\n",
    "fdf[['empno','ename','deptno','dname']].sort_values('deptno').tail(6)"
   ]
  },
  {
   "cell_type": "markdown",
   "id": "77c69601-da90-4542-9350-cd64cbee0d03",
   "metadata": {
    "tags": []
   },
   "source": [
    "## 4. Join ------> 비추"
   ]
  }
 ],
 "metadata": {
  "kernelspec": {
   "display_name": "Python 3 (ipykernel)",
   "language": "python",
   "name": "python3"
  },
  "language_info": {
   "codemirror_mode": {
    "name": "ipython",
    "version": 3
   },
   "file_extension": ".py",
   "mimetype": "text/x-python",
   "name": "python",
   "nbconvert_exporter": "python",
   "pygments_lexer": "ipython3",
   "version": "3.8.8"
  },
  "toc-autonumbering": false,
  "toc-showcode": false
 },
 "nbformat": 4,
 "nbformat_minor": 5
}
