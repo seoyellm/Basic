{
 "cells": [
  {
   "cell_type": "code",
   "execution_count": 1,
   "id": "cabaf787-379e-40f2-a543-2e676a8499ab",
   "metadata": {
    "tags": []
   },
   "outputs": [],
   "source": [
    "import re"
   ]
  },
  {
   "cell_type": "markdown",
   "id": "948f982d-8fa3-44be-8f40-39a12b49adc3",
   "metadata": {},
   "source": [
    "1.txt 확장자 찾기"
   ]
  },
  {
   "cell_type": "code",
   "execution_count": 46,
   "id": "9fcbb561-405f-4de8-bd97-97333a5fbec8",
   "metadata": {
    "tags": []
   },
   "outputs": [
    {
     "data": {
      "text/plain": [
       "['abc.txt']"
      ]
     },
     "execution_count": 46,
     "metadata": {},
     "output_type": "execute_result"
    }
   ],
   "source": [
    "p=re.compile('\\w+[.]txt')\n",
    "p.findall(\"abc.txt  abc.jsp\")"
   ]
  },
  {
   "cell_type": "markdown",
   "id": "3e25c192-d73a-44a4-a61f-c17cf435f6ff",
   "metadata": {},
   "source": [
    "2.한글명 찾기 <br>\n",
    "#james 홍길동 아무개"
   ]
  },
  {
   "cell_type": "code",
   "execution_count": 22,
   "id": "bd4a1214-04a5-4d48-bdab-ae5757ac3cf7",
   "metadata": {
    "tags": []
   },
   "outputs": [
    {
     "data": {
      "text/plain": [
       "['홍길동', '아무개']"
      ]
     },
     "execution_count": 22,
     "metadata": {},
     "output_type": "execute_result"
    }
   ],
   "source": [
    "p=re.compile('[가-힣]+') #한글 찾기\n",
    "p.findall(\"James 홍길동 아무개\")"
   ]
  },
  {
   "cell_type": "markdown",
   "id": "8cfcdadb-9cda-463e-a377-d969fc6a5f12",
   "metadata": {},
   "source": [
    "3.miss,mr,doctor..... 찾기"
   ]
  },
  {
   "cell_type": "code",
   "execution_count": 47,
   "id": "6a313d65-382c-4417-98c8-82d9dcddaeb4",
   "metadata": {
    "tags": []
   },
   "outputs": [
    {
     "data": {
      "text/plain": [
       "['Master.']"
      ]
     },
     "execution_count": 47,
     "metadata": {},
     "output_type": "execute_result"
    }
   ],
   "source": [
    "p=re.compile('\\w+[.]')\n",
    "p.findall(\"Palsson, Master. Gosta Leonard\")"
   ]
  },
  {
   "cell_type": "code",
   "execution_count": 48,
   "id": "ebdfd5da-70ea-4e76-a684-86c6926162b3",
   "metadata": {
    "tags": []
   },
   "outputs": [
    {
     "data": {
      "text/plain": [
       "'Mrs'"
      ]
     },
     "execution_count": 48,
     "metadata": {},
     "output_type": "execute_result"
    }
   ],
   "source": [
    "p=re.compile('\\s*\\w+\\s*')\n",
    "p.findall(\"Nasser, Mrs. Nicholas (Adele Achem)\")[1].strip()"
   ]
  },
  {
   "cell_type": "code",
   "execution_count": 50,
   "id": "fca9efba-7041-4a31-bd89-a852deff329f",
   "metadata": {
    "tags": []
   },
   "outputs": [
    {
     "name": "stdout",
     "output_type": "stream",
     "text": [
      "Miss.\n"
     ]
    }
   ],
   "source": [
    "A = re.search('[A-Za-z]*[.]','helradad, Miss. adaf')\n",
    "print(A.group())  # search 한 결과는 string으로 받기"
   ]
  },
  {
   "cell_type": "code",
   "execution_count": null,
   "id": "fa1d5c9b-3b27-4e51-9fbd-9464c5ea1a52",
   "metadata": {},
   "outputs": [],
   "source": []
  },
  {
   "cell_type": "code",
   "execution_count": 52,
   "id": "6eeaed17-627c-4c1a-824e-5ded149013e3",
   "metadata": {
    "tags": []
   },
   "outputs": [],
   "source": [
    "p=re.compile('\\.')\n",
    "p.match('cat. 896. ?=+. abc1')"
   ]
  }
 ],
 "metadata": {
  "kernelspec": {
   "display_name": "Python 3 (ipykernel)",
   "language": "python",
   "name": "python3"
  },
  "language_info": {
   "codemirror_mode": {
    "name": "ipython",
    "version": 3
   },
   "file_extension": ".py",
   "mimetype": "text/x-python",
   "name": "python",
   "nbconvert_exporter": "python",
   "pygments_lexer": "ipython3",
   "version": "3.8.8"
  }
 },
 "nbformat": 4,
 "nbformat_minor": 5
}
