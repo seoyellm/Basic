{
 "cells": [
  {
   "cell_type": "code",
   "execution_count": 1,
   "id": "ec1179e3-0863-4460-b75b-15cf058f54c1",
   "metadata": {},
   "outputs": [],
   "source": [
    "import warnings\n",
    "warnings.filterwarnings(action='ignore')"
   ]
  },
  {
   "cell_type": "code",
   "execution_count": 2,
   "id": "a21f0e7b-2d06-41a9-b46c-cb72b712a025",
   "metadata": {
    "tags": []
   },
   "outputs": [],
   "source": [
    "import pandas as pd\n",
    "import numpy as np"
   ]
  },
  {
   "cell_type": "markdown",
   "id": "f03b9319-62a9-4240-b00d-97f1868001a6",
   "metadata": {},
   "source": [
    "<font size=6><b> lec10. Object 변수"
   ]
  },
  {
   "cell_type": "markdown",
   "id": "dcd3cfcb-6ba9-4005-ad72-d6a855d63f53",
   "metadata": {},
   "source": [
    "### 범주형 변수 categorical data 처리 \n",
    "- 범주형 변수 : 순서가 있는 글자 변수\n",
    "* 글자를 숫자로 바꾸기\n",
    "    * 라벨인코딩(Label Encoding)\n",
    "    * 원핫인코딩(One-hot Encoding)\n",
    "    * df[컬럼].astype('category')\n",
    "    <br><br>\n",
    "* 범주화(Bining) \n",
    "    * 연속된 수치를 구간화(범주화)"
   ]
  },
  {
   "cell_type": "markdown",
   "id": "d8bbf92b-9c1d-4fd4-bd22-0b342787d04e",
   "metadata": {},
   "source": [
    "> <font size=4><b>(1) 라벨인코딩(Label Encoding)\n",
    "> * n개의 범주형 데이터를 0부터 n-1까지의 연속적 수치 데이터로 표현\n",
    "> * 글자 --> 일련의 숫자 ( 사전순으로 숫자 부여 )"
   ]
  },
  {
   "cell_type": "code",
   "execution_count": null,
   "id": "f8114924-c842-4702-900a-cdab41abd42b",
   "metadata": {},
   "outputs": [],
   "source": [
    "# sklearn --> scikit-learn : 머신러닝 패키지(설치시 이름만 변경)\n",
    "# 설치 위해 pip 버전 2.30 이상 필요\n",
    "######### ! pip install scikit-learn"
   ]
  },
  {
   "cell_type": "code",
   "execution_count": 3,
   "id": "cbcfbbf7-a80a-417f-bf4a-05f35dd1ec81",
   "metadata": {},
   "outputs": [],
   "source": [
    "from sklearn.preprocessing import LabelEncoder"
   ]
  },
  {
   "cell_type": "markdown",
   "id": "4023769f-1631-426a-9cc0-c3169538c1ea",
   "metadata": {},
   "source": [
    "- def fit(self,a,b)\n",
    "- self가 있는 함수는 클래스 이름으로 생성자를 호출해야만 사용가능하다는 뜻\n",
    "- 단독으로 fit() 형식으로 사용 불가능\n",
    "- a=LabelEncoder()\n",
    "- a.fit()"
   ]
  },
  {
   "cell_type": "code",
   "execution_count": 4,
   "id": "cf3894eb-83e6-4613-a2b6-fe5ca73425a9",
   "metadata": {
    "tags": []
   },
   "outputs": [
    {
     "data": {
      "text/html": [
       "<div>\n",
       "<style scoped>\n",
       "    .dataframe tbody tr th:only-of-type {\n",
       "        vertical-align: middle;\n",
       "    }\n",
       "\n",
       "    .dataframe tbody tr th {\n",
       "        vertical-align: top;\n",
       "    }\n",
       "\n",
       "    .dataframe thead th {\n",
       "        text-align: right;\n",
       "    }\n",
       "</style>\n",
       "<table border=\"1\" class=\"dataframe\">\n",
       "  <thead>\n",
       "    <tr style=\"text-align: right;\">\n",
       "      <th></th>\n",
       "      <th>name</th>\n",
       "      <th>score</th>\n",
       "    </tr>\n",
       "  </thead>\n",
       "  <tbody>\n",
       "    <tr>\n",
       "      <th>0</th>\n",
       "      <td>smith</td>\n",
       "      <td>A</td>\n",
       "    </tr>\n",
       "    <tr>\n",
       "      <th>1</th>\n",
       "      <td>martin</td>\n",
       "      <td>B</td>\n",
       "    </tr>\n",
       "    <tr>\n",
       "      <th>2</th>\n",
       "      <td>jones</td>\n",
       "      <td>NaN</td>\n",
       "    </tr>\n",
       "    <tr>\n",
       "      <th>3</th>\n",
       "      <td>allen</td>\n",
       "      <td>A</td>\n",
       "    </tr>\n",
       "    <tr>\n",
       "      <th>4</th>\n",
       "      <td>king</td>\n",
       "      <td>C</td>\n",
       "    </tr>\n",
       "  </tbody>\n",
       "</table>\n",
       "</div>"
      ],
      "text/plain": [
       "     name score\n",
       "0   smith     A\n",
       "1  martin     B\n",
       "2   jones   NaN\n",
       "3   allen     A\n",
       "4    king     C"
      ]
     },
     "execution_count": 4,
     "metadata": {},
     "output_type": "execute_result"
    }
   ],
   "source": [
    "df = pd.DataFrame({\"name\":[\"smith\",'martin',\"jones\",\"allen\",\"king\"],\"score\": [\"A\",\"B\",np.nan,\"A\",\"C\"]})\n",
    "df.head()"
   ]
  },
  {
   "cell_type": "code",
   "execution_count": 5,
   "id": "550683b6-5865-4720-a0dc-2eb1ba824ba4",
   "metadata": {
    "tags": []
   },
   "outputs": [
    {
     "name": "stdout",
     "output_type": "stream",
     "text": [
      "['smith' 'martin' 'jones' 'allen' 'king']\n",
      "[4 3 1 0 2]\n"
     ]
    }
   ],
   "source": [
    "le = LabelEncoder() # 클래스 이름() == 생성자 함수 : 초기화\n",
    "le.fit(df['name']) #모든 값을 사전순으로 메모리에 올려놓고 distinct , 변수 사용 금지\n",
    "res=le.transform(df['name']) # 변환\n",
    "\n",
    "print(df['name'].values)\n",
    "print(res)"
   ]
  },
  {
   "cell_type": "code",
   "execution_count": 6,
   "id": "550e851a-25e8-4dcf-bc88-fbc2e705d823",
   "metadata": {
    "tags": []
   },
   "outputs": [
    {
     "name": "stdout",
     "output_type": "stream",
     "text": [
      "['A' 'B' nan 'A' 'C']\n",
      "[0 1 3 0 2]\n"
     ]
    }
   ],
   "source": [
    "le = LabelEncoder() # 클래스 이름() == 생성자 함수 : 초기화\n",
    "le.fit(df['score']) #모든 값을 사전순으로 메모리에 올려놓고 distinct , 변수 사용 금지\n",
    "res=le.transform(df['score']) # 변환\n",
    "\n",
    "print(df['score'].values)\n",
    "print(res)\n",
    "\n",
    "# 사전에 없는 nan 값은 마지막 번호\n",
    "# 임의로 순서 변경 불가능"
   ]
  },
  {
   "cell_type": "code",
   "execution_count": 9,
   "id": "bed2fc9b-f1bc-4192-90c6-bbf7ad29cde2",
   "metadata": {
    "tags": []
   },
   "outputs": [
    {
     "data": {
      "text/html": [
       "<div>\n",
       "<style scoped>\n",
       "    .dataframe tbody tr th:only-of-type {\n",
       "        vertical-align: middle;\n",
       "    }\n",
       "\n",
       "    .dataframe tbody tr th {\n",
       "        vertical-align: top;\n",
       "    }\n",
       "\n",
       "    .dataframe thead th {\n",
       "        text-align: right;\n",
       "    }\n",
       "</style>\n",
       "<table border=\"1\" class=\"dataframe\">\n",
       "  <thead>\n",
       "    <tr style=\"text-align: right;\">\n",
       "      <th></th>\n",
       "      <th>name</th>\n",
       "      <th>score</th>\n",
       "      <th>le_name</th>\n",
       "    </tr>\n",
       "  </thead>\n",
       "  <tbody>\n",
       "    <tr>\n",
       "      <th>0</th>\n",
       "      <td>smith</td>\n",
       "      <td>A</td>\n",
       "      <td>0</td>\n",
       "    </tr>\n",
       "    <tr>\n",
       "      <th>1</th>\n",
       "      <td>martin</td>\n",
       "      <td>B</td>\n",
       "      <td>1</td>\n",
       "    </tr>\n",
       "    <tr>\n",
       "      <th>2</th>\n",
       "      <td>jones</td>\n",
       "      <td>NaN</td>\n",
       "      <td>3</td>\n",
       "    </tr>\n",
       "    <tr>\n",
       "      <th>3</th>\n",
       "      <td>allen</td>\n",
       "      <td>A</td>\n",
       "      <td>0</td>\n",
       "    </tr>\n",
       "    <tr>\n",
       "      <th>4</th>\n",
       "      <td>king</td>\n",
       "      <td>C</td>\n",
       "      <td>2</td>\n",
       "    </tr>\n",
       "  </tbody>\n",
       "</table>\n",
       "</div>"
      ],
      "text/plain": [
       "     name score  le_name\n",
       "0   smith     A        0\n",
       "1  martin     B        1\n",
       "2   jones   NaN        3\n",
       "3   allen     A        0\n",
       "4    king     C        2"
      ]
     },
     "execution_count": 9,
     "metadata": {},
     "output_type": "execute_result"
    }
   ],
   "source": [
    "df['le_name']=res\n",
    "df"
   ]
  },
  {
   "cell_type": "markdown",
   "id": "c4ed68e2-f762-418a-b777-2434667151a1",
   "metadata": {},
   "source": [
    "> <font size=4><b>(2) 원핫인코딩(One-hot Encoding)\n",
    "> * 집합의 크기를 벡터의 차원으로 하고, 표현하고 싶은 단어의 인덱스에 1의 값을 부여하고, 다른 인덱스에는 0을 부여하는 벡터(한줄) 표현 방식\n",
    "> *  데이터프레임에서 object 타입으로 되어있는 변수는 dummy 변수화\n",
    "> * <font color=red><b> 판다스의 시리즈가 아닌 numpy 행렬을 입력해야함 → df['컬럼'].values\n",
    "> * <font color=red><b> 벡터 입력을 허용하지 않음(2차원, list 불가능) → reshape(-1,1)을 이용해 Matrix로 변환  (N,) → (N,1)"
   ]
  },
  {
   "cell_type": "code",
   "execution_count": 12,
   "id": "8feacd60-8aa8-41e3-850c-76cd3b485eb4",
   "metadata": {
    "tags": []
   },
   "outputs": [
    {
     "data": {
      "text/plain": [
       "(5,)"
      ]
     },
     "execution_count": 12,
     "metadata": {},
     "output_type": "execute_result"
    }
   ],
   "source": [
    "df['score'].shape # array의 요소값 5개 --> 1차원"
   ]
  },
  {
   "cell_type": "code",
   "execution_count": 14,
   "id": "1eafb99c-516a-4250-84f4-09f4d8aa6f7e",
   "metadata": {
    "tags": []
   },
   "outputs": [
    {
     "data": {
      "text/plain": [
       "((5,), (5, 3))"
      ]
     },
     "execution_count": 14,
     "metadata": {},
     "output_type": "execute_result"
    }
   ],
   "source": [
    "df['score'].shape , df.shape"
   ]
  },
  {
   "cell_type": "code",
   "execution_count": 17,
   "id": "386a2d48-ec2e-40bd-8b64-0e884c1693db",
   "metadata": {
    "tags": []
   },
   "outputs": [
    {
     "data": {
      "text/plain": [
       "array(['A', 'B', nan, 'A', 'C'], dtype=object)"
      ]
     },
     "execution_count": 17,
     "metadata": {},
     "output_type": "execute_result"
    }
   ],
   "source": [
    "df['score'].values # 1차 : 벡터(vector)"
   ]
  },
  {
   "cell_type": "code",
   "execution_count": 16,
   "id": "0ef2b101-b7a1-43ee-8373-348711132417",
   "metadata": {
    "tags": []
   },
   "outputs": [
    {
     "data": {
      "text/plain": [
       "array([['A'],\n",
       "       ['B'],\n",
       "       [nan],\n",
       "       ['A'],\n",
       "       ['C']], dtype=object)"
      ]
     },
     "execution_count": 16,
     "metadata": {},
     "output_type": "execute_result"
    }
   ],
   "source": [
    "df['score'].values.reshape(-1,1) #  줄은 상관 없음, 칸은 1칸\n",
    "# 2차로 변경 : 매트릭스(Matrix) --> 무조건 2차로 만들어 사용해야 함"
   ]
  },
  {
   "cell_type": "code",
   "execution_count": 10,
   "id": "a878e8d8-111a-427b-bca3-2956e76571ec",
   "metadata": {},
   "outputs": [],
   "source": [
    "from sklearn.preprocessing import OneHotEncoder"
   ]
  },
  {
   "cell_type": "code",
   "execution_count": 19,
   "id": "3a226e54-8a33-42d9-a24e-89a2b2ddacbf",
   "metadata": {
    "tags": []
   },
   "outputs": [
    {
     "name": "stdout",
     "output_type": "stream",
     "text": [
      "  (0, 0)\t1.0\n",
      "  (1, 1)\t1.0\n",
      "  (2, 3)\t1.0\n",
      "  (3, 0)\t1.0\n",
      "  (4, 2)\t1.0\n"
     ]
    }
   ],
   "source": [
    "oe = OneHotEncoder()\n",
    "oe.fit(    df['score'].values.reshape(-1,1)   )  # 반드시 2차**** 넣기\n",
    "res = oe.transform(  df['score'].values.reshape(-1,1)  )\n",
    "print(res)\n",
    "\n",
    "#sparse matrix (희소 행렬) : 데이터 값이 대부분 0 인 행렬\n",
    "#(줄,칸)에 1이 들어있다"
   ]
  },
  {
   "cell_type": "code",
   "execution_count": 20,
   "id": "fba888e3-dc6d-4021-848f-850a238e46a9",
   "metadata": {
    "tags": []
   },
   "outputs": [
    {
     "name": "stdout",
     "output_type": "stream",
     "text": [
      "[[1. 0. 0. 0.]\n",
      " [0. 1. 0. 0.]\n",
      " [0. 0. 0. 1.]\n",
      " [1. 0. 0. 0.]\n",
      " [0. 0. 1. 0.]]\n"
     ]
    }
   ],
   "source": [
    "oe = OneHotEncoder(sparse=False)\n",
    "oe.fit(    df['score'].values.reshape(-1,1)   )  # 반드시 2차**** 넣기\n",
    "res = oe.transform(  df['score'].values.reshape(-1,1)  )\n",
    "print(res) # 결측이 있어 float으로 표현"
   ]
  },
  {
   "cell_type": "code",
   "execution_count": 21,
   "id": "8203c471-94bc-4dbe-86fb-74ff60823b09",
   "metadata": {
    "tags": []
   },
   "outputs": [
    {
     "data": {
      "text/plain": [
       "0      A\n",
       "1      B\n",
       "2    NaN\n",
       "3      A\n",
       "4      C\n",
       "Name: score, dtype: object"
      ]
     },
     "execution_count": 21,
     "metadata": {},
     "output_type": "execute_result"
    }
   ],
   "source": [
    "df['score'] \n",
    "#각 값의 위치(사전순)\n",
    "#   A  B  C  nan\n",
    "#  [1. 0. 0. 0.]\n",
    "#  [0. 1. 0. 0.]\n",
    "#  [0. 0. 0. 1.]\n",
    "#  [1. 0. 0. 0.]\n",
    "#  [0. 0. 1. 0.]"
   ]
  },
  {
   "cell_type": "code",
   "execution_count": 24,
   "id": "44ef04c1-b2fc-4aad-9b5b-c2f48581dfa3",
   "metadata": {
    "tags": []
   },
   "outputs": [
    {
     "name": "stdout",
     "output_type": "stream",
     "text": [
      "[array(['A', 'B', 'C', nan], dtype=object)]\n"
     ]
    }
   ],
   "source": [
    "print(oe.categories_) # Onehot카테고리 값, list 안에 array"
   ]
  },
  {
   "cell_type": "code",
   "execution_count": 26,
   "id": "83f43e7c-d824-4ce2-babe-1ad299e6b8e3",
   "metadata": {
    "tags": []
   },
   "outputs": [
    {
     "name": "stdout",
     "output_type": "stream",
     "text": [
      "['A' 'B' 'C' nan]\n"
     ]
    }
   ],
   "source": [
    "print(oe.categories_[0])"
   ]
  },
  {
   "cell_type": "code",
   "execution_count": 27,
   "id": "c565ae7e-bdad-4700-8720-882b66a446d8",
   "metadata": {
    "tags": []
   },
   "outputs": [
    {
     "data": {
      "text/html": [
       "<div>\n",
       "<style scoped>\n",
       "    .dataframe tbody tr th:only-of-type {\n",
       "        vertical-align: middle;\n",
       "    }\n",
       "\n",
       "    .dataframe tbody tr th {\n",
       "        vertical-align: top;\n",
       "    }\n",
       "\n",
       "    .dataframe thead th {\n",
       "        text-align: right;\n",
       "    }\n",
       "</style>\n",
       "<table border=\"1\" class=\"dataframe\">\n",
       "  <thead>\n",
       "    <tr style=\"text-align: right;\">\n",
       "      <th></th>\n",
       "      <th>A</th>\n",
       "      <th>B</th>\n",
       "      <th>C</th>\n",
       "      <th>NaN</th>\n",
       "    </tr>\n",
       "  </thead>\n",
       "  <tbody>\n",
       "    <tr>\n",
       "      <th>0</th>\n",
       "      <td>1.0</td>\n",
       "      <td>0.0</td>\n",
       "      <td>0.0</td>\n",
       "      <td>0.0</td>\n",
       "    </tr>\n",
       "    <tr>\n",
       "      <th>1</th>\n",
       "      <td>0.0</td>\n",
       "      <td>1.0</td>\n",
       "      <td>0.0</td>\n",
       "      <td>0.0</td>\n",
       "    </tr>\n",
       "    <tr>\n",
       "      <th>2</th>\n",
       "      <td>0.0</td>\n",
       "      <td>0.0</td>\n",
       "      <td>0.0</td>\n",
       "      <td>1.0</td>\n",
       "    </tr>\n",
       "    <tr>\n",
       "      <th>3</th>\n",
       "      <td>1.0</td>\n",
       "      <td>0.0</td>\n",
       "      <td>0.0</td>\n",
       "      <td>0.0</td>\n",
       "    </tr>\n",
       "    <tr>\n",
       "      <th>4</th>\n",
       "      <td>0.0</td>\n",
       "      <td>0.0</td>\n",
       "      <td>1.0</td>\n",
       "      <td>0.0</td>\n",
       "    </tr>\n",
       "  </tbody>\n",
       "</table>\n",
       "</div>"
      ],
      "text/plain": [
       "     A    B    C  NaN\n",
       "0  1.0  0.0  0.0  0.0\n",
       "1  0.0  1.0  0.0  0.0\n",
       "2  0.0  0.0  0.0  1.0\n",
       "3  1.0  0.0  0.0  0.0\n",
       "4  0.0  0.0  1.0  0.0"
      ]
     },
     "execution_count": 27,
     "metadata": {},
     "output_type": "execute_result"
    }
   ],
   "source": [
    "ohdf = pd.DataFrame(res, columns=oe.categories_[0])\n",
    "ohdf"
   ]
  },
  {
   "cell_type": "code",
   "execution_count": 28,
   "id": "22bacb2d-87a9-421b-826b-cc458bc294e4",
   "metadata": {
    "tags": []
   },
   "outputs": [
    {
     "data": {
      "text/html": [
       "<div>\n",
       "<style scoped>\n",
       "    .dataframe tbody tr th:only-of-type {\n",
       "        vertical-align: middle;\n",
       "    }\n",
       "\n",
       "    .dataframe tbody tr th {\n",
       "        vertical-align: top;\n",
       "    }\n",
       "\n",
       "    .dataframe thead th {\n",
       "        text-align: right;\n",
       "    }\n",
       "</style>\n",
       "<table border=\"1\" class=\"dataframe\">\n",
       "  <thead>\n",
       "    <tr style=\"text-align: right;\">\n",
       "      <th></th>\n",
       "      <th>name</th>\n",
       "      <th>score</th>\n",
       "      <th>le_name</th>\n",
       "      <th>A</th>\n",
       "      <th>B</th>\n",
       "      <th>C</th>\n",
       "      <th>NaN</th>\n",
       "    </tr>\n",
       "  </thead>\n",
       "  <tbody>\n",
       "    <tr>\n",
       "      <th>0</th>\n",
       "      <td>smith</td>\n",
       "      <td>A</td>\n",
       "      <td>0</td>\n",
       "      <td>1.0</td>\n",
       "      <td>0.0</td>\n",
       "      <td>0.0</td>\n",
       "      <td>0.0</td>\n",
       "    </tr>\n",
       "    <tr>\n",
       "      <th>1</th>\n",
       "      <td>martin</td>\n",
       "      <td>B</td>\n",
       "      <td>1</td>\n",
       "      <td>0.0</td>\n",
       "      <td>1.0</td>\n",
       "      <td>0.0</td>\n",
       "      <td>0.0</td>\n",
       "    </tr>\n",
       "    <tr>\n",
       "      <th>2</th>\n",
       "      <td>jones</td>\n",
       "      <td>NaN</td>\n",
       "      <td>3</td>\n",
       "      <td>0.0</td>\n",
       "      <td>0.0</td>\n",
       "      <td>0.0</td>\n",
       "      <td>1.0</td>\n",
       "    </tr>\n",
       "    <tr>\n",
       "      <th>3</th>\n",
       "      <td>allen</td>\n",
       "      <td>A</td>\n",
       "      <td>0</td>\n",
       "      <td>1.0</td>\n",
       "      <td>0.0</td>\n",
       "      <td>0.0</td>\n",
       "      <td>0.0</td>\n",
       "    </tr>\n",
       "    <tr>\n",
       "      <th>4</th>\n",
       "      <td>king</td>\n",
       "      <td>C</td>\n",
       "      <td>2</td>\n",
       "      <td>0.0</td>\n",
       "      <td>0.0</td>\n",
       "      <td>1.0</td>\n",
       "      <td>0.0</td>\n",
       "    </tr>\n",
       "  </tbody>\n",
       "</table>\n",
       "</div>"
      ],
      "text/plain": [
       "     name score  le_name    A    B    C  NaN\n",
       "0   smith     A        0  1.0  0.0  0.0  0.0\n",
       "1  martin     B        1  0.0  1.0  0.0  0.0\n",
       "2   jones   NaN        3  0.0  0.0  0.0  1.0\n",
       "3   allen     A        0  1.0  0.0  0.0  0.0\n",
       "4    king     C        2  0.0  0.0  1.0  0.0"
      ]
     },
     "execution_count": 28,
     "metadata": {},
     "output_type": "execute_result"
    }
   ],
   "source": [
    "totdf=pd.concat([df,ohdf],axis=1)\n",
    "totdf"
   ]
  },
  {
   "cell_type": "markdown",
   "id": "926e42ad-deb8-454d-8997-49f07cdc2394",
   "metadata": {},
   "source": [
    "> <font size=4><b>(3) get_dummies() = 결측 처리 + 라벨인코딩(Label Encoding) + 원핫인코딩(One-hot Encoding) "
   ]
  },
  {
   "cell_type": "code",
   "execution_count": 33,
   "id": "6d379bcc-d3cc-42dc-bf12-c1d3132ddae5",
   "metadata": {
    "tags": []
   },
   "outputs": [
    {
     "data": {
      "text/html": [
       "<div>\n",
       "<style scoped>\n",
       "    .dataframe tbody tr th:only-of-type {\n",
       "        vertical-align: middle;\n",
       "    }\n",
       "\n",
       "    .dataframe tbody tr th {\n",
       "        vertical-align: top;\n",
       "    }\n",
       "\n",
       "    .dataframe thead th {\n",
       "        text-align: right;\n",
       "    }\n",
       "</style>\n",
       "<table border=\"1\" class=\"dataframe\">\n",
       "  <thead>\n",
       "    <tr style=\"text-align: right;\">\n",
       "      <th></th>\n",
       "      <th>name</th>\n",
       "      <th>score</th>\n",
       "    </tr>\n",
       "  </thead>\n",
       "  <tbody>\n",
       "    <tr>\n",
       "      <th>0</th>\n",
       "      <td>smith</td>\n",
       "      <td>A</td>\n",
       "    </tr>\n",
       "    <tr>\n",
       "      <th>1</th>\n",
       "      <td>martin</td>\n",
       "      <td>B</td>\n",
       "    </tr>\n",
       "    <tr>\n",
       "      <th>2</th>\n",
       "      <td>jones</td>\n",
       "      <td>NaN</td>\n",
       "    </tr>\n",
       "    <tr>\n",
       "      <th>3</th>\n",
       "      <td>allen</td>\n",
       "      <td>A</td>\n",
       "    </tr>\n",
       "    <tr>\n",
       "      <th>4</th>\n",
       "      <td>king</td>\n",
       "      <td>C</td>\n",
       "    </tr>\n",
       "  </tbody>\n",
       "</table>\n",
       "</div>"
      ],
      "text/plain": [
       "     name score\n",
       "0   smith     A\n",
       "1  martin     B\n",
       "2   jones   NaN\n",
       "3   allen     A\n",
       "4    king     C"
      ]
     },
     "execution_count": 33,
     "metadata": {},
     "output_type": "execute_result"
    }
   ],
   "source": [
    "df = pd.DataFrame({\"name\":[\"smith\",'martin',\"jones\",\"allen\",\"king\"],\"score\": [\"A\",\"B\",np.nan,\"A\",\"C\"]})\n",
    "df.head()"
   ]
  },
  {
   "cell_type": "code",
   "execution_count": 34,
   "id": "32779537-dd93-4853-a125-55ec0f6d6394",
   "metadata": {},
   "outputs": [
    {
     "data": {
      "text/html": [
       "<div>\n",
       "<style scoped>\n",
       "    .dataframe tbody tr th:only-of-type {\n",
       "        vertical-align: middle;\n",
       "    }\n",
       "\n",
       "    .dataframe tbody tr th {\n",
       "        vertical-align: top;\n",
       "    }\n",
       "\n",
       "    .dataframe thead th {\n",
       "        text-align: right;\n",
       "    }\n",
       "</style>\n",
       "<table border=\"1\" class=\"dataframe\">\n",
       "  <thead>\n",
       "    <tr style=\"text-align: right;\">\n",
       "      <th></th>\n",
       "      <th>name_allen</th>\n",
       "      <th>name_jones</th>\n",
       "      <th>name_king</th>\n",
       "      <th>name_martin</th>\n",
       "      <th>name_smith</th>\n",
       "      <th>score_A</th>\n",
       "      <th>score_B</th>\n",
       "      <th>score_C</th>\n",
       "    </tr>\n",
       "  </thead>\n",
       "  <tbody>\n",
       "    <tr>\n",
       "      <th>0</th>\n",
       "      <td>0</td>\n",
       "      <td>0</td>\n",
       "      <td>0</td>\n",
       "      <td>0</td>\n",
       "      <td>1</td>\n",
       "      <td>1</td>\n",
       "      <td>0</td>\n",
       "      <td>0</td>\n",
       "    </tr>\n",
       "    <tr>\n",
       "      <th>1</th>\n",
       "      <td>0</td>\n",
       "      <td>0</td>\n",
       "      <td>0</td>\n",
       "      <td>1</td>\n",
       "      <td>0</td>\n",
       "      <td>0</td>\n",
       "      <td>1</td>\n",
       "      <td>0</td>\n",
       "    </tr>\n",
       "    <tr>\n",
       "      <th>2</th>\n",
       "      <td>0</td>\n",
       "      <td>1</td>\n",
       "      <td>0</td>\n",
       "      <td>0</td>\n",
       "      <td>0</td>\n",
       "      <td>0</td>\n",
       "      <td>0</td>\n",
       "      <td>0</td>\n",
       "    </tr>\n",
       "    <tr>\n",
       "      <th>3</th>\n",
       "      <td>1</td>\n",
       "      <td>0</td>\n",
       "      <td>0</td>\n",
       "      <td>0</td>\n",
       "      <td>0</td>\n",
       "      <td>1</td>\n",
       "      <td>0</td>\n",
       "      <td>0</td>\n",
       "    </tr>\n",
       "    <tr>\n",
       "      <th>4</th>\n",
       "      <td>0</td>\n",
       "      <td>0</td>\n",
       "      <td>1</td>\n",
       "      <td>0</td>\n",
       "      <td>0</td>\n",
       "      <td>0</td>\n",
       "      <td>0</td>\n",
       "      <td>1</td>\n",
       "    </tr>\n",
       "  </tbody>\n",
       "</table>\n",
       "</div>"
      ],
      "text/plain": [
       "   name_allen  name_jones  name_king  name_martin  name_smith  score_A  \\\n",
       "0           0           0          0            0           1        1   \n",
       "1           0           0          0            1           0        0   \n",
       "2           0           1          0            0           0        0   \n",
       "3           1           0          0            0           0        1   \n",
       "4           0           0          1            0           0        0   \n",
       "\n",
       "   score_B  score_C  \n",
       "0        0        0  \n",
       "1        1        0  \n",
       "2        0        0  \n",
       "3        0        0  \n",
       "4        0        1  "
      ]
     },
     "execution_count": 34,
     "metadata": {},
     "output_type": "execute_result"
    }
   ],
   "source": [
    "ddf=pd.get_dummies(df)\n",
    "ddf\n",
    "#df의 유니크한 도메인(값) 수 만큼 컬럼이 생성됨(각 값이 컬럼이 됨)\n",
    "#자동으로 결측 0 처리(수치 : 0, 글자 : 공백) --> 원하는 결측 처리 하고 get_dummies를 적용시키는 것이 좋다"
   ]
  },
  {
   "cell_type": "markdown",
   "id": "1e1571b2-0fc9-4efb-a2d5-94228de79db8",
   "metadata": {
    "tags": []
   },
   "source": [
    "> <font size=4><b>(4) category타입\n",
    "> - object --> 숫자    \n",
    "> * df['컬럼'].astype('category').cat.codes\n",
    "> * df['컬럼'].astype('category').cat.categories"
   ]
  },
  {
   "cell_type": "code",
   "execution_count": 58,
   "id": "788f9805-83b1-4e9b-b8f6-c897bcec99df",
   "metadata": {
    "tags": []
   },
   "outputs": [
    {
     "data": {
      "text/html": [
       "<div>\n",
       "<style scoped>\n",
       "    .dataframe tbody tr th:only-of-type {\n",
       "        vertical-align: middle;\n",
       "    }\n",
       "\n",
       "    .dataframe tbody tr th {\n",
       "        vertical-align: top;\n",
       "    }\n",
       "\n",
       "    .dataframe thead th {\n",
       "        text-align: right;\n",
       "    }\n",
       "</style>\n",
       "<table border=\"1\" class=\"dataframe\">\n",
       "  <thead>\n",
       "    <tr style=\"text-align: right;\">\n",
       "      <th></th>\n",
       "      <th>name</th>\n",
       "      <th>score</th>\n",
       "    </tr>\n",
       "  </thead>\n",
       "  <tbody>\n",
       "    <tr>\n",
       "      <th>0</th>\n",
       "      <td>smith</td>\n",
       "      <td>A</td>\n",
       "    </tr>\n",
       "    <tr>\n",
       "      <th>1</th>\n",
       "      <td>martin</td>\n",
       "      <td>B</td>\n",
       "    </tr>\n",
       "    <tr>\n",
       "      <th>2</th>\n",
       "      <td>jones</td>\n",
       "      <td>NaN</td>\n",
       "    </tr>\n",
       "    <tr>\n",
       "      <th>3</th>\n",
       "      <td>allen</td>\n",
       "      <td>A</td>\n",
       "    </tr>\n",
       "    <tr>\n",
       "      <th>4</th>\n",
       "      <td>king</td>\n",
       "      <td>C</td>\n",
       "    </tr>\n",
       "  </tbody>\n",
       "</table>\n",
       "</div>"
      ],
      "text/plain": [
       "     name score\n",
       "0   smith     A\n",
       "1  martin     B\n",
       "2   jones   NaN\n",
       "3   allen     A\n",
       "4    king     C"
      ]
     },
     "execution_count": 58,
     "metadata": {},
     "output_type": "execute_result"
    }
   ],
   "source": [
    "df = pd.DataFrame({\"name\":[\"smith\",'martin',\"jones\",\"allen\",\"king\"],\"score\": [\"A\",\"B\",np.nan,\"A\",\"C\"]})\n",
    "df.head()"
   ]
  },
  {
   "cell_type": "code",
   "execution_count": 59,
   "id": "b8445c1a-26cf-45b3-af49-87a1185e0657",
   "metadata": {},
   "outputs": [
    {
     "name": "stdout",
     "output_type": "stream",
     "text": [
      "<class 'pandas.core.frame.DataFrame'>\n",
      "RangeIndex: 5 entries, 0 to 4\n",
      "Data columns (total 2 columns):\n",
      " #   Column  Non-Null Count  Dtype   \n",
      "---  ------  --------------  -----   \n",
      " 0   name    5 non-null      category\n",
      " 1   score   4 non-null      object  \n",
      "dtypes: category(1), object(1)\n",
      "memory usage: 385.0+ bytes\n"
     ]
    }
   ],
   "source": [
    "df['name']=df['name'].astype('category')\n",
    "df.info()"
   ]
  },
  {
   "cell_type": "code",
   "execution_count": 62,
   "id": "99aa764d-79d3-4054-bd5b-ad8b1c447f35",
   "metadata": {
    "tags": []
   },
   "outputs": [],
   "source": [
    "type(df['name'].cat.codes)\n",
    "df['name_cat_codes']=df['name'].cat.codes #카데고리성 코드 보기"
   ]
  },
  {
   "cell_type": "code",
   "execution_count": 63,
   "id": "85c429e5-54eb-422a-8b97-ccf99da6b58b",
   "metadata": {
    "tags": []
   },
   "outputs": [
    {
     "data": {
      "text/html": [
       "<div>\n",
       "<style scoped>\n",
       "    .dataframe tbody tr th:only-of-type {\n",
       "        vertical-align: middle;\n",
       "    }\n",
       "\n",
       "    .dataframe tbody tr th {\n",
       "        vertical-align: top;\n",
       "    }\n",
       "\n",
       "    .dataframe thead th {\n",
       "        text-align: right;\n",
       "    }\n",
       "</style>\n",
       "<table border=\"1\" class=\"dataframe\">\n",
       "  <thead>\n",
       "    <tr style=\"text-align: right;\">\n",
       "      <th></th>\n",
       "      <th>name</th>\n",
       "      <th>score</th>\n",
       "      <th>name_cat_codes</th>\n",
       "    </tr>\n",
       "  </thead>\n",
       "  <tbody>\n",
       "    <tr>\n",
       "      <th>0</th>\n",
       "      <td>smith</td>\n",
       "      <td>A</td>\n",
       "      <td>4</td>\n",
       "    </tr>\n",
       "    <tr>\n",
       "      <th>1</th>\n",
       "      <td>martin</td>\n",
       "      <td>B</td>\n",
       "      <td>3</td>\n",
       "    </tr>\n",
       "    <tr>\n",
       "      <th>2</th>\n",
       "      <td>jones</td>\n",
       "      <td>NaN</td>\n",
       "      <td>1</td>\n",
       "    </tr>\n",
       "    <tr>\n",
       "      <th>3</th>\n",
       "      <td>allen</td>\n",
       "      <td>A</td>\n",
       "      <td>0</td>\n",
       "    </tr>\n",
       "    <tr>\n",
       "      <th>4</th>\n",
       "      <td>king</td>\n",
       "      <td>C</td>\n",
       "      <td>2</td>\n",
       "    </tr>\n",
       "  </tbody>\n",
       "</table>\n",
       "</div>"
      ],
      "text/plain": [
       "     name score  name_cat_codes\n",
       "0   smith     A               4\n",
       "1  martin     B               3\n",
       "2   jones   NaN               1\n",
       "3   allen     A               0\n",
       "4    king     C               2"
      ]
     },
     "execution_count": 63,
     "metadata": {},
     "output_type": "execute_result"
    }
   ],
   "source": [
    "df"
   ]
  },
  {
   "cell_type": "code",
   "execution_count": 66,
   "id": "dcc9d141-3df1-48aa-b19a-64f0e35be91b",
   "metadata": {
    "tags": []
   },
   "outputs": [],
   "source": [
    "# 원본의 카테고리 보기\n",
    "df['name_cat_categories']=df['name'].cat.categories"
   ]
  },
  {
   "cell_type": "code",
   "execution_count": 70,
   "id": "b03c6cc4-0cdb-4c59-8daf-622ef7102614",
   "metadata": {
    "tags": []
   },
   "outputs": [
    {
     "name": "stdout",
     "output_type": "stream",
     "text": [
      "<class 'pandas.core.frame.DataFrame'>\n",
      "RangeIndex: 5 entries, 0 to 4\n",
      "Data columns (total 4 columns):\n",
      " #   Column               Non-Null Count  Dtype   \n",
      "---  ------               --------------  -----   \n",
      " 0   name                 5 non-null      category\n",
      " 1   score                4 non-null      object  \n",
      " 2   name_cat_codes       5 non-null      int8    \n",
      " 3   name_cat_categories  5 non-null      object  \n",
      "dtypes: category(1), int8(1), object(2)\n",
      "memory usage: 430.0+ bytes\n"
     ]
    }
   ],
   "source": [
    "df.info()\n",
    "# name을 카테고리화하면 name 삭제 --> 머신러닝은 object 학습하지 못함\n",
    "# meta data : 데이터를 설명하는 데이터"
   ]
  },
  {
   "cell_type": "markdown",
   "id": "12ceb9da-2072-48b2-81c2-79e472fc6bde",
   "metadata": {},
   "source": [
    "- 참고용"
   ]
  },
  {
   "cell_type": "code",
   "execution_count": 65,
   "id": "30c4e706-e795-4f36-9a65-80f9889178bd",
   "metadata": {
    "tags": []
   },
   "outputs": [
    {
     "data": {
      "text/plain": [
       "{0: 'allen', 1: 'jones', 2: 'king', 3: 'martin', 4: 'smith'}"
      ]
     },
     "execution_count": 65,
     "metadata": {},
     "output_type": "execute_result"
    }
   ],
   "source": [
    "d=dict(enumerate(df['name'].cat.categories))\n",
    "d"
   ]
  },
  {
   "cell_type": "code",
   "execution_count": 67,
   "id": "068621a5-b81f-4bdb-bcc9-a73978661009",
   "metadata": {
    "tags": []
   },
   "outputs": [
    {
     "data": {
      "text/html": [
       "<div>\n",
       "<style scoped>\n",
       "    .dataframe tbody tr th:only-of-type {\n",
       "        vertical-align: middle;\n",
       "    }\n",
       "\n",
       "    .dataframe tbody tr th {\n",
       "        vertical-align: top;\n",
       "    }\n",
       "\n",
       "    .dataframe thead th {\n",
       "        text-align: right;\n",
       "    }\n",
       "</style>\n",
       "<table border=\"1\" class=\"dataframe\">\n",
       "  <thead>\n",
       "    <tr style=\"text-align: right;\">\n",
       "      <th></th>\n",
       "      <th>name</th>\n",
       "      <th>score</th>\n",
       "      <th>name_cat_codes</th>\n",
       "      <th>name_cat_categories</th>\n",
       "    </tr>\n",
       "  </thead>\n",
       "  <tbody>\n",
       "    <tr>\n",
       "      <th>0</th>\n",
       "      <td>smith</td>\n",
       "      <td>A</td>\n",
       "      <td>4</td>\n",
       "      <td>allen</td>\n",
       "    </tr>\n",
       "    <tr>\n",
       "      <th>1</th>\n",
       "      <td>martin</td>\n",
       "      <td>B</td>\n",
       "      <td>3</td>\n",
       "      <td>jones</td>\n",
       "    </tr>\n",
       "    <tr>\n",
       "      <th>2</th>\n",
       "      <td>jones</td>\n",
       "      <td>NaN</td>\n",
       "      <td>1</td>\n",
       "      <td>king</td>\n",
       "    </tr>\n",
       "    <tr>\n",
       "      <th>3</th>\n",
       "      <td>allen</td>\n",
       "      <td>A</td>\n",
       "      <td>0</td>\n",
       "      <td>martin</td>\n",
       "    </tr>\n",
       "    <tr>\n",
       "      <th>4</th>\n",
       "      <td>king</td>\n",
       "      <td>C</td>\n",
       "      <td>2</td>\n",
       "      <td>smith</td>\n",
       "    </tr>\n",
       "  </tbody>\n",
       "</table>\n",
       "</div>"
      ],
      "text/plain": [
       "     name score  name_cat_codes name_cat_categories\n",
       "0   smith     A               4               allen\n",
       "1  martin     B               3               jones\n",
       "2   jones   NaN               1                king\n",
       "3   allen     A               0              martin\n",
       "4    king     C               2               smith"
      ]
     },
     "execution_count": 67,
     "metadata": {},
     "output_type": "execute_result"
    }
   ],
   "source": [
    "df"
   ]
  },
  {
   "cell_type": "code",
   "execution_count": 68,
   "id": "ea5b59c6-9d00-4825-a77a-6013e4d78103",
   "metadata": {
    "tags": []
   },
   "outputs": [
    {
     "data": {
      "text/html": [
       "<div>\n",
       "<style scoped>\n",
       "    .dataframe tbody tr th:only-of-type {\n",
       "        vertical-align: middle;\n",
       "    }\n",
       "\n",
       "    .dataframe tbody tr th {\n",
       "        vertical-align: top;\n",
       "    }\n",
       "\n",
       "    .dataframe thead th {\n",
       "        text-align: right;\n",
       "    }\n",
       "</style>\n",
       "<table border=\"1\" class=\"dataframe\">\n",
       "  <thead>\n",
       "    <tr style=\"text-align: right;\">\n",
       "      <th></th>\n",
       "      <th>name</th>\n",
       "      <th>score</th>\n",
       "      <th>name_cat_codes</th>\n",
       "      <th>name_cat_categories</th>\n",
       "    </tr>\n",
       "  </thead>\n",
       "  <tbody>\n",
       "    <tr>\n",
       "      <th>0</th>\n",
       "      <td>smith</td>\n",
       "      <td>A</td>\n",
       "      <td>4</td>\n",
       "      <td>smith</td>\n",
       "    </tr>\n",
       "    <tr>\n",
       "      <th>1</th>\n",
       "      <td>martin</td>\n",
       "      <td>B</td>\n",
       "      <td>3</td>\n",
       "      <td>martin</td>\n",
       "    </tr>\n",
       "    <tr>\n",
       "      <th>2</th>\n",
       "      <td>jones</td>\n",
       "      <td>NaN</td>\n",
       "      <td>1</td>\n",
       "      <td>jones</td>\n",
       "    </tr>\n",
       "    <tr>\n",
       "      <th>3</th>\n",
       "      <td>allen</td>\n",
       "      <td>A</td>\n",
       "      <td>0</td>\n",
       "      <td>allen</td>\n",
       "    </tr>\n",
       "    <tr>\n",
       "      <th>4</th>\n",
       "      <td>king</td>\n",
       "      <td>C</td>\n",
       "      <td>2</td>\n",
       "      <td>king</td>\n",
       "    </tr>\n",
       "  </tbody>\n",
       "</table>\n",
       "</div>"
      ],
      "text/plain": [
       "     name score  name_cat_codes name_cat_categories\n",
       "0   smith     A               4               smith\n",
       "1  martin     B               3              martin\n",
       "2   jones   NaN               1               jones\n",
       "3   allen     A               0               allen\n",
       "4    king     C               2                king"
      ]
     },
     "execution_count": 68,
     "metadata": {},
     "output_type": "execute_result"
    }
   ],
   "source": [
    "df['name_cat_categories']=df['name_cat_codes'].map(d)\n",
    "df"
   ]
  },
  {
   "cell_type": "markdown",
   "id": "7c1907ec-f7b6-403d-a377-8ddf9c4148d2",
   "metadata": {},
   "source": [
    "- 참고용"
   ]
  },
  {
   "cell_type": "code",
   "execution_count": 69,
   "id": "70346efd-10bd-4817-ae0f-32c72ca2efc4",
   "metadata": {
    "tags": []
   },
   "outputs": [
    {
     "name": "stdout",
     "output_type": "stream",
     "text": [
      "[0 1 2 3 4]\n",
      "CategoricalIndex(['smith', 'martin', 'jones', 'allen', 'king'], categories=['allen', 'jones', 'king', 'martin', 'smith'], ordered=False, dtype='category')\n",
      "CategoricalIndex(['smith', 'martin', 'jones', 'allen', 'king'], categories=['allen', 'jones', 'king', 'martin', 'smith'], ordered=False, dtype='category')\n"
     ]
    }
   ],
   "source": [
    "code,cate=pd.factorize( df['name'] )\n",
    "print(code)\n",
    "print(cate)\n",
    "print(cate[code])"
   ]
  },
  {
   "cell_type": "markdown",
   "id": "9d1ff091-b193-44c8-8b8f-c85c37fe1139",
   "metadata": {},
   "source": [
    "> <font size=4><b>(5) 범주화(Bining)\n",
    "> * 연속형 데이터를 구간으로 나누어 범주화하는 방법\n",
    "> * pd.cut()  : 동일 구간으로 나누기\n",
    "> * pd.qcut() : 동일 갯수로 나누기(구간과 무관)\n",
    "> - cf) Binding"
   ]
  },
  {
   "cell_type": "markdown",
   "id": "e5777a9a-2611-4269-a800-f595133b873c",
   "metadata": {},
   "source": [
    "- 정규분포도를 따르는 랜덤성 데이터 생성\n",
    "<pre>\n",
    "np.random.normal(loc=0.0, scale=1.0, <b>size=None</b>)"
   ]
  },
  {
   "cell_type": "code",
   "execution_count": 38,
   "id": "a68987ce-9b75-4ba2-a59a-eca96cb82069",
   "metadata": {},
   "outputs": [
    {
     "data": {
      "text/plain": [
       "array([-1.31110712e+00,  2.47894037e-01,  2.68903932e-01, -5.56471050e-01,\n",
       "        1.38038066e+00, -5.41018141e-01,  2.10523672e-01, -1.47734354e-01,\n",
       "       -8.69983302e-01, -2.66550855e-02,  7.04557287e-02,  1.11844875e+00,\n",
       "        5.68707124e-01,  1.88946415e-01,  4.20231919e-01, -1.85400465e+00,\n",
       "        9.77583762e-01,  1.08756336e-01, -5.47319792e-02,  5.39631107e-01,\n",
       "        1.11745037e+00,  4.72359414e-01, -3.04185664e-01,  1.15008748e+00,\n",
       "       -1.39785456e+00,  7.96533497e-01, -8.27342413e-01, -1.63121427e+00,\n",
       "       -2.55549574e+00,  3.76377387e-01,  2.87133822e-01,  5.25248360e-01,\n",
       "       -6.93898229e-02, -2.28682921e-01,  2.12583592e+00,  5.12977139e-01,\n",
       "        3.24385828e-01,  4.20652650e-01,  1.97062441e-01,  1.43075902e-01,\n",
       "        3.20248623e-01, -1.69557234e-01,  6.11054836e-02, -1.35145898e+00,\n",
       "       -7.81384265e-01, -1.67612818e+00, -2.10817772e+00,  9.36420364e-01,\n",
       "        6.98055638e-01,  2.24340440e-01,  7.12623215e-01,  6.26997769e-02,\n",
       "       -4.97023165e-01, -7.33612592e-01, -3.36117322e-01, -1.01411484e+00,\n",
       "        1.13908059e+00,  1.47018196e-01, -5.08856245e-01, -3.41715122e-01,\n",
       "       -7.01592930e-01, -1.30816120e+00, -1.41186767e+00,  2.23348961e+00,\n",
       "        5.02627452e-04, -3.80289043e-01,  1.63684727e-01,  5.85740458e-02,\n",
       "        3.91180961e-01,  3.80751856e-01,  8.15375071e-01, -7.26615679e-01,\n",
       "        1.12081137e+00, -2.50689641e-01,  1.76077928e+00,  1.73370059e+00,\n",
       "        1.27625489e+00, -2.25829328e-01, -1.66568105e+00, -1.15825851e-01,\n",
       "        8.86026974e-01,  6.37025094e-01,  4.83253192e-01,  2.95736680e-01,\n",
       "        1.91845319e+00,  7.91410100e-01,  1.26381880e-01, -3.12689311e-01,\n",
       "        1.35690300e+00, -2.03081501e-01,  3.81866329e-01, -8.39353553e-01,\n",
       "        2.10694799e+00, -1.54273412e+00, -1.09441867e+00,  4.45701508e-01,\n",
       "        2.07361193e-01,  9.38094370e-01,  4.68453037e-01, -2.23461639e-01])"
      ]
     },
     "execution_count": 38,
     "metadata": {},
     "output_type": "execute_result"
    }
   ],
   "source": [
    "np.random.seed(9898989) # seed 값 고정시키기 --> 더이상 random 값 x\n",
    "ndata= np.random.normal(size=100) # 정규분포도 만들기 : 최소 데이터가 30개 이상이어야 정규분포도가 만들어짐(큰 수의 법칙)\n",
    "ndata"
   ]
  },
  {
   "cell_type": "code",
   "execution_count": 42,
   "id": "fb8f73a0-c0d8-4ffa-9ff1-ff9eda4f564f",
   "metadata": {
    "tags": []
   },
   "outputs": [
    {
     "data": {
      "image/png": "[encoded data removed]",
      "text/plain": [
       "<Figure size 640x480 with 1 Axes>"
      ]
     },
     "metadata": {},
     "output_type": "display_data"
    }
   ],
   "source": [
    "import matplotlib.pyplot as plt\n",
    "plt.hist(ndata) # hist() : 누적 분포도\n",
    "plt.show()"
   ]
  },
  {
   "cell_type": "markdown",
   "id": "36599478-95a7-40d2-aaea-5634628a4125",
   "metadata": {},
   "source": [
    "## 1. cut()"
   ]
  },
  {
   "cell_type": "code",
   "execution_count": 46,
   "id": "a9af8ed6-d3bb-4224-b5bc-afba887dca00",
   "metadata": {
    "tags": []
   },
   "outputs": [
    {
     "data": {
      "text/plain": [
       "[(-1.598, -0.64], (-0.64, 0.318], (-0.64, 0.318], (-0.64, 0.318], (1.276, 2.233], ..., (0.318, 1.276], (-0.64, 0.318], (0.318, 1.276], (0.318, 1.276], (-0.64, 0.318]]\n",
       "Length: 100\n",
       "Categories (5, interval[float64, right]): [(-2.56, -1.598] < (-1.598, -0.64] < (-0.64, 0.318] < (0.318, 1.276] < (1.276, 2.233]]"
      ]
     },
     "execution_count": 46,
     "metadata": {},
     "output_type": "execute_result"
    }
   ],
   "source": [
    "cutdata=pd.cut(ndata,5) # 데이터 5등분\n",
    "cutdata"
   ]
  },
  {
   "cell_type": "code",
   "execution_count": 51,
   "id": "37982771-4c2e-46f0-868e-840b18c49604",
   "metadata": {
    "tags": []
   },
   "outputs": [
    {
     "name": "stdout",
     "output_type": "stream",
     "text": [
      "              counts  freqs\n",
      "categories                 \n",
      "(0.991, 2.8]       2    0.2\n",
      "(2.8, 4.6]         2    0.2\n",
      "(4.6, 6.4]         2    0.2\n",
      "(6.4, 8.2]         2    0.2\n",
      "(8.2, 10.0]        2    0.2\n",
      "(0.991, 2.8]    2\n",
      "(2.8, 4.6]      2\n",
      "(4.6, 6.4]      2\n",
      "(6.4, 8.2]      2\n",
      "(8.2, 10.0]     2\n",
      "dtype: int64\n"
     ]
    }
   ],
   "source": [
    "cutdata=pd.cut([1,2,3,4,5,6,7,8,9,10],5) # 데이터 동일한 간격으로 5등분\n",
    "print(cutdata.describe())\n",
    "print(cutdata.value_counts())"
   ]
  },
  {
   "cell_type": "code",
   "execution_count": 55,
   "id": "4e1f3d02-6055-4f1b-8356-6f07ae838df6",
   "metadata": {
    "tags": []
   },
   "outputs": [
    {
     "data": {
      "text/html": [
       "<div>\n",
       "<style scoped>\n",
       "    .dataframe tbody tr th:only-of-type {\n",
       "        vertical-align: middle;\n",
       "    }\n",
       "\n",
       "    .dataframe tbody tr th {\n",
       "        vertical-align: top;\n",
       "    }\n",
       "\n",
       "    .dataframe thead th {\n",
       "        text-align: right;\n",
       "    }\n",
       "</style>\n",
       "<table border=\"1\" class=\"dataframe\">\n",
       "  <thead>\n",
       "    <tr style=\"text-align: right;\">\n",
       "      <th></th>\n",
       "      <th>counts</th>\n",
       "      <th>freqs</th>\n",
       "    </tr>\n",
       "    <tr>\n",
       "      <th>categories</th>\n",
       "      <th></th>\n",
       "      <th></th>\n",
       "    </tr>\n",
       "  </thead>\n",
       "  <tbody>\n",
       "    <tr>\n",
       "      <th>(0, 3]</th>\n",
       "      <td>3</td>\n",
       "      <td>0.3</td>\n",
       "    </tr>\n",
       "    <tr>\n",
       "      <th>(3, 7]</th>\n",
       "      <td>4</td>\n",
       "      <td>0.4</td>\n",
       "    </tr>\n",
       "    <tr>\n",
       "      <th>(7, 10]</th>\n",
       "      <td>3</td>\n",
       "      <td>0.3</td>\n",
       "    </tr>\n",
       "  </tbody>\n",
       "</table>\n",
       "</div>"
      ],
      "text/plain": [
       "            counts  freqs\n",
       "categories               \n",
       "(0, 3]           3    0.3\n",
       "(3, 7]           4    0.4\n",
       "(7, 10]          3    0.3"
      ]
     },
     "execution_count": 55,
     "metadata": {},
     "output_type": "execute_result"
    }
   ],
   "source": [
    "my_range = [0,3,7,10] # 0~3  4~7  9~10\n",
    "res=pd.cut([1,2,3,4,5,6,7,8,9,10],my_range)\n",
    "res.describe()"
   ]
  },
  {
   "cell_type": "code",
   "execution_count": 54,
   "id": "8ec306d7-67c2-4466-bfe0-b27ae66853bc",
   "metadata": {
    "tags": []
   },
   "outputs": [
    {
     "data": {
      "text/html": [
       "<div>\n",
       "<style scoped>\n",
       "    .dataframe tbody tr th:only-of-type {\n",
       "        vertical-align: middle;\n",
       "    }\n",
       "\n",
       "    .dataframe tbody tr th {\n",
       "        vertical-align: top;\n",
       "    }\n",
       "\n",
       "    .dataframe thead th {\n",
       "        text-align: right;\n",
       "    }\n",
       "</style>\n",
       "<table border=\"1\" class=\"dataframe\">\n",
       "  <thead>\n",
       "    <tr style=\"text-align: right;\">\n",
       "      <th></th>\n",
       "      <th>counts</th>\n",
       "      <th>freqs</th>\n",
       "    </tr>\n",
       "    <tr>\n",
       "      <th>categories</th>\n",
       "      <th></th>\n",
       "      <th></th>\n",
       "    </tr>\n",
       "  </thead>\n",
       "  <tbody>\n",
       "    <tr>\n",
       "      <th>대</th>\n",
       "      <td>3</td>\n",
       "      <td>0.3</td>\n",
       "    </tr>\n",
       "    <tr>\n",
       "      <th>중</th>\n",
       "      <td>4</td>\n",
       "      <td>0.4</td>\n",
       "    </tr>\n",
       "    <tr>\n",
       "      <th>소</th>\n",
       "      <td>3</td>\n",
       "      <td>0.3</td>\n",
       "    </tr>\n",
       "  </tbody>\n",
       "</table>\n",
       "</div>"
      ],
      "text/plain": [
       "            counts  freqs\n",
       "categories               \n",
       "대                3    0.3\n",
       "중                4    0.4\n",
       "소                3    0.3"
      ]
     },
     "execution_count": 54,
     "metadata": {},
     "output_type": "execute_result"
    }
   ],
   "source": [
    "my_range = [0,3,7,10] # 0~3  4~7  9~10\n",
    "my_label =['대','중','소']\n",
    "res=pd.cut([1,2,3,4,5,6,7,8,9,10],my_range, labels=my_label)\n",
    "res.describe()"
   ]
  },
  {
   "cell_type": "markdown",
   "id": "c145286a-be66-44d0-9479-6852751582e4",
   "metadata": {},
   "source": [
    "## 2. qcut()"
   ]
  },
  {
   "cell_type": "code",
   "execution_count": 56,
   "id": "3d5b7a9c-aae1-4b59-8ce6-8603468f500c",
   "metadata": {
    "tags": []
   },
   "outputs": [
    {
     "data": {
      "text/plain": [
       "array([-1.31110712e+00,  2.47894037e-01,  2.68903932e-01, -5.56471050e-01,\n",
       "        1.38038066e+00, -5.41018141e-01,  2.10523672e-01, -1.47734354e-01,\n",
       "       -8.69983302e-01, -2.66550855e-02,  7.04557287e-02,  1.11844875e+00,\n",
       "        5.68707124e-01,  1.88946415e-01,  4.20231919e-01, -1.85400465e+00,\n",
       "        9.77583762e-01,  1.08756336e-01, -5.47319792e-02,  5.39631107e-01,\n",
       "        1.11745037e+00,  4.72359414e-01, -3.04185664e-01,  1.15008748e+00,\n",
       "       -1.39785456e+00,  7.96533497e-01, -8.27342413e-01, -1.63121427e+00,\n",
       "       -2.55549574e+00,  3.76377387e-01,  2.87133822e-01,  5.25248360e-01,\n",
       "       -6.93898229e-02, -2.28682921e-01,  2.12583592e+00,  5.12977139e-01,\n",
       "        3.24385828e-01,  4.20652650e-01,  1.97062441e-01,  1.43075902e-01,\n",
       "        3.20248623e-01, -1.69557234e-01,  6.11054836e-02, -1.35145898e+00,\n",
       "       -7.81384265e-01, -1.67612818e+00, -2.10817772e+00,  9.36420364e-01,\n",
       "        6.98055638e-01,  2.24340440e-01,  7.12623215e-01,  6.26997769e-02,\n",
       "       -4.97023165e-01, -7.33612592e-01, -3.36117322e-01, -1.01411484e+00,\n",
       "        1.13908059e+00,  1.47018196e-01, -5.08856245e-01, -3.41715122e-01,\n",
       "       -7.01592930e-01, -1.30816120e+00, -1.41186767e+00,  2.23348961e+00,\n",
       "        5.02627452e-04, -3.80289043e-01,  1.63684727e-01,  5.85740458e-02,\n",
       "        3.91180961e-01,  3.80751856e-01,  8.15375071e-01, -7.26615679e-01,\n",
       "        1.12081137e+00, -2.50689641e-01,  1.76077928e+00,  1.73370059e+00,\n",
       "        1.27625489e+00, -2.25829328e-01, -1.66568105e+00, -1.15825851e-01,\n",
       "        8.86026974e-01,  6.37025094e-01,  4.83253192e-01,  2.95736680e-01,\n",
       "        1.91845319e+00,  7.91410100e-01,  1.26381880e-01, -3.12689311e-01,\n",
       "        1.35690300e+00, -2.03081501e-01,  3.81866329e-01, -8.39353553e-01,\n",
       "        2.10694799e+00, -1.54273412e+00, -1.09441867e+00,  4.45701508e-01,\n",
       "        2.07361193e-01,  9.38094370e-01,  4.68453037e-01, -2.23461639e-01])"
      ]
     },
     "execution_count": 56,
     "metadata": {},
     "output_type": "execute_result"
    }
   ],
   "source": [
    "np.random.seed(9898989) # seed 값 고정시키기 --> 더이상 random 값 x\n",
    "ndata= np.random.normal(size=100) # 정규분포도 만들기 : 최소 데이터가 30개 이상이어야 정규분포도가 만들어짐(큰 수의 법칙)\n",
    "ndata"
   ]
  },
  {
   "cell_type": "code",
   "execution_count": 57,
   "id": "04619e17-b482-444c-80e9-b5415231aa20",
   "metadata": {
    "tags": []
   },
   "outputs": [
    {
     "data": {
      "text/html": [
       "<div>\n",
       "<style scoped>\n",
       "    .dataframe tbody tr th:only-of-type {\n",
       "        vertical-align: middle;\n",
       "    }\n",
       "\n",
       "    .dataframe tbody tr th {\n",
       "        vertical-align: top;\n",
       "    }\n",
       "\n",
       "    .dataframe thead th {\n",
       "        text-align: right;\n",
       "    }\n",
       "</style>\n",
       "<table border=\"1\" class=\"dataframe\">\n",
       "  <thead>\n",
       "    <tr style=\"text-align: right;\">\n",
       "      <th></th>\n",
       "      <th>counts</th>\n",
       "      <th>freqs</th>\n",
       "    </tr>\n",
       "    <tr>\n",
       "      <th>categories</th>\n",
       "      <th></th>\n",
       "      <th></th>\n",
       "    </tr>\n",
       "  </thead>\n",
       "  <tbody>\n",
       "    <tr>\n",
       "      <th>(-2.556, -0.707]</th>\n",
       "      <td>20</td>\n",
       "      <td>0.2</td>\n",
       "    </tr>\n",
       "    <tr>\n",
       "      <th>(-0.707, -0.0379]</th>\n",
       "      <td>20</td>\n",
       "      <td>0.2</td>\n",
       "    </tr>\n",
       "    <tr>\n",
       "      <th>(-0.0379, 0.306]</th>\n",
       "      <td>20</td>\n",
       "      <td>0.2</td>\n",
       "    </tr>\n",
       "    <tr>\n",
       "      <th>(0.306, 0.792]</th>\n",
       "      <td>20</td>\n",
       "      <td>0.2</td>\n",
       "    </tr>\n",
       "    <tr>\n",
       "      <th>(0.792, 2.233]</th>\n",
       "      <td>20</td>\n",
       "      <td>0.2</td>\n",
       "    </tr>\n",
       "  </tbody>\n",
       "</table>\n",
       "</div>"
      ],
      "text/plain": [
       "                   counts  freqs\n",
       "categories                      \n",
       "(-2.556, -0.707]       20    0.2\n",
       "(-0.707, -0.0379]      20    0.2\n",
       "(-0.0379, 0.306]       20    0.2\n",
       "(0.306, 0.792]         20    0.2\n",
       "(0.792, 2.233]         20    0.2"
      ]
     },
     "execution_count": 57,
     "metadata": {},
     "output_type": "execute_result"
    }
   ],
   "source": [
    "qdata=pd.qcut(ndata,5) #데이터 개수 일정, 구간 범위는 다름\n",
    "qdata.describe()"
   ]
  }
 ],
 "metadata": {
  "kernelspec": {
   "display_name": "Python 3 (ipykernel)",
   "language": "python",
   "name": "python3"
  },
  "language_info": {
   "codemirror_mode": {
    "name": "ipython",
    "version": 3
   },
   "file_extension": ".py",
   "mimetype": "text/x-python",
   "name": "python",
   "nbconvert_exporter": "python",
   "pygments_lexer": "ipython3",
   "version": "3.8.8"
  },
  "toc-showmarkdowntxt": true
 },
 "nbformat": 4,
 "nbformat_minor": 5
}
