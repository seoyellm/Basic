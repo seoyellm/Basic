{
 "cells": [
  {
   "cell_type": "markdown",
   "id": "914a8c6b-49fb-40f2-8343-da3aa4115885",
   "metadata": {},
   "source": [
    "# DataFrame vs SQL"
   ]
  },
  {
   "cell_type": "code",
   "execution_count": 2,
   "id": "b8c680f6-9abb-4b00-be64-09a488fefffc",
   "metadata": {
    "tags": []
   },
   "outputs": [],
   "source": [
    "import pandas as pd\n",
    "import numpy as np"
   ]
  },
  {
   "cell_type": "code",
   "execution_count": 4,
   "id": "1d9ac7b0-18ef-4448-b6f8-30925cd2ffaa",
   "metadata": {
    "tags": []
   },
   "outputs": [],
   "source": [
    "emp = pd.read_csv(\"./lec08_emp.csv\", parse_dates=['HIREDATE'])\n",
    "emp.head(3)\n",
    "# 컬럼이름 소문자변경\n",
    "emp.columns = emp.columns.str.lower()"
   ]
  },
  {
   "cell_type": "code",
   "execution_count": null,
   "id": "3f2764ae-337f-438f-a423-3faa5a15e71a",
   "metadata": {},
   "outputs": [],
   "source": [
    "# emp=pd.read_csv(\"./lec08_emp.csv\",sep=\",\",parse_dates=['HIREDATE'])\n",
    "# emp.colums=emp.columns.str.lower()"
   ]
  },
  {
   "cell_type": "markdown",
   "id": "fed64dad-a6e8-4f5b-a3aa-2d6e5fe33312",
   "metadata": {},
   "source": [
    "## Select문"
   ]
  },
  {
   "cell_type": "markdown",
   "id": "0dc46559-2214-4fe2-878b-780a4866c12c",
   "metadata": {},
   "source": [
    "ORACLE 문법  \n",
    "SELECT * FROM EMP;  \n",
    "\n",
    "DataFrame 문법  \n",
    "<font hidden>\n",
    "    ```emp```\n",
    "<font>"
   ]
  },
  {
   "cell_type": "code",
   "execution_count": 6,
   "id": "10ebfcb7-0cf7-41ef-8567-af649a5b17c1",
   "metadata": {
    "tags": []
   },
   "outputs": [
    {
     "data": {
      "text/html": [
       "<div>\n",
       "<style scoped>\n",
       "    .dataframe tbody tr th:only-of-type {\n",
       "        vertical-align: middle;\n",
       "    }\n",
       "\n",
       "    .dataframe tbody tr th {\n",
       "        vertical-align: top;\n",
       "    }\n",
       "\n",
       "    .dataframe thead th {\n",
       "        text-align: right;\n",
       "    }\n",
       "</style>\n",
       "<table border=\"1\" class=\"dataframe\">\n",
       "  <thead>\n",
       "    <tr style=\"text-align: right;\">\n",
       "      <th></th>\n",
       "      <th>empno</th>\n",
       "      <th>ename</th>\n",
       "      <th>job</th>\n",
       "      <th>mgr</th>\n",
       "      <th>hiredate</th>\n",
       "      <th>sal</th>\n",
       "      <th>comm</th>\n",
       "      <th>deptno</th>\n",
       "    </tr>\n",
       "  </thead>\n",
       "  <tbody>\n",
       "    <tr>\n",
       "      <th>0</th>\n",
       "      <td>7369</td>\n",
       "      <td>SMITH</td>\n",
       "      <td>CLERK</td>\n",
       "      <td>7902.0</td>\n",
       "      <td>1980-12-17</td>\n",
       "      <td>800</td>\n",
       "      <td>NaN</td>\n",
       "      <td>20</td>\n",
       "    </tr>\n",
       "    <tr>\n",
       "      <th>1</th>\n",
       "      <td>7499</td>\n",
       "      <td>ALLEN</td>\n",
       "      <td>SALESMAN</td>\n",
       "      <td>7698.0</td>\n",
       "      <td>1981-02-20</td>\n",
       "      <td>1600</td>\n",
       "      <td>300.0</td>\n",
       "      <td>30</td>\n",
       "    </tr>\n",
       "    <tr>\n",
       "      <th>2</th>\n",
       "      <td>7521</td>\n",
       "      <td>WARD</td>\n",
       "      <td>SALESMAN</td>\n",
       "      <td>7698.0</td>\n",
       "      <td>1981-02-22</td>\n",
       "      <td>1250</td>\n",
       "      <td>500.0</td>\n",
       "      <td>30</td>\n",
       "    </tr>\n",
       "    <tr>\n",
       "      <th>3</th>\n",
       "      <td>7566</td>\n",
       "      <td>JONES</td>\n",
       "      <td>MANAGER</td>\n",
       "      <td>7839.0</td>\n",
       "      <td>1981-04-02</td>\n",
       "      <td>2975</td>\n",
       "      <td>NaN</td>\n",
       "      <td>20</td>\n",
       "    </tr>\n",
       "    <tr>\n",
       "      <th>4</th>\n",
       "      <td>7654</td>\n",
       "      <td>MARTIN</td>\n",
       "      <td>SALESMAN</td>\n",
       "      <td>7698.0</td>\n",
       "      <td>1981-09-28</td>\n",
       "      <td>1250</td>\n",
       "      <td>1400.0</td>\n",
       "      <td>30</td>\n",
       "    </tr>\n",
       "  </tbody>\n",
       "</table>\n",
       "</div>"
      ],
      "text/plain": [
       "   empno   ename       job     mgr   hiredate   sal    comm  deptno\n",
       "0   7369   SMITH     CLERK  7902.0 1980-12-17   800     NaN      20\n",
       "1   7499   ALLEN  SALESMAN  7698.0 1981-02-20  1600   300.0      30\n",
       "2   7521    WARD  SALESMAN  7698.0 1981-02-22  1250   500.0      30\n",
       "3   7566   JONES   MANAGER  7839.0 1981-04-02  2975     NaN      20\n",
       "4   7654  MARTIN  SALESMAN  7698.0 1981-09-28  1250  1400.0      30"
      ]
     },
     "execution_count": 6,
     "metadata": {},
     "output_type": "execute_result"
    }
   ],
   "source": [
    "emp.head()"
   ]
  },
  {
   "cell_type": "markdown",
   "id": "2bcd3e37-f00b-4950-93e6-bd1d48ee6fd4",
   "metadata": {},
   "source": [
    "ORACLE 문법   \n",
    "SELECT ENAME FROM EMP;  \n",
    "\n",
    "DataFrame 문법  \n",
    "<font hidden>\n",
    "```emp['ename']```    \n",
    "<font>"
   ]
  },
  {
   "cell_type": "code",
   "execution_count": 7,
   "id": "df8c36db-0d3c-416d-a99c-4e2d302b4c8a",
   "metadata": {
    "tags": []
   },
   "outputs": [
    {
     "data": {
      "text/plain": [
       "0      SMITH\n",
       "1      ALLEN\n",
       "2       WARD\n",
       "3      JONES\n",
       "4     MARTIN\n",
       "5      BLAKE\n",
       "6        CCC\n",
       "7      SCOTT\n",
       "8       KING\n",
       "9     TURNER\n",
       "10     ADAMS\n",
       "11     JAMES\n",
       "12      FORD\n",
       "13    MILLER\n",
       "Name: ename, dtype: object"
      ]
     },
     "execution_count": 7,
     "metadata": {},
     "output_type": "execute_result"
    }
   ],
   "source": [
    "emp['ename']"
   ]
  },
  {
   "cell_type": "markdown",
   "id": "52bd1b13-f7f9-4f4e-9048-5ce40b43c153",
   "metadata": {
    "tags": []
   },
   "source": [
    "ORACLE 문법  \n",
    "SELECT ENAME, EMPNO FROM EMP;  \n",
    "\n",
    "DataFrame 문법  \n",
    "<font hidden>\n",
    "    `emp[  ['empno', 'ename']  ]`\n",
    "<font>"
   ]
  },
  {
   "cell_type": "code",
   "execution_count": 10,
   "id": "18c7988e-cc4a-4819-b526-97579a253ee0",
   "metadata": {
    "tags": []
   },
   "outputs": [
    {
     "data": {
      "text/html": [
       "<div>\n",
       "<style scoped>\n",
       "    .dataframe tbody tr th:only-of-type {\n",
       "        vertical-align: middle;\n",
       "    }\n",
       "\n",
       "    .dataframe tbody tr th {\n",
       "        vertical-align: top;\n",
       "    }\n",
       "\n",
       "    .dataframe thead th {\n",
       "        text-align: right;\n",
       "    }\n",
       "</style>\n",
       "<table border=\"1\" class=\"dataframe\">\n",
       "  <thead>\n",
       "    <tr style=\"text-align: right;\">\n",
       "      <th></th>\n",
       "      <th>ename</th>\n",
       "      <th>empno</th>\n",
       "    </tr>\n",
       "  </thead>\n",
       "  <tbody>\n",
       "    <tr>\n",
       "      <th>0</th>\n",
       "      <td>SMITH</td>\n",
       "      <td>7369</td>\n",
       "    </tr>\n",
       "    <tr>\n",
       "      <th>1</th>\n",
       "      <td>ALLEN</td>\n",
       "      <td>7499</td>\n",
       "    </tr>\n",
       "    <tr>\n",
       "      <th>2</th>\n",
       "      <td>WARD</td>\n",
       "      <td>7521</td>\n",
       "    </tr>\n",
       "    <tr>\n",
       "      <th>3</th>\n",
       "      <td>JONES</td>\n",
       "      <td>7566</td>\n",
       "    </tr>\n",
       "    <tr>\n",
       "      <th>4</th>\n",
       "      <td>MARTIN</td>\n",
       "      <td>7654</td>\n",
       "    </tr>\n",
       "  </tbody>\n",
       "</table>\n",
       "</div>"
      ],
      "text/plain": [
       "    ename  empno\n",
       "0   SMITH   7369\n",
       "1   ALLEN   7499\n",
       "2    WARD   7521\n",
       "3   JONES   7566\n",
       "4  MARTIN   7654"
      ]
     },
     "execution_count": 10,
     "metadata": {},
     "output_type": "execute_result"
    }
   ],
   "source": [
    "emp[['ename','empno']].head()"
   ]
  },
  {
   "cell_type": "markdown",
   "id": "26d8b458-2b30-4699-9f07-7dc4d7ada70e",
   "metadata": {},
   "source": [
    "ORACLE 문법  \n",
    "SELECT EMPNO, ENAME  \n",
    "FROM EMP  \n",
    "WHERE ROWNUM <= 3;\n",
    "\n",
    "DataFrame 문법  \n",
    "<font hidden>\n",
    "    `emp.loc[0:2, ['empno','ename']]`\n",
    "<font>"
   ]
  },
  {
   "cell_type": "code",
   "execution_count": 11,
   "id": "787e36b5-8481-4ecd-9dbc-16f18fe23021",
   "metadata": {
    "tags": []
   },
   "outputs": [
    {
     "data": {
      "text/html": [
       "<div>\n",
       "<style scoped>\n",
       "    .dataframe tbody tr th:only-of-type {\n",
       "        vertical-align: middle;\n",
       "    }\n",
       "\n",
       "    .dataframe tbody tr th {\n",
       "        vertical-align: top;\n",
       "    }\n",
       "\n",
       "    .dataframe thead th {\n",
       "        text-align: right;\n",
       "    }\n",
       "</style>\n",
       "<table border=\"1\" class=\"dataframe\">\n",
       "  <thead>\n",
       "    <tr style=\"text-align: right;\">\n",
       "      <th></th>\n",
       "      <th>empno</th>\n",
       "      <th>ename</th>\n",
       "    </tr>\n",
       "  </thead>\n",
       "  <tbody>\n",
       "    <tr>\n",
       "      <th>6</th>\n",
       "      <td>7782</td>\n",
       "      <td>CCC</td>\n",
       "    </tr>\n",
       "    <tr>\n",
       "      <th>8</th>\n",
       "      <td>7839</td>\n",
       "      <td>KING</td>\n",
       "    </tr>\n",
       "    <tr>\n",
       "      <th>13</th>\n",
       "      <td>7934</td>\n",
       "      <td>MILLER</td>\n",
       "    </tr>\n",
       "  </tbody>\n",
       "</table>\n",
       "</div>"
      ],
      "text/plain": [
       "    empno   ename\n",
       "6    7782     CCC\n",
       "8    7839    KING\n",
       "13   7934  MILLER"
      ]
     },
     "execution_count": 11,
     "metadata": {},
     "output_type": "execute_result"
    }
   ],
   "source": [
    "emp[['empno','ename']][emp['deptno']==10]"
   ]
  },
  {
   "cell_type": "markdown",
   "id": "783d3fdd-1a1c-4195-abce-ccd8ff623fd5",
   "metadata": {
    "tags": []
   },
   "source": [
    "### iloc, loc 문법"
   ]
  },
  {
   "cell_type": "markdown",
   "id": "967e97e1-91b3-4e79-98d5-59c66bcf5782",
   "metadata": {
    "tags": []
   },
   "source": [
    "### 값 뽑아보기 연습"
   ]
  },
  {
   "cell_type": "code",
   "execution_count": 3,
   "id": "2a4c46d1-1ffe-4753-9d0a-fe05094e2447",
   "metadata": {
    "tags": []
   },
   "outputs": [],
   "source": [
    "# emp.iloc[헹]\n",
    "# emp.iloc[3]               # 단일값\n",
    "# emp.iloc[  [0,3,5]  ]     # 여러값\n",
    "# emp.iloc[ 0: 3]           # 슬라이스\n",
    "\n",
    "# emp.iloc[행,열]\n",
    "# emp.iloc[0, 1]            # 단일값\n",
    "# emp.iloc[ 0, [0,3]]       # 여러값\n",
    "# emp.iloc[ 0:3, 2:4]         # 슬라이스"
   ]
  },
  {
   "cell_type": "code",
   "execution_count": 4,
   "id": "02ae6ee9-fade-46c9-8bea-604a5270b780",
   "metadata": {
    "tags": []
   },
   "outputs": [],
   "source": [
    "# emp.loc[행값, 열값]                     **주의 값임!\n",
    "# emp.loc[0, 'ename']                    # 단일값, 단일값\n",
    "# emp.loc[[1,2,3], ['empno','ename']]    # 여러값, 여러값\n",
    "# emp.loc[ 0:3, 'empno':'mgr']           # 슬라이싱, 슬라이싱(** 여기는 미만이 아님(3, mgr포함) **)"
   ]
  },
  {
   "cell_type": "code",
   "execution_count": null,
   "id": "0a4bfa6e-8ccb-40d1-a9c0-a25de7565850",
   "metadata": {},
   "outputs": [],
   "source": []
  },
  {
   "cell_type": "markdown",
   "id": "9321f31f-6b24-451a-807e-fcd5c5894a76",
   "metadata": {},
   "source": [
    "## Where 조건\n",
    "\n",
    "<hr>\n",
    "\n",
    "<font size=5 style=bold >사용법</font>  \n",
    "df[조건]  \n",
    "df[조건][컬럼]  \n",
    "df[컬럼][조건]"
   ]
  },
  {
   "cell_type": "markdown",
   "id": "f07ace22-8c62-449a-be7c-17eda1729ee7",
   "metadata": {
    "tags": []
   },
   "source": [
    "ORACLE 문법  \n",
    "SELECT * FROM EMP WHERE DEPTNO = 10;\n",
    "\n",
    "DataFrame 문법  \n",
    "<font hidden>\n",
    "    `emp[  emp['deptno'] ==10  ]`\n",
    "<font>"
   ]
  },
  {
   "cell_type": "code",
   "execution_count": null,
   "id": "4d955a10-b2f5-4e7c-9f68-1d15b8895c37",
   "metadata": {
    "tags": []
   },
   "outputs": [],
   "source": []
  },
  {
   "cell_type": "markdown",
   "id": "66a4fedb-ef96-43d5-9e96-727d1bd66b3a",
   "metadata": {
    "tags": []
   },
   "source": [
    "### 단일조건\n",
    "ORACLE 문법  \n",
    "SELECT EMPNO, ENAME FROM EMP WHERE DEPTNO = 10;\n",
    "\n",
    "DataFrame 문법\n",
    "<font hidden>\n",
    "    `emp[ emp['deptno'] == 10  ][  ['empno', 'ename']   ]`  \n",
    "<font>\n",
    "\n",
    "\n",
    "**내가생각한 문제   iloc에 조건을 걸수있을까 iloc으로 df로 뽑고  **   \n",
    "emp.iloc[1:5, :][ emp['deptno'] == 20]['ename']"
   ]
  },
  {
   "cell_type": "code",
   "execution_count": null,
   "id": "91431392-110b-4674-9844-68896385af24",
   "metadata": {},
   "outputs": [],
   "source": []
  },
  {
   "cell_type": "markdown",
   "id": "b5ce6d7e-c55b-45f7-a0a9-d5d3a345a179",
   "metadata": {
    "tags": []
   },
   "source": [
    "### 멀티조건\n",
    "ORACLE 문법  \n",
    "SELECT EMPNO, ENAME, SAL FROM EMP WHERE DEPTNO = 10 AND SAL > 2000;\n",
    "\n",
    "DataFrame 문법  \n",
    "<font hidden>\n",
    "    `emp[ ['empno', 'ename'] ][ (emp['deptno'] == 10) & (emp['sal'] > 2000) ]`\n",
    "<font>"
   ]
  },
  {
   "cell_type": "code",
   "execution_count": 12,
   "id": "5cd341dc-c516-4bb6-bb16-f51986afcb41",
   "metadata": {
    "tags": []
   },
   "outputs": [
    {
     "data": {
      "text/html": [
       "<div>\n",
       "<style scoped>\n",
       "    .dataframe tbody tr th:only-of-type {\n",
       "        vertical-align: middle;\n",
       "    }\n",
       "\n",
       "    .dataframe tbody tr th {\n",
       "        vertical-align: top;\n",
       "    }\n",
       "\n",
       "    .dataframe thead th {\n",
       "        text-align: right;\n",
       "    }\n",
       "</style>\n",
       "<table border=\"1\" class=\"dataframe\">\n",
       "  <thead>\n",
       "    <tr style=\"text-align: right;\">\n",
       "      <th></th>\n",
       "      <th>empno</th>\n",
       "      <th>ename</th>\n",
       "      <th>sal</th>\n",
       "    </tr>\n",
       "  </thead>\n",
       "  <tbody>\n",
       "    <tr>\n",
       "      <th>6</th>\n",
       "      <td>7782</td>\n",
       "      <td>CCC</td>\n",
       "      <td>2450</td>\n",
       "    </tr>\n",
       "    <tr>\n",
       "      <th>8</th>\n",
       "      <td>7839</td>\n",
       "      <td>KING</td>\n",
       "      <td>5000</td>\n",
       "    </tr>\n",
       "  </tbody>\n",
       "</table>\n",
       "</div>"
      ],
      "text/plain": [
       "   empno ename   sal\n",
       "6   7782   CCC  2450\n",
       "8   7839  KING  5000"
      ]
     },
     "execution_count": 12,
     "metadata": {},
     "output_type": "execute_result"
    }
   ],
   "source": [
    "emp[['empno','ename','sal']][(emp['deptno']==10)&(emp['sal']>2000)]"
   ]
  },
  {
   "cell_type": "markdown",
   "id": "2f1bd8f2-8742-440b-b95e-f4d901d7dcf7",
   "metadata": {
    "tags": []
   },
   "source": [
    "## Subquery 비추"
   ]
  },
  {
   "cell_type": "markdown",
   "id": "281b8930-5935-49cc-91f6-9615137f2cae",
   "metadata": {},
   "source": [
    "### 문제1  \n",
    "사번이 7369인 사원의 직업과 같은 사원들의 이름, 직업 출력  \n",
    "ORACLE 문법  \n",
    "SELECT ENAME, JOB  \n",
    "FROM EMP  \n",
    "WHERE JOB =  \n",
    "(SELECT JOB  \n",
    "FROM EMP  \n",
    "WHERE EMPNO = 7369);\n",
    "\n",
    "DataFrame 문법  \n",
    "<font hidden>\n",
    "    `emp['job'][(emp['empno'] == 7369)].values[0]`  \n",
    "    `job7369 = emp['job'][(emp['empno'] == 7369)].values[0]`  \n",
    "    `emp[ ['ename', 'job'] ][  emp['job']  ==  job7369  ]`      \n",
    "<font>\n"
   ]
  },
  {
   "cell_type": "code",
   "execution_count": 62,
   "id": "d9f382d6-8c6e-4ea5-afed-91b7f87ba90c",
   "metadata": {
    "tags": []
   },
   "outputs": [
    {
     "data": {
      "text/plain": [
       "Series([], Name: job, dtype: object)"
      ]
     },
     "execution_count": 62,
     "metadata": {},
     "output_type": "execute_result"
    }
   ],
   "source": [
    "emp['job'][emp['empno']==7369]"
   ]
  },
  {
   "cell_type": "markdown",
   "id": "936c60f3-ea2d-4301-ab9b-efaff839c2f7",
   "metadata": {},
   "source": [
    "### 문제2\n",
    "10번부서 사람들의 직업과 같은 사원의 사원들의 이름, 직업 출력  \n",
    "ORACLE 문법  \n",
    "SELECT ENAME, JOB  \n",
    "FROM EMP  \n",
    "WHERE JOB IN (SELECT JOB FROM EMP WHERE DEPTNO = 10);\n",
    "\n",
    "DataFrame 문법  \n",
    "<font hidden>\n",
    "    `job10_arr = emp['job'][ emp['deptno'] == 10 ].values`  \n",
    "    `emp[['ename', 'job']][ emp['job'].isin( job10_arr )   ]`\n",
    "<font>"
   ]
  },
  {
   "cell_type": "code",
   "execution_count": 66,
   "id": "6b97a3f5-6a9d-4edc-a100-05937b5a31e7",
   "metadata": {
    "tags": []
   },
   "outputs": [
    {
     "data": {
      "text/html": [
       "<div>\n",
       "<style scoped>\n",
       "    .dataframe tbody tr th:only-of-type {\n",
       "        vertical-align: middle;\n",
       "    }\n",
       "\n",
       "    .dataframe tbody tr th {\n",
       "        vertical-align: top;\n",
       "    }\n",
       "\n",
       "    .dataframe thead th {\n",
       "        text-align: right;\n",
       "    }\n",
       "</style>\n",
       "<table border=\"1\" class=\"dataframe\">\n",
       "  <thead>\n",
       "    <tr style=\"text-align: right;\">\n",
       "      <th></th>\n",
       "      <th>ename</th>\n",
       "      <th>job</th>\n",
       "    </tr>\n",
       "  </thead>\n",
       "  <tbody>\n",
       "    <tr>\n",
       "      <th>6</th>\n",
       "      <td>CCC</td>\n",
       "      <td>sales10</td>\n",
       "    </tr>\n",
       "    <tr>\n",
       "      <th>8</th>\n",
       "      <td>KING</td>\n",
       "      <td>sales10</td>\n",
       "    </tr>\n",
       "    <tr>\n",
       "      <th>13</th>\n",
       "      <td>MILLER</td>\n",
       "      <td>sales10</td>\n",
       "    </tr>\n",
       "  </tbody>\n",
       "</table>\n",
       "</div>"
      ],
      "text/plain": [
       "     ename      job\n",
       "6      CCC  sales10\n",
       "8     KING  sales10\n",
       "13  MILLER  sales10"
      ]
     },
     "execution_count": 66,
     "metadata": {},
     "output_type": "execute_result"
    }
   ],
   "source": [
    "empjob=emp['job'][emp['deptno']==10]\n",
    "emp[['ename','job']][emp['job'].isin(empjob)]"
   ]
  },
  {
   "cell_type": "markdown",
   "id": "5c8d9421-3df8-4b2b-8292-cb25925f079e",
   "metadata": {},
   "source": [
    "## 컬럼연산"
   ]
  },
  {
   "cell_type": "markdown",
   "id": "b0acbf59-8772-4f08-9ec5-93fb42aef900",
   "metadata": {},
   "source": [
    "### 문제1\n",
    "합치기\n",
    "ORACLE 문법  \n",
    "SELECT JOB||ENAME FROM EMP  \n",
    "SELECT CONCAT(JOB, ENAME) FROM EMP  \n",
    "\n",
    "DataFrame 문법  \n",
    "<font hidden>\n",
    "    emp['job'] + emp['ename']\n",
    "<font>"
   ]
  },
  {
   "cell_type": "code",
   "execution_count": 13,
   "id": "7e3b0767-8230-44a4-ae27-823926e40aad",
   "metadata": {
    "tags": []
   },
   "outputs": [
    {
     "data": {
      "text/plain": [
       "0         CLERKSMITH\n",
       "1      SALESMANALLEN\n",
       "2       SALESMANWARD\n",
       "3       MANAGERJONES\n",
       "4     SALESMANMARTIN\n",
       "5       MANAGERBLAKE\n",
       "6         MANAGERCCC\n",
       "7       ANALYSTSCOTT\n",
       "8      PRESIDENTKING\n",
       "9     SALESMANTURNER\n",
       "10        CLERKADAMS\n",
       "11        CLERKJAMES\n",
       "12       ANALYSTFORD\n",
       "13       CLERKMILLER\n",
       "dtype: object"
      ]
     },
     "execution_count": 13,
     "metadata": {},
     "output_type": "execute_result"
    }
   ],
   "source": [
    "emp['job']+emp['ename']"
   ]
  },
  {
   "cell_type": "markdown",
   "id": "932766f6-90fb-49eb-80be-58a85b9d8643",
   "metadata": {
    "tags": []
   },
   "source": [
    "### 문제2\n",
    "연봉뽑기  \n",
    "ORACLE 문법   \n",
    "SELECT SAL*12 AS ASAL FROM EMP;  \n",
    "\n",
    "DataFrame 문법  \n",
    "<font hidden>\n",
    "    `emp['asal'] = emp['sal'] * 12`\n",
    "<font>"
   ]
  },
  {
   "cell_type": "code",
   "execution_count": 15,
   "id": "431b2edb-ab61-4dd6-83f2-f49d587cd7c6",
   "metadata": {
    "tags": []
   },
   "outputs": [
    {
     "data": {
      "text/html": [
       "<div>\n",
       "<style scoped>\n",
       "    .dataframe tbody tr th:only-of-type {\n",
       "        vertical-align: middle;\n",
       "    }\n",
       "\n",
       "    .dataframe tbody tr th {\n",
       "        vertical-align: top;\n",
       "    }\n",
       "\n",
       "    .dataframe thead th {\n",
       "        text-align: right;\n",
       "    }\n",
       "</style>\n",
       "<table border=\"1\" class=\"dataframe\">\n",
       "  <thead>\n",
       "    <tr style=\"text-align: right;\">\n",
       "      <th></th>\n",
       "      <th>empno</th>\n",
       "      <th>ename</th>\n",
       "      <th>job</th>\n",
       "      <th>mgr</th>\n",
       "      <th>hiredate</th>\n",
       "      <th>sal</th>\n",
       "      <th>comm</th>\n",
       "      <th>deptno</th>\n",
       "      <th>asal</th>\n",
       "    </tr>\n",
       "  </thead>\n",
       "  <tbody>\n",
       "    <tr>\n",
       "      <th>0</th>\n",
       "      <td>7369</td>\n",
       "      <td>SMITH</td>\n",
       "      <td>CLERK</td>\n",
       "      <td>7902.0</td>\n",
       "      <td>1980-12-17</td>\n",
       "      <td>800</td>\n",
       "      <td>NaN</td>\n",
       "      <td>20</td>\n",
       "      <td>9600</td>\n",
       "    </tr>\n",
       "    <tr>\n",
       "      <th>1</th>\n",
       "      <td>7499</td>\n",
       "      <td>ALLEN</td>\n",
       "      <td>SALESMAN</td>\n",
       "      <td>7698.0</td>\n",
       "      <td>1981-02-20</td>\n",
       "      <td>1600</td>\n",
       "      <td>300.0</td>\n",
       "      <td>30</td>\n",
       "      <td>19200</td>\n",
       "    </tr>\n",
       "    <tr>\n",
       "      <th>2</th>\n",
       "      <td>7521</td>\n",
       "      <td>WARD</td>\n",
       "      <td>SALESMAN</td>\n",
       "      <td>7698.0</td>\n",
       "      <td>1981-02-22</td>\n",
       "      <td>1250</td>\n",
       "      <td>500.0</td>\n",
       "      <td>30</td>\n",
       "      <td>15000</td>\n",
       "    </tr>\n",
       "    <tr>\n",
       "      <th>3</th>\n",
       "      <td>7566</td>\n",
       "      <td>JONES</td>\n",
       "      <td>MANAGER</td>\n",
       "      <td>7839.0</td>\n",
       "      <td>1981-04-02</td>\n",
       "      <td>2975</td>\n",
       "      <td>NaN</td>\n",
       "      <td>20</td>\n",
       "      <td>35700</td>\n",
       "    </tr>\n",
       "    <tr>\n",
       "      <th>4</th>\n",
       "      <td>7654</td>\n",
       "      <td>MARTIN</td>\n",
       "      <td>SALESMAN</td>\n",
       "      <td>7698.0</td>\n",
       "      <td>1981-09-28</td>\n",
       "      <td>1250</td>\n",
       "      <td>1400.0</td>\n",
       "      <td>30</td>\n",
       "      <td>15000</td>\n",
       "    </tr>\n",
       "  </tbody>\n",
       "</table>\n",
       "</div>"
      ],
      "text/plain": [
       "   empno   ename       job     mgr   hiredate   sal    comm  deptno   asal\n",
       "0   7369   SMITH     CLERK  7902.0 1980-12-17   800     NaN      20   9600\n",
       "1   7499   ALLEN  SALESMAN  7698.0 1981-02-20  1600   300.0      30  19200\n",
       "2   7521    WARD  SALESMAN  7698.0 1981-02-22  1250   500.0      30  15000\n",
       "3   7566   JONES   MANAGER  7839.0 1981-04-02  2975     NaN      20  35700\n",
       "4   7654  MARTIN  SALESMAN  7698.0 1981-09-28  1250  1400.0      30  15000"
      ]
     },
     "execution_count": 15,
     "metadata": {},
     "output_type": "execute_result"
    }
   ],
   "source": [
    "emp['asal']=emp['sal']*12\n",
    "emp.head()"
   ]
  },
  {
   "cell_type": "markdown",
   "id": "4ccf9a03-cf07-4b4a-a51d-66fd8d2dab47",
   "metadata": {},
   "source": [
    "## 결측처리\n",
    "* df.dropna()\n",
    "* df['comm'].fillna(0) -- nvl(comm, 0)\n",
    "* emp['comm'].isna() --------"
   ]
  },
  {
   "cell_type": "markdown",
   "id": "07d88269-d94f-4dfb-9e5e-88780bb7c659",
   "metadata": {
    "tags": []
   },
   "source": [
    "### 문제 1\n",
    "ORACLE 문법  \n",
    "SELECT COMM, NVL(COMM, 0) AS COMM2 FROM EMP;  \n",
    "\n",
    "DataFrame 문법  \n",
    "<font hidden>\n",
    "`emp['comm2'] = emp['comm'].fillna(0)`  \n",
    "`emp[['comm', 'comm2']]`\n",
    "<font>"
   ]
  },
  {
   "cell_type": "code",
   "execution_count": 17,
   "id": "407f6667-6a6d-4a51-9827-4c2958142bb0",
   "metadata": {
    "tags": []
   },
   "outputs": [
    {
     "data": {
      "text/html": [
       "<div>\n",
       "<style scoped>\n",
       "    .dataframe tbody tr th:only-of-type {\n",
       "        vertical-align: middle;\n",
       "    }\n",
       "\n",
       "    .dataframe tbody tr th {\n",
       "        vertical-align: top;\n",
       "    }\n",
       "\n",
       "    .dataframe thead th {\n",
       "        text-align: right;\n",
       "    }\n",
       "</style>\n",
       "<table border=\"1\" class=\"dataframe\">\n",
       "  <thead>\n",
       "    <tr style=\"text-align: right;\">\n",
       "      <th></th>\n",
       "      <th>empno</th>\n",
       "      <th>ename</th>\n",
       "      <th>job</th>\n",
       "      <th>mgr</th>\n",
       "      <th>hiredate</th>\n",
       "      <th>sal</th>\n",
       "      <th>comm</th>\n",
       "      <th>deptno</th>\n",
       "      <th>asal</th>\n",
       "      <th>comm2</th>\n",
       "    </tr>\n",
       "  </thead>\n",
       "  <tbody>\n",
       "    <tr>\n",
       "      <th>0</th>\n",
       "      <td>7369</td>\n",
       "      <td>SMITH</td>\n",
       "      <td>CLERK</td>\n",
       "      <td>7902.0</td>\n",
       "      <td>1980-12-17</td>\n",
       "      <td>800</td>\n",
       "      <td>NaN</td>\n",
       "      <td>20</td>\n",
       "      <td>9600</td>\n",
       "      <td>0.0</td>\n",
       "    </tr>\n",
       "    <tr>\n",
       "      <th>1</th>\n",
       "      <td>7499</td>\n",
       "      <td>ALLEN</td>\n",
       "      <td>SALESMAN</td>\n",
       "      <td>7698.0</td>\n",
       "      <td>1981-02-20</td>\n",
       "      <td>1600</td>\n",
       "      <td>300.0</td>\n",
       "      <td>30</td>\n",
       "      <td>19200</td>\n",
       "      <td>300.0</td>\n",
       "    </tr>\n",
       "    <tr>\n",
       "      <th>2</th>\n",
       "      <td>7521</td>\n",
       "      <td>WARD</td>\n",
       "      <td>SALESMAN</td>\n",
       "      <td>7698.0</td>\n",
       "      <td>1981-02-22</td>\n",
       "      <td>1250</td>\n",
       "      <td>500.0</td>\n",
       "      <td>30</td>\n",
       "      <td>15000</td>\n",
       "      <td>500.0</td>\n",
       "    </tr>\n",
       "    <tr>\n",
       "      <th>3</th>\n",
       "      <td>7566</td>\n",
       "      <td>JONES</td>\n",
       "      <td>MANAGER</td>\n",
       "      <td>7839.0</td>\n",
       "      <td>1981-04-02</td>\n",
       "      <td>2975</td>\n",
       "      <td>NaN</td>\n",
       "      <td>20</td>\n",
       "      <td>35700</td>\n",
       "      <td>0.0</td>\n",
       "    </tr>\n",
       "    <tr>\n",
       "      <th>4</th>\n",
       "      <td>7654</td>\n",
       "      <td>MARTIN</td>\n",
       "      <td>SALESMAN</td>\n",
       "      <td>7698.0</td>\n",
       "      <td>1981-09-28</td>\n",
       "      <td>1250</td>\n",
       "      <td>1400.0</td>\n",
       "      <td>30</td>\n",
       "      <td>15000</td>\n",
       "      <td>1400.0</td>\n",
       "    </tr>\n",
       "  </tbody>\n",
       "</table>\n",
       "</div>"
      ],
      "text/plain": [
       "   empno   ename       job     mgr   hiredate   sal    comm  deptno   asal  \\\n",
       "0   7369   SMITH     CLERK  7902.0 1980-12-17   800     NaN      20   9600   \n",
       "1   7499   ALLEN  SALESMAN  7698.0 1981-02-20  1600   300.0      30  19200   \n",
       "2   7521    WARD  SALESMAN  7698.0 1981-02-22  1250   500.0      30  15000   \n",
       "3   7566   JONES   MANAGER  7839.0 1981-04-02  2975     NaN      20  35700   \n",
       "4   7654  MARTIN  SALESMAN  7698.0 1981-09-28  1250  1400.0      30  15000   \n",
       "\n",
       "    comm2  \n",
       "0     0.0  \n",
       "1   300.0  \n",
       "2   500.0  \n",
       "3     0.0  \n",
       "4  1400.0  "
      ]
     },
     "execution_count": 17,
     "metadata": {},
     "output_type": "execute_result"
    }
   ],
   "source": [
    "emp['comm2']=emp['comm'].fillna(0)\n",
    "emp.head()"
   ]
  },
  {
   "cell_type": "markdown",
   "id": "8146beb9-f767-4001-9bcf-518dfcf29e5e",
   "metadata": {
    "tags": []
   },
   "source": [
    "## GROUP 조건"
   ]
  },
  {
   "cell_type": "markdown",
   "id": "6ded8157-c58d-4535-a348-21e6bb96bec2",
   "metadata": {},
   "source": [
    "### 문제1\n",
    "각부서별 사원수 출력  \n",
    "ORACLE 문법  \n",
    "SELECT DEPTNO, COUNT(1) AS 사원수  \n",
    "FROM EMP  \n",
    "GROUP BY DEPTNO  \n",
    "ORDER BY DEPTNO;  \n",
    "\n",
    "DataFrame 문법  \n",
    "<font hidden>\n",
    "    emp.groupby('deptno')['deptno'].count()\n",
    "<font>"
   ]
  },
  {
   "cell_type": "code",
   "execution_count": 19,
   "id": "1c71d46c-3823-495a-b6db-1a656fadeea6",
   "metadata": {
    "tags": []
   },
   "outputs": [
    {
     "data": {
      "text/plain": [
       "deptno\n",
       "10    3\n",
       "20    5\n",
       "30    6\n",
       "Name: deptno, dtype: int64"
      ]
     },
     "execution_count": 19,
     "metadata": {},
     "output_type": "execute_result"
    }
   ],
   "source": [
    "emp.groupby(\"deptno\")['deptno'].count()"
   ]
  },
  {
   "cell_type": "markdown",
   "id": "ffd4cdab-512b-49fe-bda5-704133ed96ca",
   "metadata": {
    "tags": []
   },
   "source": [
    "### 문제2\n",
    "각부서별 급여 합  \n",
    "ORACLE 문법  \n",
    "SELECT DEPTNO, sum(sal)\n",
    "FROM EMP  \n",
    "GROUP BY DEPTNO;  \n",
    "\n",
    "DataFrame 문법  \n",
    "<font hidden>\n",
    "    emp.groupby('deptno')['sal'].sum()\n",
    "<font>"
   ]
  },
  {
   "cell_type": "code",
   "execution_count": 20,
   "id": "d40cce69-94cb-488c-aca7-d8cc7048a05a",
   "metadata": {
    "tags": []
   },
   "outputs": [
    {
     "data": {
      "text/plain": [
       "deptno\n",
       "10     8750\n",
       "20    10875\n",
       "30     9400\n",
       "Name: sal, dtype: int64"
      ]
     },
     "execution_count": 20,
     "metadata": {},
     "output_type": "execute_result"
    }
   ],
   "source": [
    "emp.groupby(\"deptno\")['sal'].sum()"
   ]
  },
  {
   "cell_type": "markdown",
   "id": "57cdbe6f-1a62-46db-b8a7-38a2e981b92a",
   "metadata": {},
   "source": [
    "### 문제3\n",
    "부서별 최대 최소 급여  \n",
    "ORACLE 문법  \n",
    "SELECT DEPTNO, MAX(SAL), MIN(SAL)  \n",
    "FROM EMP  \n",
    "GROUP BY DEPTNO;\n",
    "\n",
    "DataFrame 문법  \n",
    "<font hidden>\n",
    "    emp.groupby('deptno')['sal'].min()\n",
    "    emp.groupby(\"deptno\").agg(  {\"sal\":\"max\", \"comm\" : \"min\"}   )\n",
    "    emp.groupby(\"deptno\").agg(  {\"sal\":\"max\", \"sal\" : \"min\"}   ) --에러 (key가 같아서 오류)\n",
    "    emp.groupby(\"deptno\")[\"sal\"].agg(  [\"max\", \"min\"]   )\n",
    "<font>"
   ]
  },
  {
   "cell_type": "code",
   "execution_count": 23,
   "id": "2b9f03c5-929c-424c-ba24-63228db90ddf",
   "metadata": {
    "tags": []
   },
   "outputs": [
    {
     "data": {
      "text/html": [
       "<div>\n",
       "<style scoped>\n",
       "    .dataframe tbody tr th:only-of-type {\n",
       "        vertical-align: middle;\n",
       "    }\n",
       "\n",
       "    .dataframe tbody tr th {\n",
       "        vertical-align: top;\n",
       "    }\n",
       "\n",
       "    .dataframe thead th {\n",
       "        text-align: right;\n",
       "    }\n",
       "</style>\n",
       "<table border=\"1\" class=\"dataframe\">\n",
       "  <thead>\n",
       "    <tr style=\"text-align: right;\">\n",
       "      <th></th>\n",
       "      <th>max</th>\n",
       "      <th>min</th>\n",
       "    </tr>\n",
       "    <tr>\n",
       "      <th>deptno</th>\n",
       "      <th></th>\n",
       "      <th></th>\n",
       "    </tr>\n",
       "  </thead>\n",
       "  <tbody>\n",
       "    <tr>\n",
       "      <th>10</th>\n",
       "      <td>5000</td>\n",
       "      <td>1300</td>\n",
       "    </tr>\n",
       "    <tr>\n",
       "      <th>20</th>\n",
       "      <td>3000</td>\n",
       "      <td>800</td>\n",
       "    </tr>\n",
       "    <tr>\n",
       "      <th>30</th>\n",
       "      <td>2850</td>\n",
       "      <td>950</td>\n",
       "    </tr>\n",
       "  </tbody>\n",
       "</table>\n",
       "</div>"
      ],
      "text/plain": [
       "         max   min\n",
       "deptno            \n",
       "10      5000  1300\n",
       "20      3000   800\n",
       "30      2850   950"
      ]
     },
     "execution_count": 23,
     "metadata": {},
     "output_type": "execute_result"
    }
   ],
   "source": [
    "emp.groupby(\"deptno\")['sal'].agg(['max','min'])"
   ]
  },
  {
   "cell_type": "markdown",
   "id": "630479bc-3669-410c-9625-f72856327546",
   "metadata": {},
   "source": [
    "### 문제4\n",
    "각 부서별 급여 합, 최대, 최소, 평균  \n",
    "ORACLE 문법  \n",
    "SELECT DEPTNO, SUM(SAL), MAX(SAL), MIN(SAL), ROUND(AVG(SAL),0), count(1)  \n",
    "FROM EMP  \n",
    "GROUP BY DEPTNO;  \n",
    "\n",
    "DataFrame 문법  \n",
    "<font hidden>\n",
    "    emp.groupby('deptno')[\"sal\"].agg( [\"sum\", \"max\", \"min\", \"mean\", 'count', 'std', 'var'] )\n",
    "<font>"
   ]
  },
  {
   "cell_type": "code",
   "execution_count": 24,
   "id": "ca81be2a-4b2b-482a-a448-0f7ac024a510",
   "metadata": {
    "tags": []
   },
   "outputs": [
    {
     "data": {
      "text/html": [
       "<div>\n",
       "<style scoped>\n",
       "    .dataframe tbody tr th:only-of-type {\n",
       "        vertical-align: middle;\n",
       "    }\n",
       "\n",
       "    .dataframe tbody tr th {\n",
       "        vertical-align: top;\n",
       "    }\n",
       "\n",
       "    .dataframe thead th {\n",
       "        text-align: right;\n",
       "    }\n",
       "</style>\n",
       "<table border=\"1\" class=\"dataframe\">\n",
       "  <thead>\n",
       "    <tr style=\"text-align: right;\">\n",
       "      <th></th>\n",
       "      <th>max</th>\n",
       "      <th>sum</th>\n",
       "      <th>min</th>\n",
       "      <th>mean</th>\n",
       "      <th>count</th>\n",
       "    </tr>\n",
       "    <tr>\n",
       "      <th>deptno</th>\n",
       "      <th></th>\n",
       "      <th></th>\n",
       "      <th></th>\n",
       "      <th></th>\n",
       "      <th></th>\n",
       "    </tr>\n",
       "  </thead>\n",
       "  <tbody>\n",
       "    <tr>\n",
       "      <th>10</th>\n",
       "      <td>5000</td>\n",
       "      <td>8750</td>\n",
       "      <td>1300</td>\n",
       "      <td>2916.666667</td>\n",
       "      <td>3</td>\n",
       "    </tr>\n",
       "    <tr>\n",
       "      <th>20</th>\n",
       "      <td>3000</td>\n",
       "      <td>10875</td>\n",
       "      <td>800</td>\n",
       "      <td>2175.000000</td>\n",
       "      <td>5</td>\n",
       "    </tr>\n",
       "    <tr>\n",
       "      <th>30</th>\n",
       "      <td>2850</td>\n",
       "      <td>9400</td>\n",
       "      <td>950</td>\n",
       "      <td>1566.666667</td>\n",
       "      <td>6</td>\n",
       "    </tr>\n",
       "  </tbody>\n",
       "</table>\n",
       "</div>"
      ],
      "text/plain": [
       "         max    sum   min         mean  count\n",
       "deptno                                       \n",
       "10      5000   8750  1300  2916.666667      3\n",
       "20      3000  10875   800  2175.000000      5\n",
       "30      2850   9400   950  1566.666667      6"
      ]
     },
     "execution_count": 24,
     "metadata": {},
     "output_type": "execute_result"
    }
   ],
   "source": [
    "emp.groupby(\"deptno\")['sal'].agg(['max','sum','min','mean','count'])"
   ]
  },
  {
   "cell_type": "markdown",
   "id": "e60be089-edb3-43f1-abe0-cb13c919fb8c",
   "metadata": {},
   "source": [
    "## 정렬"
   ]
  },
  {
   "cell_type": "markdown",
   "id": "66b8b9ae-d625-46a2-9b1f-4fcff6554895",
   "metadata": {},
   "source": [
    "### 문제1\n",
    "ORACLE 문법  \n",
    "SELECT SAL FROM EMP ORDER BY SAL DESC;\n",
    "\n",
    "DataFrame 문법  \n",
    "<font hidden>\n",
    "    emp['sal'].sort_values(ascending=True)\n",
    "<font>"
   ]
  },
  {
   "cell_type": "code",
   "execution_count": 26,
   "id": "fc61a704-cac4-4c7e-a6c5-57730071b1b4",
   "metadata": {
    "tags": []
   },
   "outputs": [
    {
     "data": {
      "text/plain": [
       "8     5000\n",
       "7     3000\n",
       "12    3000\n",
       "3     2975\n",
       "5     2850\n",
       "6     2450\n",
       "1     1600\n",
       "9     1500\n",
       "13    1300\n",
       "2     1250\n",
       "4     1250\n",
       "10    1100\n",
       "11     950\n",
       "0      800\n",
       "Name: sal, dtype: int64"
      ]
     },
     "execution_count": 26,
     "metadata": {},
     "output_type": "execute_result"
    }
   ],
   "source": [
    "emp['sal'].sort_values( ascending=False)"
   ]
  },
  {
   "cell_type": "markdown",
   "id": "36106a25-02df-4f95-b7fd-90ca91197e3f",
   "metadata": {},
   "source": [
    "### 문제2\n",
    "ORACLE 문법  \n",
    "SELECT EMPNO, ENAME, SAL FROM EMP WHERE DEPTNO = 20 ORDER BY ENAME ASC;\n",
    "\n",
    "DataFrame 문법  \n",
    "<font hidden>\n",
    "    e = emp[  ['empno', 'ename', 'sal'] ][ emp['deptno'] == 20]\n",
    "    e.sort_values(by=['ename'], ascending=True)\n",
    "<font>"
   ]
  },
  {
   "cell_type": "code",
   "execution_count": 27,
   "id": "32c37653-0518-4cf6-9b3e-64f4b8a26c55",
   "metadata": {
    "tags": []
   },
   "outputs": [
    {
     "data": {
      "text/html": [
       "<div>\n",
       "<style scoped>\n",
       "    .dataframe tbody tr th:only-of-type {\n",
       "        vertical-align: middle;\n",
       "    }\n",
       "\n",
       "    .dataframe tbody tr th {\n",
       "        vertical-align: top;\n",
       "    }\n",
       "\n",
       "    .dataframe thead th {\n",
       "        text-align: right;\n",
       "    }\n",
       "</style>\n",
       "<table border=\"1\" class=\"dataframe\">\n",
       "  <thead>\n",
       "    <tr style=\"text-align: right;\">\n",
       "      <th></th>\n",
       "      <th>empno</th>\n",
       "      <th>ename</th>\n",
       "      <th>sal</th>\n",
       "    </tr>\n",
       "  </thead>\n",
       "  <tbody>\n",
       "    <tr>\n",
       "      <th>10</th>\n",
       "      <td>7876</td>\n",
       "      <td>ADAMS</td>\n",
       "      <td>1100</td>\n",
       "    </tr>\n",
       "    <tr>\n",
       "      <th>12</th>\n",
       "      <td>7902</td>\n",
       "      <td>FORD</td>\n",
       "      <td>3000</td>\n",
       "    </tr>\n",
       "    <tr>\n",
       "      <th>3</th>\n",
       "      <td>7566</td>\n",
       "      <td>JONES</td>\n",
       "      <td>2975</td>\n",
       "    </tr>\n",
       "    <tr>\n",
       "      <th>7</th>\n",
       "      <td>7788</td>\n",
       "      <td>SCOTT</td>\n",
       "      <td>3000</td>\n",
       "    </tr>\n",
       "    <tr>\n",
       "      <th>0</th>\n",
       "      <td>7369</td>\n",
       "      <td>SMITH</td>\n",
       "      <td>800</td>\n",
       "    </tr>\n",
       "  </tbody>\n",
       "</table>\n",
       "</div>"
      ],
      "text/plain": [
       "    empno  ename   sal\n",
       "10   7876  ADAMS  1100\n",
       "12   7902   FORD  3000\n",
       "3    7566  JONES  2975\n",
       "7    7788  SCOTT  3000\n",
       "0    7369  SMITH   800"
      ]
     },
     "execution_count": 27,
     "metadata": {},
     "output_type": "execute_result"
    }
   ],
   "source": [
    "emp[['empno','ename','sal']][emp['deptno']==20].sort_values(by='ename' )"
   ]
  },
  {
   "cell_type": "markdown",
   "id": "34805a00-2b8d-4655-a809-c402e3e3750f",
   "metadata": {},
   "source": [
    "### 문제3\n",
    "ORACLE 문법  \n",
    "SELECT EMPNO, DEPTNO, SAL FROM EMP ORDER BY DEPTNO ASC, SAL DESC;\n",
    "\n",
    "DataFrame 문법  \n",
    "<font hidden>\n",
    "    emp[['empno', 'deptno', 'sal']].sort_values(by=[\"deptno\",\"sal\"], ascending=[True, False])\n",
    "<font>"
   ]
  },
  {
   "cell_type": "code",
   "execution_count": 30,
   "id": "10f63bdf-e457-459b-88f9-598d85fae978",
   "metadata": {
    "tags": []
   },
   "outputs": [
    {
     "data": {
      "text/html": [
       "<div>\n",
       "<style scoped>\n",
       "    .dataframe tbody tr th:only-of-type {\n",
       "        vertical-align: middle;\n",
       "    }\n",
       "\n",
       "    .dataframe tbody tr th {\n",
       "        vertical-align: top;\n",
       "    }\n",
       "\n",
       "    .dataframe thead th {\n",
       "        text-align: right;\n",
       "    }\n",
       "</style>\n",
       "<table border=\"1\" class=\"dataframe\">\n",
       "  <thead>\n",
       "    <tr style=\"text-align: right;\">\n",
       "      <th></th>\n",
       "      <th>empno</th>\n",
       "      <th>deptno</th>\n",
       "      <th>sal</th>\n",
       "    </tr>\n",
       "  </thead>\n",
       "  <tbody>\n",
       "    <tr>\n",
       "      <th>8</th>\n",
       "      <td>7839</td>\n",
       "      <td>10</td>\n",
       "      <td>5000</td>\n",
       "    </tr>\n",
       "    <tr>\n",
       "      <th>6</th>\n",
       "      <td>7782</td>\n",
       "      <td>10</td>\n",
       "      <td>2450</td>\n",
       "    </tr>\n",
       "    <tr>\n",
       "      <th>13</th>\n",
       "      <td>7934</td>\n",
       "      <td>10</td>\n",
       "      <td>1300</td>\n",
       "    </tr>\n",
       "    <tr>\n",
       "      <th>7</th>\n",
       "      <td>7788</td>\n",
       "      <td>20</td>\n",
       "      <td>3000</td>\n",
       "    </tr>\n",
       "    <tr>\n",
       "      <th>12</th>\n",
       "      <td>7902</td>\n",
       "      <td>20</td>\n",
       "      <td>3000</td>\n",
       "    </tr>\n",
       "  </tbody>\n",
       "</table>\n",
       "</div>"
      ],
      "text/plain": [
       "    empno  deptno   sal\n",
       "8    7839      10  5000\n",
       "6    7782      10  2450\n",
       "13   7934      10  1300\n",
       "7    7788      20  3000\n",
       "12   7902      20  3000"
      ]
     },
     "execution_count": 30,
     "metadata": {},
     "output_type": "execute_result"
    }
   ],
   "source": [
    "emp[['empno','deptno','sal']].sort_values(['deptno','sal'],ascending=[True,False]).head()"
   ]
  },
  {
   "cell_type": "code",
   "execution_count": 5,
   "id": "1013761f-0d1a-466a-bde0-642245547d34",
   "metadata": {
    "tags": []
   },
   "outputs": [],
   "source": [
    "# 인덱스로 소트하기\n",
    "# emp.sort_index(ascending=False)"
   ]
  },
  {
   "cell_type": "markdown",
   "id": "e4892add-f389-4ddf-9871-3bf247b7fc11",
   "metadata": {},
   "source": [
    "## UPDATE\n",
    "at, iat은 단일값 변경만 가능 (여러개는 불가)  \n",
    "* df[기존컬럼] = 값   ---> 수정  \n",
    "* df[신규컬럼] = 값   ---> 신규컬럼생성  \n",
    "df.at[행값, 열값] = 변경값  \n",
    "df.iat[행idx, 열idx] = 변경값\n",
    "\n",
    "여러개를 할 때는 loc, iloc을 사용한다.  \n",
    "df.loc[행값, 열값] = 변경값  \n",
    "df.loc[행idx, 열idx] = 변경값"
   ]
  },
  {
   "cell_type": "markdown",
   "id": "28274b0d-9161-40a5-86ad-63bf4ac3d4a4",
   "metadata": {},
   "source": [
    "### 문제1\n",
    "ORACLE 문법  \n",
    "UPDATE EMP  \n",
    "SET COMM = 999;\n",
    "\n",
    "DataFrame 문법  \n",
    "<font hidden>\n",
    "    emp['comm'] = 99999\n",
    "<font>"
   ]
  },
  {
   "cell_type": "code",
   "execution_count": 32,
   "id": "8e5b0c9e-b5e1-4c88-a382-b0ee79ca6192",
   "metadata": {
    "tags": []
   },
   "outputs": [
    {
     "data": {
      "text/html": [
       "<div>\n",
       "<style scoped>\n",
       "    .dataframe tbody tr th:only-of-type {\n",
       "        vertical-align: middle;\n",
       "    }\n",
       "\n",
       "    .dataframe tbody tr th {\n",
       "        vertical-align: top;\n",
       "    }\n",
       "\n",
       "    .dataframe thead th {\n",
       "        text-align: right;\n",
       "    }\n",
       "</style>\n",
       "<table border=\"1\" class=\"dataframe\">\n",
       "  <thead>\n",
       "    <tr style=\"text-align: right;\">\n",
       "      <th></th>\n",
       "      <th>empno</th>\n",
       "      <th>ename</th>\n",
       "      <th>job</th>\n",
       "      <th>mgr</th>\n",
       "      <th>hiredate</th>\n",
       "      <th>sal</th>\n",
       "      <th>comm</th>\n",
       "      <th>deptno</th>\n",
       "      <th>asal</th>\n",
       "      <th>comm2</th>\n",
       "    </tr>\n",
       "  </thead>\n",
       "  <tbody>\n",
       "    <tr>\n",
       "      <th>0</th>\n",
       "      <td>7369</td>\n",
       "      <td>SMITH</td>\n",
       "      <td>CLERK</td>\n",
       "      <td>7902.0</td>\n",
       "      <td>1980-12-17</td>\n",
       "      <td>800</td>\n",
       "      <td>999</td>\n",
       "      <td>20</td>\n",
       "      <td>9600</td>\n",
       "      <td>0.0</td>\n",
       "    </tr>\n",
       "    <tr>\n",
       "      <th>1</th>\n",
       "      <td>7499</td>\n",
       "      <td>ALLEN</td>\n",
       "      <td>SALESMAN</td>\n",
       "      <td>7698.0</td>\n",
       "      <td>1981-02-20</td>\n",
       "      <td>1600</td>\n",
       "      <td>999</td>\n",
       "      <td>30</td>\n",
       "      <td>19200</td>\n",
       "      <td>300.0</td>\n",
       "    </tr>\n",
       "  </tbody>\n",
       "</table>\n",
       "</div>"
      ],
      "text/plain": [
       "   empno  ename       job     mgr   hiredate   sal  comm  deptno   asal  comm2\n",
       "0   7369  SMITH     CLERK  7902.0 1980-12-17   800   999      20   9600    0.0\n",
       "1   7499  ALLEN  SALESMAN  7698.0 1981-02-20  1600   999      30  19200  300.0"
      ]
     },
     "execution_count": 32,
     "metadata": {},
     "output_type": "execute_result"
    }
   ],
   "source": [
    "emp['comm']=999\n",
    "emp.head(2)"
   ]
  },
  {
   "cell_type": "markdown",
   "id": "e29bfce1-24bf-4beb-91b6-354daca6800b",
   "metadata": {
    "tags": []
   },
   "source": [
    "### 문제2\n",
    "ORACLE 문법  \n",
    "UPDATE EMP\n",
    "SET ENAME = 'SSSMITHSS'\n",
    "WHERE 첫번째데이터\n",
    "\n",
    "DataFrame 문법  \n",
    "<font hidden>\n",
    "emp.at[0, \"ename\"] 'SSSMITHSS'\n",
    "emp.at[0, 1] 'SSSMITHSS'\n",
    "\n",
    "<font>"
   ]
  },
  {
   "cell_type": "code",
   "execution_count": 38,
   "id": "bd7da3a5-c712-4bfc-8f34-cdeb9a21208d",
   "metadata": {
    "tags": []
   },
   "outputs": [
    {
     "data": {
      "text/html": [
       "<div>\n",
       "<style scoped>\n",
       "    .dataframe tbody tr th:only-of-type {\n",
       "        vertical-align: middle;\n",
       "    }\n",
       "\n",
       "    .dataframe tbody tr th {\n",
       "        vertical-align: top;\n",
       "    }\n",
       "\n",
       "    .dataframe thead th {\n",
       "        text-align: right;\n",
       "    }\n",
       "</style>\n",
       "<table border=\"1\" class=\"dataframe\">\n",
       "  <thead>\n",
       "    <tr style=\"text-align: right;\">\n",
       "      <th></th>\n",
       "      <th>empno</th>\n",
       "      <th>ename</th>\n",
       "      <th>job</th>\n",
       "      <th>mgr</th>\n",
       "      <th>hiredate</th>\n",
       "      <th>sal</th>\n",
       "      <th>comm</th>\n",
       "      <th>deptno</th>\n",
       "      <th>asal</th>\n",
       "      <th>comm2</th>\n",
       "    </tr>\n",
       "  </thead>\n",
       "  <tbody>\n",
       "    <tr>\n",
       "      <th>0</th>\n",
       "      <td>7369</td>\n",
       "      <td>sssss</td>\n",
       "      <td>CLERK</td>\n",
       "      <td>7902.0</td>\n",
       "      <td>1980-12-17</td>\n",
       "      <td>800</td>\n",
       "      <td>999</td>\n",
       "      <td>20</td>\n",
       "      <td>9600</td>\n",
       "      <td>0.0</td>\n",
       "    </tr>\n",
       "    <tr>\n",
       "      <th>1</th>\n",
       "      <td>7499</td>\n",
       "      <td>ALLEN</td>\n",
       "      <td>cle</td>\n",
       "      <td>7698.0</td>\n",
       "      <td>1981-02-20</td>\n",
       "      <td>1600</td>\n",
       "      <td>999</td>\n",
       "      <td>30</td>\n",
       "      <td>19200</td>\n",
       "      <td>300.0</td>\n",
       "    </tr>\n",
       "    <tr>\n",
       "      <th>2</th>\n",
       "      <td>7521</td>\n",
       "      <td>sdfsf</td>\n",
       "      <td>SALESMAN</td>\n",
       "      <td>7698.0</td>\n",
       "      <td>1981-02-22</td>\n",
       "      <td>1250</td>\n",
       "      <td>8080</td>\n",
       "      <td>30</td>\n",
       "      <td>15000</td>\n",
       "      <td>500.0</td>\n",
       "    </tr>\n",
       "    <tr>\n",
       "      <th>3</th>\n",
       "      <td>7566</td>\n",
       "      <td>JONES</td>\n",
       "      <td>MANAGER</td>\n",
       "      <td>7839.0</td>\n",
       "      <td>1981-04-02</td>\n",
       "      <td>2975</td>\n",
       "      <td>8080</td>\n",
       "      <td>20</td>\n",
       "      <td>35700</td>\n",
       "      <td>0.0</td>\n",
       "    </tr>\n",
       "    <tr>\n",
       "      <th>4</th>\n",
       "      <td>7654</td>\n",
       "      <td>sdfsf</td>\n",
       "      <td>SALESMAN</td>\n",
       "      <td>7698.0</td>\n",
       "      <td>1981-09-28</td>\n",
       "      <td>1250</td>\n",
       "      <td>999</td>\n",
       "      <td>30</td>\n",
       "      <td>15000</td>\n",
       "      <td>1400.0</td>\n",
       "    </tr>\n",
       "  </tbody>\n",
       "</table>\n",
       "</div>"
      ],
      "text/plain": [
       "   empno  ename       job     mgr   hiredate   sal  comm  deptno   asal  \\\n",
       "0   7369  sssss     CLERK  7902.0 1980-12-17   800   999      20   9600   \n",
       "1   7499  ALLEN       cle  7698.0 1981-02-20  1600   999      30  19200   \n",
       "2   7521  sdfsf  SALESMAN  7698.0 1981-02-22  1250  8080      30  15000   \n",
       "3   7566  JONES   MANAGER  7839.0 1981-04-02  2975  8080      20  35700   \n",
       "4   7654  sdfsf  SALESMAN  7698.0 1981-09-28  1250   999      30  15000   \n",
       "\n",
       "    comm2  \n",
       "0     0.0  \n",
       "1   300.0  \n",
       "2   500.0  \n",
       "3     0.0  \n",
       "4  1400.0  "
      ]
     },
     "execution_count": 38,
     "metadata": {},
     "output_type": "execute_result"
    }
   ],
   "source": [
    "emp.at[0,'ename']='sssss'\n",
    "emp.iat[1,2]='cle'\n",
    "\n",
    "emp.loc[[2,4],'ename']='sdfsf'\n",
    "emp.iloc[2:4,6]=8080\n",
    "emp.head()"
   ]
  },
  {
   "cell_type": "markdown",
   "id": "a0a09b01-ef7d-4eae-98ac-df74911f02a1",
   "metadata": {},
   "source": [
    "## np.where() vs df.where()"
   ]
  },
  {
   "cell_type": "markdown",
   "id": "6ffad3dc-ff0a-4bd5-9de5-c8364ab9f59c",
   "metadata": {},
   "source": [
    "방법 2가지 (   \n",
    "np.where(조건절, 참값, 거짓값),    -- decode(deptno, 10, '십', '그외')   \n",
    "df[컬럼A].where(조건문, 거짓값))   -- 조건만족하면 컬럼A, 그렇지않으면 거짓값  "
   ]
  },
  {
   "cell_type": "markdown",
   "id": "76d48903-37a3-4be7-a817-2486836368c6",
   "metadata": {},
   "source": [
    "### 문제1\n",
    "ORACLE 문법  \n",
    "UPDATE EMP\n",
    "SET JOB = 'SALES10'\n",
    "WHERE DEPTNO = 10;\n",
    "\n",
    "DataFrame 문법  \n",
    "<font hidden>\n",
    "    emp['job'] = np.where(emp['deptno'] == 10, 'SALES10', emp['job']).sort_values(by='deptno')\n",
    "<font>"
   ]
  },
  {
   "cell_type": "code",
   "execution_count": 49,
   "id": "eb040d19-1c02-4418-9410-be5763e03a5f",
   "metadata": {
    "tags": []
   },
   "outputs": [
    {
     "data": {
      "text/html": [
       "<div>\n",
       "<style scoped>\n",
       "    .dataframe tbody tr th:only-of-type {\n",
       "        vertical-align: middle;\n",
       "    }\n",
       "\n",
       "    .dataframe tbody tr th {\n",
       "        vertical-align: top;\n",
       "    }\n",
       "\n",
       "    .dataframe thead th {\n",
       "        text-align: right;\n",
       "    }\n",
       "</style>\n",
       "<table border=\"1\" class=\"dataframe\">\n",
       "  <thead>\n",
       "    <tr style=\"text-align: right;\">\n",
       "      <th></th>\n",
       "      <th>empno</th>\n",
       "      <th>ename</th>\n",
       "      <th>job</th>\n",
       "      <th>mgr</th>\n",
       "      <th>hiredate</th>\n",
       "      <th>sal</th>\n",
       "      <th>comm</th>\n",
       "      <th>deptno</th>\n",
       "      <th>asal</th>\n",
       "      <th>comm2</th>\n",
       "      <th>deptno_str</th>\n",
       "    </tr>\n",
       "  </thead>\n",
       "  <tbody>\n",
       "    <tr>\n",
       "      <th>6</th>\n",
       "      <td>7782</td>\n",
       "      <td>CCC</td>\n",
       "      <td>sales10</td>\n",
       "      <td>7839.0</td>\n",
       "      <td>1981-06-09</td>\n",
       "      <td>2450</td>\n",
       "      <td>999</td>\n",
       "      <td>10</td>\n",
       "      <td>29400</td>\n",
       "      <td>0.0</td>\n",
       "      <td>십</td>\n",
       "    </tr>\n",
       "    <tr>\n",
       "      <th>8</th>\n",
       "      <td>7839</td>\n",
       "      <td>KING</td>\n",
       "      <td>sales10</td>\n",
       "      <td>NaN</td>\n",
       "      <td>1981-11-17</td>\n",
       "      <td>5000</td>\n",
       "      <td>999</td>\n",
       "      <td>10</td>\n",
       "      <td>60000</td>\n",
       "      <td>0.0</td>\n",
       "      <td>십</td>\n",
       "    </tr>\n",
       "    <tr>\n",
       "      <th>13</th>\n",
       "      <td>7934</td>\n",
       "      <td>MILLER</td>\n",
       "      <td>sales10</td>\n",
       "      <td>7782.0</td>\n",
       "      <td>1982-01-23</td>\n",
       "      <td>1300</td>\n",
       "      <td>999</td>\n",
       "      <td>10</td>\n",
       "      <td>15600</td>\n",
       "      <td>0.0</td>\n",
       "      <td>십</td>\n",
       "    </tr>\n",
       "    <tr>\n",
       "      <th>0</th>\n",
       "      <td>7369</td>\n",
       "      <td>sssss</td>\n",
       "      <td>CLERK</td>\n",
       "      <td>7902.0</td>\n",
       "      <td>1980-12-17</td>\n",
       "      <td>800</td>\n",
       "      <td>999</td>\n",
       "      <td>20</td>\n",
       "      <td>9600</td>\n",
       "      <td>0.0</td>\n",
       "      <td>그외</td>\n",
       "    </tr>\n",
       "    <tr>\n",
       "      <th>3</th>\n",
       "      <td>7566</td>\n",
       "      <td>JONES</td>\n",
       "      <td>MANAGER</td>\n",
       "      <td>7839.0</td>\n",
       "      <td>1981-04-02</td>\n",
       "      <td>2975</td>\n",
       "      <td>8080</td>\n",
       "      <td>20</td>\n",
       "      <td>35700</td>\n",
       "      <td>0.0</td>\n",
       "      <td>그외</td>\n",
       "    </tr>\n",
       "  </tbody>\n",
       "</table>\n",
       "</div>"
      ],
      "text/plain": [
       "    empno   ename      job     mgr   hiredate   sal  comm  deptno   asal  \\\n",
       "6    7782     CCC  sales10  7839.0 1981-06-09  2450   999      10  29400   \n",
       "8    7839    KING  sales10     NaN 1981-11-17  5000   999      10  60000   \n",
       "13   7934  MILLER  sales10  7782.0 1982-01-23  1300   999      10  15600   \n",
       "0    7369   sssss    CLERK  7902.0 1980-12-17   800   999      20   9600   \n",
       "3    7566   JONES  MANAGER  7839.0 1981-04-02  2975  8080      20  35700   \n",
       "\n",
       "    comm2 deptno_str  \n",
       "6     0.0          십  \n",
       "8     0.0          십  \n",
       "13    0.0          십  \n",
       "0     0.0         그외  \n",
       "3     0.0         그외  "
      ]
     },
     "execution_count": 49,
     "metadata": {},
     "output_type": "execute_result"
    }
   ],
   "source": [
    "emp['deptno_str']=np.where(emp['deptno']==10,'십','그외')\n",
    "emp.sort_values('deptno').head()"
   ]
  },
  {
   "cell_type": "markdown",
   "id": "79b9bc5e-e8f9-40be-8fac-12c241cc1be0",
   "metadata": {},
   "source": [
    "### 문제2\n",
    "ORACLE 문법  \n",
    "UPDATE EMP\n",
    "SET JOB = 'SALES10'\n",
    "WHERE DEPTNO = 10;\n",
    "\n",
    "\n",
    "DataFrame 문법  \n",
    "<font hidden>\n",
    "    emp['job'] = emp['job'].where(emp['deptno'] != 10, 'SALES1111')\n",
    "<font>"
   ]
  },
  {
   "cell_type": "code",
   "execution_count": 50,
   "id": "364abfea-3cf9-40ff-8f53-c4da661ed2d8",
   "metadata": {
    "tags": []
   },
   "outputs": [
    {
     "data": {
      "text/html": [
       "<div>\n",
       "<style scoped>\n",
       "    .dataframe tbody tr th:only-of-type {\n",
       "        vertical-align: middle;\n",
       "    }\n",
       "\n",
       "    .dataframe tbody tr th {\n",
       "        vertical-align: top;\n",
       "    }\n",
       "\n",
       "    .dataframe thead th {\n",
       "        text-align: right;\n",
       "    }\n",
       "</style>\n",
       "<table border=\"1\" class=\"dataframe\">\n",
       "  <thead>\n",
       "    <tr style=\"text-align: right;\">\n",
       "      <th></th>\n",
       "      <th>empno</th>\n",
       "      <th>ename</th>\n",
       "      <th>job</th>\n",
       "      <th>mgr</th>\n",
       "      <th>hiredate</th>\n",
       "      <th>sal</th>\n",
       "      <th>comm</th>\n",
       "      <th>deptno</th>\n",
       "      <th>asal</th>\n",
       "      <th>comm2</th>\n",
       "      <th>deptno_str</th>\n",
       "    </tr>\n",
       "  </thead>\n",
       "  <tbody>\n",
       "    <tr>\n",
       "      <th>6</th>\n",
       "      <td>7782</td>\n",
       "      <td>CCC</td>\n",
       "      <td>sales10</td>\n",
       "      <td>7839.0</td>\n",
       "      <td>1981-06-09</td>\n",
       "      <td>2450</td>\n",
       "      <td>999</td>\n",
       "      <td>10</td>\n",
       "      <td>29400</td>\n",
       "      <td>0.0</td>\n",
       "      <td>십</td>\n",
       "    </tr>\n",
       "    <tr>\n",
       "      <th>8</th>\n",
       "      <td>7839</td>\n",
       "      <td>KING</td>\n",
       "      <td>sales10</td>\n",
       "      <td>NaN</td>\n",
       "      <td>1981-11-17</td>\n",
       "      <td>5000</td>\n",
       "      <td>999</td>\n",
       "      <td>10</td>\n",
       "      <td>60000</td>\n",
       "      <td>0.0</td>\n",
       "      <td>십</td>\n",
       "    </tr>\n",
       "    <tr>\n",
       "      <th>13</th>\n",
       "      <td>7934</td>\n",
       "      <td>MILLER</td>\n",
       "      <td>sales10</td>\n",
       "      <td>7782.0</td>\n",
       "      <td>1982-01-23</td>\n",
       "      <td>1300</td>\n",
       "      <td>999</td>\n",
       "      <td>10</td>\n",
       "      <td>15600</td>\n",
       "      <td>0.0</td>\n",
       "      <td>십</td>\n",
       "    </tr>\n",
       "    <tr>\n",
       "      <th>0</th>\n",
       "      <td>7369</td>\n",
       "      <td>sssss</td>\n",
       "      <td>CLERK</td>\n",
       "      <td>7902.0</td>\n",
       "      <td>1980-12-17</td>\n",
       "      <td>800</td>\n",
       "      <td>999</td>\n",
       "      <td>20</td>\n",
       "      <td>9600</td>\n",
       "      <td>0.0</td>\n",
       "      <td>그외</td>\n",
       "    </tr>\n",
       "    <tr>\n",
       "      <th>3</th>\n",
       "      <td>7566</td>\n",
       "      <td>JONES</td>\n",
       "      <td>MANAGER</td>\n",
       "      <td>7839.0</td>\n",
       "      <td>1981-04-02</td>\n",
       "      <td>2975</td>\n",
       "      <td>8080</td>\n",
       "      <td>20</td>\n",
       "      <td>35700</td>\n",
       "      <td>0.0</td>\n",
       "      <td>그외</td>\n",
       "    </tr>\n",
       "  </tbody>\n",
       "</table>\n",
       "</div>"
      ],
      "text/plain": [
       "    empno   ename      job     mgr   hiredate   sal  comm  deptno   asal  \\\n",
       "6    7782     CCC  sales10  7839.0 1981-06-09  2450   999      10  29400   \n",
       "8    7839    KING  sales10     NaN 1981-11-17  5000   999      10  60000   \n",
       "13   7934  MILLER  sales10  7782.0 1982-01-23  1300   999      10  15600   \n",
       "0    7369   sssss    CLERK  7902.0 1980-12-17   800   999      20   9600   \n",
       "3    7566   JONES  MANAGER  7839.0 1981-04-02  2975  8080      20  35700   \n",
       "\n",
       "    comm2 deptno_str  \n",
       "6     0.0          십  \n",
       "8     0.0          십  \n",
       "13    0.0          십  \n",
       "0     0.0         그외  \n",
       "3     0.0         그외  "
      ]
     },
     "execution_count": 50,
     "metadata": {},
     "output_type": "execute_result"
    }
   ],
   "source": [
    "emp['job']=np.where(emp['deptno']==10,'sales10',emp['job'])\n",
    "emp.sort_values('deptno').head()"
   ]
  },
  {
   "cell_type": "markdown",
   "id": "787043c0-ccc7-46c0-b8ef-c498fb65c850",
   "metadata": {},
   "source": [
    "## DELETE\n",
    "* DML : delete from emp; -- 데이터 삭제\n",
    "* DDL : drop table emp;  -- 테이블 삭제\n",
    "* drop(**인덱스값**, axis= 0) .... dropna()   데이터행 삭제(가로지우기)\n",
    "* drop(**컬럼명**, axis=1) .... dropna()      컬럼삭제 (세로지우기)\n",
    "* del emp                -- 데이터프레임 삭제 drop table과 유사"
   ]
  },
  {
   "cell_type": "markdown",
   "id": "139a3647-9278-4025-ad70-85b3ca3767ae",
   "metadata": {},
   "source": [
    "### 문제1\n",
    "ORACLE 문법  \n",
    "DELETE FROM EMP WHERE ROWNUM ==1\n",
    "\n",
    "DataFrame 문법  \n",
    "<font hidden>\n",
    "    emp = emp.drop(1, axis=0)\n",
    "<font>"
   ]
  },
  {
   "cell_type": "code",
   "execution_count": 58,
   "id": "f97e515d-31f5-4c8c-897e-2bdd2a371a4a",
   "metadata": {
    "tags": []
   },
   "outputs": [
    {
     "data": {
      "text/html": [
       "<div>\n",
       "<style scoped>\n",
       "    .dataframe tbody tr th:only-of-type {\n",
       "        vertical-align: middle;\n",
       "    }\n",
       "\n",
       "    .dataframe tbody tr th {\n",
       "        vertical-align: top;\n",
       "    }\n",
       "\n",
       "    .dataframe thead th {\n",
       "        text-align: right;\n",
       "    }\n",
       "</style>\n",
       "<table border=\"1\" class=\"dataframe\">\n",
       "  <thead>\n",
       "    <tr style=\"text-align: right;\">\n",
       "      <th></th>\n",
       "      <th>empno</th>\n",
       "      <th>ename</th>\n",
       "      <th>job</th>\n",
       "      <th>mgr</th>\n",
       "      <th>hiredate</th>\n",
       "      <th>sal</th>\n",
       "      <th>comm</th>\n",
       "      <th>deptno</th>\n",
       "      <th>comm2</th>\n",
       "      <th>deptno_str</th>\n",
       "    </tr>\n",
       "  </thead>\n",
       "  <tbody>\n",
       "    <tr>\n",
       "      <th>2</th>\n",
       "      <td>7521</td>\n",
       "      <td>sdfsf</td>\n",
       "      <td>SALESMAN</td>\n",
       "      <td>7698.0</td>\n",
       "      <td>1981-02-22</td>\n",
       "      <td>1250</td>\n",
       "      <td>8080</td>\n",
       "      <td>30</td>\n",
       "      <td>500.0</td>\n",
       "      <td>그외</td>\n",
       "    </tr>\n",
       "    <tr>\n",
       "      <th>5</th>\n",
       "      <td>7698</td>\n",
       "      <td>BLAKE</td>\n",
       "      <td>MANAGER</td>\n",
       "      <td>7839.0</td>\n",
       "      <td>1981-05-01</td>\n",
       "      <td>2850</td>\n",
       "      <td>999</td>\n",
       "      <td>30</td>\n",
       "      <td>0.0</td>\n",
       "      <td>그외</td>\n",
       "    </tr>\n",
       "    <tr>\n",
       "      <th>6</th>\n",
       "      <td>7782</td>\n",
       "      <td>CCC</td>\n",
       "      <td>sales10</td>\n",
       "      <td>7839.0</td>\n",
       "      <td>1981-06-09</td>\n",
       "      <td>2450</td>\n",
       "      <td>999</td>\n",
       "      <td>10</td>\n",
       "      <td>0.0</td>\n",
       "      <td>십</td>\n",
       "    </tr>\n",
       "    <tr>\n",
       "      <th>7</th>\n",
       "      <td>7788</td>\n",
       "      <td>SCOTT</td>\n",
       "      <td>ANALYST</td>\n",
       "      <td>7566.0</td>\n",
       "      <td>1987-07-13</td>\n",
       "      <td>3000</td>\n",
       "      <td>999</td>\n",
       "      <td>20</td>\n",
       "      <td>0.0</td>\n",
       "      <td>그외</td>\n",
       "    </tr>\n",
       "    <tr>\n",
       "      <th>8</th>\n",
       "      <td>7839</td>\n",
       "      <td>KING</td>\n",
       "      <td>sales10</td>\n",
       "      <td>NaN</td>\n",
       "      <td>1981-11-17</td>\n",
       "      <td>5000</td>\n",
       "      <td>999</td>\n",
       "      <td>10</td>\n",
       "      <td>0.0</td>\n",
       "      <td>십</td>\n",
       "    </tr>\n",
       "  </tbody>\n",
       "</table>\n",
       "</div>"
      ],
      "text/plain": [
       "   empno  ename       job     mgr   hiredate   sal  comm  deptno  comm2  \\\n",
       "2   7521  sdfsf  SALESMAN  7698.0 1981-02-22  1250  8080      30  500.0   \n",
       "5   7698  BLAKE   MANAGER  7839.0 1981-05-01  2850   999      30    0.0   \n",
       "6   7782    CCC   sales10  7839.0 1981-06-09  2450   999      10    0.0   \n",
       "7   7788  SCOTT   ANALYST  7566.0 1987-07-13  3000   999      20    0.0   \n",
       "8   7839   KING   sales10     NaN 1981-11-17  5000   999      10    0.0   \n",
       "\n",
       "  deptno_str  \n",
       "2         그외  \n",
       "5         그외  \n",
       "6          십  \n",
       "7         그외  \n",
       "8          십  "
      ]
     },
     "execution_count": 58,
     "metadata": {},
     "output_type": "execute_result"
    }
   ],
   "source": [
    "emp=emp.drop(\"asal\",axis=1)\n",
    "emp.head()"
   ]
  },
  {
   "cell_type": "markdown",
   "id": "f12ce56c-4f6a-4b68-8be6-ddf57d3e3308",
   "metadata": {},
   "source": [
    "### 문제2\n",
    "ORACLE 문법  \n",
    "DELETE FROM EMP\n",
    "\n",
    "\n",
    "DataFrame 문법  \n",
    "<font hidden>\n",
    "    emp = emp.drop('ename', axis=1)\n",
    "<font>"
   ]
  },
  {
   "cell_type": "code",
   "execution_count": 59,
   "id": "9a95d0fb-b477-4cb9-8699-c69bff17041b",
   "metadata": {
    "tags": []
   },
   "outputs": [],
   "source": [
    "empcp=emp.copy()\n"
   ]
  },
  {
   "cell_type": "code",
   "execution_count": 60,
   "id": "611cf840-5a9c-4b54-ad43-fef6d7929148",
   "metadata": {
    "tags": []
   },
   "outputs": [],
   "source": [
    "del empcp"
   ]
  },
  {
   "cell_type": "code",
   "execution_count": 61,
   "id": "d6ae2819-32b6-4471-b9f3-0de66bce2910",
   "metadata": {
    "tags": []
   },
   "outputs": [
    {
     "ename": "NameError",
     "evalue": "name 'empcp' is not defined",
     "output_type": "error",
     "traceback": [
      "\u001b[1;31m---------------------------------------------------------------------------\u001b[0m",
      "\u001b[1;31mNameError\u001b[0m                                 Traceback (most recent call last)",
      "Cell \u001b[1;32mIn[61], line 1\u001b[0m\n\u001b[1;32m----> 1\u001b[0m \u001b[43mempcp\u001b[49m\n",
      "\u001b[1;31mNameError\u001b[0m: name 'empcp' is not defined"
     ]
    }
   ],
   "source": [
    "empcp"
   ]
  }
 ],
 "metadata": {
  "kernelspec": {
   "display_name": "Python 3 (ipykernel)",
   "language": "python",
   "name": "python3"
  },
  "language_info": {
   "codemirror_mode": {
    "name": "ipython",
    "version": 3
   },
   "file_extension": ".py",
   "mimetype": "text/x-python",
   "name": "python",
   "nbconvert_exporter": "python",
   "pygments_lexer": "ipython3",
   "version": "3.8.8"
  },
  "toc-autonumbering": false,
  "widgets": {
   "application/vnd.jupyter.widget-state+json": {
    "state": {},
    "version_major": 2,
    "version_minor": 0
   }
  }
 },
 "nbformat": 4,
 "nbformat_minor": 5
}
