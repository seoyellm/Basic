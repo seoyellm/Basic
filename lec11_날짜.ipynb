{
 "cells": [
  {
   "cell_type": "markdown",
   "id": "328f158e-265b-45bf-ae7b-da5014717e1f",
   "metadata": {},
   "source": [
    "# lec11. 날짜"
   ]
  },
  {
   "cell_type": "markdown",
   "id": "3d83b720-fcbe-40f9-af45-ddc57dd24a6a",
   "metadata": {},
   "source": [
    "<font color=red><b>from datetime.py import 클래스</b></font>\n",
    "* datetime.py에는 총 6개의 클래스가 존재\n",
    "<pre>\n",
    "    * <b>class date: 년월일</b>\n",
    "    * <b>class datetime(date): 년월일 시분초</b>\n",
    "    * <b>class time: 시분초</b>\n",
    "    * <b>class timedelta: 날짜 사이의 간격</b>\n",
    "    \n",
    "    * class tzinfo:\n",
    "    * class timezone(tzinfo):\n",
    "    * class tzinfo:\n",
    "    * class timezone(tzinfo):"
   ]
  },
  {
   "cell_type": "markdown",
   "id": "724c0f05-1d3c-40c8-b7ef-0ae649d35ac4",
   "metadata": {},
   "source": [
    "<table width=200 style=\"border-collapse: collapse; height: 452px;\" border=\"1\" data-ke-align=\"alignLeft\" data-ke-style=\"style3\">\n",
    "<tbody>\n",
    "<tr style=\"height: 20px;\">\n",
    "<td style=\"width: 197.75px; text-align: center; height: 20px;\"><span style=\"color: #000000;\"><b>그룹</b></span></td>\n",
    "<td style=\"width: 197.75px; text-align: center; height: 20px;\"><span style=\"color: #000000;\"><b>코드</b></span></td>\n",
    "<td style=\"width: 412.5px; text-align: center; height: 20px;\"><span style=\"color: #000000;\"><b>의미</b></span></td>\n",
    "</tr>\n",
    "<tr style=\"height: 18px;\">\n",
    "<td style=\"width: 197.75px; text-align: center; height: 36px;\" rowspan=\"2\"><span style=\"color: #000000;\">년</span></td>\n",
    "<td style=\"width: 197.75px; text-align: center; height: 18px;\"><span style=\"color: #000000;\">%Y</span></td>\n",
    "<td style=\"width: 412.5px; text-align: center; height: 18px;\"><span style=\"color: #000000;\">연도 (전체)</span></td>\n",
    "</tr>\n",
    "<tr style=\"height: 18px;\">\n",
    "<td style=\"width: 197.75px; text-align: center; height: 18px;\"><span style=\"color: #000000;\">%y</span></td>\n",
    "<td style=\"width: 412.5px; text-align: center; height: 18px;\"><span style=\"color: #000000;\">연도 (뒤에 2자리만)</span></td>\n",
    "</tr>\n",
    "<tr style=\"height: 20px;\">\n",
    "<td style=\"width: 197.75px; text-align: center; height: 56px;\" rowspan=\"3\"><span style=\"color: #000000;\">월</span></td>\n",
    "<td style=\"width: 197.75px; text-align: center; height: 20px;\"><span style=\"color: #000000;\">%m</span></td>\n",
    "<td style=\"width: 412.5px; text-align: center; height: 20px;\"><span style=\"color: #000000;\">월</span></td>\n",
    "</tr>\n",
    "<tr style=\"height: 18px;\">\n",
    "<td style=\"width: 197.75px; text-align: center; height: 18px;\"><span style=\"color: #000000;\">%B</span></td>\n",
    "<td style=\"width: 412.5px; text-align: center; height: 18px;\"><span style=\"color: #000000;\">Locale 월 표현 (전체)</span></td>\n",
    "</tr>\n",
    "<tr style=\"height: 18px;\">\n",
    "<td style=\"width: 197.75px; text-align: center; height: 18px;\"><span style=\"color: #000000;\">%b</span></td>\n",
    "<td style=\"width: 412.5px; text-align: center; height: 18px;\"><span style=\"color: #000000;\">Locale 월 표현 (축약형)</span></td>\n",
    "</tr>\n",
    "<tr style=\"height: 20px;\">\n",
    "<td style=\"width: 197.75px; text-align: center; height: 40px;\" rowspan=\"2\"><span style=\"color: #000000;\">일</span></td>\n",
    "<td style=\"width: 197.75px; text-align: center; height: 20px;\"><span style=\"color: #000000;\">%d</span></td>\n",
    "<td style=\"width: 412.5px; text-align: center; height: 20px;\"><span style=\"color: #000000;\">일</span></td>\n",
    "</tr>\n",
    "<tr style=\"height: 20px;\">\n",
    "<td style=\"width: 197.75px; text-align: center; height: 20px;\"><span style=\"color: #000000;\">%j</span></td>\n",
    "<td style=\"width: 412.5px; text-align: center; height: 20px;\"><span style=\"color: #000000;\">연중 일</span></td>\n",
    "</tr>\n",
    "<tr style=\"height: 20px;\">\n",
    "<td style=\"width: 197.75px; text-align: center; height: 60px;\" rowspan=\"3\"><span style=\"color: #000000;\">시</span></td>\n",
    "<td style=\"width: 197.75px; text-align: center; height: 20px;\"><span style=\"color: #000000;\">%H</span></td>\n",
    "<td style=\"width: 412.5px; text-align: center; height: 20px;\"><span style=\"color: #000000;\">시 (24시간제)</span></td>\n",
    "</tr>\n",
    "<tr style=\"height: 20px;\">\n",
    "<td style=\"width: 197.75px; text-align: center; height: 20px;\"><span style=\"color: #000000;\">%I</span></td>\n",
    "<td style=\"width: 412.5px; text-align: center; height: 20px;\"><span style=\"color: #000000;\">시 (12시간제)</span></td>\n",
    "</tr>\n",
    "<tr style=\"height: 20px;\">\n",
    "<td style=\"width: 197.75px; text-align: center; height: 20px;\"><span style=\"color: #000000;\">%p</span></td>\n",
    "<td style=\"width: 412.5px; text-align: center; height: 20px;\"><span style=\"color: #000000;\">Locale 오전, 오후</span></td>\n",
    "</tr>\n",
    "<tr style=\"height: 20px;\">\n",
    "<td style=\"width: 197.75px; text-align: center; height: 20px;\"><span style=\"color: #000000;\">분</span></td>\n",
    "<td style=\"width: 197.75px; text-align: center; height: 20px;\"><span style=\"color: #000000;\">%M</span></td>\n",
    "<td style=\"width: 412.5px; text-align: center; height: 20px;\"><span style=\"color: #000000;\">분</span></td>\n",
    "</tr>\n",
    "<tr style=\"height: 20px;\">\n",
    "<td style=\"width: 197.75px; text-align: center; height: 20px;\"><span style=\"color: #000000;\">초</span></td>\n",
    "<td style=\"width: 197.75px; text-align: center; height: 20px;\"><span style=\"color: #000000;\">%S</span></td>\n",
    "<td style=\"width: 412.5px; text-align: center; height: 20px;\"><span style=\"color: #000000;\">초</span></td>\n",
    "</tr>\n",
    "<tr style=\"height: 20px;\">\n",
    "<td style=\"width: 197.75px; text-align: center; height: 20px;\"><span style=\"color: #000000;\">마이크로초</span></td>\n",
    "<td style=\"width: 197.75px; text-align: center; height: 20px;\"><span style=\"color: #000000;\">%f</span></td>\n",
    "<td style=\"width: 412.5px; text-align: center; height: 20px;\"><span style=\"color: #000000;\">마이크로초</span></td>\n",
    "</tr>\n",
    "<tr style=\"height: 20px;\">\n",
    "<td style=\"width: 197.75px; text-align: center; height: 60px;\" rowspan=\"3\"><span style=\"color: #000000;\">요일</span></td>\n",
    "<td style=\"width: 197.75px; text-align: center; height: 20px;\"><span style=\"color: #000000;\">%w</span></td>\n",
    "<td style=\"width: 412.5px; text-align: center; height: 20px;\"><span style=\"color: #000000;\">요일 (0 : 일요일, 6일 : 토요일)</span></td>\n",
    "</tr>\n",
    "<tr style=\"height: 20px;\">\n",
    "<td style=\"width: 197.75px; text-align: center; height: 20px;\"><span style=\"color: #000000;\">%A</span></td>\n",
    "<td style=\"width: 412.5px; text-align: center; height: 20px;\"><span style=\"color: #000000;\">Locale 요일 (전체)</span></td>\n",
    "</tr>\n",
    "<tr style=\"height: 20px;\">\n",
    "<td style=\"width: 197.75px; text-align: center; height: 20px;\"><span style=\"color: #000000;\">%a</span></td>\n",
    "<td style=\"width: 412.5px; text-align: center; height: 20px;\"><span style=\"color: #000000;\">Locale 요일 (축약형)</span></td>\n",
    "</tr>\n",
    "<tr style=\"height: 20px;\">\n",
    "<td style=\"width: 197.75px; text-align: center; height: 40px;\" rowspan=\"2\"><span style=\"color: #000000;\">주</span></td>\n",
    "<td style=\"width: 197.75px; text-align: center; height: 20px;\"><span style=\"color: #000000;\">%W</span></td>\n",
    "<td style=\"width: 412.5px; text-align: center; height: 20px;\"><span style=\"color: #000000;\">연중 몇 번째 주인지 표현 (월요일 시작 기준)</span></td>\n",
    "</tr>\n",
    "<tr style=\"height: 20px;\">\n",
    "<td style=\"width: 197.75px; text-align: center; height: 20px;\"><span style=\"color: #000000;\">%U</span></td>\n",
    "<td style=\"width: 412.5px; text-align: center; height: 20px;\"><span style=\"color: #000000;\">연중 몇 번째 주인지 표현 (일요일 시작 기준)</span></td>\n",
    "</tr>\n",
    "<tr style=\"height: 20px;\">\n",
    "<td style=\"width: 197.75px; text-align: center; height: 60px;\" rowspan=\"3\"><span style=\"color: #000000;\">날짜 표현</span></td>\n",
    "<td style=\"width: 197.75px; text-align: center; height: 20px;\"><span style=\"color: #000000;\">%c</span></td>\n",
    "<td style=\"width: 412.5px; text-align: center; height: 20px;\"><span style=\"color: #000000;\">Locale 날짜와 시간 표현</span></td>\n",
    "</tr>\n",
    "<tr style=\"height: 20px;\">\n",
    "<td style=\"width: 197.75px; text-align: center; height: 20px;\"><span style=\"color: #000000;\">%x</span></td>\n",
    "<td style=\"width: 412.5px; text-align: center; height: 20px;\"><span style=\"color: #000000;\">Locale 날짜 표현</span></td>\n",
    "</tr>\n",
    "<tr style=\"height: 20px;\">\n",
    "<td style=\"width: 197.75px; text-align: center; height: 20px;\"><span style=\"color: #000000;\">%X</span></td>\n",
    "<td style=\"width: 412.5px; text-align: center; height: 20px;\"><span style=\"color: #000000;\">Locale 시간 표현</span></td>\n",
    "</tr>\n",
    "<tr style=\"height: 20px;\">\n",
    "<td style=\"width: 197.75px; text-align: center; height: 20px;\"><span style=\"color: #000000;\">문자 표현</span></td>\n",
    "<td style=\"width: 197.75px; text-align: center; height: 20px;\"><span style=\"color: #000000;\">%%</span></td>\n",
    "<td style=\"width: 412.5px; text-align: center; height: 20px;\"><span style=\"color: #000000;\">리터럴 '%' 문자</span></td>\n",
    "</tr>\n",
    "</tbody>\n",
    "</table>"
   ]
  },
  {
   "cell_type": "markdown",
   "id": "9bd6466e-d118-42f3-afd6-cb49ee0ab2ab",
   "metadata": {},
   "source": [
    "## 1. (class) date"
   ]
  },
  {
   "cell_type": "code",
   "execution_count": 1,
   "id": "353acf62-1dfe-4c0b-9d0a-2198d9cbde49",
   "metadata": {
    "tags": []
   },
   "outputs": [],
   "source": [
    "from datetime import date # 클래스는 일반적으로 as 사용하지 않음, \n",
    "                          # 클래스 2개"
   ]
  },
  {
   "cell_type": "markdown",
   "id": "de4b3a11-5670-4880-aa56-248b41785158",
   "metadata": {
    "tags": []
   },
   "source": [
    "<pre>\n",
    "-----------------------------------------------------------------------------------------\n",
    "    <b>DATE                              TIME                      DATETIME</b>\n",
    "-----------------------------------------------------------------------------------------\n",
    "date.today()                                                datetime.now()\n",
    "                                                            datetime.today()\n",
    "-----------------------------------------------------------------------------------------\n",
    "<font color='red'><b>\n",
    "date.strftime()                    time.strftime()          datetime.strftime()         날짜 --> 글자\n",
    "                                                            datetime.strptime()         글자 --> 날짜\n",
    "                                                            </font></b>\n",
    "-----------------------------------------------------------------------------------------\n",
    "<font color='blue'><b>\n",
    "date.fromisoformat()               time.fromisoformat()     datetime.fromisoformat()    글자 --> 날짜</font></b>\n",
    "                                                                                    \n",
    "-----------------------------------------------------------------------------------------\n",
    "<font color='blue'><b>\n",
    "date.isoformat()                   time.isoformat()         datetime.isoformat()        날짜 --> 글자\n",
    "                                                            datetime.date()  \n",
    "                                                            datetime.time() \n",
    "                                                            datetime.timestamp()    \n",
    "                                                                                        </font></b>\n",
    "-----------------------------------------------------------------------------------------       \n",
    "date.year                          XXXXXXXXXXXXXXX          datetime.year \n",
    "date.month                                                  datetime.month \n",
    "date.day                                                    datetime.day \n",
    "-----------------------------------------------------------------------------------------\n",
    "                                   time.hour,               datetime.hour \n",
    "                                   time.minute,             datetime.minute \n",
    "                                   time.second,             datetime.second\n",
    "                                   time.microsecond  \n",
    "-----------------------------------------------------------------------------------------\n",
    "date.weekday()                                              datetime.weekday()\n",
    "-----------------------------------------------------------------------------------------\n",
    "date.fromtimestamp()                                        datetime.fromtimestamp()\n",
    "-----------------------------------------------------------------------------------------"
   ]
  },
  {
   "cell_type": "markdown",
   "id": "9cd55d51-1512-4962-abb9-73e4eee91a81",
   "metadata": {},
   "source": [
    "### 1.1 date.today()\n",
    "- 오늘 날짜 : 년 월 일"
   ]
  },
  {
   "cell_type": "code",
   "execution_count": 2,
   "id": "958d990f-061f-4ac6-a003-ba656aa21b62",
   "metadata": {
    "tags": []
   },
   "outputs": [
    {
     "data": {
      "text/plain": [
       "(datetime.date(2023, 2, 15),)"
      ]
     },
     "execution_count": 2,
     "metadata": {},
     "output_type": "execute_result"
    }
   ],
   "source": [
    "mytoday=date.today(), #type(date.today())  날짜 객체\n",
    "mytoday"
   ]
  },
  {
   "cell_type": "markdown",
   "id": "3a4f6c73-1e9e-43af-944f-6bf27ecf1dcb",
   "metadata": {},
   "source": [
    "- (1970, 1, 1) 을 기준으로 ()초가 지난 날짜를 반환"
   ]
  },
  {
   "cell_type": "code",
   "execution_count": 3,
   "id": "27a7d58e-8519-4b53-833e-62d6561082fd",
   "metadata": {
    "tags": []
   },
   "outputs": [
    {
     "data": {
      "text/plain": [
       "datetime.date(2021, 10, 3)"
      ]
     },
     "execution_count": 3,
     "metadata": {},
     "output_type": "execute_result"
    }
   ],
   "source": [
    "date.fromtimestamp(1633224333) "
   ]
  },
  {
   "cell_type": "markdown",
   "id": "dd190000-85c0-4d67-b549-9cee917c07fa",
   "metadata": {},
   "source": [
    "### 1.2 date. 형변환\n",
    "* date --> str  : <font color=red><b>.isoformat()</b></font>   기본:'%Y-%m-%d\n",
    "* date --> str  : <font color=red><b>.strftime('%Y-%m-%d %H:%M:%S')</b></font>  \n",
    "* str  --> date : <font color=red><b>.fromisoformat('2023-02-15')</b></font>    "
   ]
  },
  {
   "cell_type": "markdown",
   "id": "505b75c2-0329-4036-8970-69dfc8bf34f4",
   "metadata": {},
   "source": [
    "#### 1.2.1 .strftime()\n",
    "- <font color='red'><b>★날짜 --> 글자\n",
    "- select to_char(sysdate, 'YYYY-MM-DD HH24:MI:SS') from dual"
   ]
  },
  {
   "cell_type": "code",
   "execution_count": 4,
   "id": "797b39f4-6be0-44f4-863a-e9572cacfecc",
   "metadata": {
    "tags": []
   },
   "outputs": [
    {
     "data": {
      "text/plain": [
       "'2023-02-15 00:00:00'"
      ]
     },
     "execution_count": 4,
     "metadata": {},
     "output_type": "execute_result"
    }
   ],
   "source": [
    "date.today().strftime('%Y-%m-%d %H:%M:%S')"
   ]
  },
  {
   "cell_type": "markdown",
   "id": "2519f989-d492-427e-bda0-de6422d979e4",
   "metadata": {},
   "source": [
    "#### 1.2.2 .fromisoformat()\n",
    "- <font color='red'><b>★글자 --> 날짜 "
   ]
  },
  {
   "cell_type": "code",
   "execution_count": 5,
   "id": "2a00dffe-eb99-4da3-a0de-bc57b2f01776",
   "metadata": {
    "tags": []
   },
   "outputs": [
    {
     "data": {
      "text/plain": [
       "datetime.date(2023, 2, 15)"
      ]
     },
     "execution_count": 5,
     "metadata": {},
     "output_type": "execute_result"
    }
   ],
   "source": [
    "date.fromisoformat('2023-02-15')"
   ]
  },
  {
   "cell_type": "markdown",
   "id": "b4ef6523-69b1-4733-a8c8-ad73c8364183",
   "metadata": {},
   "source": [
    "#### 1.2.3 .isoformat() \n",
    "- <font color='red'><b>★날짜 --> 글자"
   ]
  },
  {
   "cell_type": "code",
   "execution_count": 6,
   "id": "7b6ffdfe-6fbb-42ec-b8a2-bacbbf7c5436",
   "metadata": {
    "tags": []
   },
   "outputs": [
    {
     "data": {
      "text/plain": [
       "'2023-02-15'"
      ]
     },
     "execution_count": 6,
     "metadata": {},
     "output_type": "execute_result"
    }
   ],
   "source": [
    "date.today().isoformat() "
   ]
  },
  {
   "cell_type": "code",
   "execution_count": 45,
   "id": "c326e4fa-bf50-4698-a41a-91a435ac4d6b",
   "metadata": {
    "tags": []
   },
   "outputs": [
    {
     "data": {
      "text/plain": [
       "'2020-01-01'"
      ]
     },
     "execution_count": 45,
     "metadata": {},
     "output_type": "execute_result"
    }
   ],
   "source": [
    "date(2020,1,1).isoformat()"
   ]
  },
  {
   "cell_type": "markdown",
   "id": "200c01f1-9f61-4d44-96cb-d5012bcf45d2",
   "metadata": {},
   "source": [
    "### 1.3 .weekday()\n",
    "- def weekday(self)\n",
    "- 정수로 요일 반환 ( 월 : 0, 일 : 6 )\n",
    "- date(2022,12,4).weekday()"
   ]
  },
  {
   "cell_type": "code",
   "execution_count": 7,
   "id": "99f8142f-c210-4418-8d3e-97cec1d9ed1a",
   "metadata": {
    "tags": []
   },
   "outputs": [
    {
     "data": {
      "text/plain": [
       "6"
      ]
     },
     "execution_count": 7,
     "metadata": {},
     "output_type": "execute_result"
    }
   ],
   "source": [
    "date(2022,12,25).weekday() # 6:일요일"
   ]
  },
  {
   "cell_type": "code",
   "execution_count": 8,
   "id": "246317c9-2c20-4016-9687-2280d534c5e5",
   "metadata": {
    "tags": []
   },
   "outputs": [
    {
     "data": {
      "text/plain": [
       "2"
      ]
     },
     "execution_count": 8,
     "metadata": {},
     "output_type": "execute_result"
    }
   ],
   "source": [
    "date.today().weekday() #2:수요일"
   ]
  },
  {
   "cell_type": "markdown",
   "id": "6ee3b244-c8aa-4295-bb55-1a9f0879732f",
   "metadata": {},
   "source": [
    "### 1.4 변수 : year, month, day\n",
    "- 날짜에서 년,월,일 뽑아내기"
   ]
  },
  {
   "cell_type": "code",
   "execution_count": 9,
   "id": "533a6d21-6032-46e2-aa3e-7f9125d1b30b",
   "metadata": {
    "tags": []
   },
   "outputs": [
    {
     "data": {
      "text/plain": [
       "2023"
      ]
     },
     "execution_count": 9,
     "metadata": {},
     "output_type": "execute_result"
    }
   ],
   "source": [
    "date.today().year"
   ]
  },
  {
   "cell_type": "code",
   "execution_count": 10,
   "id": "5a0e8f8b-0029-47d9-ae74-45da869abf51",
   "metadata": {
    "tags": []
   },
   "outputs": [
    {
     "data": {
      "text/plain": [
       "2"
      ]
     },
     "execution_count": 10,
     "metadata": {},
     "output_type": "execute_result"
    }
   ],
   "source": [
    "date.today().month"
   ]
  },
  {
   "cell_type": "code",
   "execution_count": 11,
   "id": "dab9a0b5-028d-46e7-8b10-733d1758a92c",
   "metadata": {
    "tags": []
   },
   "outputs": [
    {
     "data": {
      "text/plain": [
       "15"
      ]
     },
     "execution_count": 11,
     "metadata": {},
     "output_type": "execute_result"
    }
   ],
   "source": [
    "date.today().day"
   ]
  },
  {
   "cell_type": "markdown",
   "id": "f8fbe726-6149-479b-9cbd-5cae38e7b4c5",
   "metadata": {},
   "source": [
    "## 2. (class) datetime"
   ]
  },
  {
   "cell_type": "code",
   "execution_count": 12,
   "id": "e9ea41fd-1b1b-4696-9837-a34fcfa3d4ea",
   "metadata": {
    "tags": []
   },
   "outputs": [],
   "source": [
    "from datetime import datetime"
   ]
  },
  {
   "cell_type": "markdown",
   "id": "c80f34bf-24f5-4f60-9e6c-8cf28973fade",
   "metadata": {},
   "source": [
    "### 2.1 datetime.today()\n",
    "* date.today()\n",
    "* <b>datetime.today()</b> , datetime.now()"
   ]
  },
  {
   "cell_type": "code",
   "execution_count": 13,
   "id": "00896de7-a1f8-41c4-a1be-57f4043c4442",
   "metadata": {
    "tags": []
   },
   "outputs": [
    {
     "data": {
      "text/plain": [
       "datetime.datetime(2023, 2, 15, 15, 18, 40, 43406)"
      ]
     },
     "execution_count": 13,
     "metadata": {},
     "output_type": "execute_result"
    }
   ],
   "source": [
    "datetime.now() "
   ]
  },
  {
   "cell_type": "code",
   "execution_count": 14,
   "id": "1d124f9c-0d1e-4a47-a5c3-dcefad071e75",
   "metadata": {
    "tags": []
   },
   "outputs": [
    {
     "data": {
      "text/plain": [
       "datetime.datetime(2023, 2, 15, 15, 18, 40, 56371)"
      ]
     },
     "execution_count": 14,
     "metadata": {},
     "output_type": "execute_result"
    }
   ],
   "source": [
    "datetime.today() "
   ]
  },
  {
   "cell_type": "markdown",
   "id": "bb6c9881-f44f-4ebd-8166-c9e38fbecb63",
   "metadata": {},
   "source": [
    "- (1970, 1, 1) 을 기준으로 ()초가 지난 날짜(년월일+시분초)를 반환"
   ]
  },
  {
   "cell_type": "code",
   "execution_count": 15,
   "id": "c463f97a-ce6c-4c93-8b52-44df03ba4a45",
   "metadata": {
    "tags": []
   },
   "outputs": [
    {
     "data": {
      "text/plain": [
       "datetime.datetime(1970, 1, 2, 19, 17, 36)"
      ]
     },
     "execution_count": 15,
     "metadata": {},
     "output_type": "execute_result"
    }
   ],
   "source": [
    "datetime.fromtimestamp(123456)"
   ]
  },
  {
   "cell_type": "markdown",
   "id": "245a0312-4d4b-45f5-89f9-7fb88ac71e4e",
   "metadata": {},
   "source": [
    "### 2.2 date. 형변환\n",
    "* date --> str  : <font color=red><b>.isoformat()</b></font>   기본:'%Y-%m-%d %H:%M:%S'\n",
    "* date --> str  : <font color=red><b>.strftime('%Y-%m-%d %H:%M:%S')</b></font>  <br><br>\n",
    "* str --> date  : <font color=red><b>.strptime('2022-01-01','%Y-%m-%d %H:%M:%S')</b></font>  \n",
    "* str  --> date : <font color=red><b>.fromisoformat('2023-02-15')</b></font>    "
   ]
  },
  {
   "cell_type": "markdown",
   "id": "5e0f29a2-e3e6-4dbc-8199-12e1f38a482f",
   "metadata": {},
   "source": [
    "#### 2.2.1 .strftime('%Y-%m-%d %H:%M:%S')\n",
    "- <font color='red'><b>★날짜 --> 글자\n",
    "- select to_char(sysdate, 'YYYY-MM-DD HH24:MI:SS') from dual"
   ]
  },
  {
   "cell_type": "code",
   "execution_count": 16,
   "id": "aeda0a81-7b44-4de9-936d-6c449b98d827",
   "metadata": {
    "tags": []
   },
   "outputs": [
    {
     "data": {
      "text/plain": [
       "'2023-02-15 00:00:00'"
      ]
     },
     "execution_count": 16,
     "metadata": {},
     "output_type": "execute_result"
    }
   ],
   "source": [
    "date.today().strftime('%Y-%m-%d %H:%M:%S')             "
   ]
  },
  {
   "cell_type": "code",
   "execution_count": 17,
   "id": "a779128f-2c1d-400f-99b6-499f8b62c7a2",
   "metadata": {
    "tags": []
   },
   "outputs": [
    {
     "data": {
      "text/plain": [
       "'2023-02-15 15:18:40'"
      ]
     },
     "execution_count": 17,
     "metadata": {},
     "output_type": "execute_result"
    }
   ],
   "source": [
    "datetime.today().strftime('%Y-%m-%d %H:%M:%S')                                                               "
   ]
  },
  {
   "cell_type": "markdown",
   "id": "4d3e7eb9-e47b-40c9-886c-cfe8fb068a3d",
   "metadata": {},
   "source": [
    "#### 2.2.2 .strptime('%Y-%m-%d %H:%M:%S')\n",
    "- <font color='red'><b>★글자 --> 날짜\n",
    "- select to_date('2012-01-24', 'YYYY-MM-DD HH24:MI:SS') from dual"
   ]
  },
  {
   "cell_type": "code",
   "execution_count": 18,
   "id": "00d49f65-12dd-439b-96e0-5d08727662cb",
   "metadata": {
    "tags": []
   },
   "outputs": [
    {
     "data": {
      "text/plain": [
       "datetime.datetime(2022, 12, 25, 0, 0)"
      ]
     },
     "execution_count": 18,
     "metadata": {},
     "output_type": "execute_result"
    }
   ],
   "source": [
    "datetime.strptime('2022-12-25','%Y-%m-%d')"
   ]
  },
  {
   "cell_type": "markdown",
   "id": "23976f2f-0851-4509-a848-e59824f055ac",
   "metadata": {},
   "source": [
    "- 요일 반환"
   ]
  },
  {
   "cell_type": "code",
   "execution_count": 19,
   "id": "eda64b86-6897-4754-abc6-8df2c3ddd7b1",
   "metadata": {
    "tags": []
   },
   "outputs": [
    {
     "data": {
      "text/plain": [
       "2"
      ]
     },
     "execution_count": 19,
     "metadata": {},
     "output_type": "execute_result"
    }
   ],
   "source": [
    "datetime.today().weekday()"
   ]
  },
  {
   "cell_type": "markdown",
   "id": "69eec78c-fdeb-4d4b-981c-37c10806d3b4",
   "metadata": {},
   "source": [
    "#### 2.2.3 .fromisoformat()\n",
    "- <font color='red'><b>★글자 --> 날짜 "
   ]
  },
  {
   "cell_type": "code",
   "execution_count": 20,
   "id": "004191bb-1b2f-4f04-bb15-1d217550929c",
   "metadata": {
    "tags": []
   },
   "outputs": [
    {
     "data": {
      "text/plain": [
       "datetime.date(2022, 12, 25)"
      ]
     },
     "execution_count": 20,
     "metadata": {},
     "output_type": "execute_result"
    }
   ],
   "source": [
    "date.fromisoformat('2022-12-25')"
   ]
  },
  {
   "cell_type": "code",
   "execution_count": 21,
   "id": "99b93e33-4702-4544-9644-22bb6570abb2",
   "metadata": {
    "tags": []
   },
   "outputs": [
    {
     "data": {
      "text/plain": [
       "datetime.datetime(2022, 12, 25, 22, 14, 30)"
      ]
     },
     "execution_count": 21,
     "metadata": {},
     "output_type": "execute_result"
    }
   ],
   "source": [
    "datetime.fromisoformat('2022-12-25 22:14:30')"
   ]
  },
  {
   "cell_type": "code",
   "execution_count": 22,
   "id": "330fee5a-bed9-4ec8-8cff-5f2d53f9cc5f",
   "metadata": {
    "tags": []
   },
   "outputs": [
    {
     "data": {
      "text/plain": [
       "datetime.datetime(2022, 12, 25, 0, 0)"
      ]
     },
     "execution_count": 22,
     "metadata": {},
     "output_type": "execute_result"
    }
   ],
   "source": [
    "datetime.fromisoformat('2022-12-25')"
   ]
  },
  {
   "cell_type": "markdown",
   "id": "de0a2df8-e832-4977-a7c3-0939607c7104",
   "metadata": {},
   "source": [
    "#### 2.2.4 .isoformat() \n",
    "- <font color='red'><b>★날짜 --> 글자"
   ]
  },
  {
   "cell_type": "code",
   "execution_count": 23,
   "id": "f819ee79-b0d4-4375-a1ac-a992e66c03bf",
   "metadata": {
    "tags": []
   },
   "outputs": [
    {
     "data": {
      "text/plain": [
       "'2023-02-15T15:18:40.199988'"
      ]
     },
     "execution_count": 23,
     "metadata": {},
     "output_type": "execute_result"
    }
   ],
   "source": [
    "datetime.today().isoformat()"
   ]
  },
  {
   "cell_type": "markdown",
   "id": "b32ad1d8-43fe-4ad9-8938-ce84700640ac",
   "metadata": {},
   "source": [
    "### 2.3 함수 : date(), time(), timestemp()"
   ]
  },
  {
   "cell_type": "code",
   "execution_count": 24,
   "id": "77f9871d-6f3c-4d48-aef8-daa73e9f7a6b",
   "metadata": {
    "tags": []
   },
   "outputs": [
    {
     "data": {
      "text/plain": [
       "datetime.date(2023, 2, 15)"
      ]
     },
     "execution_count": 24,
     "metadata": {},
     "output_type": "execute_result"
    }
   ],
   "source": [
    "datetime.today().date() "
   ]
  },
  {
   "cell_type": "code",
   "execution_count": 25,
   "id": "391e6669-0fdc-41e0-8f87-d0b87c23f56a",
   "metadata": {
    "tags": []
   },
   "outputs": [
    {
     "data": {
      "text/plain": [
       "datetime.time(15, 18, 40, 233247)"
      ]
     },
     "execution_count": 25,
     "metadata": {},
     "output_type": "execute_result"
    }
   ],
   "source": [
    "datetime.today().time()"
   ]
  },
  {
   "cell_type": "code",
   "execution_count": 26,
   "id": "30aa6782-fe95-41e1-9c6a-07a480e1324a",
   "metadata": {
    "tags": []
   },
   "outputs": [
    {
     "data": {
      "text/plain": [
       "1676441920.245214"
      ]
     },
     "execution_count": 26,
     "metadata": {},
     "output_type": "execute_result"
    }
   ],
   "source": [
    "datetime.today().timestamp() # 70-1-1 부터 몇초가 지났는지"
   ]
  },
  {
   "cell_type": "markdown",
   "id": "81d719df-a072-4b31-aaa7-4df3fa9671ab",
   "metadata": {},
   "source": [
    "### 2.4 변수 : 년월일 시분초(ms)\n",
    "- year, month, day + hour, minute, second, microsecond"
   ]
  },
  {
   "cell_type": "code",
   "execution_count": 27,
   "id": "c331c27f-a208-476f-b32c-86ebdd0585ec",
   "metadata": {
    "tags": []
   },
   "outputs": [
    {
     "data": {
      "text/plain": [
       "2023"
      ]
     },
     "execution_count": 27,
     "metadata": {},
     "output_type": "execute_result"
    }
   ],
   "source": [
    "datetime.today().year"
   ]
  },
  {
   "cell_type": "code",
   "execution_count": 28,
   "id": "2ed5fdf7-0259-48a0-a013-f4df9a6cb504",
   "metadata": {
    "tags": []
   },
   "outputs": [
    {
     "data": {
      "text/plain": [
       "2"
      ]
     },
     "execution_count": 28,
     "metadata": {},
     "output_type": "execute_result"
    }
   ],
   "source": [
    "datetime.today().month"
   ]
  },
  {
   "cell_type": "code",
   "execution_count": 29,
   "id": "391db5c4-4d96-468c-b681-f0511ca677df",
   "metadata": {
    "tags": []
   },
   "outputs": [
    {
     "data": {
      "text/plain": [
       "15"
      ]
     },
     "execution_count": 29,
     "metadata": {},
     "output_type": "execute_result"
    }
   ],
   "source": [
    "datetime.today().day"
   ]
  },
  {
   "cell_type": "code",
   "execution_count": 30,
   "id": "7a0f6340-88c5-4991-8017-7db691b09dd0",
   "metadata": {
    "tags": []
   },
   "outputs": [
    {
     "data": {
      "text/plain": [
       "15"
      ]
     },
     "execution_count": 30,
     "metadata": {},
     "output_type": "execute_result"
    }
   ],
   "source": [
    "datetime.today().hour  "
   ]
  },
  {
   "cell_type": "code",
   "execution_count": 31,
   "id": "42b457c6-35d4-402f-8ef3-c7aa90719b49",
   "metadata": {
    "tags": []
   },
   "outputs": [
    {
     "data": {
      "text/plain": [
       "18"
      ]
     },
     "execution_count": 31,
     "metadata": {},
     "output_type": "execute_result"
    }
   ],
   "source": [
    "datetime.today().minute  "
   ]
  },
  {
   "cell_type": "code",
   "execution_count": 32,
   "id": "287540c4-d7a4-46e0-96a6-85b1a99bec11",
   "metadata": {
    "tags": []
   },
   "outputs": [
    {
     "data": {
      "text/plain": [
       "40"
      ]
     },
     "execution_count": 32,
     "metadata": {},
     "output_type": "execute_result"
    }
   ],
   "source": [
    "datetime.today().second"
   ]
  },
  {
   "cell_type": "code",
   "execution_count": 33,
   "id": "f70337e8-44b1-499c-a697-d1140a136385",
   "metadata": {
    "tags": []
   },
   "outputs": [
    {
     "data": {
      "text/plain": [
       "355438"
      ]
     },
     "execution_count": 33,
     "metadata": {},
     "output_type": "execute_result"
    }
   ],
   "source": [
    "datetime.today().microsecond #1/1000 초"
   ]
  },
  {
   "cell_type": "markdown",
   "id": "f2d04dec-301d-446b-9524-459de4db0877",
   "metadata": {},
   "source": [
    "## 3. (class) timedelta\n",
    "<pre>\n",
    "- timedelta (  days=0, seconds=0, microseconds=0,\n",
    "                milliseconds=0, minutes=0, hours=0, weeks=0  )"
   ]
  },
  {
   "cell_type": "code",
   "execution_count": 34,
   "id": "427cd9ef-ac9c-453d-8da3-1c4ab8febd5e",
   "metadata": {
    "tags": []
   },
   "outputs": [],
   "source": [
    "from datetime import timedelta, date, datetime\n",
    "next_day=timedelta(days=3)\n",
    "next_week=timedelta(weeks=1)\n",
    "next_hour=timedelta(hours=1)"
   ]
  },
  {
   "cell_type": "code",
   "execution_count": 35,
   "id": "d0f153f7-a694-4876-8305-0b6146b76082",
   "metadata": {
    "tags": []
   },
   "outputs": [
    {
     "data": {
      "text/plain": [
       "datetime.date(2023, 2, 15)"
      ]
     },
     "execution_count": 35,
     "metadata": {},
     "output_type": "execute_result"
    }
   ],
   "source": [
    "date.today()"
   ]
  },
  {
   "cell_type": "code",
   "execution_count": 36,
   "id": "3f3dba8b-e437-4cf2-a8d6-76a954416d6a",
   "metadata": {
    "tags": []
   },
   "outputs": [
    {
     "data": {
      "text/plain": [
       "datetime.date(2023, 2, 18)"
      ]
     },
     "execution_count": 36,
     "metadata": {},
     "output_type": "execute_result"
    }
   ],
   "source": [
    "date.today()+next_day"
   ]
  },
  {
   "cell_type": "code",
   "execution_count": 37,
   "id": "e6117744-474f-45ad-a888-cff24d0ca2df",
   "metadata": {
    "tags": []
   },
   "outputs": [
    {
     "data": {
      "text/plain": [
       "datetime.date(2023, 2, 22)"
      ]
     },
     "execution_count": 37,
     "metadata": {},
     "output_type": "execute_result"
    }
   ],
   "source": [
    "date.today()+next_week"
   ]
  },
  {
   "cell_type": "code",
   "execution_count": 38,
   "id": "b531ef69-1f6b-438b-b00f-ee8d1c4ea7e0",
   "metadata": {
    "tags": []
   },
   "outputs": [
    {
     "data": {
      "text/plain": [
       "datetime.datetime(2023, 2, 15, 16, 18, 40, 436222)"
      ]
     },
     "execution_count": 38,
     "metadata": {},
     "output_type": "execute_result"
    }
   ],
   "source": [
    "datetime.today()+next_hour"
   ]
  },
  {
   "cell_type": "markdown",
   "id": "7d3d248c-9ca7-4455-89b9-8204abbca14a",
   "metadata": {},
   "source": [
    "## 4. 번외 : relativedelta()\n",
    "- (class) relativedelta\n",
    "\n",
    "<pre>\n",
    "- dt1=None, dt2=None,\n",
    " years=0, months=0, days=0, leapdays=0, weeks=0,\n",
    " hours=0, minutes=0, seconds=0, microseconds=0,\n",
    " year=None, month=None, day=None, weekday=None,\n",
    " yearday=None, nlyearday=None,\n",
    " hour=None, minute=None, second=None, microsecond=None"
   ]
  },
  {
   "cell_type": "code",
   "execution_count": 39,
   "id": "25a554cf-f1ff-4ff1-a09d-5647829cbae8",
   "metadata": {
    "tags": []
   },
   "outputs": [],
   "source": [
    "from dateutil.relativedelta import relativedelta\n",
    "from datetime import datetime"
   ]
  },
  {
   "cell_type": "code",
   "execution_count": 40,
   "id": "d8576f29-393e-4100-903c-0757ad53fb1e",
   "metadata": {
    "tags": []
   },
   "outputs": [
    {
     "data": {
      "text/plain": [
       "(datetime.datetime(2023, 2, 15, 15, 18, 40, 462153),\n",
       " datetime.datetime(2020, 12, 13, 0, 0))"
      ]
     },
     "execution_count": 40,
     "metadata": {},
     "output_type": "execute_result"
    }
   ],
   "source": [
    "dt1=datetime.today()\n",
    "dt2= datetime(2020,12,13)\n",
    "dt1, dt2"
   ]
  },
  {
   "cell_type": "code",
   "execution_count": 41,
   "id": "319c4432-ca6b-486b-a7f3-70bddd8dc18b",
   "metadata": {
    "tags": []
   },
   "outputs": [
    {
     "data": {
      "text/plain": [
       "relativedelta(years=+2, months=+2, days=+2, hours=+15, minutes=+18, seconds=+40, microseconds=+462153)"
      ]
     },
     "execution_count": 41,
     "metadata": {},
     "output_type": "execute_result"
    }
   ],
   "source": [
    "relativedelta(dt1,dt2)"
   ]
  },
  {
   "cell_type": "markdown",
   "id": "9a06152e-2331-467a-8409-827de5edc174",
   "metadata": {},
   "source": [
    "### 날짜 연산"
   ]
  },
  {
   "cell_type": "code",
   "execution_count": 42,
   "id": "1089d82e-c380-4713-a849-4228e12a00bf",
   "metadata": {
    "tags": []
   },
   "outputs": [
    {
     "data": {
      "text/plain": [
       "(datetime.datetime(2023, 2, 15, 15, 18, 40, 495064),\n",
       " datetime.datetime(2023, 2, 25, 15, 18, 40, 495064))"
      ]
     },
     "execution_count": 42,
     "metadata": {},
     "output_type": "execute_result"
    }
   ],
   "source": [
    "dt1=datetime.today()\n",
    "next_day=relativedelta(days=10)\n",
    "dt1, dt1+next_day"
   ]
  },
  {
   "cell_type": "code",
   "execution_count": 43,
   "id": "b436494f-78f1-4f6b-938e-a8aa6cb47d8b",
   "metadata": {
    "tags": []
   },
   "outputs": [
    {
     "data": {
      "text/plain": [
       "(datetime.datetime(2023, 2, 15, 15, 18, 40, 511022),\n",
       " datetime.datetime(2023, 3, 15, 15, 18, 40, 511022))"
      ]
     },
     "execution_count": 43,
     "metadata": {},
     "output_type": "execute_result"
    }
   ],
   "source": [
    "dt1=datetime.today()\n",
    "next_month=relativedelta(month=3)\n",
    "dt1, dt1+next_month"
   ]
  },
  {
   "cell_type": "code",
   "execution_count": null,
   "id": "1590923e-7e50-4915-9be4-4e333f0d44b7",
   "metadata": {},
   "outputs": [],
   "source": []
  },
  {
   "cell_type": "code",
   "execution_count": null,
   "id": "1249b069-a3f6-4963-9478-998c14518f5c",
   "metadata": {},
   "outputs": [],
   "source": []
  }
 ],
 "metadata": {
  "kernelspec": {
   "display_name": "Python 3 (ipykernel)",
   "language": "python",
   "name": "python3"
  },
  "language_info": {
   "codemirror_mode": {
    "name": "ipython",
    "version": 3
   },
   "file_extension": ".py",
   "mimetype": "text/x-python",
   "name": "python",
   "nbconvert_exporter": "python",
   "pygments_lexer": "ipython3",
   "version": "3.8.8"
  },
  "toc-autonumbering": false,
  "toc-showcode": false
 },
 "nbformat": 4,
 "nbformat_minor": 5
}
